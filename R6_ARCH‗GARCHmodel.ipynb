{
 "cells": [
  {
   "cell_type": "markdown",
   "metadata": {},
   "source": [
    "# ARCH・GARCHモデルとその周辺\n",
    "\n",
    "時系列データの分散の変動に着目する。  \n",
    "定常過程では分散は時点によらず一定であると仮定していたが、その仮定は満たされないことがしばしばある。  \n",
    "時間によって分散が変動するデータをどのように式で表現し、モデル化するか考えていく。"
   ]
  },
  {
   "cell_type": "code",
   "execution_count": 1,
   "metadata": {},
   "outputs": [
    {
     "name": "stdout",
     "output_type": "stream",
     "text": [
      "package 'fGarch' successfully unpacked and MD5 sums checked\n",
      "\n",
      "The downloaded binary packages are in\n",
      "\tC:\\Users\\masayoshi\\AppData\\Local\\Temp\\RtmpAj87dP\\downloaded_packages\n",
      "package 'rugarch' successfully unpacked and MD5 sums checked\n",
      "\n",
      "The downloaded binary packages are in\n",
      "\tC:\\Users\\masayoshi\\AppData\\Local\\Temp\\RtmpAj87dP\\downloaded_packages\n"
     ]
    }
   ],
   "source": [
    "# パッケージのインストール\n",
    "install.packages(\"fGarch\")\n",
    "install.packages(\"rugarch\")"
   ]
  },
  {
   "cell_type": "code",
   "execution_count": 2,
   "metadata": {},
   "outputs": [
    {
     "name": "stderr",
     "output_type": "stream",
     "text": [
      "Loading required package: zoo\n",
      "\n",
      "\n",
      "Attaching package: 'zoo'\n",
      "\n",
      "\n",
      "The following objects are masked from 'package:base':\n",
      "\n",
      "    as.Date, as.Date.numeric\n",
      "\n",
      "\n",
      "Loading required package: timeDate\n",
      "\n",
      "Loading required package: timeSeries\n",
      "\n",
      "\n",
      "Attaching package: 'timeSeries'\n",
      "\n",
      "\n",
      "The following object is masked from 'package:zoo':\n",
      "\n",
      "    time<-\n",
      "\n",
      "\n",
      "Loading required package: fBasics\n",
      "\n",
      "Loading required package: parallel\n",
      "\n",
      "\n",
      "Attaching package: 'rugarch'\n",
      "\n",
      "\n",
      "The following object is masked from 'package:stats':\n",
      "\n",
      "    sigma\n",
      "\n",
      "\n",
      "Registered S3 method overwritten by 'quantmod':\n",
      "  method            from\n",
      "  as.zoo.data.frame zoo \n",
      "\n",
      "Registered S3 methods overwritten by 'ggfortify':\n",
      "  method                 from    \n",
      "  autoplot.Arima         forecast\n",
      "  autoplot.acf           forecast\n",
      "  autoplot.ar            forecast\n",
      "  autoplot.bats          forecast\n",
      "  autoplot.decomposed.ts forecast\n",
      "  autoplot.ets           forecast\n",
      "  autoplot.forecast      forecast\n",
      "  autoplot.stl           forecast\n",
      "  autoplot.ts            forecast\n",
      "  fitted.ar              forecast\n",
      "  fortify.ts             forecast\n",
      "  residuals.ar           forecast\n",
      "\n"
     ]
    }
   ],
   "source": [
    "# パッケージの読み込み\n",
    "library(xts)\n",
    "library(fGarch)\n",
    "library(rugarch)\n",
    "library(forecast)\n",
    "library(tseries)\n",
    "library(ggplot2)\n",
    "library(ggfortify)\n",
    "library(gridExtra)\n",
    "\n",
    "library(repr)\n",
    "\n",
    "# グラフのオプション\n",
    "options(repr.plot.width=14, repr.plot.height=6)"
   ]
  },
  {
   "cell_type": "code",
   "execution_count": 3,
   "metadata": {},
   "outputs": [],
   "source": [
    "# シミュレーションによるデータの作成\n",
    "\n",
    "n_sample <- 1000\n",
    "\n",
    "# GARCH(1,1)に従うデータのシミュレーション\n",
    "# モデルのパラメタの設定\n",
    "\n",
    "spec1 <- garchSpec(\n",
    "    model = list(omega = 0.001, alpha = 0.4, beta = 0.5, mu = 0.1),\n",
    "    cond.dist = \"norm\"\n",
    ")"
   ]
  },
  {
   "cell_type": "code",
   "execution_count": 4,
   "metadata": {},
   "outputs": [],
   "source": [
    "# シミュレーションデータの作成\n",
    "set.seed(1)\n",
    "sim_garch <- garchSim(\n",
    "    spec1,\n",
    "    n = n_sample,\n",
    "    extended = T\n",
    ")"
   ]
  },
  {
   "cell_type": "code",
   "execution_count": 5,
   "metadata": {},
   "outputs": [
    {
     "data": {
      "text/html": [
       "<table>\n",
       "<caption>A matrix: 6 × 3 of type dbl</caption>\n",
       "<thead>\n",
       "\t<tr><th scope=col>garch</th><th scope=col>sigma</th><th scope=col>eps</th></tr>\n",
       "</thead>\n",
       "<tbody>\n",
       "\t<tr><td>0.05450176</td><td>0.07334089</td><td>-0.62036668</td></tr>\n",
       "\t<tr><td>0.10283070</td><td>0.06721219</td><td> 0.04211587</td></tr>\n",
       "\t<tr><td>0.04797414</td><td>0.05711344</td><td>-0.91092165</td></tr>\n",
       "\t<tr><td>0.10963023</td><td>0.06093971</td><td> 0.15802877</td></tr>\n",
       "\t<tr><td>0.06478651</td><td>0.05379517</td><td>-0.65458464</td></tr>\n",
       "\t<tr><td>0.19587361</td><td>0.05424902</td><td> 1.76728727</td></tr>\n",
       "</tbody>\n",
       "</table>\n"
      ],
      "text/latex": [
       "A matrix: 6 × 3 of type dbl\n",
       "\\begin{tabular}{lll}\n",
       " garch & sigma & eps\\\\\n",
       "\\hline\n",
       "\t 0.05450176 & 0.07334089 & -0.62036668\\\\\n",
       "\t 0.10283070 & 0.06721219 &  0.04211587\\\\\n",
       "\t 0.04797414 & 0.05711344 & -0.91092165\\\\\n",
       "\t 0.10963023 & 0.06093971 &  0.15802877\\\\\n",
       "\t 0.06478651 & 0.05379517 & -0.65458464\\\\\n",
       "\t 0.19587361 & 0.05424902 &  1.76728727\\\\\n",
       "\\end{tabular}\n"
      ],
      "text/markdown": [
       "\n",
       "A matrix: 6 × 3 of type dbl\n",
       "\n",
       "| garch | sigma | eps |\n",
       "|---|---|---|\n",
       "| 0.05450176 | 0.07334089 | -0.62036668 |\n",
       "| 0.10283070 | 0.06721219 |  0.04211587 |\n",
       "| 0.04797414 | 0.05711344 | -0.91092165 |\n",
       "| 0.10963023 | 0.06093971 |  0.15802877 |\n",
       "| 0.06478651 | 0.05379517 | -0.65458464 |\n",
       "| 0.19587361 | 0.05424902 |  1.76728727 |\n",
       "\n"
      ],
      "text/plain": [
       "     garch      sigma      eps        \n",
       "[1,] 0.05450176 0.07334089 -0.62036668\n",
       "[2,] 0.10283070 0.06721219  0.04211587\n",
       "[3,] 0.04797414 0.05711344 -0.91092165\n",
       "[4,] 0.10963023 0.06093971  0.15802877\n",
       "[5,] 0.06478651 0.05379517 -0.65458464\n",
       "[6,] 0.19587361 0.05424902  1.76728727"
      ]
     },
     "metadata": {},
     "output_type": "display_data"
    }
   ],
   "source": [
    "# データの中身を確認する\n",
    "# ts型に変換\n",
    "sim_garch <- ts(sim_garch)\n",
    "\n",
    "# データの表示\n",
    "head(sim_garch)"
   ]
  },
  {
   "cell_type": "markdown",
   "metadata": {},
   "source": [
    "- garch: 実際のデータ\n",
    "- sigma: ボラティリティの時系列推移\n",
    "- eps: 今回使用しない"
   ]
  },
  {
   "cell_type": "code",
   "execution_count": 6,
   "metadata": {},
   "outputs": [
    {
     "data": {
      "image/png": "[encoded data removed]",
      "text/plain": [
       "plot without title"
      ]
     },
     "metadata": {
      "image/png": {
       "height": 360,
       "width": 840
      }
     },
     "output_type": "display_data"
    }
   ],
   "source": [
    "# 図示\n",
    "autoplot(sim_garch[, -3], facets=T, ylab=\"\")"
   ]
  },
  {
   "cell_type": "markdown",
   "metadata": {},
   "source": [
    "ところどころでsigma(ボラティリティ)が大きくなり、データのブレ幅も広くなっていることが見て取れる。  \n",
    "データの自己相関を確認する。"
   ]
  },
  {
   "cell_type": "code",
   "execution_count": 7,
   "metadata": {},
   "outputs": [
    {
     "name": "stderr",
     "output_type": "stream",
     "text": [
      "Warning message:\n",
      "\"`mutate_()` is deprecated as of dplyr 0.7.0.\n",
      "Please use `mutate()` instead.\n",
      "See vignette('programming') for more help\n",
      "\u001b[90mThis warning is displayed once every 8 hours.\u001b[39m\n",
      "\u001b[90mCall `lifecycle::last_warnings()` to see where this warning was generated.\u001b[39m\"\n"
     ]
    },
    {
     "data": {
      "image/png": "[encoded data removed]",
      "text/plain": [
       "plot without title"
      ]
     },
     "metadata": {
      "image/png": {
       "height": 360,
       "width": 840
      }
     },
     "output_type": "display_data"
    }
   ],
   "source": [
    "# 原系列のコレログラムの作成\n",
    "p_acf <- autoplot(\n",
    "    acf(sim_garch[, \"garch\"], plot=F),\n",
    "    main = \"原系列のコレログラム\"\n",
    ")\n",
    "\n",
    "# 2乗した系列のコレログラム\n",
    "p_acf_sq <- autoplot(\n",
    "    acf(sim_garch[, \"garch\"]^2, plot=F),\n",
    "    main = \"2乗した系列のコレログラム\"\n",
    ")\n",
    "\n",
    "# グラフを並べて表示\n",
    "grid.arrange(p_acf, p_acf_sq, ncol=1)"
   ]
  },
  {
   "cell_type": "markdown",
   "metadata": {},
   "source": [
    "- 原系列には自己相関がほとんど見られなかった。\n",
    "- 2乗したコレログラムでは、比較的大きな自己相関があるのがわかる。\n",
    "- ボラティリティが大きくなると、正か負かにブレ幅が大きくなるが、自己相関が見えなくなる。\n",
    "- 2乗して政府の符号を無くしてやると、自己相関が検出できる。"
   ]
  },
  {
   "cell_type": "markdown",
   "metadata": {},
   "source": [
    "## fGarchパッケージによるGARCHHモデル\n",
    "\n",
    "モデル化を行う。fGarchパッケージのgarchFit関数を使用する。"
   ]
  },
  {
   "cell_type": "code",
   "execution_count": 8,
   "metadata": {},
   "outputs": [
    {
     "name": "stderr",
     "output_type": "stream",
     "text": [
      "Warning message:\n",
      "\"Using formula(x) is deprecated when x is a character vector of length > 1.\n",
      "  Consider formula(paste(x, collapse = \" \")) instead.\"\n"
     ]
    }
   ],
   "source": [
    "mod_fGarch <- garchFit(\n",
    "    formula = ~ garch(1, 1),\n",
    "    data = sim_garch[, \"garch\"],\n",
    "    include.mean = T,\n",
    "    trace = F\n",
    ")"
   ]
  },
  {
   "cell_type": "code",
   "execution_count": 9,
   "metadata": {},
   "outputs": [
    {
     "data": {
      "text/html": [
       "<style>\n",
       ".dl-inline {width: auto; margin:0; padding: 0}\n",
       ".dl-inline>dt, .dl-inline>dd {float: none; width: auto; display: inline-block}\n",
       ".dl-inline>dt::after {content: \":\\0020\"; padding-right: .5ex}\n",
       ".dl-inline>dt:not(:first-of-type) {padding-left: .5ex}\n",
       "</style><dl class=dl-inline><dt>mu</dt><dd>0.100912052526793</dd><dt>omega</dt><dd>0.00117036643139805</dd><dt>alpha1</dt><dd>0.417202657578108</dd><dt>beta1</dt><dd>0.50238811112093</dd></dl>\n"
      ],
      "text/latex": [
       "\\begin{description*}\n",
       "\\item[mu] 0.100912052526793\n",
       "\\item[omega] 0.00117036643139805\n",
       "\\item[alpha1] 0.417202657578108\n",
       "\\item[beta1] 0.50238811112093\n",
       "\\end{description*}\n"
      ],
      "text/markdown": [
       "mu\n",
       ":   0.100912052526793omega\n",
       ":   0.00117036643139805alpha1\n",
       ":   0.417202657578108beta1\n",
       ":   0.50238811112093\n",
       "\n"
      ],
      "text/plain": [
       "         mu       omega      alpha1       beta1 \n",
       "0.100912053 0.001170366 0.417202658 0.502388111 "
      ]
     },
     "metadata": {},
     "output_type": "display_data"
    }
   ],
   "source": [
    "# 計算結果\n",
    "coef(mod_fGarch)"
   ]
  },
  {
   "cell_type": "markdown",
   "metadata": {},
   "source": [
    "データ作成時のパラメータと近い結果になったのでうまくモデル化が推定で来ているようです。"
   ]
  },
  {
   "cell_type": "markdown",
   "metadata": {},
   "source": [
    "## rugarchパッケージによるGARCHモデル\n",
    "\n",
    "fGarchパッケージに続いてrugrachパッケージを用いてモデルを推定する。"
   ]
  },
  {
   "cell_type": "code",
   "execution_count": 10,
   "metadata": {},
   "outputs": [],
   "source": [
    "# モデル構造の設定\n",
    "spec_rugarch1 <- ugarchspec(\n",
    "    variance.model = list(model=\"sGARCH\", garchOrder=c(1, 1)),\n",
    "    mean.model = list(armaOrder=c(0, 0), include.mean=TRUE),\n",
    "    distribution.model  = 'norm'\n",
    ")\n",
    "\n",
    "# モデルの推定\n",
    "mod_rugarch <- ugarchfit(\n",
    "    spec = spec_rugarch1, data = sim_garch[, \"garch\"], solver='hybrid'\n",
    ")"
   ]
  },
  {
   "cell_type": "code",
   "execution_count": 11,
   "metadata": {},
   "outputs": [
    {
     "data": {
      "text/html": [
       "<style>\n",
       ".dl-inline {width: auto; margin:0; padding: 0}\n",
       ".dl-inline>dt, .dl-inline>dd {float: none; width: auto; display: inline-block}\n",
       ".dl-inline>dt::after {content: \":\\0020\"; padding-right: .5ex}\n",
       ".dl-inline>dt:not(:first-of-type) {padding-left: .5ex}\n",
       "</style><dl class=dl-inline><dt>mu</dt><dd>0.100912569450915</dd><dt>omega</dt><dd>0.00116921049828211</dd><dt>alpha1</dt><dd>0.418499193188272</dd><dt>beta1</dt><dd>0.502175316687241</dd></dl>\n"
      ],
      "text/latex": [
       "\\begin{description*}\n",
       "\\item[mu] 0.100912569450915\n",
       "\\item[omega] 0.00116921049828211\n",
       "\\item[alpha1] 0.418499193188272\n",
       "\\item[beta1] 0.502175316687241\n",
       "\\end{description*}\n"
      ],
      "text/markdown": [
       "mu\n",
       ":   0.100912569450915omega\n",
       ":   0.00116921049828211alpha1\n",
       ":   0.418499193188272beta1\n",
       ":   0.502175316687241\n",
       "\n"
      ],
      "text/plain": [
       "        mu      omega     alpha1      beta1 \n",
       "0.10091257 0.00116921 0.41849919 0.50217532 "
      ]
     },
     "metadata": {},
     "output_type": "display_data"
    }
   ],
   "source": [
    "# 係数\n",
    "coef(mod_rugarch)"
   ]
  },
  {
   "cell_type": "markdown",
   "metadata": {},
   "source": [
    "## ARMA-GARCHモデルの作成\n",
    "\n",
    "期待値が一定であるという前提でモデルを組んできたが、ARMAモデルのように「前の時点の値によって期待値が変わる」構造を持つことも考えられる。  \n",
    "\n",
    "**条件付期待値のモデル** + **条件付分散のモデル** をまとめて考えてみる。"
   ]
  },
  {
   "cell_type": "code",
   "execution_count": 12,
   "metadata": {},
   "outputs": [],
   "source": [
    "# シミュレーションデータの作成\n",
    "\n",
    "# モデルのパラメタの設定\n",
    "spec2 <- garchSpec(\n",
    "    model = list(\n",
    "        omega = 0.001, alpha = 0.5, beta = 0.4,\n",
    "        mu = 0.1, ar = -0.6, ma = -0.5\n",
    "    ),\n",
    "    cond.dist = \"norm\"\n",
    ")\n",
    "\n",
    "# シミュレーションデータの作成\n",
    "set.seed(0)\n",
    "sim_arma_garch <- garchSim(\n",
    "    spec2,\n",
    "    n = n_sample,\n",
    "    extended = F\n",
    ")"
   ]
  },
  {
   "cell_type": "code",
   "execution_count": 14,
   "metadata": {},
   "outputs": [
    {
     "name": "stdout",
     "output_type": "stream",
     "text": [
      "\n",
      "\tLjung-Box test\n",
      "\n",
      "data:  Residuals from ARIMA(1,0,1) with non-zero mean\n",
      "Q* = 52.804, df = 7, p-value = 4.052e-09\n",
      "\n",
      "Model df: 3.   Total lags used: 10\n",
      "\n"
     ]
    },
    {
     "data": {
      "text/plain": [
       "\n",
       "\tJarque Bera Test\n",
       "\n",
       "data:  mod_arma$residuals\n",
       "X-squared = 3617.7, df = 2, p-value < 2.2e-16\n"
      ]
     },
     "metadata": {},
     "output_type": "display_data"
    },
    {
     "data": {
      "image/png": "[encoded data removed]",
      "text/plain": [
       "plot without title"
      ]
     },
     "metadata": {
      "image/png": {
       "height": 360,
       "width": 840
      }
     },
     "output_type": "display_data"
    }
   ],
   "source": [
    "# ARMAモデルをシミュレーションデータから推定する\n",
    "mod_arma <- Arima(sim_arma_garch, order=c(1,0,1))\n",
    "\n",
    "# 残差のチェック\n",
    "checkresiduals(mod_arma)\n",
    "jarque.bera.test(mod_arma$residuals)"
   ]
  },
  {
   "cell_type": "markdown",
   "metadata": {},
   "source": [
    "Ljung-Box test も jarque.bera.test もともに有意となった。  \n",
    "残差は自己相関があり、正規分布にも従わない、ということになってしまった。これはダメ。"
   ]
  },
  {
   "cell_type": "code",
   "execution_count": 16,
   "metadata": {},
   "outputs": [
    {
     "data": {
      "text/html": [
       "<style>\n",
       ".dl-inline {width: auto; margin:0; padding: 0}\n",
       ".dl-inline>dt, .dl-inline>dd {float: none; width: auto; display: inline-block}\n",
       ".dl-inline>dt::after {content: \":\\0020\"; padding-right: .5ex}\n",
       ".dl-inline>dt:not(:first-of-type) {padding-left: .5ex}\n",
       "</style><dl class=dl-inline><dt>mu</dt><dd>0.0619507448459843</dd><dt>ar1</dt><dd>-0.597667345548583</dd><dt>ma1</dt><dd>-0.504952379160309</dd><dt>omega</dt><dd>0.00088037258676076</dd><dt>alpha1</dt><dd>0.44980126393302</dd><dt>beta1</dt><dd>0.4691972636794</dd></dl>\n"
      ],
      "text/latex": [
       "\\begin{description*}\n",
       "\\item[mu] 0.0619507448459843\n",
       "\\item[ar1] -0.597667345548583\n",
       "\\item[ma1] -0.504952379160309\n",
       "\\item[omega] 0.00088037258676076\n",
       "\\item[alpha1] 0.44980126393302\n",
       "\\item[beta1] 0.4691972636794\n",
       "\\end{description*}\n"
      ],
      "text/markdown": [
       "mu\n",
       ":   0.0619507448459843ar1\n",
       ":   -0.597667345548583ma1\n",
       ":   -0.504952379160309omega\n",
       ":   0.00088037258676076alpha1\n",
       ":   0.44980126393302beta1\n",
       ":   0.4691972636794\n",
       "\n"
      ],
      "text/plain": [
       "           mu           ar1           ma1         omega        alpha1 \n",
       " 0.0619507448 -0.5976673455 -0.5049523792  0.0008803726  0.4498012639 \n",
       "        beta1 \n",
       " 0.4691972637 "
      ]
     },
     "metadata": {},
     "output_type": "display_data"
    }
   ],
   "source": [
    "# ARMA+GARCHモデルを推定する\n",
    "# モデル構造の設定\n",
    "\n",
    "spec_rugarch2 <- ugarchspec(\n",
    "    variance.model = list(model=\"sGARCH\", garchOrder=c(1, 1)),\n",
    "    mean.model = list(armaOrder=c(1, 1), include.mean=TRUE),\n",
    "    distribution.model = \"norm\"\n",
    ")\n",
    "\n",
    "# モデルの推定\n",
    "mod_arma_garch <- ugarchfit(\n",
    "    spec = spec_rugarch2, data=sim_arma_garch, soler=\"hybrid\"\n",
    ")\n",
    "\n",
    "# 結果\n",
    "coef(mod_arma_garch)"
   ]
  },
  {
   "cell_type": "code",
   "execution_count": 17,
   "metadata": {},
   "outputs": [],
   "source": [
    "# 残差/ボラティリティ　で標準化した残差を見られる\n",
    "\n",
    "# 標準化残差: ARMA+GARCH\n",
    "resid_arma_garch <- residuals(mod_arma_garch) / sigma(mod_arma_garch)\n",
    "\n",
    "# 標準化残差: ARMA\n",
    "resid_arma <- mod_arma$residuals / sqrt(mod_arma$sigma2)"
   ]
  },
  {
   "cell_type": "code",
   "execution_count": 19,
   "metadata": {},
   "outputs": [
    {
     "data": {
      "image/png": "[encoded data removed]",
      "text/plain": [
       "plot without title"
      ]
     },
     "metadata": {
      "image/png": {
       "height": 360,
       "width": 840
      }
     },
     "output_type": "display_data"
    }
   ],
   "source": [
    "# データをまとめる\n",
    "d <- data.frame(\n",
    "    arma_garch = resid_arma_garch,\n",
    "    arma = resid_arma\n",
    ")\n",
    "\n",
    "# 図示\n",
    "autoplot(ts(d), facets = T, ylab=\"\", main = \"標準化残差\")"
   ]
  },
  {
   "cell_type": "markdown",
   "metadata": {},
   "source": [
    "- ARMA+GARCHモデルの標準化残差はデータのブレ幅がほぼ一定である\n",
    "- ARMA+GARCHモデルの標準化残差はブレ幅が狭い時期と広い時期が混在している"
   ]
  },
  {
   "cell_type": "markdown",
   "metadata": {},
   "source": [
    "## RによGJRモデル\n",
    "\n",
    "GJRモデルを推定してみる。spyrealというアメリカの株式インデックスデータを対象にする。"
   ]
  },
  {
   "cell_type": "code",
   "execution_count": 20,
   "metadata": {},
   "outputs": [
    {
     "data": {
      "text/plain": [
       "                SPY_OC      SPY_RK\n",
       "2002-01-02 0.005115101 0.010044750\n",
       "2002-01-03 0.010151498 0.005342828"
      ]
     },
     "metadata": {},
     "output_type": "display_data"
    }
   ],
   "source": [
    "data(spyreal)\n",
    "head(spyreal, n=2)"
   ]
  },
  {
   "cell_type": "code",
   "execution_count": 21,
   "metadata": {},
   "outputs": [
    {
     "name": "stderr",
     "output_type": "stream",
     "text": [
      "Warning message:\n",
      "\"unidentified option(s) in variance.model:\n",
      " garchOrer\"\n"
     ]
    }
   ],
   "source": [
    "# GJR-GARCH(1, 1)モデルを推定する\n",
    "\n",
    "# モデル構造の指定\n",
    "spec_rugarch3 <- ugarchspec(\n",
    "    variance.model = list(model=\"gjrGARCH\", garchOrer=c(1, 1)),\n",
    "    mean.model = list(armaOrder=c(1, 1)),\n",
    "    distribution.model = \"std\"\n",
    ")\n",
    "\n",
    "# GJR GARCHの推定\n",
    "mod_gjr <- ugarchfit(\n",
    "    spec = spec_rugarch3, data = spyreal[, 1], solver='hybrid'\n",
    ")"
   ]
  },
  {
   "cell_type": "code",
   "execution_count": 22,
   "metadata": {},
   "outputs": [
    {
     "data": {
      "text/html": [
       "<style>\n",
       ".dl-inline {width: auto; margin:0; padding: 0}\n",
       ".dl-inline>dt, .dl-inline>dd {float: none; width: auto; display: inline-block}\n",
       ".dl-inline>dt::after {content: \":\\0020\"; padding-right: .5ex}\n",
       ".dl-inline>dt:not(:first-of-type) {padding-left: .5ex}\n",
       "</style><dl class=dl-inline><dt>mu</dt><dd>-4.37757428779874e-05</dd><dt>ar1</dt><dd>0.568279710149478</dd><dt>ma1</dt><dd>-0.63823378220461</dd><dt>omega</dt><dd>3.85823134226344e-07</dd><dt>alpha1</dt><dd>3.73924531671862e-06</dd><dt>beta1</dt><dd>0.95284663469601</dd><dt>gamma1</dt><dd>0.0793220255027813</dd><dt>shape</dt><dd>15.0393719925014</dd></dl>\n"
      ],
      "text/latex": [
       "\\begin{description*}\n",
       "\\item[mu] -4.37757428779874e-05\n",
       "\\item[ar1] 0.568279710149478\n",
       "\\item[ma1] -0.63823378220461\n",
       "\\item[omega] 3.85823134226344e-07\n",
       "\\item[alpha1] 3.73924531671862e-06\n",
       "\\item[beta1] 0.95284663469601\n",
       "\\item[gamma1] 0.0793220255027813\n",
       "\\item[shape] 15.0393719925014\n",
       "\\end{description*}\n"
      ],
      "text/markdown": [
       "mu\n",
       ":   -4.37757428779874e-05ar1\n",
       ":   0.568279710149478ma1\n",
       ":   -0.63823378220461omega\n",
       ":   3.85823134226344e-07alpha1\n",
       ":   3.73924531671862e-06beta1\n",
       ":   0.95284663469601gamma1\n",
       ":   0.0793220255027813shape\n",
       ":   15.0393719925014\n",
       "\n"
      ],
      "text/plain": [
       "           mu           ar1           ma1         omega        alpha1 \n",
       "-4.377574e-05  5.682797e-01 -6.382338e-01  3.858231e-07  3.739245e-06 \n",
       "        beta1        gamma1         shape \n",
       " 9.528466e-01  7.932203e-02  1.503937e+01 "
      ]
     },
     "metadata": {},
     "output_type": "display_data"
    }
   ],
   "source": [
    "# 結果\n",
    "coef(mod_gjr)"
   ]
  },
  {
   "cell_type": "markdown",
   "metadata": {},
   "source": [
    "gamma1が負のノイズが入ったときにかかる影響を表すパラメタとなる。  \n",
    "gamma1がプラスの値となっているので、負のノイズが加わると、正のノイズよりもボラティリティが大きくなる、つまりモデルは非対称性を考慮した方が良いと思われる。  \n",
    "\n",
    "これを通常のGARCHモデルも作成してAICを比較してみる。"
   ]
  },
  {
   "cell_type": "code",
   "execution_count": 23,
   "metadata": {},
   "outputs": [],
   "source": [
    "# 普通のGARCHモデルの作成\n",
    "spec_rugarch4 <- ugarchspec(\n",
    "    variance.model = list(model=\"sGARCH\", garchOrder=c(1,1)),\n",
    "    mean.model = list(armaOrder = c(1, 1)),\n",
    "    distribution.model = \"std\"\n",
    ")\n",
    "\n",
    "# モデルの推定\n",
    "mod_standard_garch <- ugarchfit(\n",
    "    spec = spec_rugarch4,\n",
    "    data = spyreal[, 1],\n",
    "    solver = 'hybrid'\n",
    ")"
   ]
  },
  {
   "cell_type": "code",
   "execution_count": 24,
   "metadata": {},
   "outputs": [
    {
     "data": {
      "text/html": [
       "-6.82411142808162"
      ],
      "text/latex": [
       "-6.82411142808162"
      ],
      "text/markdown": [
       "-6.82411142808162"
      ],
      "text/plain": [
       "[1] -6.824111"
      ]
     },
     "metadata": {},
     "output_type": "display_data"
    },
    {
     "data": {
      "text/html": [
       "-6.80020802662412"
      ],
      "text/latex": [
       "-6.80020802662412"
      ],
      "text/markdown": [
       "-6.80020802662412"
      ],
      "text/plain": [
       "[1] -6.800208"
      ]
     },
     "metadata": {},
     "output_type": "display_data"
    }
   ],
   "source": [
    "# AICの値を取り出す\n",
    "infocriteria(mod_gjr)[\"Akaike\",]\n",
    "infocriteria(mod_standard_garch)[\"Akaike\",]"
   ]
  },
  {
   "cell_type": "markdown",
   "metadata": {},
   "source": [
    "GJRの方がわずかにAICが小さく、より適したモデルだといえる。  \n",
    "そのため、非対称な影響を加味した方が良いのではないかという結果になる。  \n",
    "\n",
    "推定されたボラティリティの変動を図示する。"
   ]
  },
  {
   "cell_type": "code",
   "execution_count": 26,
   "metadata": {},
   "outputs": [
    {
     "data": {
      "image/png": "[encoded data removed]",
      "text/plain": [
       "plot without title"
      ]
     },
     "metadata": {
      "image/png": {
       "height": 360,
       "width": 840
      }
     },
     "output_type": "display_data"
    }
   ],
   "source": [
    "# データをまとめる\n",
    "d_xts <- spyreal[, 1]\n",
    "d_xts$volatility <- sigma(mod_gjr)\n",
    "\n",
    "# 図示\n",
    "autoplot(d_xts, facets=T, ylab=\"\")"
   ]
  },
  {
   "cell_type": "markdown",
   "metadata": {},
   "source": [
    "元のデータと予測モデルのボラティリティを見比べると、うまく表現できていることがわかる。"
   ]
  },
  {
   "cell_type": "code",
   "execution_count": 29,
   "metadata": {},
   "outputs": [],
   "source": [
    "pred <- ugarchboot(mod_gjr, n.ahead=50, method=\"Partial\")"
   ]
  },
  {
   "cell_type": "code",
   "execution_count": 30,
   "metadata": {},
   "outputs": [
    {
     "data": {
      "text/plain": [
       "\n",
       "*-----------------------------------*\n",
       "*     GARCH Bootstrap Forecast      *\n",
       "*-----------------------------------*\n",
       "Model : gjrGARCH\n",
       "n.ahead : 50\n",
       "Bootstrap method:  partial\n",
       "Date (T[0]): 2008-08-29\n",
       "\n",
       "Series (summary):\n",
       "           min      q.25      mean     q.75      max forecast[analytic]\n",
       "t+1  -0.028952 -0.005487 -0.000846 0.005030 0.033195           -9.3e-05\n",
       "t+2  -0.033329 -0.007115 -0.000823 0.005698 0.032588           -7.2e-05\n",
       "t+3  -0.029557 -0.006522 -0.000156 0.006310 0.036754           -6.0e-05\n",
       "t+4  -0.031949 -0.006633 -0.000241 0.006107 0.031229           -5.3e-05\n",
       "t+5  -0.034552 -0.004996  0.000467 0.007141 0.033960           -4.9e-05\n",
       "t+6  -0.033271 -0.005791 -0.000205 0.005431 0.032843           -4.7e-05\n",
       "t+7  -0.035185 -0.008063 -0.001730 0.004712 0.033598           -4.5e-05\n",
       "t+8  -0.033017 -0.006011  0.000133 0.006302 0.034378           -4.5e-05\n",
       "t+9  -0.028760 -0.007113 -0.000607 0.005668 0.029036           -4.4e-05\n",
       "t+10 -0.055923 -0.006359 -0.000187 0.006137 0.029749           -4.4e-05\n",
       ".....................\n",
       "\n",
       "Sigma (summary):\n",
       "          min    q0.25     mean    q0.75      max forecast[analytic]\n",
       "t+1  0.009885 0.009885 0.009885 0.009885 0.009885           0.009885\n",
       "t+2  0.009669 0.009669 0.009878 0.009787 0.012631           0.009867\n",
       "t+3  0.009458 0.009460 0.009896 0.010038 0.013550           0.009850\n",
       "t+4  0.009254 0.009292 0.009885 0.010143 0.015055           0.009832\n",
       "t+5  0.009054 0.009182 0.009866 0.010228 0.015028           0.009815\n",
       "t+6  0.008860 0.009060 0.009840 0.010205 0.014683           0.009798\n",
       "t+7  0.008671 0.008976 0.009819 0.010345 0.014963           0.009781\n",
       "t+8  0.008487 0.008926 0.009866 0.010427 0.017515           0.009764\n",
       "t+9  0.008307 0.008829 0.009841 0.010468 0.017662           0.009747\n",
       "t+10 0.008133 0.008798 0.009836 0.010533 0.017768           0.009731\n",
       ".....................\n"
      ]
     },
     "metadata": {},
     "output_type": "display_data"
    }
   ],
   "source": [
    "pred"
   ]
  },
  {
   "cell_type": "code",
   "execution_count": null,
   "metadata": {},
   "outputs": [],
   "source": []
  }
 ],
 "metadata": {
  "kernelspec": {
   "display_name": "R",
   "language": "R",
   "name": "ir"
  },
  "language_info": {
   "codemirror_mode": "r",
   "file_extension": ".r",
   "mimetype": "text/x-r-source",
   "name": "R",
   "pygments_lexer": "r",
   "version": "4.0.2"
  }
 },
 "nbformat": 4,
 "nbformat_minor": 4
}
