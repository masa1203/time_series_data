{
 "cells": [
  {
   "cell_type": "markdown",
   "metadata": {},
   "source": [
    "# 実装: Rによる状態空間モデル"
   ]
  },
  {
   "cell_type": "code",
   "execution_count": 1,
   "metadata": {},
   "outputs": [
    {
     "name": "stdout",
     "output_type": "stream",
     "text": [
      "package 'dlm' successfully unpacked and MD5 sums checked\n",
      "\n",
      "The downloaded binary packages are in\n",
      "\tC:\\Users\\masayoshi\\AppData\\Local\\Temp\\RtmpUJitD7\\downloaded_packages\n",
      "package 'KFAS' successfully unpacked and MD5 sums checked\n",
      "\n",
      "The downloaded binary packages are in\n",
      "\tC:\\Users\\masayoshi\\AppData\\Local\\Temp\\RtmpUJitD7\\downloaded_packages\n"
     ]
    }
   ],
   "source": [
    "# ライブラリのインストール\n",
    "install.packages(\"dlm\")\n",
    "install.packages(\"KFAS\")"
   ]
  },
  {
   "cell_type": "code",
   "execution_count": 2,
   "metadata": {},
   "outputs": [
    {
     "name": "stderr",
     "output_type": "stream",
     "text": [
      "\n",
      "Attaching package: 'ggplot2'\n",
      "\n",
      "\n",
      "The following object is masked from 'package:dlm':\n",
      "\n",
      "    %+%\n",
      "\n",
      "\n"
     ]
    }
   ],
   "source": [
    "# ライブラリの読み込み\n",
    "library(dlm)\n",
    "library(KFAS)\n",
    "library(ggplot2)\n",
    "library(ggfortify)\n",
    "\n",
    "# 図示設定\n",
    "library(repr)\n",
    "\n",
    "# グラフのオプション\n",
    "options(repr.plot.width=14, repr.plot.height=6)"
   ]
  },
  {
   "cell_type": "markdown",
   "metadata": {},
   "source": [
    "- dlm: カルマンフィルタを用いて状態空間モデルを推定するパッケージ\n",
    "- KFAS: 散漫カルマンフィルタを用いて状態空間モデルを推定するパッケージ"
   ]
  },
  {
   "cell_type": "markdown",
   "metadata": {},
   "source": [
    "## 分析の対象\n",
    "\n",
    "- ナイル川の流量データを分析の対象\n",
    "    - 1年に1回だけ観測され、1871年~1970年まで100年間取得されたデータ"
   ]
  },
  {
   "cell_type": "code",
   "execution_count": 4,
   "metadata": {},
   "outputs": [
    {
     "name": "stdout",
     "output_type": "stream",
     "text": [
      "Time Series:\n",
      "Start = 1871 \n",
      "End = 1970 \n",
      "Frequency = 1 \n",
      "  [1] 1120 1160  963 1210 1160 1160  813 1230 1370 1140  995  935 1110  994 1020\n",
      " [16]  960 1180  799  958 1140 1100 1210 1150 1250 1260 1220 1030 1100  774  840\n",
      " [31]  874  694  940  833  701  916  692 1020 1050  969  831  726  456  824  702\n",
      " [46] 1120 1100  832  764  821  768  845  864  862  698  845  744  796 1040  759\n",
      " [61]  781  865  845  944  984  897  822 1010  771  676  649  846  812  742  801\n",
      " [76] 1040  860  874  848  890  744  749  838 1050  918  986  797  923  975  815\n",
      " [91] 1020  906  901 1170  912  746  919  718  714  740\n"
     ]
    }
   ],
   "source": [
    "# データ\n",
    "print(Nile)"
   ]
  },
  {
   "cell_type": "code",
   "execution_count": 5,
   "metadata": {},
   "outputs": [
    {
     "data": {
      "text/html": [
       "100"
      ],
      "text/latex": [
       "100"
      ],
      "text/markdown": [
       "100"
      ],
      "text/plain": [
       "[1] 100"
      ]
     },
     "metadata": {},
     "output_type": "display_data"
    }
   ],
   "source": [
    "# サンプルサイズ\n",
    "length(Nile)"
   ]
  },
  {
   "cell_type": "markdown",
   "metadata": {},
   "source": [
    "## Rで実装するカルマンフィルタ: 関数を作る"
   ]
  },
  {
   "cell_type": "code",
   "execution_count": 6,
   "metadata": {},
   "outputs": [],
   "source": [
    "kfLocalLevel <- function(y, mu_pre, P_pre, sigma_w, sigma_v){\n",
    "    # Step1 予測\n",
    "    mu_forecast <- mu_pre\n",
    "    P_forecast <- P_pre + sigma_w\n",
    "    y_forecast <- mu_forecast\n",
    "    F <- P_forecast + sigma_v\n",
    "    \n",
    "    # Step2 フィルタリング(状態の補正)\n",
    "    K <- P_forecast / (P_forecast + sigma_v)\n",
    "    y_resid <- y - y_forecast\n",
    "    mu_filter <- mu_forecast + K * y_resid\n",
    "    P_filter <- (1 - K) * P_forecast\n",
    "    \n",
    "    # 結果の格納\n",
    "    result <- data.frame(\n",
    "        mu_filter = mu_filter,\n",
    "        P_filter = P_filter,\n",
    "        y_resid = y_resid,\n",
    "        F = F,\n",
    "        K = K\n",
    "    )\n",
    "    return(result)\n",
    "}"
   ]
  },
  {
   "cell_type": "markdown",
   "metadata": {},
   "source": [
    "## Rで実装するカルマンフィルタ: 状態を推定する\n",
    "\n",
    "カルマンフィルタ関数を時点をずらしながら何度も実行することで、フィルタ化推定量を求めることができる。  \n",
    "状態の初期値は0, 状態の予測誤差の分散の初期値は10の7乗としておく。"
   ]
  },
  {
   "cell_type": "code",
   "execution_count": 10,
   "metadata": {},
   "outputs": [],
   "source": [
    "# サンプルサイズ\n",
    "N <- length(Nile)\n",
    "\n",
    "# 状態の推定値\n",
    "mu_filter <- numeric(N)\n",
    "\n",
    "# 「状態」の初期値は0とする\n",
    "mu_zero <- 0\n",
    "mu_filter <- c(mu_zero, mu_filter)\n",
    "\n",
    "# 状態の予測誤差の分散\n",
    "P_filter <- numeric(N)\n",
    "\n",
    "# 「状態の予測誤差の分散」の初期値は10000000にする\n",
    "P_zero <- 10000000\n",
    "P_filter <- c(P_zero, P_filter)"
   ]
  },
  {
   "cell_type": "code",
   "execution_count": 11,
   "metadata": {},
   "outputs": [],
   "source": [
    "# 観測値の予測残差\n",
    "y_resid <- numeric(N)\n",
    "\n",
    "# 観測値の予測誤差の分散\n",
    "F <- numeric(N)\n",
    "\n",
    "# カルマンゲイン\n",
    "K <- numeric(N)"
   ]
  },
  {
   "cell_type": "code",
   "execution_count": 16,
   "metadata": {},
   "outputs": [
    {
     "name": "stdout",
     "output_type": "stream",
     "text": [
      "[1] 101\n",
      "[1] 101\n",
      "[1] 100\n",
      "[1] 100\n"
     ]
    }
   ],
   "source": [
    "print(length(mu_filter))\n",
    "print(length(P_filter))\n",
    "print(length(F))\n",
    "print(length(K))"
   ]
  },
  {
   "cell_type": "code",
   "execution_count": 17,
   "metadata": {},
   "outputs": [],
   "source": [
    "# 過程誤差の分散\n",
    "sigma_w <- 1000\n",
    "\n",
    "# 観測誤差の分散\n",
    "sigma_v <- 10000"
   ]
  },
  {
   "cell_type": "code",
   "execution_count": 18,
   "metadata": {},
   "outputs": [],
   "source": [
    "# 実行\n",
    "# 時点をずらしながら、連続で実行させる\n",
    "for(i in 1:N){\n",
    "    kekka <- kfLocalLevel(\n",
    "        y = Nile[i], mu_pre = mu_filter[i], P_pre = P_filter[i],\n",
    "        sigma_w = sigma_w, sigma_v = sigma_v\n",
    "    )\n",
    "    mu_filter[i + 1] <- kekka$mu_filter\n",
    "    P_filter[i + 1] <- kekka$P_filter\n",
    "    y_resid[i] <- kekka$y_resid\n",
    "    F[i] <- kekka$F\n",
    "    K[i] <- kekka$K\n",
    "}"
   ]
  },
  {
   "cell_type": "code",
   "execution_count": 19,
   "metadata": {},
   "outputs": [
    {
     "name": "stdout",
     "output_type": "stream",
     "text": [
      "  [1]    0.0000 1118.8812 1140.4103 1072.2709 1117.1955 1129.9866 1138.5439\n",
      "  [8] 1048.0302 1097.9501 1172.0492 1163.3531 1117.7658 1068.3295 1079.5944\n",
      " [15] 1056.4625 1046.6101 1023.2095 1065.5697  993.5522  983.9474 1026.1063\n",
      " [22] 1046.0692 1090.3562 1106.4694 1145.2451 1176.2469 1188.0670 1145.3642\n",
      " [29] 1133.1088 1036.0933  983.1175  953.6387  883.4957  898.7607  880.9950\n",
      " [36]  832.3683  854.9619  810.9367  867.4165  916.7425  930.8602  903.8824\n",
      " [43]  855.8263  747.8108  768.3938  750.4571  850.2914  917.7517  894.5854\n",
      " [50]  859.3069  848.9581  827.0867  831.9261  840.5911  846.3748  806.2904\n",
      " [57]  816.7481  797.0947  796.7990  862.5012  834.5397  820.0756  832.2122\n",
      " [64]  835.6669  864.9338  897.1003  897.0732  876.7917  912.7787  874.4763\n",
      " [71]  820.8567  774.4286  793.7640  798.6906  783.3753  788.1367  856.1791\n",
      " [78]  857.2114  861.7469  858.0331  866.6692  833.5293  810.6932  818.0703\n",
      " [85]  880.7276  890.7969  916.5166  884.2285  894.7028  916.3956  889.0030\n",
      " [92]  924.3926  919.4237  914.4465  983.4858  964.1735  905.2326  908.9519\n",
      " [99]  857.3651  818.6341  797.3906\n"
     ]
    }
   ],
   "source": [
    "print(mu_filter)"
   ]
  },
  {
   "cell_type": "markdown",
   "metadata": {},
   "source": [
    "## Rで実装するカルマンフィルタの対数尤度\n",
    "\n",
    "最適なパラメタを求めるために、対数尤度を計算する。  \n",
    "y_residが、期待値=0, 分散=観測地の予測誤差の分散(F)の正規分布に従うことを利用する。"
   ]
  },
  {
   "cell_type": "code",
   "execution_count": 20,
   "metadata": {},
   "outputs": [
    {
     "data": {
      "text/html": [
       "-646.325419411123"
      ],
      "text/latex": [
       "-646.325419411123"
      ],
      "text/markdown": [
       "-646.325419411123"
      ],
      "text/plain": [
       "[1] -646.3254"
      ]
     },
     "metadata": {},
     "output_type": "display_data"
    }
   ],
   "source": [
    "# 正規分布の確立光男を計算してくれるdnorm関数を用いて対数尤度を求める\n",
    "sum(log(dnorm(y_resid, mean=0, sd=sqrt(F))))"
   ]
  },
  {
   "cell_type": "code",
   "execution_count": 22,
   "metadata": {},
   "outputs": [
    {
     "data": {
      "text/html": [
       "-646.325419411123"
      ],
      "text/latex": [
       "-646.325419411123"
      ],
      "text/markdown": [
       "-646.325419411123"
      ],
      "text/plain": [
       "[1] -646.3254"
      ]
     },
     "metadata": {},
     "output_type": "display_data"
    }
   ],
   "source": [
    "# 正規分布の各地る密度関数を直接用いて計算も可能\n",
    "-1 * (N/2) * log(2 * pi) - 1/2 * sum(log(F) + y_resid^2 / F)"
   ]
  },
  {
   "cell_type": "markdown",
   "metadata": {},
   "source": [
    "## Rで実装する最尤法\n",
    "\n",
    "対数尤度を最大にするパラメタを求めたい。  \n",
    "sigma_w, sigma_vを入れると、即座に対数尤度を計算してくれる関数を作る。  "
   ]
  },
  {
   "cell_type": "code",
   "execution_count": 23,
   "metadata": {},
   "outputs": [],
   "source": [
    "calkLogLik <- function(sigma) {\n",
    "    sigma_w <- exp(sigma[1])  # 分散は負にならないのでEXPを取る\n",
    "    sigma_v <- exp(sigma[2])  # 分散は負にならないのでEXPを取る\n",
    "    \n",
    "    # 変数の定義\n",
    "    N <- length(Nile)\n",
    "    mu_filter <- numeric(N)\n",
    "    mu_zero <- 0\n",
    "    mu_filter <- c(mu_zero, mu_filter)\n",
    "    P_filter <- numeric(N)\n",
    "    P_zero <- 10000000\n",
    "    P_filter <- c(P_zero, P_filter)\n",
    "    y_resid <- numeric(N)\n",
    "    F <- numeric(N)\n",
    "    K <- numeric(N)\n",
    "    # カルマンフィルタの実行\n",
    "    for(i in 1:N){\n",
    "        kekka <- kfLocalLevel(\n",
    "            y = Nile[i], mu_pre = mu_filter[i], P_pre = P_filter[i],\n",
    "            sigma_w = sigma_w, sigma_v = sigma_v\n",
    "        )\n",
    "        mu_filter[i + 1] <- kekka$mu_filter\n",
    "        P_filter[i + 1] <- kekka$P_filter\n",
    "        y_resid[i] <- kekka$y_resid\n",
    "        F[i] <- kekka$F\n",
    "        K[i] <- kekka$K\n",
    "    }\n",
    "    return(1/2 * sum(log(F) + y_resid^2 / F))\n",
    "}"
   ]
  },
  {
   "cell_type": "code",
   "execution_count": 24,
   "metadata": {},
   "outputs": [
    {
     "data": {
      "text/html": [
       "<style>\n",
       ".list-inline {list-style: none; margin:0; padding: 0}\n",
       ".list-inline>li {display: inline-block}\n",
       ".list-inline>li:not(:last-child)::after {content: \"\\00b7\"; padding: 0 .5ex}\n",
       "</style>\n",
       "<ol class=list-inline><li>1468.46117254466</li><li>15099.8358421386</li></ol>\n"
      ],
      "text/latex": [
       "\\begin{enumerate*}\n",
       "\\item 1468.46117254466\n",
       "\\item 15099.8358421386\n",
       "\\end{enumerate*}\n"
      ],
      "text/markdown": [
       "1. 1468.46117254466\n",
       "2. 15099.8358421386\n",
       "\n",
       "\n"
      ],
      "text/plain": [
       "[1]  1468.461 15099.836"
      ]
     },
     "metadata": {},
     "output_type": "display_data"
    }
   ],
   "source": [
    "best_sigma <- optim(calkLogLik, par=c(1, 1), method=\"L-BFGS\")\n",
    "exp(best_sigma$par)"
   ]
  },
  {
   "cell_type": "markdown",
   "metadata": {},
   "source": [
    "## Rで実装する平滑化: 関数を作る\n",
    "\n",
    "平滑化はフィルタリングが終わった後に行う作業。  "
   ]
  },
  {
   "cell_type": "code",
   "execution_count": 26,
   "metadata": {},
   "outputs": [],
   "source": [
    "smoothLocalLevel <- function(mu_filterd, P_filterd, r_post, s_post,\n",
    "                            F_post, y_resid_post, K_post){\n",
    "    # 状態平滑化漸化式\n",
    "    r <- y_resid_post/F_post + (1 - K_post) * r_post\n",
    "    mu_smooth <- mu_filterd + P_filterd * r\n",
    "    \n",
    "    # 状態分散平滑化漸化式\n",
    "    s <- 1/F_post + (1 - K_post)^2 * s_post\n",
    "    P_smooth <- P_filterd - P_filterd^2 * s\n",
    "    \n",
    "    # 結果の格納\n",
    "    result <- data.frame(\n",
    "        mu_smooth = mu_smooth,\n",
    "        P_smooth = P_smooth,\n",
    "        r = r,\n",
    "        s = s\n",
    "    )\n",
    "    \n",
    "    return(result)\n",
    "}"
   ]
  },
  {
   "cell_type": "markdown",
   "metadata": {},
   "source": [
    "- _postで1時点未来の情報"
   ]
  },
  {
   "cell_type": "markdown",
   "metadata": {},
   "source": [
    "## Rで実装する平滑化: 状態を推定する"
   ]
  },
  {
   "cell_type": "code",
   "execution_count": 27,
   "metadata": {},
   "outputs": [],
   "source": [
    "# 平滑化状態\n",
    "mu_smooth <- numeric(N + 1)\n",
    "\n",
    "# 平滑化状態分散\n",
    "P_smooth <- numeric(N + 1)\n",
    "\n",
    "# 漸化式のパラメタ(初期値は0のまま)\n",
    "r <- numeric(N)\n",
    "s <- numeric(N)\n",
    "\n",
    "# 最後のデータは、フィルタリングの結果とスムージングの結果が一致する\n",
    "mu_smooth[N + 1] <- mu_filter[N + 1]\n",
    "P_smooth[N + 1] <- P_filter[N + 1]"
   ]
  },
  {
   "cell_type": "code",
   "execution_count": 28,
   "metadata": {},
   "outputs": [],
   "source": [
    "# 未来から過去へ\n",
    "for(i in N:1){\n",
    "    kekka <- smoothLocalLevel(\n",
    "        mu_filter[i], P_filter[i], r[i], s[i], F[i], y_resid[i], K[i]\n",
    "    )\n",
    "    mu_smooth[i] <- kekka$mu_smooth\n",
    "    P_smooth[i] <- kekka$P_smooth\n",
    "    r[i - 1] <- kekka$r\n",
    "    s[i - 1] <- kekka$s\n",
    "} "
   ]
  },
  {
   "cell_type": "code",
   "execution_count": 29,
   "metadata": {},
   "outputs": [
    {
     "name": "stdout",
     "output_type": "stream",
     "text": [
      "  [1] 1111.3728 1111.4840 1110.7435 1105.0774 1113.6190 1112.5225 1106.6783\n",
      "  [8] 1095.5019 1112.5757 1117.9070 1098.0291 1073.9540 1057.7744 1053.8722\n",
      " [15] 1044.3572 1039.8779 1037.3864 1042.6336 1034.1441 1049.1690 1073.3109\n",
      " [22] 1090.7838 1107.3351 1113.6199 1116.2667 1105.5401 1079.3676 1039.1318\n",
      " [29]  999.8092  950.4676  918.7727  894.9550  873.2329  869.4340  858.5785\n",
      " [36]  850.2809  856.9114  857.6331  874.9180  877.6947  863.2409  838.2112\n",
      " [43]  813.9026  798.3843  817.1045  835.1350  866.4791  872.4711  855.7101\n",
      " [50]  841.3202  834.6624  829.3707  830.2162  829.5832  825.5086  817.7848\n",
      " [57]  822.0395  823.9982  833.9566  847.7108  842.2360  845.0848  854.3421\n",
      " [64]  862.5336  872.4785  875.2713  867.1911  856.1301  848.4821  824.6823\n",
      " [71]  806.2507  800.8442  810.6221  816.8622  823.5885  838.4736  857.1062\n",
      " [78]  857.4493  857.5374  855.9792  855.2190  850.9806  857.4403  874.7440\n",
      " [85]  895.7221  901.2725  905.1500  900.9426  907.1295  911.7293  910.0020\n",
      " [92]  917.7749  915.3253  913.8083  913.5720  887.6930  859.3833  842.4119\n",
      " [99]  817.7817  803.1297  797.3906\n"
     ]
    }
   ],
   "source": [
    "print(mu_smooth)"
   ]
  },
  {
   "cell_type": "markdown",
   "metadata": {},
   "source": [
    "## dlmによるカルマンフィルタ"
   ]
  },
  {
   "cell_type": "code",
   "execution_count": 43,
   "metadata": {},
   "outputs": [],
   "source": [
    "# dlmのパラメタ設定\n",
    "mod_dlm <- dlmModPoly(\n",
    "    order = 1, m0 = 0, C0 = 10000000, dW = sigma_w, dV = sigma_v\n",
    ")\n",
    "\n",
    "# カルマンフィルタの実行\n",
    "mu_filter_dlm <- dlmFilter(Nile, mod_dlm)"
   ]
  },
  {
   "cell_type": "code",
   "execution_count": 44,
   "metadata": {},
   "outputs": [
    {
     "name": "stdout",
     "output_type": "stream",
     "text": [
      "Time Series:\n",
      "Start = 1870 \n",
      "End = 1970 \n",
      "Frequency = 1 \n",
      "  [1]    0.0000 1118.8812 1140.4103 1072.2709 1117.1955 1129.9866 1138.5439\n",
      "  [8] 1048.0302 1097.9501 1172.0492 1163.3531 1117.7658 1068.3295 1079.5944\n",
      " [15] 1056.4625 1046.6101 1023.2095 1065.5697  993.5522  983.9474 1026.1063\n",
      " [22] 1046.0692 1090.3562 1106.4694 1145.2451 1176.2469 1188.0670 1145.3642\n",
      " [29] 1133.1088 1036.0933  983.1175  953.6387  883.4957  898.7607  880.9950\n",
      " [36]  832.3683  854.9619  810.9367  867.4165  916.7425  930.8602  903.8824\n",
      " [43]  855.8263  747.8108  768.3938  750.4571  850.2914  917.7517  894.5854\n",
      " [50]  859.3069  848.9581  827.0867  831.9261  840.5911  846.3748  806.2904\n",
      " [57]  816.7481  797.0947  796.7990  862.5012  834.5397  820.0756  832.2122\n",
      " [64]  835.6669  864.9338  897.1003  897.0732  876.7917  912.7787  874.4763\n",
      " [71]  820.8567  774.4286  793.7640  798.6906  783.3753  788.1367  856.1791\n",
      " [78]  857.2114  861.7469  858.0331  866.6692  833.5293  810.6932  818.0703\n",
      " [85]  880.7276  890.7969  916.5166  884.2285  894.7028  916.3956  889.0030\n",
      " [92]  924.3926  919.4237  914.4465  983.4858  964.1735  905.2326  908.9519\n",
      " [99]  857.3651  818.6341  797.3906\n"
     ]
    }
   ],
   "source": [
    "# フィルタ化推定量\n",
    "print(mu_filter_dlm$m)"
   ]
  },
  {
   "cell_type": "code",
   "execution_count": 45,
   "metadata": {},
   "outputs": [
    {
     "name": "stdout",
     "output_type": "stream",
     "text": [
      "  [1]    0.0000 1118.8812 1140.4103 1072.2709 1117.1955 1129.9866 1138.5439\n",
      "  [8] 1048.0302 1097.9501 1172.0492 1163.3531 1117.7658 1068.3295 1079.5944\n",
      " [15] 1056.4625 1046.6101 1023.2095 1065.5697  993.5522  983.9474 1026.1063\n",
      " [22] 1046.0692 1090.3562 1106.4694 1145.2451 1176.2469 1188.0670 1145.3642\n",
      " [29] 1133.1088 1036.0933  983.1175  953.6387  883.4957  898.7607  880.9950\n",
      " [36]  832.3683  854.9619  810.9367  867.4165  916.7425  930.8602  903.8824\n",
      " [43]  855.8263  747.8108  768.3938  750.4571  850.2914  917.7517  894.5854\n",
      " [50]  859.3069  848.9581  827.0867  831.9261  840.5911  846.3748  806.2904\n",
      " [57]  816.7481  797.0947  796.7990  862.5012  834.5397  820.0756  832.2122\n",
      " [64]  835.6669  864.9338  897.1003  897.0732  876.7917  912.7787  874.4763\n",
      " [71]  820.8567  774.4286  793.7640  798.6906  783.3753  788.1367  856.1791\n",
      " [78]  857.2114  861.7469  858.0331  866.6692  833.5293  810.6932  818.0703\n",
      " [85]  880.7276  890.7969  916.5166  884.2285  894.7028  916.3956  889.0030\n",
      " [92]  924.3926  919.4237  914.4465  983.4858  964.1735  905.2326  908.9519\n",
      " [99]  857.3651  818.6341  797.3906\n"
     ]
    }
   ],
   "source": [
    "# パッケージを使わず実装した結果\n",
    "print(mu_filter)"
   ]
  },
  {
   "cell_type": "code",
   "execution_count": 46,
   "metadata": {},
   "outputs": [
    {
     "data": {
      "text/html": [
       "1.27954501004296e-24"
      ],
      "text/latex": [
       "1.27954501004296e-24"
      ],
      "text/markdown": [
       "1.27954501004296e-24"
      ],
      "text/plain": [
       "[1] 1.279545e-24"
      ]
     },
     "metadata": {},
     "output_type": "display_data"
    }
   ],
   "source": [
    "sum((mu_filter_dlm$m[-1] - mu_filter[-1])^2)"
   ]
  },
  {
   "cell_type": "markdown",
   "metadata": {},
   "source": [
    "両者の差がほぼないことがわかったので、同じ値が推定できたとみなしてOK。"
   ]
  },
  {
   "cell_type": "markdown",
   "metadata": {},
   "source": [
    "## dlmによる対数尤度の計算"
   ]
  },
  {
   "cell_type": "code",
   "execution_count": 47,
   "metadata": {},
   "outputs": [
    {
     "data": {
      "text/html": [
       "554.431566090655"
      ],
      "text/latex": [
       "554.431566090655"
      ],
      "text/markdown": [
       "554.431566090655"
      ],
      "text/plain": [
       "[1] 554.4316"
      ]
     },
     "metadata": {},
     "output_type": "display_data"
    }
   ],
   "source": [
    "# 対数尤度の指標\n",
    "dlmLL(Nile, mod_dlm)"
   ]
  },
  {
   "cell_type": "code",
   "execution_count": 48,
   "metadata": {},
   "outputs": [
    {
     "data": {
      "text/html": [
       "554.431566090655"
      ],
      "text/latex": [
       "554.431566090655"
      ],
      "text/markdown": [
       "554.431566090655"
      ],
      "text/plain": [
       "[1] 554.4316"
      ]
     },
     "metadata": {},
     "output_type": "display_data"
    }
   ],
   "source": [
    "# 比較\n",
    "1/2 * sum(log(F) + y_resid^2 / F)"
   ]
  },
  {
   "cell_type": "markdown",
   "metadata": {},
   "source": [
    "## dlmによる平滑化\n",
    "\n",
    "フィルタリングした結果mu_filter_dlmを引数にとり、dlmSmooth関数を実行することで平滑化状態を推定することができる"
   ]
  },
  {
   "cell_type": "code",
   "execution_count": 49,
   "metadata": {},
   "outputs": [
    {
     "name": "stdout",
     "output_type": "stream",
     "text": [
      "Time Series:\n",
      "Start = 1870 \n",
      "End = 1970 \n",
      "Frequency = 1 \n",
      "  [1] 1111.3728 1111.4840 1110.7435 1105.0774 1113.6190 1112.5225 1106.6783\n",
      "  [8] 1095.5019 1112.5757 1117.9070 1098.0291 1073.9540 1057.7744 1053.8722\n",
      " [15] 1044.3572 1039.8779 1037.3864 1042.6336 1034.1441 1049.1690 1073.3109\n",
      " [22] 1090.7838 1107.3351 1113.6199 1116.2667 1105.5401 1079.3676 1039.1318\n",
      " [29]  999.8092  950.4676  918.7727  894.9550  873.2329  869.4340  858.5785\n",
      " [36]  850.2809  856.9114  857.6331  874.9180  877.6947  863.2409  838.2112\n",
      " [43]  813.9026  798.3843  817.1045  835.1350  866.4791  872.4711  855.7101\n",
      " [50]  841.3202  834.6624  829.3707  830.2162  829.5832  825.5086  817.7848\n",
      " [57]  822.0395  823.9982  833.9566  847.7108  842.2360  845.0848  854.3421\n",
      " [64]  862.5336  872.4785  875.2713  867.1911  856.1301  848.4821  824.6823\n",
      " [71]  806.2507  800.8442  810.6221  816.8622  823.5885  838.4736  857.1062\n",
      " [78]  857.4493  857.5374  855.9792  855.2190  850.9806  857.4403  874.7440\n",
      " [85]  895.7221  901.2725  905.1500  900.9426  907.1295  911.7293  910.0020\n",
      " [92]  917.7749  915.3253  913.8083  913.5720  887.6930  859.3833  842.4119\n",
      " [99]  817.7817  803.1297  797.3906\n"
     ]
    }
   ],
   "source": [
    "mu_smooth_dlm <- dlmSmooth(mu_filter_dlm)\n",
    "\n",
    "# 平滑化状態\n",
    "print(mu_smooth_dlm$s)"
   ]
  },
  {
   "cell_type": "code",
   "execution_count": 51,
   "metadata": {},
   "outputs": [
    {
     "data": {
      "text/html": [
       "1.4475660719678e-24"
      ],
      "text/latex": [
       "1.4475660719678e-24"
      ],
      "text/markdown": [
       "1.4475660719678e-24"
      ],
      "text/plain": [
       "[1] 1.447566e-24"
      ]
     },
     "metadata": {},
     "output_type": "display_data"
    }
   ],
   "source": [
    "sum((mu_smooth_dlm$s - mu_smooth)^2)"
   ]
  },
  {
   "cell_type": "markdown",
   "metadata": {},
   "source": [
    "## 参考: dlmの使い方"
   ]
  },
  {
   "cell_type": "code",
   "execution_count": 55,
   "metadata": {},
   "outputs": [],
   "source": [
    "# Step1 モデルの構造を決める\n",
    "build_local_level_dlm <- function(theta){\n",
    "    dlmModPoly(order = 1, dV = exp(theta[1]), dW = exp(theta[2]))\n",
    "}\n",
    "\n",
    "# Step2 パラメタ推定\n",
    "par_local_level_dlm <- dlmMLE(Nile, parm=c(1,1), build_local_level_dlm)\n",
    "\n",
    "# 推定されたされた分散を使って、モデルを組み直す\n",
    "fit_local_level_dlm <- build_local_level_dlm(par_local_level_dlm$par)\n",
    "\n",
    "# Step3 フィルタリング\n",
    "filter_local_level_dlm <- dlmFilter(Nile, fit_local_level_dlm)\n",
    "\n",
    "# Step4 スムージング\n",
    "smooth_local_level_dlm <- dlmSmooth(filter_local_level_dlm)"
   ]
  },
  {
   "cell_type": "code",
   "execution_count": 56,
   "metadata": {},
   "outputs": [
    {
     "data": {
      "image/png": "[encoded data removed]",
      "text/plain": [
       "plot without title"
      ]
     },
     "metadata": {
      "image/png": {
       "height": 360,
       "width": 840
      }
     },
     "output_type": "display_data"
    },
    {
     "data": {
      "image/png": "[encoded data removed]",
      "text/plain": [
       "plot without title"
      ]
     },
     "metadata": {
      "image/png": {
       "height": 360,
       "width": 840
      }
     },
     "output_type": "display_data"
    }
   ],
   "source": [
    "# フィルタ化推定量の図示\n",
    "autoplot(filter_local_level_dlm, fitted.colour = \"black\",\n",
    "         fitted.size = 1.5, main = \"フィルタ化推定量\")\n",
    "\n",
    "# 平滑化状態の図示\n",
    "p_nile <- autoplot(Nile)\n",
    "\n",
    "autoplot(smooth_local_level_dlm, fitted.colour = \"black\",\n",
    "         colour = \"black\", size = 1.5, main=\"平滑化状態\", p=p_nile)"
   ]
  },
  {
   "cell_type": "markdown",
   "metadata": {},
   "source": [
    "## Rで実装する散漫カルマンフィルタ"
   ]
  },
  {
   "cell_type": "code",
   "execution_count": 57,
   "metadata": {},
   "outputs": [],
   "source": [
    "# 状態の推定値\n",
    "mu_diffuse_filter <- numeric(N + 1)\n",
    "\n",
    "# 状態の予測誤差の分散\n",
    "P_diffuse_filter <- numeric(N + 1)\n",
    "\n",
    "# 散漫初期化を用いると、1時点目のフィルタ化推定量は以下のようになる\n",
    "mu_diffuse_filter[2] <- Nile[1]\n",
    "P_diffuse_filter[2] <- sigma_v"
   ]
  },
  {
   "cell_type": "code",
   "execution_count": 58,
   "metadata": {},
   "outputs": [],
   "source": [
    "# 観測値の予測残差\n",
    "y_resid_diffuse <- numeric(N)\n",
    "\n",
    "# 観測値の予測誤差の分散\n",
    "F_diffuse <- numeric(N)\n",
    "\n",
    "# カルマンゲイン\n",
    "K_diffuse <- numeric(N)"
   ]
  },
  {
   "cell_type": "code",
   "execution_count": 59,
   "metadata": {},
   "outputs": [],
   "source": [
    "# 散漫初期化は2時点目からフィルタリングを行う\n",
    "for(i in 2:N){\n",
    "    kekka <- kfLocalLevel(\n",
    "        y = Nile[i], mu_pre = mu_diffuse_filter[i],\n",
    "        P_pre = P_diffuse_filter[i], sigma_w = sigma_w, sigma_v = sigma_v\n",
    "    )\n",
    "    mu_diffuse_filter[i + 1] <- kekka$mu_filter\n",
    "    P_diffuse_filter[i + 1] <- kekka$P_filter\n",
    "    y_resid_diffuse[i] <- kekka$y_resid\n",
    "    F_diffuse[i] <- kekka$F\n",
    "    K_diffuse[i] <- kekka$K\n",
    "}"
   ]
  },
  {
   "cell_type": "code",
   "execution_count": 61,
   "metadata": {},
   "outputs": [
    {
     "name": "stdout",
     "output_type": "stream",
     "text": [
      "  [1]    0.0000 1120.0000 1140.9524 1072.5894 1117.4155 1130.1417 1138.6551\n",
      "  [8] 1048.1088 1098.0076 1172.0914 1163.3839 1117.7882 1068.3457 1079.6063\n",
      " [15] 1056.4711 1046.6164 1023.2141 1065.5730  993.5546  983.9492 1026.1076\n",
      " [22] 1046.0702 1090.3569 1106.4699 1145.2455 1176.2471 1188.0672 1145.3644\n",
      " [29] 1133.1089 1036.0934  983.1176  953.6388  883.4957  898.7607  880.9951\n",
      " [36]  832.3683  854.9619  810.9367  867.4165  916.7425  930.8602  903.8824\n",
      " [43]  855.8263  747.8108  768.3938  750.4571  850.2914  917.7517  894.5854\n",
      " [50]  859.3069  848.9581  827.0867  831.9261  840.5911  846.3748  806.2904\n",
      " [57]  816.7481  797.0947  796.7990  862.5012  834.5397  820.0756  832.2122\n",
      " [64]  835.6669  864.9338  897.1003  897.0732  876.7917  912.7787  874.4763\n",
      " [71]  820.8567  774.4286  793.7640  798.6906  783.3753  788.1367  856.1791\n",
      " [78]  857.2114  861.7469  858.0331  866.6692  833.5293  810.6932  818.0703\n",
      " [85]  880.7276  890.7969  916.5166  884.2285  894.7028  916.3956  889.0030\n",
      " [92]  924.3926  919.4237  914.4465  983.4858  964.1735  905.2326  908.9519\n",
      " [99]  857.3651  818.6341  797.3906\n"
     ]
    }
   ],
   "source": [
    "# 散漫カルマンフィルタ\n",
    "print(mu_diffuse_filter)"
   ]
  },
  {
   "cell_type": "code",
   "execution_count": 63,
   "metadata": {},
   "outputs": [
    {
     "name": "stdout",
     "output_type": "stream",
     "text": [
      "  [1]    0.0000 1118.8812 1140.4103 1072.2709 1117.1955 1129.9866 1138.5439\n",
      "  [8] 1048.0302 1097.9501 1172.0492 1163.3531 1117.7658 1068.3295 1079.5944\n",
      " [15] 1056.4625 1046.6101 1023.2095 1065.5697  993.5522  983.9474 1026.1063\n",
      " [22] 1046.0692 1090.3562 1106.4694 1145.2451 1176.2469 1188.0670 1145.3642\n",
      " [29] 1133.1088 1036.0933  983.1175  953.6387  883.4957  898.7607  880.9950\n",
      " [36]  832.3683  854.9619  810.9367  867.4165  916.7425  930.8602  903.8824\n",
      " [43]  855.8263  747.8108  768.3938  750.4571  850.2914  917.7517  894.5854\n",
      " [50]  859.3069  848.9581  827.0867  831.9261  840.5911  846.3748  806.2904\n",
      " [57]  816.7481  797.0947  796.7990  862.5012  834.5397  820.0756  832.2122\n",
      " [64]  835.6669  864.9338  897.1003  897.0732  876.7917  912.7787  874.4763\n",
      " [71]  820.8567  774.4286  793.7640  798.6906  783.3753  788.1367  856.1791\n",
      " [78]  857.2114  861.7469  858.0331  866.6692  833.5293  810.6932  818.0703\n",
      " [85]  880.7276  890.7969  916.5166  884.2285  894.7028  916.3956  889.0030\n",
      " [92]  924.3926  919.4237  914.4465  983.4858  964.1735  905.2326  908.9519\n",
      " [99]  857.3651  818.6341  797.3906\n"
     ]
    }
   ],
   "source": [
    "# 普通のカルマンフィルタ\n",
    "print(mu_filter)"
   ]
  },
  {
   "cell_type": "markdown",
   "metadata": {},
   "source": [
    "## Rで実装する散漫対数尤度\n",
    "\n",
    "1時点目のデータを使わないことに注意する。"
   ]
  },
  {
   "cell_type": "code",
   "execution_count": 64,
   "metadata": {},
   "outputs": [
    {
     "data": {
      "text/html": [
       "-637.285467671513"
      ],
      "text/latex": [
       "-637.285467671513"
      ],
      "text/markdown": [
       "-637.285467671513"
      ],
      "text/plain": [
       "[1] -637.2855"
      ]
     },
     "metadata": {},
     "output_type": "display_data"
    }
   ],
   "source": [
    "# dnorm関数を使った対数尤度の計算\n",
    "sum(\n",
    "    log(\n",
    "        dnorm(y_resid_diffuse[-1], mean=0, sd=sqrt(F_diffuse[-1]))\n",
    "    )\n",
    ")"
   ]
  },
  {
   "cell_type": "code",
   "execution_count": 65,
   "metadata": {},
   "outputs": [
    {
     "data": {
      "text/html": [
       "-637.285467671513"
      ],
      "text/latex": [
       "-637.285467671513"
      ],
      "text/markdown": [
       "-637.285467671513"
      ],
      "text/plain": [
       "[1] -637.2855"
      ]
     },
     "metadata": {},
     "output_type": "display_data"
    }
   ],
   "source": [
    "# 対数尤度の計算式\n",
    "-1 * ((N - 1)/2) * log(2 * pi) - 1/2*sum(log(F_diffuse[-1]) + y_resid_diffuse[-1]^2 / F_diffuse[-1])"
   ]
  },
  {
   "cell_type": "markdown",
   "metadata": {},
   "source": [
    "[-1]とすることで1時点目のデータを省く。"
   ]
  },
  {
   "cell_type": "markdown",
   "metadata": {},
   "source": [
    "## KFASによる散漫カルマンフィルタ"
   ]
  },
  {
   "cell_type": "code",
   "execution_count": 67,
   "metadata": {},
   "outputs": [],
   "source": [
    "# KFASのパラメタの設定\n",
    "mod_kfas <- SSModel(\n",
    "    H = sigma_v, Nile ~ SSMtrend(degree = 1, Q = sigma_w)\n",
    ")\n",
    "\n",
    "# 散漫カルマンフィルタの実行\n",
    "mu_filter_kfas <- KFS(\n",
    "    mod_kfas, filtering = c(\"state\", \"mean\"), smoothing = \"none\"\n",
    ")"
   ]
  },
  {
   "cell_type": "code",
   "execution_count": 68,
   "metadata": {},
   "outputs": [
    {
     "data": {
      "text/html": [
       "2.32644547280539e-25"
      ],
      "text/latex": [
       "2.32644547280539e-25"
      ],
      "text/markdown": [
       "2.32644547280539e-25"
      ],
      "text/plain": [
       "[1] 2.326445e-25"
      ]
     },
     "metadata": {},
     "output_type": "display_data"
    }
   ],
   "source": [
    "sum((mu_filter_kfas$a - mu_diffuse_filter)^2)"
   ]
  },
  {
   "cell_type": "markdown",
   "metadata": {},
   "source": [
    "## KFASによる散漫対数尤度の計算\n",
    "\n",
    "散漫対数尤度はlogLik関数を使うことで計算できる"
   ]
  },
  {
   "cell_type": "code",
   "execution_count": 69,
   "metadata": {},
   "outputs": [
    {
     "data": {
      "text/html": [
       "-637.285467671513"
      ],
      "text/latex": [
       "-637.285467671513"
      ],
      "text/markdown": [
       "-637.285467671513"
      ],
      "text/plain": [
       "[1] -637.2855"
      ]
     },
     "metadata": {},
     "output_type": "display_data"
    }
   ],
   "source": [
    "logLik(mod_kfas)"
   ]
  },
  {
   "cell_type": "markdown",
   "metadata": {},
   "source": [
    "## dlmとKFASの比較とKFASの優位性\n",
    "\n",
    "dlmパッケージを使うと簡単に状態空間モデルを推定できるがKFASパッケージの方が以下の点で優れている。\n",
    "\n",
    "- 散漫カルマンフィルタに対応している\n",
    "- 計算速度が速い(特にパラメタ推定にかかる時間が短い)\n",
    "- 線形非ガウシアンなデータに対してもモデル化が可能\n",
    "\n",
    "基本構造時系列モデルなどやや複雑なモデルだとdlmパッケージだとなかなか計算が終わらない。  \n"
   ]
  },
  {
   "cell_type": "markdown",
   "metadata": {},
   "source": [
    "## KFASの使い方"
   ]
  },
  {
   "cell_type": "code",
   "execution_count": 70,
   "metadata": {},
   "outputs": [],
   "source": [
    "# library(KFAS)\n",
    "# library(ggplot2)"
   ]
  },
  {
   "cell_type": "code",
   "execution_count": 71,
   "metadata": {},
   "outputs": [],
   "source": [
    "# 分析の対象となるデータ\n",
    "# 最後の20年は予測におけるテストデータとする\n",
    "nile_train <- window(Nile, end = 1950)\n",
    "\n",
    "# 途中20年間に、欠損があったとする\n",
    "nile_train[41:60] <- NA"
   ]
  },
  {
   "cell_type": "markdown",
   "metadata": {},
   "source": [
    "## KFASによる線形ガウス状態空間モデルの推定\n",
    "\n",
    "- KFASを用いてローカルレベルモデルを推定してみる。\n",
    "- 欠損値があっても気にすることなくモデルを推定することが可能"
   ]
  },
  {
   "cell_type": "code",
   "execution_count": 72,
   "metadata": {},
   "outputs": [],
   "source": [
    "# Step1: モデルの構造を決める\n",
    "build_kfas <- SSModel(\n",
    "    H = NA,\n",
    "    nile_train ~ SSMtrend(degree = 1, Q = NA)\n",
    ")\n",
    "\n",
    "# Step2: パラメタ推定\n",
    "fit_kfas <- fitSSM(build_kfas, inits = c(1, 1))\n",
    "\n",
    "# Step3, 4: フィルタリング・スムージング\n",
    "result_kfas <- KFS(\n",
    "    fit_kfas$model,\n",
    "    filtering = c(\"state\", \"mean\"),\n",
    "    smoothing = c(\"state\", \"mean\")\n",
    ")"
   ]
  },
  {
   "cell_type": "code",
   "execution_count": 73,
   "metadata": {},
   "outputs": [
    {
     "data": {
      "text/html": [
       "12782.3501580614"
      ],
      "text/latex": [
       "12782.3501580614"
      ],
      "text/markdown": [
       "12782.3501580614"
      ],
      "text/plain": [
       ", , 1\n",
       "\n",
       "         [,1]\n",
       "[1,] 12782.35\n"
      ]
     },
     "metadata": {},
     "output_type": "display_data"
    },
    {
     "data": {
      "text/html": [
       "2489.91489998162"
      ],
      "text/latex": [
       "2489.91489998162"
      ],
      "text/markdown": [
       "2489.91489998162"
      ],
      "text/plain": [
       ", , 1\n",
       "\n",
       "         [,1]\n",
       "[1,] 2489.915\n"
      ]
     },
     "metadata": {},
     "output_type": "display_data"
    }
   ],
   "source": [
    "# 観測誤差の分散\n",
    "fit_kfas$model$H\n",
    "\n",
    "# 過程誤差の分散\n",
    "fit_kfas$model$Q"
   ]
  },
  {
   "cell_type": "code",
   "execution_count": 74,
   "metadata": {},
   "outputs": [],
   "source": [
    "# フィルタ化推定量\n",
    "mu_filter_kfas <- result_kfas$a[-1]\n",
    "\n",
    "# 平滑化状態\n",
    "mu_smooth_kfas <- result_kfas$alphahat"
   ]
  },
  {
   "cell_type": "code",
   "execution_count": 76,
   "metadata": {},
   "outputs": [
    {
     "data": {
      "image/png": "[encoded data removed]",
      "text/plain": [
       "plot without title"
      ]
     },
     "metadata": {
      "image/png": {
       "height": 360,
       "width": 840
      }
     },
     "output_type": "display_data"
    }
   ],
   "source": [
    "# 結果の図示\n",
    "df_filter <- data.frame(\n",
    "    y = as.numeric(Nile[1:80]),\n",
    "    time = 1871:1950,\n",
    "    mu_filter = mu_filter_kfas\n",
    ")\n",
    "\n",
    "ggplot(data = df_filter, aes(x = time, y = y)) +\n",
    "    labs(title=\"フィルタ推定量\") + \n",
    "    geom_point(alpha = 0.6) + \n",
    "    geom_line(aes(y = mu_filter), size = 1.2)"
   ]
  },
  {
   "cell_type": "markdown",
   "metadata": {},
   "source": [
    "1910 ~ 1930年についてはデータが欠損してずっと同じになっており、これがローカルレベルモデルの補完の特徴。"
   ]
  },
  {
   "cell_type": "markdown",
   "metadata": {},
   "source": [
    "## KFASによる状態の推定と信頼・予測区間\n",
    "\n",
    "平滑化状態と、その信頼区間と予測区間を求める。  \n",
    "\n",
    "- 信頼区間：状態がこの間に収まるだろう区間\n",
    "- 予測区間：観測値がこの間に収まるだろう区間\n",
    "\n",
    "予測区間には観測誤差の大きさも加味されていることに注意すること。"
   ]
  },
  {
   "cell_type": "code",
   "execution_count": 79,
   "metadata": {},
   "outputs": [],
   "source": [
    "# 信頼区間\n",
    "smooth_conf <- predict(\n",
    "    fit_kfas$model, interval = \"confidence\", level = 0.95\n",
    ")"
   ]
  },
  {
   "cell_type": "code",
   "execution_count": 80,
   "metadata": {},
   "outputs": [
    {
     "data": {
      "text/html": [
       "<table>\n",
       "<caption>A matrix: 3 × 3 of type dbl</caption>\n",
       "<thead>\n",
       "\t<tr><th scope=col>fit</th><th scope=col>lwr</th><th scope=col>upr</th></tr>\n",
       "</thead>\n",
       "<tbody>\n",
       "\t<tr><td>1113.876</td><td>981.9267</td><td>1245.826</td></tr>\n",
       "\t<tr><td>1112.683</td><td>996.8118</td><td>1228.555</td></tr>\n",
       "\t<tr><td>1102.274</td><td>993.8005</td><td>1210.747</td></tr>\n",
       "</tbody>\n",
       "</table>\n"
      ],
      "text/latex": [
       "A matrix: 3 × 3 of type dbl\n",
       "\\begin{tabular}{lll}\n",
       " fit & lwr & upr\\\\\n",
       "\\hline\n",
       "\t 1113.876 & 981.9267 & 1245.826\\\\\n",
       "\t 1112.683 & 996.8118 & 1228.555\\\\\n",
       "\t 1102.274 & 993.8005 & 1210.747\\\\\n",
       "\\end{tabular}\n"
      ],
      "text/markdown": [
       "\n",
       "A matrix: 3 × 3 of type dbl\n",
       "\n",
       "| fit | lwr | upr |\n",
       "|---|---|---|\n",
       "| 1113.876 | 981.9267 | 1245.826 |\n",
       "| 1112.683 | 996.8118 | 1228.555 |\n",
       "| 1102.274 | 993.8005 | 1210.747 |\n",
       "\n"
      ],
      "text/plain": [
       "     fit      lwr      upr     \n",
       "[1,] 1113.876 981.9267 1245.826\n",
       "[2,] 1112.683 996.8118 1228.555\n",
       "[3,] 1102.274 993.8005 1210.747"
      ]
     },
     "metadata": {},
     "output_type": "display_data"
    }
   ],
   "source": [
    "head(smooth_conf, n=3)"
   ]
  },
  {
   "cell_type": "code",
   "execution_count": 81,
   "metadata": {},
   "outputs": [],
   "source": [
    "# 予測区間\n",
    "smooth_pred <- predict(\n",
    "    fit_kfas$model, interval = \"prediction\", level = 0.95\n",
    ")"
   ]
  },
  {
   "cell_type": "code",
   "execution_count": 82,
   "metadata": {},
   "outputs": [
    {
     "data": {
      "text/html": [
       "<table>\n",
       "<caption>A matrix: 3 × 3 of type dbl</caption>\n",
       "<thead>\n",
       "\t<tr><th scope=col>fit</th><th scope=col>lwr</th><th scope=col>upr</th></tr>\n",
       "</thead>\n",
       "<tbody>\n",
       "\t<tr><td>1113.876</td><td>855.9740</td><td>1371.779</td></tr>\n",
       "\t<tr><td>1112.683</td><td>862.6252</td><td>1362.742</td></tr>\n",
       "\t<tr><td>1102.274</td><td>855.5566</td><td>1348.991</td></tr>\n",
       "</tbody>\n",
       "</table>\n"
      ],
      "text/latex": [
       "A matrix: 3 × 3 of type dbl\n",
       "\\begin{tabular}{lll}\n",
       " fit & lwr & upr\\\\\n",
       "\\hline\n",
       "\t 1113.876 & 855.9740 & 1371.779\\\\\n",
       "\t 1112.683 & 862.6252 & 1362.742\\\\\n",
       "\t 1102.274 & 855.5566 & 1348.991\\\\\n",
       "\\end{tabular}\n"
      ],
      "text/markdown": [
       "\n",
       "A matrix: 3 × 3 of type dbl\n",
       "\n",
       "| fit | lwr | upr |\n",
       "|---|---|---|\n",
       "| 1113.876 | 855.9740 | 1371.779 |\n",
       "| 1112.683 | 862.6252 | 1362.742 |\n",
       "| 1102.274 | 855.5566 | 1348.991 |\n",
       "\n"
      ],
      "text/plain": [
       "     fit      lwr      upr     \n",
       "[1,] 1113.876 855.9740 1371.779\n",
       "[2,] 1112.683 862.6252 1362.742\n",
       "[3,] 1102.274 855.5566 1348.991"
      ]
     },
     "metadata": {},
     "output_type": "display_data"
    }
   ],
   "source": [
    "head(smooth_pred, n=3)"
   ]
  },
  {
   "cell_type": "markdown",
   "metadata": {},
   "source": [
    "## KFASによる予測\n",
    "\n",
    "predict関数においてn.ahead=20で20時点先まで予測することができる。"
   ]
  },
  {
   "cell_type": "code",
   "execution_count": 85,
   "metadata": {},
   "outputs": [],
   "source": [
    "forecast_pred <- predict(\n",
    "    fit_kfas$model, interval = \"prediction\", level = 0.95, n.ahead=20\n",
    ")"
   ]
  },
  {
   "cell_type": "code",
   "execution_count": 86,
   "metadata": {},
   "outputs": [],
   "source": [
    "# 平滑化状態と予測結果を結合させる\n",
    "estimate_all <- rbind(smooth_pred, forecast_pred)"
   ]
  },
  {
   "cell_type": "code",
   "execution_count": 87,
   "metadata": {},
   "outputs": [],
   "source": [
    "# 図示のためのデータをまとめる\n",
    "df_forecast <- cbind(\n",
    "    data.frame(y = as.numeric(Nile), time=1871:1970),\n",
    "    as.data.frame(estimate_all)\n",
    ")"
   ]
  },
  {
   "cell_type": "code",
   "execution_count": 88,
   "metadata": {},
   "outputs": [
    {
     "data": {
      "image/png": "[encoded data removed]",
      "text/plain": [
       "plot without title"
      ]
     },
     "metadata": {
      "image/png": {
       "height": 360,
       "width": 840
      }
     },
     "output_type": "display_data"
    }
   ],
   "source": [
    "ggplot(data = df_forecast, aes(x=time, y=y)) +\n",
    "    labs(title = \"平滑化状態と将来予測\") + \n",
    "    geom_point(alpha = 0.5) + \n",
    "    geom_line(aes(y = fit), size = 1.2) +\n",
    "    geom_ribbon(aes(ymin = lwr, ymax = upr), alpha = 0.3)"
   ]
  },
  {
   "cell_type": "markdown",
   "metadata": {},
   "source": [
    "## ローカルレベルモデルにおける予測\n",
    "\n",
    "ローカルレベルモデルにおける予測の方法をおさらいしておく。  \n",
    "将来予測値の点推定値は、最新年の状態の値とまったく同じで変化しません。"
   ]
  },
  {
   "cell_type": "code",
   "execution_count": 89,
   "metadata": {},
   "outputs": [
    {
     "data": {
      "text/html": [
       "<table>\n",
       "<caption>A matrix: 1 × 3 of type dbl</caption>\n",
       "<thead>\n",
       "\t<tr><th></th><th scope=col>fit</th><th scope=col>lwr</th><th scope=col>upr</th></tr>\n",
       "</thead>\n",
       "<tbody>\n",
       "\t<tr><th scope=row>[80,]</th><td>872.5365</td><td>614.6343</td><td>1130.439</td></tr>\n",
       "</tbody>\n",
       "</table>\n"
      ],
      "text/latex": [
       "A matrix: 1 × 3 of type dbl\n",
       "\\begin{tabular}{r|lll}\n",
       "  & fit & lwr & upr\\\\\n",
       "\\hline\n",
       "\t{[}80,{]} & 872.5365 & 614.6343 & 1130.439\\\\\n",
       "\\end{tabular}\n"
      ],
      "text/markdown": [
       "\n",
       "A matrix: 1 × 3 of type dbl\n",
       "\n",
       "| <!--/--> | fit | lwr | upr |\n",
       "|---|---|---|---|\n",
       "| [80,] | 872.5365 | 614.6343 | 1130.439 |\n",
       "\n"
      ],
      "text/plain": [
       "      fit      lwr      upr     \n",
       "[80,] 872.5365 614.6343 1130.439"
      ]
     },
     "metadata": {},
     "output_type": "display_data"
    }
   ],
   "source": [
    "tail(smooth_pred, n=1)"
   ]
  },
  {
   "cell_type": "code",
   "execution_count": 91,
   "metadata": {},
   "outputs": [
    {
     "data": {
      "text/html": [
       "<table>\n",
       "<caption>A matrix: 5 × 3 of type dbl</caption>\n",
       "<thead>\n",
       "\t<tr><th scope=col>fit</th><th scope=col>lwr</th><th scope=col>upr</th></tr>\n",
       "</thead>\n",
       "<tbody>\n",
       "\t<tr><td>872.5365</td><td>596.7133</td><td>1148.360</td></tr>\n",
       "\t<tr><td>872.5365</td><td>579.8876</td><td>1165.185</td></tr>\n",
       "\t<tr><td>872.5365</td><td>563.9781</td><td>1181.095</td></tr>\n",
       "\t<tr><td>872.5365</td><td>548.8497</td><td>1196.223</td></tr>\n",
       "\t<tr><td>872.5365</td><td>534.3974</td><td>1210.676</td></tr>\n",
       "</tbody>\n",
       "</table>\n"
      ],
      "text/latex": [
       "A matrix: 5 × 3 of type dbl\n",
       "\\begin{tabular}{lll}\n",
       " fit & lwr & upr\\\\\n",
       "\\hline\n",
       "\t 872.5365 & 596.7133 & 1148.360\\\\\n",
       "\t 872.5365 & 579.8876 & 1165.185\\\\\n",
       "\t 872.5365 & 563.9781 & 1181.095\\\\\n",
       "\t 872.5365 & 548.8497 & 1196.223\\\\\n",
       "\t 872.5365 & 534.3974 & 1210.676\\\\\n",
       "\\end{tabular}\n"
      ],
      "text/markdown": [
       "\n",
       "A matrix: 5 × 3 of type dbl\n",
       "\n",
       "| fit | lwr | upr |\n",
       "|---|---|---|\n",
       "| 872.5365 | 596.7133 | 1148.360 |\n",
       "| 872.5365 | 579.8876 | 1165.185 |\n",
       "| 872.5365 | 563.9781 | 1181.095 |\n",
       "| 872.5365 | 548.8497 | 1196.223 |\n",
       "| 872.5365 | 534.3974 | 1210.676 |\n",
       "\n"
      ],
      "text/plain": [
       "     fit      lwr      upr     \n",
       "[1,] 872.5365 596.7133 1148.360\n",
       "[2,] 872.5365 579.8876 1165.185\n",
       "[3,] 872.5365 563.9781 1181.095\n",
       "[4,] 872.5365 548.8497 1196.223\n",
       "[5,] 872.5365 534.3974 1210.676"
      ]
     },
     "metadata": {},
     "output_type": "display_data"
    }
   ],
   "source": [
    "head(forecast_pred, n=5)"
   ]
  },
  {
   "cell_type": "code",
   "execution_count": 92,
   "metadata": {},
   "outputs": [],
   "source": [
    "# 予測区間がどのように広がるか確認する\n",
    "forecast_se <- predict(\n",
    "    fit_kfas$model, interval = \"prediction\", level = 0.95, n.ahead=20, se.fit = T)[, \"se.fit\"]"
   ]
  },
  {
   "cell_type": "code",
   "execution_count": 93,
   "metadata": {},
   "outputs": [
    {
     "data": {
      "text/html": [
       "A Time Series:<br><style>\n",
       ".list-inline {list-style: none; margin:0; padding: 0}\n",
       ".list-inline>li {display: inline-block}\n",
       ".list-inline>li:not(:last-child)::after {content: \"\\00b7\"; padding: 0 .5ex}\n",
       "</style>\n",
       "<ol class=list-inline><li>7022.23066934293</li><li>9512.14556932454</li><li>12002.0604693062</li><li>14491.9753692878</li><li>16981.8902692694</li><li>19471.805169251</li><li>21961.7200692326</li><li>24451.6349692142</li><li>26941.5498691959</li><li>29431.4647691775</li><li>31921.3796691591</li><li>34411.2945691407</li><li>36901.2094691223</li><li>39391.1243691039</li><li>41881.0392690856</li><li>44370.9541690672</li><li>46860.8690690488</li><li>49350.7839690304</li><li>51840.698869012</li><li>54330.6137689937</li></ol>\n"
      ],
      "text/latex": [
       "A Time Series:\\\\\\begin{enumerate*}\n",
       "\\item 7022.23066934293\n",
       "\\item 9512.14556932454\n",
       "\\item 12002.0604693062\n",
       "\\item 14491.9753692878\n",
       "\\item 16981.8902692694\n",
       "\\item 19471.805169251\n",
       "\\item 21961.7200692326\n",
       "\\item 24451.6349692142\n",
       "\\item 26941.5498691959\n",
       "\\item 29431.4647691775\n",
       "\\item 31921.3796691591\n",
       "\\item 34411.2945691407\n",
       "\\item 36901.2094691223\n",
       "\\item 39391.1243691039\n",
       "\\item 41881.0392690856\n",
       "\\item 44370.9541690672\n",
       "\\item 46860.8690690488\n",
       "\\item 49350.7839690304\n",
       "\\item 51840.698869012\n",
       "\\item 54330.6137689937\n",
       "\\end{enumerate*}\n"
      ],
      "text/markdown": [
       "A Time Series:  \n",
       "1. 7022.23066934293\n",
       "2. 9512.14556932454\n",
       "3. 12002.0604693062\n",
       "4. 14491.9753692878\n",
       "5. 16981.8902692694\n",
       "6. 19471.805169251\n",
       "7. 21961.7200692326\n",
       "8. 24451.6349692142\n",
       "9. 26941.5498691959\n",
       "10. 29431.4647691775\n",
       "11. 31921.3796691591\n",
       "12. 34411.2945691407\n",
       "13. 36901.2094691223\n",
       "14. 39391.1243691039\n",
       "15. 41881.0392690856\n",
       "16. 44370.9541690672\n",
       "17. 46860.8690690488\n",
       "18. 49350.7839690304\n",
       "19. 51840.698869012\n",
       "20. 54330.6137689937\n",
       "\n",
       "\n"
      ],
      "text/plain": [
       "A Time Series:\n",
       " [1]  7022.231  9512.146 12002.060 14491.975 16981.890 19471.805 21961.720\n",
       " [8] 24451.635 26941.550 29431.465 31921.380 34411.295 36901.209 39391.124\n",
       "[15] 41881.039 44370.954 46860.869 49350.784 51840.699 54330.614"
      ]
     },
     "metadata": {},
     "output_type": "display_data"
    }
   ],
   "source": [
    "# 標準偏差を2乗して分散にする\n",
    "forecast_se^2"
   ]
  },
  {
   "cell_type": "code",
   "execution_count": 94,
   "metadata": {},
   "outputs": [
    {
     "data": {
      "text/html": [
       "A Time Series:<br><style>\n",
       ".list-inline {list-style: none; margin:0; padding: 0}\n",
       ".list-inline>li {display: inline-block}\n",
       ".list-inline>li:not(:last-child)::after {content: \"\\00b7\"; padding: 0 .5ex}\n",
       "</style>\n",
       "<ol class=list-inline><li>2489.91489998162</li><li>2489.91489998162</li><li>2489.91489998162</li><li>2489.91489998162</li><li>2489.91489998162</li><li>2489.91489998161</li><li>2489.91489998162</li><li>2489.91489998162</li><li>2489.91489998161</li><li>2489.91489998162</li><li>2489.91489998161</li><li>2489.91489998162</li><li>2489.91489998161</li><li>2489.91489998162</li><li>2489.91489998162</li><li>2489.9148999816</li><li>2489.91489998163</li><li>2489.91489998161</li><li>2489.91489998162</li></ol>\n"
      ],
      "text/latex": [
       "A Time Series:\\\\\\begin{enumerate*}\n",
       "\\item 2489.91489998162\n",
       "\\item 2489.91489998162\n",
       "\\item 2489.91489998162\n",
       "\\item 2489.91489998162\n",
       "\\item 2489.91489998162\n",
       "\\item 2489.91489998161\n",
       "\\item 2489.91489998162\n",
       "\\item 2489.91489998162\n",
       "\\item 2489.91489998161\n",
       "\\item 2489.91489998162\n",
       "\\item 2489.91489998161\n",
       "\\item 2489.91489998162\n",
       "\\item 2489.91489998161\n",
       "\\item 2489.91489998162\n",
       "\\item 2489.91489998162\n",
       "\\item 2489.9148999816\n",
       "\\item 2489.91489998163\n",
       "\\item 2489.91489998161\n",
       "\\item 2489.91489998162\n",
       "\\end{enumerate*}\n"
      ],
      "text/markdown": [
       "A Time Series:  \n",
       "1. 2489.91489998162\n",
       "2. 2489.91489998162\n",
       "3. 2489.91489998162\n",
       "4. 2489.91489998162\n",
       "5. 2489.91489998162\n",
       "6. 2489.91489998161\n",
       "7. 2489.91489998162\n",
       "8. 2489.91489998162\n",
       "9. 2489.91489998161\n",
       "10. 2489.91489998162\n",
       "11. 2489.91489998161\n",
       "12. 2489.91489998162\n",
       "13. 2489.91489998161\n",
       "14. 2489.91489998162\n",
       "15. 2489.91489998162\n",
       "16. 2489.9148999816\n",
       "17. 2489.91489998163\n",
       "18. 2489.91489998161\n",
       "19. 2489.91489998162\n",
       "\n",
       "\n"
      ],
      "text/plain": [
       "A Time Series:\n",
       " [1] 2489.915 2489.915 2489.915 2489.915 2489.915 2489.915 2489.915 2489.915\n",
       " [9] 2489.915 2489.915 2489.915 2489.915 2489.915 2489.915 2489.915 2489.915\n",
       "[17] 2489.915 2489.915 2489.915"
      ]
     },
     "metadata": {},
     "output_type": "display_data"
    }
   ],
   "source": [
    "# 差分をとる\n",
    "diff(forecast_se^2)"
   ]
  },
  {
   "cell_type": "markdown",
   "metadata": {},
   "source": [
    "2489.915ずつ増えていることがわかる"
   ]
  },
  {
   "cell_type": "code",
   "execution_count": 95,
   "metadata": {},
   "outputs": [
    {
     "data": {
      "text/html": [
       "2489.91489998162"
      ],
      "text/latex": [
       "2489.91489998162"
      ],
      "text/markdown": [
       "2489.91489998162"
      ],
      "text/plain": [
       ", , 1\n",
       "\n",
       "         [,1]\n",
       "[1,] 2489.915\n"
      ]
     },
     "metadata": {},
     "output_type": "display_data"
    }
   ],
   "source": [
    "# 分散の増加量をみる\n",
    "fit_kfas$model$Q"
   ]
  },
  {
   "cell_type": "markdown",
   "metadata": {},
   "source": [
    "分散の増加量は、過程誤差の分散の値と一致する。  \n",
    "過程誤差が積み重なっていき、長期の予測は当たりにくくなるということをわかる。"
   ]
  },
  {
   "cell_type": "code",
   "execution_count": null,
   "metadata": {},
   "outputs": [],
   "source": []
  }
 ],
 "metadata": {
  "kernelspec": {
   "display_name": "R",
   "language": "R",
   "name": "ir"
  },
  "language_info": {
   "codemirror_mode": "r",
   "file_extension": ".r",
   "mimetype": "text/x-r-source",
   "name": "R",
   "pygments_lexer": "r",
   "version": "4.0.2"
  }
 },
 "nbformat": 4,
 "nbformat_minor": 4
}
