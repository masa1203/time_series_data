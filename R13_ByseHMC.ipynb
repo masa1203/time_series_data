{
 "cells": [
  {
   "cell_type": "markdown",
   "metadata": {},
   "source": [
    "# パラメタと状態の推定: ベイズ推論とHMC法\n",
    "\n",
    "- ハミルトニアンモンテカルロ法(Hamiltonian Monte Carlo, HMC法): 乱数生成のためのアルゴリズム\n",
    "\n",
    "パラメタ推定と乱数生成の繋がりを理解していくことが大切。"
   ]
  },
  {
   "cell_type": "markdown",
   "metadata": {},
   "source": [
    "## パラメタ推定と乱数生成アルゴリズムの関係\n",
    "\n",
    "状態空間モデルのパラメータをベイズ推論で求めることが出来そうだが、確率密度関数が複雑で積分ができない。  \n",
    "そこでパラメタの「事後分布の確率密度関数」に従う乱数を発生させることで、**事後期待値(EAP)** 推定量を割り出すことができる。  \n",
    "この乱数を発生させる手法がHMC法で、StanがHMC法を行う。"
   ]
  },
  {
   "cell_type": "code",
   "execution_count": 1,
   "metadata": {},
   "outputs": [],
   "source": [
    "# install.packages('rstan', repos='https://cloud.r-project.org/', dependencies=TRUE)"
   ]
  },
  {
   "cell_type": "code",
   "execution_count": 2,
   "metadata": {},
   "outputs": [
    {
     "data": {
      "text/html": [
       "TRUE"
      ],
      "text/latex": [
       "TRUE"
      ],
      "text/markdown": [
       "TRUE"
      ],
      "text/plain": [
       "[1] TRUE"
      ]
     },
     "metadata": {},
     "output_type": "display_data"
    }
   ],
   "source": [
    "pkgbuild::has_build_tools(debug = TRUE)"
   ]
  },
  {
   "cell_type": "code",
   "execution_count": 3,
   "metadata": {},
   "outputs": [
    {
     "data": {
      "text/html": [
       "<strong>make:</strong> 'C:\\\\rtools40\\\\usr\\\\bin\\\\make.exe'"
      ],
      "text/latex": [
       "\\textbf{make:} 'C:\\textbackslash{}\\textbackslash{}rtools40\\textbackslash{}\\textbackslash{}usr\\textbackslash{}\\textbackslash{}bin\\textbackslash{}\\textbackslash{}make.exe'"
      ],
      "text/markdown": [
       "**make:** 'C:\\\\rtools40\\\\usr\\\\bin\\\\make.exe'"
      ],
      "text/plain": [
       "                              make \n",
       "\"C:\\\\rtools40\\\\usr\\\\bin\\\\make.exe\" "
      ]
     },
     "metadata": {},
     "output_type": "display_data"
    }
   ],
   "source": [
    "Sys.which(\"make\")"
   ]
  },
  {
   "cell_type": "code",
   "execution_count": 4,
   "metadata": {},
   "outputs": [
    {
     "name": "stderr",
     "output_type": "stream",
     "text": [
      "Loading required package: StanHeaders\n",
      "\n",
      "Loading required package: ggplot2\n",
      "\n",
      "rstan (Version 2.21.1, GitRev: 2e1f913d3ca3)\n",
      "\n",
      "For execution on a local, multicore CPU with excess RAM we recommend calling\n",
      "options(mc.cores = parallel::detectCores()).\n",
      "To avoid recompilation of unchanged Stan programs, we recommend calling\n",
      "rstan_options(auto_write = TRUE)\n",
      "\n",
      "For improved execution time, we recommend calling\n",
      "Sys.setenv(LOCAL_CPPFLAGS = '-march=native -mtune=native')\n",
      "\n"
     ]
    }
   ],
   "source": [
    "library(rstan)\n",
    "library(ggplot2)\n",
    "\n",
    "# rstan設定\n",
    "rstan_options(auto_write = TRUE)\n",
    "options(ms.cores = parallel::detectCores())"
   ]
  },
  {
   "cell_type": "code",
   "execution_count": 5,
   "metadata": {},
   "outputs": [],
   "source": [
    "# 図示設定\n",
    "library(repr)\n",
    "# グラフのオプション\n",
    "options(repr.plot.width=14, repr.plot.height=6)"
   ]
  },
  {
   "cell_type": "markdown",
   "metadata": {},
   "source": [
    "## シミュレーションデータの作成"
   ]
  },
  {
   "cell_type": "code",
   "execution_count": 6,
   "metadata": {},
   "outputs": [],
   "source": [
    "# data\n",
    "n_sample <- 100 # サンプルサイズ\n",
    "y <- numeric(n_sample)  # 観測値\n",
    "\n",
    "# parameters\n",
    "\n",
    "# 状態の初期値\n",
    "mu_zero <- 100\n",
    "\n",
    "# 状態の推定値\n",
    "mu <- numeric(n_sample)\n",
    "\n",
    "# 過程誤差の分散\n",
    "s_w <- 1000\n",
    "\n",
    "# 観測誤差の分散\n",
    "s_v <- 5000"
   ]
  },
  {
   "cell_type": "code",
   "execution_count": 7,
   "metadata": {},
   "outputs": [],
   "source": [
    "# 分析対象となるデータをシミュレーションで作成する\n",
    "set.seed(1)\n",
    "\n",
    "# 状態の初期値から最初の時点の状態が得られる\n",
    "mu[1] <- rnorm(n=1, mean = mu_zero, sd = sqrt(s_w))\n",
    "\n",
    "# 状態方程式に伴い、状態が繊維する\n",
    "for(i in 2:n_sample){\n",
    "    mu[i] <- rnorm(n=1, mean=mu[i-1], sd=sqrt(s_w))\n",
    "}\n",
    "\n",
    "# 観測方程式に従い、観測地が得られる\n",
    "for(i in 1:n_sample){\n",
    "    y[i] <- rnorm(n=1, mean=mu[i], sd=sqrt(s_v))\n",
    "}"
   ]
  },
  {
   "cell_type": "markdown",
   "metadata": {},
   "source": [
    "- 1時点目の状態muは、状態の初期値mu_zeroに過程誤差が加わったもの\n",
    "- 2時点目以降の状態は、前時点の状態に過程誤差が加わったもの\n",
    "- 観測地は、同じ時点における状態に、観測誤差が加わったもの"
   ]
  },
  {
   "cell_type": "markdown",
   "metadata": {},
   "source": [
    "## Stanファイルの記述\n",
    "\n",
    "Stanは確立的プログラミング言語と呼ばれるものの一種。  \n",
    "- 「どの変数が、どのような確率分布に従って生成されているか」をそのまま記述して、モデルを構築することができる。  \n",
    "- データを確率変数としてみなし、確率変数の従う確率分布を推定したいとき、コードとして書くことができる。"
   ]
  },
  {
   "cell_type": "code",
   "execution_count": 9,
   "metadata": {},
   "outputs": [
    {
     "ename": "ERROR",
     "evalue": "Error in compileCode(f, code, language = language, verbose = verbose): Compilation ERROR, function(s)/method(s) not created! C:/rtools40/mingw64/bin/../lib/gcc/x86_64-w64-mingw32/8.3.0/../../../../x86_64-w64-mingw32/bin/ld.exe: file22787564e83.o:file22787564e83.cpp:(.text+0x6bc): undefined reference to `tbb::internal::task_scheduler_observer_v3::observe(bool)'\nC:/rtools40/mingw64/bin/../lib/gcc/x86_64-w64-mingw32/8.3.0/../../../../x86_64-w64-mingw32/bin/ld.exe: file22787564e83.o:file22787564e83.cpp:(.text+0x11f7): undefined reference to `rstan::stan_fit::stan_fit(SEXPREC*, int)'\nC:/rtools40/mingw64/bin/../lib/gcc/x86_64-w64-mingw32/8.3.0/../../../../x86_64-w64-mingw32/bin/ld.exe: file22787564e83.o:file22787564e83.cpp:(.text+0x6fe): undefined reference to `tbb::internal::task_scheduler_observer_v3::observe(bool)'\nC:/rtools40/mingw64/bin/../lib/gcc/x86_64-w64-mingw32/8.3.0/../../../../x86_64-w64-mingw32/bin/ld.exe: file22787564e83.o:file22787564e83.cpp:(.text$_ZN3tbb8internal26task_scheduler_observer_v3D1Ev[_ZN3tbb8internal26task_scheduler_observer_v3D1Ev]+0x14): undefined reference to `tbb::internal::task_scheduler_observer_v3::observe(bool)'\nC:/rtools40/mingw64/bin/../lib/gcc/x86_64-w64-mingw32/8.3.0/../../../../x86_64-w64-mingw32/bin/ld.exe: file22787564e83.o:file22787564e83.cpp:(.text$_ZN3tbb8internal26task_scheduler_observer_v3D0Ev[_ZN3tbb8internal26task_scheduler_observer_v3D0Ev]+0x1c): undefined reference to `tbb::internal::task_scheduler_observer_v3::observe(bool)'\nC:/rtools40/mingw64/bin/../lib/gcc/x86_64-w64-mingw32/8.3.0/../../../../x86_64-w64-mingw32/bin/ld.exe: file22787564e83.o:file22787564e83.cpp:(.text$_ZN4stan4math16ad_tape_observerD1Ev[_ZN4stan4math16ad_tape_observerD1Ev]+0x15): undefined reference to `tbb::internal::task_scheduler_observer_v3::observe(bool)'\nC:/rtools40/mingw64/bin/../lib/gcc/x86_64-w64-mingw32/8.3.0/../../../../x86_64-w64-mingw32/bin/ld.exe: file22787564e83.o:file22787564e83.cpp:(.text$_ZN4stan4math16ad_tape_observerD1Ev[_ZN4stan4math16ad_tape_observerD1Ev]+0x47): undefined reference to `tbb::internal::task_scheduler_observer_v3::observe(bool)'\nC:/rtools40/mingw64/bin/../lib/gcc/x86_64-w64-mingw32/8.3.0/../../../../x86_64-w64-mingw32/bin/ld.exe: file22787564e83.o:file22787564e83.cpp:(.text$_ZN4stan4math16ad_tape_observerD0Ev[_ZN4stan4math16ad_tape_observerD0Ev]+0x15): more undefined references to `tbb::internal::task_scheduler_observer_v3::observe(bool)' follow\ncollect2.exe: error: ld returned 1 exit status\n",
     "output_type": "error",
     "traceback": [
      "Error in compileCode(f, code, language = language, verbose = verbose): Compilation ERROR, function(s)/method(s) not created! C:/rtools40/mingw64/bin/../lib/gcc/x86_64-w64-mingw32/8.3.0/../../../../x86_64-w64-mingw32/bin/ld.exe: file22787564e83.o:file22787564e83.cpp:(.text+0x6bc): undefined reference to `tbb::internal::task_scheduler_observer_v3::observe(bool)'\nC:/rtools40/mingw64/bin/../lib/gcc/x86_64-w64-mingw32/8.3.0/../../../../x86_64-w64-mingw32/bin/ld.exe: file22787564e83.o:file22787564e83.cpp:(.text+0x11f7): undefined reference to `rstan::stan_fit::stan_fit(SEXPREC*, int)'\nC:/rtools40/mingw64/bin/../lib/gcc/x86_64-w64-mingw32/8.3.0/../../../../x86_64-w64-mingw32/bin/ld.exe: file22787564e83.o:file22787564e83.cpp:(.text+0x6fe): undefined reference to `tbb::internal::task_scheduler_observer_v3::observe(bool)'\nC:/rtools40/mingw64/bin/../lib/gcc/x86_64-w64-mingw32/8.3.0/../../../../x86_64-w64-mingw32/bin/ld.exe: file22787564e83.o:file22787564e83.cpp:(.text$_ZN3tbb8internal26task_scheduler_observer_v3D1Ev[_ZN3tbb8internal26task_scheduler_observer_v3D1Ev]+0x14): undefined reference to `tbb::internal::task_scheduler_observer_v3::observe(bool)'\nC:/rtools40/mingw64/bin/../lib/gcc/x86_64-w64-mingw32/8.3.0/../../../../x86_64-w64-mingw32/bin/ld.exe: file22787564e83.o:file22787564e83.cpp:(.text$_ZN3tbb8internal26task_scheduler_observer_v3D0Ev[_ZN3tbb8internal26task_scheduler_observer_v3D0Ev]+0x1c): undefined reference to `tbb::internal::task_scheduler_observer_v3::observe(bool)'\nC:/rtools40/mingw64/bin/../lib/gcc/x86_64-w64-mingw32/8.3.0/../../../../x86_64-w64-mingw32/bin/ld.exe: file22787564e83.o:file22787564e83.cpp:(.text$_ZN4stan4math16ad_tape_observerD1Ev[_ZN4stan4math16ad_tape_observerD1Ev]+0x15): undefined reference to `tbb::internal::task_scheduler_observer_v3::observe(bool)'\nC:/rtools40/mingw64/bin/../lib/gcc/x86_64-w64-mingw32/8.3.0/../../../../x86_64-w64-mingw32/bin/ld.exe: file22787564e83.o:file22787564e83.cpp:(.text$_ZN4stan4math16ad_tape_observerD1Ev[_ZN4stan4math16ad_tape_observerD1Ev]+0x47): undefined reference to `tbb::internal::task_scheduler_observer_v3::observe(bool)'\nC:/rtools40/mingw64/bin/../lib/gcc/x86_64-w64-mingw32/8.3.0/../../../../x86_64-w64-mingw32/bin/ld.exe: file22787564e83.o:file22787564e83.cpp:(.text$_ZN4stan4math16ad_tape_observerD0Ev[_ZN4stan4math16ad_tape_observerD0Ev]+0x15): more undefined references to `tbb::internal::task_scheduler_observer_v3::observe(bool)' follow\ncollect2.exe: error: ld returned 1 exit status\nTraceback:\n",
      "1. stan(file = \"6-3-local-level-model.stan\", data = data_sim, iter = 550, \n .     warmup = 50, thin = 1, chains = 4, seed = 1)",
      "2. stan_model(file, model_name = model_name, model_code = model_code, \n .     stanc_ret = NULL, boost_lib = boost_lib, eigen_lib = eigen_lib, \n .     save_dso = save_dso, verbose = verbose)",
      "3. cxxfunctionplus(signature(), body = paste(\" return Rcpp::wrap(\\\"\", \n .     model_name, \"\\\");\", sep = \"\"), includes = inc, plugin = \"rstan\", \n .     save_dso = save_dso | auto_write, module_name = paste(\"stan_fit4\", \n .         model_cppname, \"_mod\", sep = \"\"), verbose = verbose)",
      "4. pkgbuild::with_build_tools(cxxfunction(sig = sig, body = body, \n .     plugin = plugin, includes = includes, settings = settings, \n .     ..., verbose = verbose), required = rstan_options(\"required\") && \n .     !identical(Sys.getenv(\"WINDOWS\"), \"TRUE\") && !identical(Sys.getenv(\"R_PACKAGE_SOURCE\"), \n .     \"\"))",
      "5. withr::with_path(rtools_path(), code)",
      "6. force(code)",
      "7. cxxfunction(sig = sig, body = body, plugin = plugin, includes = includes, \n .     settings = settings, ..., verbose = verbose)",
      "8. compileCode(f, code, language = language, verbose = verbose)",
      "9. stop(paste(\"Compilation ERROR, function(s)/method(s) not created!\", \n .     paste(errmsg, collapse = \"\\n\")))"
     ]
    },
    {
     "ename": "ERROR",
     "evalue": "Error in sink(type = \"output\"):  コネクションが不正です \n",
     "output_type": "error",
     "traceback": [
      "Error in sink(type = \"output\"):  コネクションが不正です \nTraceback:\n",
      "1. stan(file = \"6-3-local-level-model.stan\", data = data_sim, iter = 550, \n .     warmup = 50, thin = 1, chains = 4, seed = 1)",
      "2. stan_model(file, model_name = model_name, model_code = model_code, \n .     stanc_ret = NULL, boost_lib = boost_lib, eigen_lib = eigen_lib, \n .     save_dso = save_dso, verbose = verbose)",
      "3. cxxfunctionplus(signature(), body = paste(\" return Rcpp::wrap(\\\"\", \n .     model_name, \"\\\");\", sep = \"\"), includes = inc, plugin = \"rstan\", \n .     save_dso = save_dso | auto_write, module_name = paste(\"stan_fit4\", \n .         model_cppname, \"_mod\", sep = \"\"), verbose = verbose)",
      "4. sink(type = \"output\")"
     ]
    }
   ],
   "source": [
    "# データの準備\n",
    "data_sim <- list(y = y, n_sample = n_sample)\n",
    "\n",
    "# モデルの推定\n",
    "fit_stan_1 <- stan(\n",
    "    file = \"6-3-local-level-model.stan\",\n",
    "    data = data_sim,\n",
    "    iter = 550,\n",
    "    warmup = 50,\n",
    "    thin = 1,\n",
    "    chains = 4,\n",
    "    seed = 1\n",
    ")"
   ]
  },
  {
   "cell_type": "code",
   "execution_count": null,
   "metadata": {},
   "outputs": [],
   "source": [
    "library(rstan)\n",
    "example(stan_model, run.dontrun = TRUE)"
   ]
  },
  {
   "cell_type": "code",
   "execution_count": null,
   "metadata": {},
   "outputs": [],
   "source": [
    "# 出力の結果と収束の判定\n",
    "# 得られた乱数の要約をみた\n",
    "\n",
    "options(max.print=10000)\n",
    "print(fit_stan_1)"
   ]
  },
  {
   "cell_type": "code",
   "execution_count": null,
   "metadata": {},
   "outputs": [],
   "source": [
    "print(fit_planer)"
   ]
  },
  {
   "cell_type": "code",
   "execution_count": null,
   "metadata": {},
   "outputs": [],
   "source": [
    "print(\n",
    "    fit_stan_1, # 推定結果\n",
    "    digits = 1, # 小数点桁数\n",
    "    pars = c(\"s_w\", \"s_w\", \"lp__\"),  # 表示するパラメタ\n",
    "    probs = c(0.025, 0.5, 0.975)  # 区間幅の設定\n",
    ")"
   ]
  },
  {
   "cell_type": "code",
   "execution_count": null,
   "metadata": {},
   "outputs": [],
   "source": [
    "traceplot(fit_stan_1, pars = c(\"s_w\", \"s_v\"))"
   ]
  },
  {
   "cell_type": "code",
   "execution_count": null,
   "metadata": {},
   "outputs": [],
   "source": []
  }
 ],
 "metadata": {
  "kernelspec": {
   "display_name": "R",
   "language": "R",
   "name": "ir"
  },
  "language_info": {
   "codemirror_mode": "r",
   "file_extension": ".r",
   "mimetype": "text/x-r-source",
   "name": "R",
   "pygments_lexer": "r",
   "version": "4.0.2"
  }
 },
 "nbformat": 4,
 "nbformat_minor": 4
}
