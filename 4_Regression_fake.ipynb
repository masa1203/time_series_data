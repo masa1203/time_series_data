{
 "cells": [
  {
   "cell_type": "markdown",
   "metadata": {},
   "source": [
    "# 見せかけの回帰とその対策\n",
    "\n",
    "回帰分析を時系列データに適用した場合、関係ないはずなのに回帰が見られてしまうことがある。  "
   ]
  },
  {
   "cell_type": "code",
   "execution_count": 1,
   "metadata": {},
   "outputs": [],
   "source": [
    "# install.packages(\"ggplot2\")\n",
    "# install.packages(\"prais\")"
   ]
  },
  {
   "cell_type": "code",
   "execution_count": 2,
   "metadata": {},
   "outputs": [
    {
     "name": "stderr",
     "output_type": "stream",
     "text": [
      "Loading required package: zoo\n",
      "\n",
      "\n",
      "Attaching package: 'zoo'\n",
      "\n",
      "\n",
      "The following objects are masked from 'package:base':\n",
      "\n",
      "    as.Date, as.Date.numeric\n",
      "\n",
      "\n"
     ]
    }
   ],
   "source": [
    "# パッケージの読み込み\n",
    "library(urca)\n",
    "library(lmtest)\n",
    "library(prais)\n",
    "library(ggplot2)\n",
    "library(ggfortify)\n",
    "library(gridExtra)\n",
    "library(repr)\n",
    "\n",
    "# グラフのオプション\n",
    "options(repr.plot.width=14, repr.plot.height=6)"
   ]
  },
  {
   "cell_type": "markdown",
   "metadata": {},
   "source": [
    "## ホワイトノイズへの回帰分析\n",
    "\n",
    "説明変数、目的変数にホワイトノイズを与えたとき(まったく関係ないデータ同士)を回帰分析にかけると、有意な係数は得られないはず。"
   ]
  },
  {
   "cell_type": "code",
   "execution_count": 3,
   "metadata": {},
   "outputs": [
    {
     "data": {
      "text/plain": [
       "               _                           \n",
       "platform       x86_64-w64-mingw32          \n",
       "arch           x86_64                      \n",
       "os             mingw32                     \n",
       "system         x86_64, mingw32             \n",
       "status                                     \n",
       "major          4                           \n",
       "minor          0.2                         \n",
       "year           2020                        \n",
       "month          06                          \n",
       "day            22                          \n",
       "svn rev        78730                       \n",
       "language       R                           \n",
       "version.string R version 4.0.2 (2020-06-22)\n",
       "nickname       Taking Off Again            "
      ]
     },
     "metadata": {},
     "output_type": "display_data"
    }
   ],
   "source": [
    "R.version"
   ]
  },
  {
   "cell_type": "code",
   "execution_count": 4,
   "metadata": {},
   "outputs": [],
   "source": [
    "# 1回のシミュレーションにおけるサンプルサイズ\n",
    "\n",
    "n_sample <- 400\n",
    "\n",
    "# 乱数の種\n",
    "\n",
    "set.seed(1)\n",
    "\n",
    "# シミュレーションデータの作成\n",
    "y_wn <- rnorm(n = n_sample)\n",
    "\n",
    "x_wn <- rnorm(n = n_sample)"
   ]
  },
  {
   "cell_type": "code",
   "execution_count": 5,
   "metadata": {},
   "outputs": [],
   "source": [
    "# 回帰分析にかける\n",
    "mod_ols_wn <- lm(y_wn ~ x_wn)"
   ]
  },
  {
   "cell_type": "code",
   "execution_count": 6,
   "metadata": {},
   "outputs": [
    {
     "data": {
      "text/plain": [
       "\n",
       "Call:\n",
       "lm(formula = y_wn ~ x_wn)\n",
       "\n",
       "Residuals:\n",
       "     Min       1Q   Median       3Q      Max \n",
       "-2.91553 -0.60756 -0.06449  0.65797  2.64718 \n",
       "\n",
       "Coefficients:\n",
       "            Estimate Std. Error t value Pr(>|t|)\n",
       "(Intercept)  0.03993    0.04862   0.821    0.412\n",
       "x_wn         0.02605    0.04500   0.579    0.563\n",
       "\n",
       "Residual standard error: 0.9704 on 398 degrees of freedom\n",
       "Multiple R-squared:  0.0008414,\tAdjusted R-squared:  -0.001669 \n",
       "F-statistic: 0.3352 on 1 and 398 DF,  p-value: 0.563\n"
      ]
     },
     "metadata": {},
     "output_type": "display_data"
    }
   ],
   "source": [
    "# 計算結果の確認\n",
    "summary(mod_ols_wn)"
   ]
  },
  {
   "cell_type": "markdown",
   "metadata": {},
   "source": [
    "- Residuals: 残差の最大値・最小値など\n",
    "- Coefficients: 推定された係数一覧\n",
    "- p値は帰無仮説を「係数が0である」としたときのp値\n",
    "- Multiple R-squared: 決定係数R^2\n",
    "- Adjusted R-squared: 自由度調整済み決定係数\n",
    "\n",
    "今回はp値が0.563なので帰無仮説は棄却され、有意な回帰係数は得られない、という結果になった。"
   ]
  },
  {
   "cell_type": "markdown",
   "metadata": {},
   "source": [
    "## 単位根のあるデータ同士の回帰分析\n",
    "\n",
    "単位根のあるデータで回帰分析を行うとどうなるか。  \n",
    "ホワイトノイズの累積和として、ランダムウォーク過程をシミュレートする。  \n",
    "\n",
    "cumsumは累積和をとる関数  \n",
    "[1,2,3] ⇒ [1, 1+2, 1+2+3] ⇒ [1,3,6]"
   ]
  },
  {
   "cell_type": "code",
   "execution_count": 7,
   "metadata": {},
   "outputs": [],
   "source": [
    "# 乱数種の指定\n",
    "set.seed(1)\n",
    "\n",
    "# ランダムウォークするデータ\n",
    "y_rw <- cumsum(rnorm(n = n_sample))\n",
    "x_rw <- cumsum(rnorm(n = n_sample))"
   ]
  },
  {
   "cell_type": "code",
   "execution_count": 8,
   "metadata": {},
   "outputs": [
    {
     "data": {
      "text/plain": [
       "\n",
       "Call:\n",
       "lm(formula = y_rw ~ x_rw)\n",
       "\n",
       "Residuals:\n",
       "    Min      1Q  Median      3Q     Max \n",
       "-9.1820 -3.0629  0.4445  2.6711  8.3003 \n",
       "\n",
       "Coefficients:\n",
       "            Estimate Std. Error t value Pr(>|t|)    \n",
       "(Intercept)  5.40661    0.29876   18.10   <2e-16 ***\n",
       "x_rw        -0.28189    0.01738  -16.22   <2e-16 ***\n",
       "---\n",
       "Signif. codes:  0 '***' 0.001 '**' 0.01 '*' 0.05 '.' 0.1 ' ' 1\n",
       "\n",
       "Residual standard error: 3.622 on 398 degrees of freedom\n",
       "Multiple R-squared:  0.398,\tAdjusted R-squared:  0.3965 \n",
       "F-statistic: 263.1 on 1 and 398 DF,  p-value: < 2.2e-16\n"
      ]
     },
     "metadata": {},
     "output_type": "display_data"
    }
   ],
   "source": [
    "# モデルの構築\n",
    "mod_ols_rw <- lm(y_rw ~ x_rw)\n",
    "\n",
    "# 結果の表示\n",
    "summary(mod_ols_rw)"
   ]
  },
  {
   "cell_type": "markdown",
   "metadata": {},
   "source": [
    "- p値がとんでもなく小さくなり、有意な回帰係数が得られてしまった。\n",
    "- 決定係数も0.4近くとなっており、比較的大きな値になってしまった。"
   ]
  },
  {
   "cell_type": "markdown",
   "metadata": {},
   "source": [
    "**まったく関係のないランダムウォーク系列を回帰分析にかけると、有意な回帰係数が得られかつ比較的高い説明力をゆうしたモデルが推定されてしまった。** ⇒ **見せかけの回帰**"
   ]
  },
  {
   "cell_type": "markdown",
   "metadata": {},
   "source": [
    "データを図示して確認してみる。"
   ]
  },
  {
   "cell_type": "code",
   "execution_count": 9,
   "metadata": {},
   "outputs": [
    {
     "name": "stderr",
     "output_type": "stream",
     "text": [
      "`geom_smooth()` using formula 'y ~ x'\n",
      "\n",
      "`geom_smooth()` using formula 'y ~ x'\n",
      "\n"
     ]
    },
    {
     "data": {
      "image/png": "[encoded data removed]",
      "text/plain": [
       "plot without title"
      ]
     },
     "metadata": {
      "image/png": {
       "height": 360,
       "width": 840
      }
     },
     "output_type": "display_data"
    }
   ],
   "source": [
    "# データの整形\n",
    "df_wn <- data.frame(x_wn = x_wn, y_wn = y_wn)\n",
    "df_rw <- data.frame(x_rw = x_rw, y_rw = y_rw)\n",
    "\n",
    "# ggplot2による図示\n",
    "# ホワイトノイズ系列の回帰\n",
    "p_wn <- ggplot(df_wn, aes(x=x_wn, y=y_wn)) + # 外枠\n",
    "    geom_point() + # 散布図の追加\n",
    "    geom_smooth(method=\"lm\", colour=1) + # 回帰直線の追加\n",
    "    ggtitle(\"White-Noise\")  # グラフタイトル\n",
    "\n",
    "# ランダムウォーク系列の回帰\n",
    "p_rw <- ggplot(df_rw, aes(x=x_rw, y=y_rw)) + # 外枠\n",
    "    geom_point() + # 散布図の追加\n",
    "    geom_smooth(method=\"lm\", colour=1) + # 回帰直線の追加\n",
    "    ggtitle(\"Random-Walk\")  # グラフタイトル\n",
    "\n",
    "# グラフの表示\n",
    "# gridExtraパッケージのgrid.arrange関数を使う\n",
    "grid.arrange(p_wn, p_rw, ncol=2)"
   ]
  },
  {
   "cell_type": "markdown",
   "metadata": {},
   "source": [
    "- ホワイトノイズ同士の散布図はデータがきれいにばらついている。\n",
    "- ランダムウォーク系列同士の散布図は狭い箇所にデータが固まっていてホワイトノイズと明らかに異なる形状をいている。"
   ]
  },
  {
   "cell_type": "markdown",
   "metadata": {},
   "source": [
    "## 定常AR過程への回帰分析\n",
    "\n",
    "単位根過程ではなく、定常AR過程に下月シミュレーションデータを作成して、回帰分析を実行してみる。"
   ]
  },
  {
   "cell_type": "code",
   "execution_count": 10,
   "metadata": {},
   "outputs": [],
   "source": [
    "# 乱数の指定\n",
    "set.seed(2)\n",
    "\n",
    "# 定常AR過程に従うデータ\n",
    "y_ar <- arima.sim(\n",
    "    n = n_sample,\n",
    "    model = list(order = c(1,0,0), ar = c(0.8))\n",
    ")\n",
    "\n",
    "x_ar <- arima.sim(\n",
    "    n = n_sample,\n",
    "    model = list(order = c(1,0,0), ar = c(0.8))\n",
    ")"
   ]
  },
  {
   "cell_type": "markdown",
   "metadata": {},
   "source": [
    "- arima.sim: ARIMA過程に従うシミュレーションデータを作成する関数。\n",
    "- ARはARIMA(1,0,0)で係数0.8"
   ]
  },
  {
   "cell_type": "code",
   "execution_count": 11,
   "metadata": {},
   "outputs": [
    {
     "data": {
      "text/plain": [
       "\n",
       "Call:\n",
       "lm(formula = y_ar ~ x_ar)\n",
       "\n",
       "Residuals:\n",
       "    Min      1Q  Median      3Q     Max \n",
       "-4.8320 -1.3404  0.0591  1.2246  4.6444 \n",
       "\n",
       "Coefficients:\n",
       "            Estimate Std. Error t value Pr(>|t|)    \n",
       "(Intercept)  0.47574    0.08906   5.342 1.55e-07 ***\n",
       "x_ar        -0.13483    0.04938  -2.731   0.0066 ** \n",
       "---\n",
       "Signif. codes:  0 '***' 0.001 '**' 0.01 '*' 0.05 '.' 0.1 ' ' 1\n",
       "\n",
       "Residual standard error: 1.754 on 398 degrees of freedom\n",
       "Multiple R-squared:  0.01839,\tAdjusted R-squared:  0.01592 \n",
       "F-statistic: 7.456 on 1 and 398 DF,  p-value: 0.006604\n"
      ]
     },
     "metadata": {},
     "output_type": "display_data"
    }
   ],
   "source": [
    "# 回帰分析の結果\n",
    "mod_ols_ar <- lm(y_ar ~ x_ar)\n",
    "\n",
    "# 結果の表示\n",
    "summary(mod_ols_ar)"
   ]
  },
  {
   "cell_type": "markdown",
   "metadata": {},
   "source": [
    "これもp値が0.05以下となっていまい、有意な回帰係数が得られてしまった。  \n",
    "これも**見せかけの回帰** となった。"
   ]
  },
  {
   "cell_type": "markdown",
   "metadata": {},
   "source": [
    "## 残差の自己相関と見せかけの回帰\n",
    "\n",
    "- 見せかけの回帰が起こってしまう大きな理由が「残差に自己相関がある」ため。\n",
    "- **「残差に自己相関があると、最小二乗推定量における有効性が失われることが知られている」**\n",
    "    - 推定されたパラメータが「最も分散が小さい推定量である」という保証が得られなくなってしまう。\n",
    "\n",
    "- 自己相関がある場合:\n",
    "    - 係数の分散を過少推定してしまう。\n",
    "    - 決定係数R^2が過大となる。\n",
    "    - 係数のt検定が使えなくなる。"
   ]
  },
  {
   "cell_type": "markdown",
   "metadata": {},
   "source": [
    "## Durbin-Watson検定(残差の自己相関の有無を調べる方法)\n",
    "\n",
    "- 線形回帰分析の結果に対して自己相関の有無を検定する場合は、**Durbin-Watson(DW)検定** を使用することが多い。\n",
    "- 残差の1次の自己相関が0であった場合は、DW統計量はおよそ2になる\n",
    "- DWから2から離れているかを見れば、自己相関がどれくらいあるのかわかる"
   ]
  },
  {
   "cell_type": "code",
   "execution_count": 12,
   "metadata": {},
   "outputs": [
    {
     "data": {
      "text/html": [
       "0.0802125910699292"
      ],
      "text/latex": [
       "0.0802125910699292"
      ],
      "text/markdown": [
       "0.0802125910699292"
      ],
      "text/plain": [
       "[1] 0.08021259"
      ]
     },
     "metadata": {},
     "output_type": "display_data"
    }
   ],
   "source": [
    "# DW統計量\n",
    "resid_ols <- mod_ols_rw$residuals\n",
    "dw <- sum(diff(resid_ols)^2) / sum((resid_ols)^2)\n",
    "dw"
   ]
  },
  {
   "cell_type": "markdown",
   "metadata": {},
   "source": [
    "DWが2よりかなり小さいので自己相関が残っていることがわかる。  \n",
    "\n",
    "サンプルサイズと推定されたパラメタ数がわかれば、棄却点が計算できるため、DW統計量から残差の自己相関の検定を行うことができる。\n",
    "DW検定の帰無仮説は**自己相関が0である**"
   ]
  },
  {
   "cell_type": "code",
   "execution_count": 13,
   "metadata": {},
   "outputs": [
    {
     "data": {
      "text/plain": [
       "\n",
       "\tDurbin-Watson test\n",
       "\n",
       "data:  mod_ols_wn\n",
       "DW = 2.0935, p-value = 0.8261\n",
       "alternative hypothesis: true autocorrelation is greater than 0\n"
      ]
     },
     "metadata": {},
     "output_type": "display_data"
    },
    {
     "data": {
      "text/plain": [
       "\n",
       "\tDurbin-Watson test\n",
       "\n",
       "data:  mod_ols_rw\n",
       "DW = 0.080213, p-value < 2.2e-16\n",
       "alternative hypothesis: true autocorrelation is greater than 0\n"
      ]
     },
     "metadata": {},
     "output_type": "display_data"
    },
    {
     "data": {
      "text/plain": [
       "\n",
       "\tDurbin-Watson test\n",
       "\n",
       "data:  mod_ols_ar\n",
       "DW = 0.3874, p-value < 2.2e-16\n",
       "alternative hypothesis: true autocorrelation is greater than 0\n"
      ]
     },
     "metadata": {},
     "output_type": "display_data"
    }
   ],
   "source": [
    "# ホワイトノイズについてDW検定\n",
    "dwtest(mod_ols_wn)\n",
    "\n",
    "# ランダムウォークについてDW検定\n",
    "dwtest(mod_ols_rw)\n",
    "\n",
    "# AR(1)過程についてDW検定\n",
    "dwtest(mod_ols_ar)"
   ]
  },
  {
   "cell_type": "markdown",
   "metadata": {},
   "source": [
    "確かにホワイトノイズは自己相関がみられないので2に近い値となった。  \n",
    "ランダムウォーク、AR過程は自己相関がありそうなことがわかった。"
   ]
  },
  {
   "cell_type": "markdown",
   "metadata": {},
   "source": [
    "## シミュレーションによる見せかけの回帰\n",
    "見せかけの回帰が、どのくらいの頻度で発生するのんかをシミュレーションで確認する。  \n",
    "\n",
    "種々の回帰分析のP値を取得して、p値が小さいものをカウントする。"
   ]
  },
  {
   "cell_type": "code",
   "execution_count": 14,
   "metadata": {},
   "outputs": [
    {
     "data": {
      "text/html": [
       "<table>\n",
       "<caption>A matrix: 2 × 4 of type dbl</caption>\n",
       "<thead>\n",
       "\t<tr><th></th><th scope=col>Estimate</th><th scope=col>Std. Error</th><th scope=col>t value</th><th scope=col>Pr(&gt;|t|)</th></tr>\n",
       "</thead>\n",
       "<tbody>\n",
       "\t<tr><th scope=row>(Intercept)</th><td>0.03993162</td><td>0.04862201</td><td>0.8212663</td><td>0.4119863</td></tr>\n",
       "\t<tr><th scope=row>x_wn</th><td>0.02605077</td><td>0.04499733</td><td>0.5789403</td><td>0.5629569</td></tr>\n",
       "</tbody>\n",
       "</table>\n"
      ],
      "text/latex": [
       "A matrix: 2 × 4 of type dbl\n",
       "\\begin{tabular}{r|llll}\n",
       "  & Estimate & Std. Error & t value & Pr(>\\textbar{}t\\textbar{})\\\\\n",
       "\\hline\n",
       "\t(Intercept) & 0.03993162 & 0.04862201 & 0.8212663 & 0.4119863\\\\\n",
       "\tx\\_wn & 0.02605077 & 0.04499733 & 0.5789403 & 0.5629569\\\\\n",
       "\\end{tabular}\n"
      ],
      "text/markdown": [
       "\n",
       "A matrix: 2 × 4 of type dbl\n",
       "\n",
       "| <!--/--> | Estimate | Std. Error | t value | Pr(&gt;|t|) |\n",
       "|---|---|---|---|---|\n",
       "| (Intercept) | 0.03993162 | 0.04862201 | 0.8212663 | 0.4119863 |\n",
       "| x_wn | 0.02605077 | 0.04499733 | 0.5789403 | 0.5629569 |\n",
       "\n"
      ],
      "text/plain": [
       "            Estimate   Std. Error t value   Pr(>|t|) \n",
       "(Intercept) 0.03993162 0.04862201 0.8212663 0.4119863\n",
       "x_wn        0.02605077 0.04499733 0.5789403 0.5629569"
      ]
     },
     "metadata": {},
     "output_type": "display_data"
    },
    {
     "data": {
      "text/html": [
       "0.562956943928493"
      ],
      "text/latex": [
       "0.562956943928493"
      ],
      "text/markdown": [
       "0.562956943928493"
      ],
      "text/plain": [
       "[1] 0.5629569"
      ]
     },
     "metadata": {},
     "output_type": "display_data"
    }
   ],
   "source": [
    "# p値を取得するには\n",
    "summary(mod_ols_wn)$coefficients\n",
    "\n",
    "# これで取得できる\n",
    "summary(mod_ols_wn)$coefficients[\"x_wn\", \"Pr(>|t|)\"]"
   ]
  },
  {
   "cell_type": "code",
   "execution_count": 15,
   "metadata": {},
   "outputs": [],
   "source": [
    "# シミュレーションの回数\n",
    "n_sim <- 200\n",
    "\n",
    "# 1度のシミュレーションにおけるサンプルサイズ\n",
    "n_sample <- 400\n",
    "\n",
    "# p値を格納する変数\n",
    "p_wn = numeric(n_sim)\n",
    "p_rw = numeric(n_sim)"
   ]
  },
  {
   "cell_type": "code",
   "execution_count": 16,
   "metadata": {},
   "outputs": [
    {
     "data": {
      "text/html": [
       "0.055"
      ],
      "text/latex": [
       "0.055"
      ],
      "text/markdown": [
       "0.055"
      ],
      "text/plain": [
       "[1] 0.055"
      ]
     },
     "metadata": {},
     "output_type": "display_data"
    },
    {
     "data": {
      "text/html": [
       "0.85"
      ],
      "text/latex": [
       "0.85"
      ],
      "text/markdown": [
       "0.85"
      ],
      "text/plain": [
       "[1] 0.85"
      ]
     },
     "metadata": {},
     "output_type": "display_data"
    }
   ],
   "source": [
    "# シミュレーションの実行\n",
    "set.seed(1)\n",
    "\n",
    "for(i in 1:n_sim){\n",
    "    # 自己相関のないシミュレーションデータ\n",
    "    y_wn <- rnorm(n = n_sample)\n",
    "    x_wn <- rnorm(n = n_sample)\n",
    "    \n",
    "    # 線形回帰分析の実行\n",
    "    mod_wn <- lm(y_wn ~ x_wn)\n",
    "    # p値を保尊\n",
    "    p_wn[i] <- summary(mod_wn)$coefficients[\"x_wn\", \"Pr(>|t|)\"]\n",
    "\n",
    "    # ランダムウォークのシミュレーションデータ\n",
    "    y_rw <- cumsum(rnorm(n = n_sample))\n",
    "    x_rw <- cumsum(rnorm(n = n_sample))\n",
    "    \n",
    "    # 線形回帰分析の実行\n",
    "    mod_rw <- lm(y_rw ~ x_rw)\n",
    "    # p値を保尊\n",
    "    p_rw[i] <- summary(mod_rw)$coefficients[\"x_rw\", \"Pr(>|t|)\"]\n",
    "\n",
    "}\n",
    "\n",
    "# p値が0.05以下のものをカウント\n",
    "# ホワイトノイズ\n",
    "sum(p_wn < 0.05) / n_sim\n",
    "\n",
    "# ランダムウォーク\n",
    "sum(p_rw < 0.05) / n_sim"
   ]
  },
  {
   "cell_type": "markdown",
   "metadata": {},
   "source": [
    "- ホワイトノイズ系列は0.055となった\n",
    "    - 理論上は5%の割合で有意となるはずなので理論値に近い値となった。\n",
    "- ランダムォーク系列は0.85となった\n",
    "    - 85％もの割合で有意な回帰係数が得られてしまった。\n",
    "\n",
    "ランダムォーク系列に対して回帰分析を実行すると、高い割合で見せかけの回帰が引き起こされてしまう。"
   ]
  },
  {
   "cell_type": "markdown",
   "metadata": {},
   "source": [
    "## 見せかけの回帰を防ぐ方法\n",
    "\n",
    "- 過去のデータをモデルに組込み、データの持つ自己相関を表現するモデルを作るというのが最も良い方法\n",
    "    - GLS, ARIMAX, VAR, 状態空間モデル\n",
    "\n",
    "- 単位根を持つデータであった場合は、差分系列へ回帰分析を実行する\n",
    "- 差分をとる方法は簡単だが、問題もある。"
   ]
  },
  {
   "cell_type": "markdown",
   "metadata": {},
   "source": [
    "## 単位根検定\n",
    "\n",
    "urcaパッケージのur.df関数を使用してADF検定をためしてみる。"
   ]
  },
  {
   "cell_type": "code",
   "execution_count": 17,
   "metadata": {},
   "outputs": [
    {
     "data": {
      "text/plain": [
       "\n",
       "############################################### \n",
       "# Augmented Dickey-Fuller Test Unit Root Test # \n",
       "############################################### \n",
       "\n",
       "Test regression none \n",
       "\n",
       "\n",
       "Call:\n",
       "lm(formula = z.diff ~ z.lag.1 - 1 + z.diff.lag)\n",
       "\n",
       "Residuals:\n",
       "     Min       1Q   Median       3Q      Max \n",
       "-2.69362 -0.76935 -0.01875  0.61984  3.10863 \n",
       "\n",
       "Coefficients:\n",
       "            Estimate Std. Error t value Pr(>|t|)\n",
       "z.lag.1    -0.007932   0.008430  -0.941    0.347\n",
       "z.diff.lag -0.037636   0.050540  -0.745    0.457\n",
       "\n",
       "Residual standard error: 1 on 396 degrees of freedom\n",
       "Multiple R-squared:  0.004097,\tAdjusted R-squared:  -0.0009326 \n",
       "F-statistic: 0.8146 on 2 and 396 DF,  p-value: 0.4436\n",
       "\n",
       "\n",
       "Value of test-statistic is: -0.9409 \n",
       "\n",
       "Critical values for test statistics: \n",
       "      1pct  5pct 10pct\n",
       "tau1 -2.58 -1.95 -1.62\n"
      ]
     },
     "metadata": {},
     "output_type": "display_data"
    },
    {
     "data": {
      "text/plain": [
       "\n",
       "############################################### \n",
       "# Augmented Dickey-Fuller Test Unit Root Test # \n",
       "############################################### \n",
       "\n",
       "Test regression none \n",
       "\n",
       "\n",
       "Call:\n",
       "lm(formula = z.diff ~ z.lag.1 - 1 + z.diff.lag)\n",
       "\n",
       "Residuals:\n",
       "    Min      1Q  Median      3Q     Max \n",
       "-2.4968 -0.6984  0.0219  0.8117  3.0420 \n",
       "\n",
       "Coefficients:\n",
       "             Estimate Std. Error t value Pr(>|t|)\n",
       "z.lag.1    -0.0008817  0.0030911  -0.285    0.776\n",
       "z.diff.lag -0.0148436  0.0501355  -0.296    0.767\n",
       "\n",
       "Residual standard error: 1.04 on 396 degrees of freedom\n",
       "Multiple R-squared:  0.0004466,\tAdjusted R-squared:  -0.004602 \n",
       "F-statistic: 0.08847 on 2 and 396 DF,  p-value: 0.9153\n",
       "\n",
       "\n",
       "Value of test-statistic is: -0.2852 \n",
       "\n",
       "Critical values for test statistics: \n",
       "      1pct  5pct 10pct\n",
       "tau1 -2.58 -1.95 -1.62\n"
      ]
     },
     "metadata": {},
     "output_type": "display_data"
    }
   ],
   "source": [
    "# ランダムウォークへのADF検定\n",
    "# y\n",
    "summary(ur.df(y_rw, type = \"none\"))\n",
    "# x\n",
    "summary(ur.df(x_rw, type = \"none\"))"
   ]
  },
  {
   "cell_type": "markdown",
   "metadata": {},
   "source": [
    "## 一般化最小二乗法\n",
    "\n",
    "自己相関をもつデータに対しては普通の最小二乗法(Ordinary Least Squares: OLS)ではなく、  \n",
    "**一般化最小二乗法(Generalized Least Squares: GLS)** を使う。  \n",
    "\n",
    "**Pris-Winston法** を使って**実行可能(Feasible)一般化最小二乗法:FGLS** と呼ぶ。  \n",
    "単回帰モデルをOLSで推定し、その残差を求めてみる。"
   ]
  },
  {
   "cell_type": "code",
   "execution_count": 18,
   "metadata": {},
   "outputs": [],
   "source": [
    "# 定常AR(1)過程に従うデータをOLSでモデル化\n",
    "mod_ols_ar <- lm(y_ar ~ x_ar)\n",
    "\n",
    "# 残差\n",
    "resid_ols_ar <- mod_ols_ar$residuals"
   ]
  },
  {
   "cell_type": "code",
   "execution_count": 19,
   "metadata": {},
   "outputs": [
    {
     "data": {
      "text/html": [
       "0.807825296597714"
      ],
      "text/latex": [
       "0.807825296597714"
      ],
      "text/markdown": [
       "0.807825296597714"
      ],
      "text/plain": [
       "[1] 0.8078253"
      ]
     },
     "metadata": {},
     "output_type": "display_data"
    }
   ],
   "source": [
    "# 残差に対して再度OLSを用いて残差の自己相関を表すρを求める\n",
    "mod_resid <- lm(resid_ols_ar[-1] ~ resid_ols_ar[-n_sample] - 1)\n",
    "\n",
    "ro <- as.numeric(mod_resid$coefficients)\n",
    "\n",
    "ro"
   ]
  },
  {
   "cell_type": "markdown",
   "metadata": {},
   "source": [
    "- resid_ols_ar[-1]: 1番めのデータを取り除いた残差\n",
    "- resid_ols_ar[-n_sample]: 最後のデータを取り除いた残差\n",
    "- [-1]を追加すると切片がない回帰モデルを構築する"
   ]
  },
  {
   "cell_type": "code",
   "execution_count": 20,
   "metadata": {},
   "outputs": [],
   "source": [
    "# 初期時点のデータ\n",
    "y_trans_1 <- sqrt(1 - ro^2)*y_ar[1]\n",
    "x_trans_1 <- sqrt(1 - ro^2)*x_ar[1]\n",
    "psi_trans_1 <- sqrt(1 - ro^2)"
   ]
  },
  {
   "cell_type": "code",
   "execution_count": 21,
   "metadata": {},
   "outputs": [],
   "source": [
    "# 2 ~ 399時点のデータを変換\n",
    "y_trans_2 <- y_ar[-1] - ro*y_ar[-n_sample]\n",
    "x_trans_2 <- x_ar[-1] - ro*x_ar[-n_sample]\n",
    "psi_trans_2 <- rep(1 - ro, n_sample-1)"
   ]
  },
  {
   "cell_type": "code",
   "execution_count": 22,
   "metadata": {},
   "outputs": [],
   "source": [
    "# 両者をベクトルとして結合する\n",
    "y_trans_all <- c(y_trans_1, y_trans_2)\n",
    "x_trans_all <- c(x_trans_1, x_trans_2)\n",
    "psi_trans_all <- c(psi_trans_1, psi_trans_2)"
   ]
  },
  {
   "cell_type": "code",
   "execution_count": 23,
   "metadata": {},
   "outputs": [
    {
     "data": {
      "text/plain": [
       "\n",
       "Call:\n",
       "lm(formula = y_trans_all ~ psi_trans_all + x_trans_all - 1)\n",
       "\n",
       "Residuals:\n",
       "     Min       1Q   Median       3Q      Max \n",
       "-2.80161 -0.72467 -0.01121  0.72617  2.82948 \n",
       "\n",
       "Coefficients:\n",
       "              Estimate Std. Error t value Pr(>|t|)  \n",
       "psi_trans_all  0.46817    0.26604   1.760   0.0792 .\n",
       "x_trans_all   -0.01720    0.05135  -0.335   0.7378  \n",
       "---\n",
       "Signif. codes:  0 '***' 0.001 '**' 0.01 '*' 0.05 '.' 0.1 ' ' 1\n",
       "\n",
       "Residual standard error: 1.032 on 398 degrees of freedom\n",
       "Multiple R-squared:  0.007859,\tAdjusted R-squared:  0.002873 \n",
       "F-statistic: 1.576 on 2 and 398 DF,  p-value: 0.208\n"
      ]
     },
     "metadata": {},
     "output_type": "display_data"
    }
   ],
   "source": [
    "# OLS推定量を求める\n",
    "# 切片はpsi\n",
    "mod_gls_hand <- lm(y_trans_all ~ psi_trans_all + x_trans_all - 1)\n",
    "\n",
    "# 結果\n",
    "summary(mod_gls_hand)"
   ]
  },
  {
   "cell_type": "markdown",
   "metadata": {},
   "source": [
    "変換後の傾きの係数のp値は0.7378となっており、有意な回帰係数は得られないという結果になった。"
   ]
  },
  {
   "cell_type": "markdown",
   "metadata": {},
   "source": [
    "## パッケージを使ったGLS\n",
    "praisパッケージのprais.winsten関数を使う。dataframe型しか受け付けないので変換する必要がある。"
   ]
  },
  {
   "cell_type": "code",
   "execution_count": 24,
   "metadata": {},
   "outputs": [],
   "source": [
    "d <- data.frame(\n",
    "    y_ar = y_ar,\n",
    "    x_ar = x_ar\n",
    ")"
   ]
  },
  {
   "cell_type": "code",
   "execution_count": 29,
   "metadata": {},
   "outputs": [
    {
     "name": "stdout",
     "output_type": "stream",
     "text": [
      "Iteration 0: rho = 0\n",
      "Iteration 1: rho = 0.8078\n"
     ]
    },
    {
     "name": "stderr",
     "output_type": "stream",
     "text": [
      "Estimation was stopped, because the maximum number of iterations was reached.\n",
      "\n"
     ]
    },
    {
     "data": {
      "text/plain": [
       "\n",
       "Call:\n",
       "prais_winsten(formula = y_ar ~ x_ar, data = d, max_iter = 1)\n",
       "\n",
       "Coefficients:\n",
       "(Intercept)         x_ar  \n",
       "     0.4682      -0.0172  \n",
       "\n",
       "AR(1) coefficient rho: 0.8078\n"
      ]
     },
     "metadata": {},
     "output_type": "display_data"
    }
   ],
   "source": [
    "# Prais-Winsten法を実行する\n",
    "mod_gls_PW <- prais_winsten(y_ar ~ x_ar, data=d, max_iter=1)\n",
    "mod_gls_PW"
   ]
  },
  {
   "cell_type": "markdown",
   "metadata": {},
   "source": [
    "## 差分系列への回帰分析\n",
    "単位根があるデータへの回帰分析\n",
    "ランダムウォーク系列なら差分をとるとホワイトノイズになるので、見せかけの回帰は起こらないはず。"
   ]
  },
  {
   "cell_type": "code",
   "execution_count": 31,
   "metadata": {},
   "outputs": [
    {
     "data": {
      "text/plain": [
       "\n",
       "Call:\n",
       "lm(formula = diff(y_rw) ~ diff(x_rw))\n",
       "\n",
       "Residuals:\n",
       "     Min       1Q   Median       3Q      Max \n",
       "-2.63491 -0.73367  0.04338  0.65956  3.14882 \n",
       "\n",
       "Coefficients:\n",
       "            Estimate Std. Error t value Pr(>|t|)\n",
       "(Intercept) -0.02864    0.05012  -0.571    0.568\n",
       "diff(x_rw)  -0.01742    0.04818  -0.362    0.718\n",
       "\n",
       "Residual standard error: 1.001 on 397 degrees of freedom\n",
       "Multiple R-squared:  0.0003292,\tAdjusted R-squared:  -0.002189 \n",
       "F-statistic: 0.1307 on 1 and 397 DF,  p-value: 0.7179\n"
      ]
     },
     "metadata": {},
     "output_type": "display_data"
    }
   ],
   "source": [
    "mod_lm_diff <- lm(diff(y_rw) ~ diff(x_rw))\n",
    "summary(mod_lm_diff)"
   ]
  },
  {
   "cell_type": "markdown",
   "metadata": {},
   "source": [
    "p値が0.718なので見せかけの回帰を回避できていることがわかる。"
   ]
  },
  {
   "cell_type": "markdown",
   "metadata": {},
   "source": [
    "## 共和分\n",
    "\n",
    "$y_t$と$x_t$が各々単位根を持っているが、線形結合をすると単位根が無くる場合、$y_t$と$x_t$は共和分の関係にあると呼ぶ。"
   ]
  },
  {
   "cell_type": "code",
   "execution_count": 32,
   "metadata": {},
   "outputs": [
    {
     "data": {
      "text/plain": [
       "\n",
       "############################################### \n",
       "# Augmented Dickey-Fuller Test Unit Root Test # \n",
       "############################################### \n",
       "\n",
       "Test regression none \n",
       "\n",
       "\n",
       "Call:\n",
       "lm(formula = z.diff ~ z.lag.1 - 1 + z.diff.lag)\n",
       "\n",
       "Residuals:\n",
       "    Min      1Q  Median      3Q     Max \n",
       "-4.0281 -0.8282 -0.0794  0.8101  3.4312 \n",
       "\n",
       "Coefficients:\n",
       "            Estimate Std. Error t value Pr(>|t|)    \n",
       "z.lag.1    -0.012165   0.009448  -1.288    0.199    \n",
       "z.diff.lag -0.453423   0.044548 -10.178   <2e-16 ***\n",
       "---\n",
       "Signif. codes:  0 '***' 0.001 '**' 0.01 '*' 0.05 '.' 0.1 ' ' 1\n",
       "\n",
       "Residual standard error: 1.236 on 396 degrees of freedom\n",
       "Multiple R-squared:  0.2162,\tAdjusted R-squared:  0.2122 \n",
       "F-statistic: 54.62 on 2 and 396 DF,  p-value: < 2.2e-16\n",
       "\n",
       "\n",
       "Value of test-statistic is: -1.2875 \n",
       "\n",
       "Critical values for test statistics: \n",
       "      1pct  5pct 10pct\n",
       "tau1 -2.58 -1.95 -1.62\n"
      ]
     },
     "metadata": {},
     "output_type": "display_data"
    },
    {
     "data": {
      "text/plain": [
       "\n",
       "############################################### \n",
       "# Augmented Dickey-Fuller Test Unit Root Test # \n",
       "############################################### \n",
       "\n",
       "Test regression none \n",
       "\n",
       "\n",
       "Call:\n",
       "lm(formula = z.diff ~ z.lag.1 - 1 + z.diff.lag)\n",
       "\n",
       "Residuals:\n",
       "    Min      1Q  Median      3Q     Max \n",
       "-4.6304 -1.0182 -0.0304  0.8609  4.3365 \n",
       "\n",
       "Coefficients:\n",
       "            Estimate Std. Error t value Pr(>|t|)    \n",
       "z.lag.1    -0.007435   0.007294  -1.019    0.309    \n",
       "z.diff.lag -0.418492   0.045650  -9.167   <2e-16 ***\n",
       "---\n",
       "Signif. codes:  0 '***' 0.001 '**' 0.01 '*' 0.05 '.' 0.1 ' ' 1\n",
       "\n",
       "Residual standard error: 1.436 on 396 degrees of freedom\n",
       "Multiple R-squared:  0.1803,\tAdjusted R-squared:  0.1762 \n",
       "F-statistic: 43.57 on 2 and 396 DF,  p-value: < 2.2e-16\n",
       "\n",
       "\n",
       "Value of test-statistic is: -1.0194 \n",
       "\n",
       "Critical values for test statistics: \n",
       "      1pct  5pct 10pct\n",
       "tau1 -2.58 -1.95 -1.62\n"
      ]
     },
     "metadata": {},
     "output_type": "display_data"
    }
   ],
   "source": [
    "# 共和分関係をもつデータの特徴をシミュレーションで確かめる。\n",
    "set.seed(10)\n",
    "\n",
    "rw <- cumsum(rnorm(n = n_sample))  # ランダムウォーク(単位根をもつ)\n",
    "x_co <- 0.6 * rw + rnorm(n = n_sample)  # 単位根をもつ\n",
    "y_co <- 0.4 * rw + rnorm(n = n_sample)  # 単位根をもつ\n",
    "\n",
    "# ADF検定をして単位根をもつことを確認する\n",
    "summary(ur.df(y_co, type = \"none\"))\n",
    "summary(ur.df(x_co, type = \"none\"))"
   ]
  },
  {
   "cell_type": "code",
   "execution_count": 33,
   "metadata": {},
   "outputs": [
    {
     "data": {
      "image/png": "[encoded data removed]",
      "text/plain": [
       "plot without title"
      ]
     },
     "metadata": {
      "image/png": {
       "height": 360,
       "width": 840
      }
     },
     "output_type": "display_data"
    }
   ],
   "source": [
    "# 線形結合して図示してみる\n",
    "\n",
    "# データをひとつにまとめる\n",
    "df <- data.frame(\n",
    "    y_co = y_co, \n",
    "    x_co = x_co,\n",
    "    z = x_co - (0.6/0.4)*y_co\n",
    ")\n",
    "\n",
    "# ts型に変換\n",
    "ts_df <- ts(df)\n",
    "\n",
    "# 図示\n",
    "autoplot(ts_df, facets = T)"
   ]
  },
  {
   "cell_type": "markdown",
   "metadata": {},
   "source": [
    "単位根があったとしても、共和分関係にあれば、意味のある関係性を持つと考察できる。"
   ]
  },
  {
   "cell_type": "markdown",
   "metadata": {},
   "source": [
    "## 共和分検定\n",
    "\n",
    "二つの変数の間に共和分があるかどうかを調べるために共和分検定を行う。  \n",
    "共和分検定には**Engle-Granger**の方法を用いる。  \n",
    "この方法は2変数での共和分関係を調べることにしか使えないことに注意する。  "
   ]
  },
  {
   "cell_type": "code",
   "execution_count": 34,
   "metadata": {},
   "outputs": [
    {
     "data": {
      "text/plain": [
       "\n",
       "######################################## \n",
       "# Phillips and Ouliaris Unit Root Test # \n",
       "######################################## \n",
       "\n",
       "Test of type Pu \n",
       "detrending of series none \n",
       "\n",
       "\n",
       "Call:\n",
       "lm(formula = z[, 1] ~ z[, -1] - 1)\n",
       "\n",
       "Residuals:\n",
       "    Min      1Q  Median      3Q     Max \n",
       "-3.0870 -0.8575 -0.0049  0.7570  3.5471 \n",
       "\n",
       "Coefficients:\n",
       "        Estimate Std. Error t value Pr(>|t|)    \n",
       "z[, -1] 0.655250   0.006071   107.9   <2e-16 ***\n",
       "---\n",
       "Signif. codes:  0 '***' 0.001 '**' 0.01 '*' 0.05 '.' 0.1 ' ' 1\n",
       "\n",
       "Residual standard error: 1.199 on 399 degrees of freedom\n",
       "Multiple R-squared:  0.9669,\tAdjusted R-squared:  0.9668 \n",
       "F-statistic: 1.165e+04 on 1 and 399 DF,  p-value: < 2.2e-16\n",
       "\n",
       "\n",
       "Value of test-statistic is: 250.7453 \n",
       "\n",
       "Critical values of Pu are:\n",
       "                  10pct    5pct    1pct\n",
       "critical values 20.3933 25.9711 38.3413\n"
      ]
     },
     "metadata": {},
     "output_type": "display_data"
    }
   ],
   "source": [
    "# データの整形\n",
    "data_mat <- matrix(nrow = n_sample, ncol = 2)\n",
    "data_mat[, 1] <- y_co\n",
    "data_mat[, 2] <- x_co\n",
    "\n",
    "# 共和分検定\n",
    "summary(ca.po(data_mat, demean=\"none\"))"
   ]
  },
  {
   "cell_type": "markdown",
   "metadata": {},
   "source": [
    "**Value of test-statistic is: 250.7453** に検定統計量が記されている。  \n",
    "棄却点が25.9711なので「共和分関係がない」という帰無仮説は棄却された。共和分関係がある、ということ。"
   ]
  },
  {
   "cell_type": "markdown",
   "metadata": {},
   "source": [
    "共和分関係にあるデータに対して差分系列への回帰分析を行うと、その関係は見えなくなってしまうので注意すること。"
   ]
  },
  {
   "cell_type": "code",
   "execution_count": 36,
   "metadata": {},
   "outputs": [
    {
     "data": {
      "text/plain": [
       "\n",
       "Call:\n",
       "lm(formula = y_co_diff ~ x_co_diff)\n",
       "\n",
       "Residuals:\n",
       "    Min      1Q  Median      3Q     Max \n",
       "-4.0064 -0.9438 -0.0613  0.9665  3.7408 \n",
       "\n",
       "Coefficients:\n",
       "            Estimate Std. Error t value Pr(>|t|)\n",
       "(Intercept) 0.004719   0.070014   0.067    0.946\n",
       "x_co_diff   0.047463   0.044286   1.072    0.284\n",
       "\n",
       "Residual standard error: 1.399 on 397 degrees of freedom\n",
       "Multiple R-squared:  0.002885,\tAdjusted R-squared:  0.0003732 \n",
       "F-statistic: 1.149 on 1 and 397 DF,  p-value: 0.2845\n"
      ]
     },
     "metadata": {},
     "output_type": "display_data"
    }
   ],
   "source": [
    "# 共和分のあるデータに、差分をとってから回帰\n",
    "y_co_diff <- diff(y_co)\n",
    "x_co_diff <- diff(x_co)\n",
    "\n",
    "mod_lm_diff_cointegrate <- lm(y_co_diff ~ x_co_diff)\n",
    "summary(mod_lm_diff_cointegrate)"
   ]
  },
  {
   "cell_type": "markdown",
   "metadata": {},
   "source": [
    "回帰係数が有意にならなくなった。"
   ]
  },
  {
   "cell_type": "code",
   "execution_count": null,
   "metadata": {},
   "outputs": [],
   "source": []
  }
 ],
 "metadata": {
  "kernelspec": {
   "display_name": "R",
   "language": "R",
   "name": "ir"
  },
  "language_info": {
   "codemirror_mode": "r",
   "file_extension": ".r",
   "mimetype": "text/x-r-source",
   "name": "R",
   "pygments_lexer": "r",
   "version": "4.0.2"
  }
 },
 "nbformat": 4,
 "nbformat_minor": 4
}
