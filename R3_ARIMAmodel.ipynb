{
 "cells": [
  {
   "cell_type": "markdown",
   "metadata": {},
   "source": [
    "# 7章 RによるARIMAモデル"
   ]
  },
  {
   "cell_type": "code",
   "execution_count": 1,
   "metadata": {},
   "outputs": [
    {
     "name": "stderr",
     "output_type": "stream",
     "text": [
      "Warning message:\n",
      "\"package 'forecast' was built under R version 4.0.2\"\n",
      "Registered S3 method overwritten by 'quantmod':\n",
      "  method            from\n",
      "  as.zoo.data.frame zoo \n",
      "\n",
      "Warning message:\n",
      "\"package 'ggplot2' was built under R version 4.0.2\"\n",
      "Warning message:\n",
      "\"package 'ggfortify' was built under R version 4.0.2\"\n",
      "Registered S3 methods overwritten by 'ggfortify':\n",
      "  method                 from    \n",
      "  autoplot.Arima         forecast\n",
      "  autoplot.acf           forecast\n",
      "  autoplot.ar            forecast\n",
      "  autoplot.bats          forecast\n",
      "  autoplot.decomposed.ts forecast\n",
      "  autoplot.ets           forecast\n",
      "  autoplot.forecast      forecast\n",
      "  autoplot.stl           forecast\n",
      "  autoplot.ts            forecast\n",
      "  fitted.ar              forecast\n",
      "  fortify.ts             forecast\n",
      "  residuals.ar           forecast\n",
      "\n"
     ]
    }
   ],
   "source": [
    "# パッケージの読み込み\n",
    "library(forecast)\n",
    "library(tseries)\n",
    "library(ggplot2)\n",
    "library(ggfortify)\n",
    "library(repr)\n",
    "\n",
    "# グラフのオプション\n",
    "options(repr.plot.width=14, repr.plot.height=6)"
   ]
  },
  {
   "cell_type": "markdown",
   "metadata": {},
   "source": [
    "## 分析の対象\n",
    "イギリスの交通事故死傷者数のデータSeatbeltsを使用する。\n",
    "- front: 前席における死傷者数\n",
    "- PetrolPrice: ガソリンの値段\n",
    "- law: 前席においてシートベルトを装着することを義務付けた法律の施行の有無を表したフラグ。0だと未施工。1だと試行済み。1983年の1月31日に施工された。"
   ]
  },
  {
   "cell_type": "code",
   "execution_count": 2,
   "metadata": {},
   "outputs": [
    {
     "data": {
      "text/html": [
       "<table>\n",
       "<caption>A Time Series: 6 × 8</caption>\n",
       "<thead>\n",
       "\t<tr><th></th><th scope=col>DriversKilled</th><th scope=col>drivers</th><th scope=col>front</th><th scope=col>rear</th><th scope=col>kms</th><th scope=col>PetrolPrice</th><th scope=col>VanKilled</th><th scope=col>law</th></tr>\n",
       "</thead>\n",
       "<tbody>\n",
       "\t<tr><th scope=row>Jan 1969</th><td>107</td><td>1687</td><td>867</td><td>269</td><td> 9059</td><td>0.1029718</td><td>12</td><td>0</td></tr>\n",
       "\t<tr><th scope=row>Feb 1969</th><td> 97</td><td>1508</td><td>825</td><td>265</td><td> 7685</td><td>0.1023630</td><td> 6</td><td>0</td></tr>\n",
       "\t<tr><th scope=row>Mar 1969</th><td>102</td><td>1507</td><td>806</td><td>319</td><td> 9963</td><td>0.1020625</td><td>12</td><td>0</td></tr>\n",
       "\t<tr><th scope=row>Apr 1969</th><td> 87</td><td>1385</td><td>814</td><td>407</td><td>10955</td><td>0.1008733</td><td> 8</td><td>0</td></tr>\n",
       "\t<tr><th scope=row>May 1969</th><td>119</td><td>1632</td><td>991</td><td>454</td><td>11823</td><td>0.1010197</td><td>10</td><td>0</td></tr>\n",
       "\t<tr><th scope=row>Jun 1969</th><td>106</td><td>1511</td><td>945</td><td>427</td><td>12391</td><td>0.1005812</td><td>13</td><td>0</td></tr>\n",
       "</tbody>\n",
       "</table>\n"
      ],
      "text/latex": [
       "A Time Series: 6 × 8\n",
       "\\begin{tabular}{r|llllllll}\n",
       "  & DriversKilled & drivers & front & rear & kms & PetrolPrice & VanKilled & law\\\\\n",
       "\\hline\n",
       "\tJan 1969 & 107 & 1687 & 867 & 269 &  9059 & 0.1029718 & 12 & 0\\\\\n",
       "\tFeb 1969 &  97 & 1508 & 825 & 265 &  7685 & 0.1023630 &  6 & 0\\\\\n",
       "\tMar 1969 & 102 & 1507 & 806 & 319 &  9963 & 0.1020625 & 12 & 0\\\\\n",
       "\tApr 1969 &  87 & 1385 & 814 & 407 & 10955 & 0.1008733 &  8 & 0\\\\\n",
       "\tMay 1969 & 119 & 1632 & 991 & 454 & 11823 & 0.1010197 & 10 & 0\\\\\n",
       "\tJun 1969 & 106 & 1511 & 945 & 427 & 12391 & 0.1005812 & 13 & 0\\\\\n",
       "\\end{tabular}\n"
      ],
      "text/markdown": [
       "\n",
       "A Time Series: 6 × 8\n",
       "\n",
       "| <!--/--> | DriversKilled | drivers | front | rear | kms | PetrolPrice | VanKilled | law |\n",
       "|---|---|---|---|---|---|---|---|---|\n",
       "| Jan 1969 | 107 | 1687 | 867 | 269 |  9059 | 0.1029718 | 12 | 0 |\n",
       "| Feb 1969 |  97 | 1508 | 825 | 265 |  7685 | 0.1023630 |  6 | 0 |\n",
       "| Mar 1969 | 102 | 1507 | 806 | 319 |  9963 | 0.1020625 | 12 | 0 |\n",
       "| Apr 1969 |  87 | 1385 | 814 | 407 | 10955 | 0.1008733 |  8 | 0 |\n",
       "| May 1969 | 119 | 1632 | 991 | 454 | 11823 | 0.1010197 | 10 | 0 |\n",
       "| Jun 1969 | 106 | 1511 | 945 | 427 | 12391 | 0.1005812 | 13 | 0 |\n",
       "\n"
      ],
      "text/plain": [
       "         DriversKilled drivers front rear kms   PetrolPrice VanKilled law\n",
       "Jan 1969 107           1687    867   269   9059 0.1029718   12        0  \n",
       "Feb 1969  97           1508    825   265   7685 0.1023630    6        0  \n",
       "Mar 1969 102           1507    806   319   9963 0.1020625   12        0  \n",
       "Apr 1969  87           1385    814   407  10955 0.1008733    8        0  \n",
       "May 1969 119           1632    991   454  11823 0.1010197   10        0  \n",
       "Jun 1969 106           1511    945   427  12391 0.1005812   13        0  "
      ]
     },
     "metadata": {},
     "output_type": "display_data"
    }
   ],
   "source": [
    "head(Seatbelts[,])"
   ]
  },
  {
   "cell_type": "code",
   "execution_count": 5,
   "metadata": {},
   "outputs": [],
   "source": [
    "front <- Seatbelts[, \"front\"]"
   ]
  },
  {
   "cell_type": "code",
   "execution_count": 6,
   "metadata": {},
   "outputs": [
    {
     "data": {
      "image/png": "[encoded data removed]",
      "text/plain": [
       "plot without title"
      ]
     },
     "metadata": {
      "image/png": {
       "height": 360,
       "width": 840
      }
     },
     "output_type": "display_data"
    }
   ],
   "source": [
    "# グラフ描写\n",
    "autoplot(\n",
    "    Seatbelts[, \"front\"],\n",
    "    main=\"イギリスの交通事故死傷者数(前席)\",\n",
    "    xlab=\"年\",\n",
    "    ylab=\"死傷者数\"\n",
    ")"
   ]
  },
  {
   "cell_type": "code",
   "execution_count": 7,
   "metadata": {},
   "outputs": [
    {
     "data": {
      "text/html": [
       "<table>\n",
       "<caption>A Time Series: 16 × 12</caption>\n",
       "<thead>\n",
       "\t<tr><th></th><th scope=col>Jan</th><th scope=col>Feb</th><th scope=col>Mar</th><th scope=col>Apr</th><th scope=col>May</th><th scope=col>Jun</th><th scope=col>Jul</th><th scope=col>Aug</th><th scope=col>Sep</th><th scope=col>Oct</th><th scope=col>Nov</th><th scope=col>Dec</th></tr>\n",
       "</thead>\n",
       "<tbody>\n",
       "\t<tr><th scope=row>1969</th><td> 867</td><td> 825</td><td> 806</td><td> 814</td><td> 991</td><td> 945</td><td>1004</td><td>1091</td><td> 958</td><td> 850</td><td>1109</td><td>1113</td></tr>\n",
       "\t<tr><th scope=row>1970</th><td> 925</td><td> 903</td><td>1006</td><td> 892</td><td> 990</td><td> 866</td><td>1095</td><td>1204</td><td>1029</td><td>1147</td><td>1171</td><td>1299</td></tr>\n",
       "\t<tr><th scope=row>1971</th><td> 944</td><td> 874</td><td> 840</td><td> 893</td><td>1007</td><td> 973</td><td>1097</td><td>1194</td><td> 988</td><td>1077</td><td>1045</td><td>1115</td></tr>\n",
       "\t<tr><th scope=row>1972</th><td>1005</td><td> 857</td><td> 879</td><td> 887</td><td>1075</td><td>1121</td><td>1190</td><td>1058</td><td> 939</td><td>1074</td><td>1089</td><td>1208</td></tr>\n",
       "\t<tr><th scope=row>1973</th><td> 903</td><td> 916</td><td> 787</td><td>1114</td><td>1014</td><td>1022</td><td>1114</td><td>1132</td><td>1111</td><td>1008</td><td> 916</td><td> 992</td></tr>\n",
       "\t<tr><th scope=row>1974</th><td> 731</td><td> 665</td><td> 724</td><td> 744</td><td> 910</td><td> 883</td><td> 900</td><td>1057</td><td>1076</td><td> 919</td><td> 920</td><td> 953</td></tr>\n",
       "\t<tr><th scope=row>1975</th><td> 664</td><td> 607</td><td> 777</td><td> 633</td><td> 791</td><td> 790</td><td> 803</td><td> 884</td><td> 769</td><td> 732</td><td> 859</td><td> 994</td></tr>\n",
       "\t<tr><th scope=row>1976</th><td> 704</td><td> 684</td><td> 671</td><td> 643</td><td> 771</td><td> 644</td><td> 828</td><td> 748</td><td> 767</td><td> 825</td><td> 810</td><td> 986</td></tr>\n",
       "\t<tr><th scope=row>1977</th><td> 714</td><td> 567</td><td> 616</td><td> 678</td><td> 742</td><td> 840</td><td> 888</td><td> 852</td><td> 774</td><td> 831</td><td> 889</td><td>1046</td></tr>\n",
       "\t<tr><th scope=row>1978</th><td> 889</td><td> 626</td><td> 808</td><td> 746</td><td> 754</td><td> 865</td><td> 980</td><td> 959</td><td> 856</td><td> 798</td><td> 942</td><td>1010</td></tr>\n",
       "\t<tr><th scope=row>1979</th><td> 796</td><td> 643</td><td> 794</td><td> 750</td><td> 809</td><td> 716</td><td> 851</td><td> 931</td><td> 834</td><td> 762</td><td> 880</td><td>1077</td></tr>\n",
       "\t<tr><th scope=row>1980</th><td> 748</td><td> 593</td><td> 720</td><td> 646</td><td> 765</td><td> 820</td><td> 807</td><td> 885</td><td> 803</td><td> 860</td><td> 825</td><td> 911</td></tr>\n",
       "\t<tr><th scope=row>1981</th><td> 704</td><td> 691</td><td> 688</td><td> 714</td><td> 814</td><td> 736</td><td> 876</td><td> 829</td><td> 818</td><td> 942</td><td> 782</td><td> 823</td></tr>\n",
       "\t<tr><th scope=row>1982</th><td> 595</td><td> 673</td><td> 660</td><td> 676</td><td> 755</td><td> 815</td><td> 867</td><td> 933</td><td> 798</td><td> 950</td><td> 825</td><td> 911</td></tr>\n",
       "\t<tr><th scope=row>1983</th><td> 619</td><td> 426</td><td> 475</td><td> 556</td><td> 559</td><td> 483</td><td> 587</td><td> 615</td><td> 618</td><td> 662</td><td> 519</td><td> 585</td></tr>\n",
       "\t<tr><th scope=row>1984</th><td> 483</td><td> 434</td><td> 513</td><td> 548</td><td> 586</td><td> 522</td><td> 601</td><td> 644</td><td> 643</td><td> 641</td><td> 711</td><td> 721</td></tr>\n",
       "</tbody>\n",
       "</table>\n"
      ],
      "text/latex": [
       "A Time Series: 16 × 12\n",
       "\\begin{tabular}{r|llllllllllll}\n",
       "  & Jan & Feb & Mar & Apr & May & Jun & Jul & Aug & Sep & Oct & Nov & Dec\\\\\n",
       "\\hline\n",
       "\t1969 &  867 &  825 &  806 &  814 &  991 &  945 & 1004 & 1091 &  958 &  850 & 1109 & 1113\\\\\n",
       "\t1970 &  925 &  903 & 1006 &  892 &  990 &  866 & 1095 & 1204 & 1029 & 1147 & 1171 & 1299\\\\\n",
       "\t1971 &  944 &  874 &  840 &  893 & 1007 &  973 & 1097 & 1194 &  988 & 1077 & 1045 & 1115\\\\\n",
       "\t1972 & 1005 &  857 &  879 &  887 & 1075 & 1121 & 1190 & 1058 &  939 & 1074 & 1089 & 1208\\\\\n",
       "\t1973 &  903 &  916 &  787 & 1114 & 1014 & 1022 & 1114 & 1132 & 1111 & 1008 &  916 &  992\\\\\n",
       "\t1974 &  731 &  665 &  724 &  744 &  910 &  883 &  900 & 1057 & 1076 &  919 &  920 &  953\\\\\n",
       "\t1975 &  664 &  607 &  777 &  633 &  791 &  790 &  803 &  884 &  769 &  732 &  859 &  994\\\\\n",
       "\t1976 &  704 &  684 &  671 &  643 &  771 &  644 &  828 &  748 &  767 &  825 &  810 &  986\\\\\n",
       "\t1977 &  714 &  567 &  616 &  678 &  742 &  840 &  888 &  852 &  774 &  831 &  889 & 1046\\\\\n",
       "\t1978 &  889 &  626 &  808 &  746 &  754 &  865 &  980 &  959 &  856 &  798 &  942 & 1010\\\\\n",
       "\t1979 &  796 &  643 &  794 &  750 &  809 &  716 &  851 &  931 &  834 &  762 &  880 & 1077\\\\\n",
       "\t1980 &  748 &  593 &  720 &  646 &  765 &  820 &  807 &  885 &  803 &  860 &  825 &  911\\\\\n",
       "\t1981 &  704 &  691 &  688 &  714 &  814 &  736 &  876 &  829 &  818 &  942 &  782 &  823\\\\\n",
       "\t1982 &  595 &  673 &  660 &  676 &  755 &  815 &  867 &  933 &  798 &  950 &  825 &  911\\\\\n",
       "\t1983 &  619 &  426 &  475 &  556 &  559 &  483 &  587 &  615 &  618 &  662 &  519 &  585\\\\\n",
       "\t1984 &  483 &  434 &  513 &  548 &  586 &  522 &  601 &  644 &  643 &  641 &  711 &  721\\\\\n",
       "\\end{tabular}\n"
      ],
      "text/markdown": [
       "\n",
       "A Time Series: 16 × 12\n",
       "\n",
       "| <!--/--> | Jan | Feb | Mar | Apr | May | Jun | Jul | Aug | Sep | Oct | Nov | Dec |\n",
       "|---|---|---|---|---|---|---|---|---|---|---|---|---|\n",
       "| 1969 |  867 |  825 |  806 |  814 |  991 |  945 | 1004 | 1091 |  958 |  850 | 1109 | 1113 |\n",
       "| 1970 |  925 |  903 | 1006 |  892 |  990 |  866 | 1095 | 1204 | 1029 | 1147 | 1171 | 1299 |\n",
       "| 1971 |  944 |  874 |  840 |  893 | 1007 |  973 | 1097 | 1194 |  988 | 1077 | 1045 | 1115 |\n",
       "| 1972 | 1005 |  857 |  879 |  887 | 1075 | 1121 | 1190 | 1058 |  939 | 1074 | 1089 | 1208 |\n",
       "| 1973 |  903 |  916 |  787 | 1114 | 1014 | 1022 | 1114 | 1132 | 1111 | 1008 |  916 |  992 |\n",
       "| 1974 |  731 |  665 |  724 |  744 |  910 |  883 |  900 | 1057 | 1076 |  919 |  920 |  953 |\n",
       "| 1975 |  664 |  607 |  777 |  633 |  791 |  790 |  803 |  884 |  769 |  732 |  859 |  994 |\n",
       "| 1976 |  704 |  684 |  671 |  643 |  771 |  644 |  828 |  748 |  767 |  825 |  810 |  986 |\n",
       "| 1977 |  714 |  567 |  616 |  678 |  742 |  840 |  888 |  852 |  774 |  831 |  889 | 1046 |\n",
       "| 1978 |  889 |  626 |  808 |  746 |  754 |  865 |  980 |  959 |  856 |  798 |  942 | 1010 |\n",
       "| 1979 |  796 |  643 |  794 |  750 |  809 |  716 |  851 |  931 |  834 |  762 |  880 | 1077 |\n",
       "| 1980 |  748 |  593 |  720 |  646 |  765 |  820 |  807 |  885 |  803 |  860 |  825 |  911 |\n",
       "| 1981 |  704 |  691 |  688 |  714 |  814 |  736 |  876 |  829 |  818 |  942 |  782 |  823 |\n",
       "| 1982 |  595 |  673 |  660 |  676 |  755 |  815 |  867 |  933 |  798 |  950 |  825 |  911 |\n",
       "| 1983 |  619 |  426 |  475 |  556 |  559 |  483 |  587 |  615 |  618 |  662 |  519 |  585 |\n",
       "| 1984 |  483 |  434 |  513 |  548 |  586 |  522 |  601 |  644 |  643 |  641 |  711 |  721 |\n",
       "\n"
      ],
      "text/plain": [
       "     Jan  Feb  Mar  Apr  May  Jun  Jul  Aug  Sep  Oct  Nov  Dec \n",
       "1969  867  825  806  814  991  945 1004 1091  958  850 1109 1113\n",
       "1970  925  903 1006  892  990  866 1095 1204 1029 1147 1171 1299\n",
       "1971  944  874  840  893 1007  973 1097 1194  988 1077 1045 1115\n",
       "1972 1005  857  879  887 1075 1121 1190 1058  939 1074 1089 1208\n",
       "1973  903  916  787 1114 1014 1022 1114 1132 1111 1008  916  992\n",
       "1974  731  665  724  744  910  883  900 1057 1076  919  920  953\n",
       "1975  664  607  777  633  791  790  803  884  769  732  859  994\n",
       "1976  704  684  671  643  771  644  828  748  767  825  810  986\n",
       "1977  714  567  616  678  742  840  888  852  774  831  889 1046\n",
       "1978  889  626  808  746  754  865  980  959  856  798  942 1010\n",
       "1979  796  643  794  750  809  716  851  931  834  762  880 1077\n",
       "1980  748  593  720  646  765  820  807  885  803  860  825  911\n",
       "1981  704  691  688  714  814  736  876  829  818  942  782  823\n",
       "1982  595  673  660  676  755  815  867  933  798  950  825  911\n",
       "1983  619  426  475  556  559  483  587  615  618  662  519  585\n",
       "1984  483  434  513  548  586  522  601  644  643  641  711  721"
      ]
     },
     "metadata": {},
     "output_type": "display_data"
    }
   ],
   "source": [
    "front"
   ]
  },
  {
   "cell_type": "code",
   "execution_count": 11,
   "metadata": {},
   "outputs": [
    {
     "data": {
      "image/png": "[encoded data removed]",
      "text/plain": [
       "plot without title"
      ]
     },
     "metadata": {
      "image/png": {
       "height": 360,
       "width": 840
      }
     },
     "output_type": "display_data"
    }
   ],
   "source": [
    "ggtsdisplay(front)"
   ]
  },
  {
   "cell_type": "markdown",
   "metadata": {},
   "source": [
    "- 毎年12月に死傷者数が増えているのでこの周期をモデルに組込む\n",
    "- シートベルト法案について死傷者数を減らす効果があるはず\n",
    "\n",
    "季節成分と外生変数の入ったARIMAモデル、すなわち**SARIMAX**を使って時系列モデルを構築する"
   ]
  },
  {
   "cell_type": "markdown",
   "metadata": {},
   "source": [
    "## 対数変換"
   ]
  },
  {
   "cell_type": "code",
   "execution_count": 10,
   "metadata": {},
   "outputs": [
    {
     "data": {
      "image/png": "[encoded data removed]",
      "text/plain": [
       "plot without title"
      ]
     },
     "metadata": {
      "image/png": {
       "height": 360,
       "width": 840
      }
     },
     "output_type": "display_data"
    }
   ],
   "source": [
    "# 対数系列\n",
    "log_front <- log(front)\n",
    "\n",
    "# 図示\n",
    "# ACFは相関係数\n",
    "# PACFは偏相関係数\n",
    "ggtsdisplay(log_front, main=\"対数系列\")"
   ]
  },
  {
   "cell_type": "markdown",
   "metadata": {},
   "source": [
    "- 対数変換をすることで、年毎の変動の幅がおよそ均一になった。\n",
    "- 長期にわたって自己相関が続いている\n",
    "- 12か月周期で自己相関が大きくなっている\n",
    "- およそ1年谷で大きな偏自己相関がみられる"
   ]
  },
  {
   "cell_type": "markdown",
   "metadata": {},
   "source": [
    "## 差分系列の作成方法"
   ]
  },
  {
   "cell_type": "code",
   "execution_count": 12,
   "metadata": {},
   "outputs": [
    {
     "data": {
      "text/html": [
       "<table>\n",
       "<caption>A Time Series: 16 × 12</caption>\n",
       "<thead>\n",
       "\t<tr><th></th><th scope=col>Jan</th><th scope=col>Feb</th><th scope=col>Mar</th><th scope=col>Apr</th><th scope=col>May</th><th scope=col>Jun</th><th scope=col>Jul</th><th scope=col>Aug</th><th scope=col>Sep</th><th scope=col>Oct</th><th scope=col>Nov</th><th scope=col>Dec</th></tr>\n",
       "</thead>\n",
       "<tbody>\n",
       "\t<tr><th scope=row>1969</th><td> 867</td><td> 825</td><td> 806</td><td> 814</td><td> 991</td><td> 945</td><td>1004</td><td>1091</td><td> 958</td><td> 850</td><td>1109</td><td>1113</td></tr>\n",
       "\t<tr><th scope=row>1970</th><td> 925</td><td> 903</td><td>1006</td><td> 892</td><td> 990</td><td> 866</td><td>1095</td><td>1204</td><td>1029</td><td>1147</td><td>1171</td><td>1299</td></tr>\n",
       "\t<tr><th scope=row>1971</th><td> 944</td><td> 874</td><td> 840</td><td> 893</td><td>1007</td><td> 973</td><td>1097</td><td>1194</td><td> 988</td><td>1077</td><td>1045</td><td>1115</td></tr>\n",
       "\t<tr><th scope=row>1972</th><td>1005</td><td> 857</td><td> 879</td><td> 887</td><td>1075</td><td>1121</td><td>1190</td><td>1058</td><td> 939</td><td>1074</td><td>1089</td><td>1208</td></tr>\n",
       "\t<tr><th scope=row>1973</th><td> 903</td><td> 916</td><td> 787</td><td>1114</td><td>1014</td><td>1022</td><td>1114</td><td>1132</td><td>1111</td><td>1008</td><td> 916</td><td> 992</td></tr>\n",
       "\t<tr><th scope=row>1974</th><td> 731</td><td> 665</td><td> 724</td><td> 744</td><td> 910</td><td> 883</td><td> 900</td><td>1057</td><td>1076</td><td> 919</td><td> 920</td><td> 953</td></tr>\n",
       "\t<tr><th scope=row>1975</th><td> 664</td><td> 607</td><td> 777</td><td> 633</td><td> 791</td><td> 790</td><td> 803</td><td> 884</td><td> 769</td><td> 732</td><td> 859</td><td> 994</td></tr>\n",
       "\t<tr><th scope=row>1976</th><td> 704</td><td> 684</td><td> 671</td><td> 643</td><td> 771</td><td> 644</td><td> 828</td><td> 748</td><td> 767</td><td> 825</td><td> 810</td><td> 986</td></tr>\n",
       "\t<tr><th scope=row>1977</th><td> 714</td><td> 567</td><td> 616</td><td> 678</td><td> 742</td><td> 840</td><td> 888</td><td> 852</td><td> 774</td><td> 831</td><td> 889</td><td>1046</td></tr>\n",
       "\t<tr><th scope=row>1978</th><td> 889</td><td> 626</td><td> 808</td><td> 746</td><td> 754</td><td> 865</td><td> 980</td><td> 959</td><td> 856</td><td> 798</td><td> 942</td><td>1010</td></tr>\n",
       "\t<tr><th scope=row>1979</th><td> 796</td><td> 643</td><td> 794</td><td> 750</td><td> 809</td><td> 716</td><td> 851</td><td> 931</td><td> 834</td><td> 762</td><td> 880</td><td>1077</td></tr>\n",
       "\t<tr><th scope=row>1980</th><td> 748</td><td> 593</td><td> 720</td><td> 646</td><td> 765</td><td> 820</td><td> 807</td><td> 885</td><td> 803</td><td> 860</td><td> 825</td><td> 911</td></tr>\n",
       "\t<tr><th scope=row>1981</th><td> 704</td><td> 691</td><td> 688</td><td> 714</td><td> 814</td><td> 736</td><td> 876</td><td> 829</td><td> 818</td><td> 942</td><td> 782</td><td> 823</td></tr>\n",
       "\t<tr><th scope=row>1982</th><td> 595</td><td> 673</td><td> 660</td><td> 676</td><td> 755</td><td> 815</td><td> 867</td><td> 933</td><td> 798</td><td> 950</td><td> 825</td><td> 911</td></tr>\n",
       "\t<tr><th scope=row>1983</th><td> 619</td><td> 426</td><td> 475</td><td> 556</td><td> 559</td><td> 483</td><td> 587</td><td> 615</td><td> 618</td><td> 662</td><td> 519</td><td> 585</td></tr>\n",
       "\t<tr><th scope=row>1984</th><td> 483</td><td> 434</td><td> 513</td><td> 548</td><td> 586</td><td> 522</td><td> 601</td><td> 644</td><td> 643</td><td> 641</td><td> 711</td><td> 721</td></tr>\n",
       "</tbody>\n",
       "</table>\n"
      ],
      "text/latex": [
       "A Time Series: 16 × 12\n",
       "\\begin{tabular}{r|llllllllllll}\n",
       "  & Jan & Feb & Mar & Apr & May & Jun & Jul & Aug & Sep & Oct & Nov & Dec\\\\\n",
       "\\hline\n",
       "\t1969 &  867 &  825 &  806 &  814 &  991 &  945 & 1004 & 1091 &  958 &  850 & 1109 & 1113\\\\\n",
       "\t1970 &  925 &  903 & 1006 &  892 &  990 &  866 & 1095 & 1204 & 1029 & 1147 & 1171 & 1299\\\\\n",
       "\t1971 &  944 &  874 &  840 &  893 & 1007 &  973 & 1097 & 1194 &  988 & 1077 & 1045 & 1115\\\\\n",
       "\t1972 & 1005 &  857 &  879 &  887 & 1075 & 1121 & 1190 & 1058 &  939 & 1074 & 1089 & 1208\\\\\n",
       "\t1973 &  903 &  916 &  787 & 1114 & 1014 & 1022 & 1114 & 1132 & 1111 & 1008 &  916 &  992\\\\\n",
       "\t1974 &  731 &  665 &  724 &  744 &  910 &  883 &  900 & 1057 & 1076 &  919 &  920 &  953\\\\\n",
       "\t1975 &  664 &  607 &  777 &  633 &  791 &  790 &  803 &  884 &  769 &  732 &  859 &  994\\\\\n",
       "\t1976 &  704 &  684 &  671 &  643 &  771 &  644 &  828 &  748 &  767 &  825 &  810 &  986\\\\\n",
       "\t1977 &  714 &  567 &  616 &  678 &  742 &  840 &  888 &  852 &  774 &  831 &  889 & 1046\\\\\n",
       "\t1978 &  889 &  626 &  808 &  746 &  754 &  865 &  980 &  959 &  856 &  798 &  942 & 1010\\\\\n",
       "\t1979 &  796 &  643 &  794 &  750 &  809 &  716 &  851 &  931 &  834 &  762 &  880 & 1077\\\\\n",
       "\t1980 &  748 &  593 &  720 &  646 &  765 &  820 &  807 &  885 &  803 &  860 &  825 &  911\\\\\n",
       "\t1981 &  704 &  691 &  688 &  714 &  814 &  736 &  876 &  829 &  818 &  942 &  782 &  823\\\\\n",
       "\t1982 &  595 &  673 &  660 &  676 &  755 &  815 &  867 &  933 &  798 &  950 &  825 &  911\\\\\n",
       "\t1983 &  619 &  426 &  475 &  556 &  559 &  483 &  587 &  615 &  618 &  662 &  519 &  585\\\\\n",
       "\t1984 &  483 &  434 &  513 &  548 &  586 &  522 &  601 &  644 &  643 &  641 &  711 &  721\\\\\n",
       "\\end{tabular}\n"
      ],
      "text/markdown": [
       "\n",
       "A Time Series: 16 × 12\n",
       "\n",
       "| <!--/--> | Jan | Feb | Mar | Apr | May | Jun | Jul | Aug | Sep | Oct | Nov | Dec |\n",
       "|---|---|---|---|---|---|---|---|---|---|---|---|---|\n",
       "| 1969 |  867 |  825 |  806 |  814 |  991 |  945 | 1004 | 1091 |  958 |  850 | 1109 | 1113 |\n",
       "| 1970 |  925 |  903 | 1006 |  892 |  990 |  866 | 1095 | 1204 | 1029 | 1147 | 1171 | 1299 |\n",
       "| 1971 |  944 |  874 |  840 |  893 | 1007 |  973 | 1097 | 1194 |  988 | 1077 | 1045 | 1115 |\n",
       "| 1972 | 1005 |  857 |  879 |  887 | 1075 | 1121 | 1190 | 1058 |  939 | 1074 | 1089 | 1208 |\n",
       "| 1973 |  903 |  916 |  787 | 1114 | 1014 | 1022 | 1114 | 1132 | 1111 | 1008 |  916 |  992 |\n",
       "| 1974 |  731 |  665 |  724 |  744 |  910 |  883 |  900 | 1057 | 1076 |  919 |  920 |  953 |\n",
       "| 1975 |  664 |  607 |  777 |  633 |  791 |  790 |  803 |  884 |  769 |  732 |  859 |  994 |\n",
       "| 1976 |  704 |  684 |  671 |  643 |  771 |  644 |  828 |  748 |  767 |  825 |  810 |  986 |\n",
       "| 1977 |  714 |  567 |  616 |  678 |  742 |  840 |  888 |  852 |  774 |  831 |  889 | 1046 |\n",
       "| 1978 |  889 |  626 |  808 |  746 |  754 |  865 |  980 |  959 |  856 |  798 |  942 | 1010 |\n",
       "| 1979 |  796 |  643 |  794 |  750 |  809 |  716 |  851 |  931 |  834 |  762 |  880 | 1077 |\n",
       "| 1980 |  748 |  593 |  720 |  646 |  765 |  820 |  807 |  885 |  803 |  860 |  825 |  911 |\n",
       "| 1981 |  704 |  691 |  688 |  714 |  814 |  736 |  876 |  829 |  818 |  942 |  782 |  823 |\n",
       "| 1982 |  595 |  673 |  660 |  676 |  755 |  815 |  867 |  933 |  798 |  950 |  825 |  911 |\n",
       "| 1983 |  619 |  426 |  475 |  556 |  559 |  483 |  587 |  615 |  618 |  662 |  519 |  585 |\n",
       "| 1984 |  483 |  434 |  513 |  548 |  586 |  522 |  601 |  644 |  643 |  641 |  711 |  721 |\n",
       "\n"
      ],
      "text/plain": [
       "     Jan  Feb  Mar  Apr  May  Jun  Jul  Aug  Sep  Oct  Nov  Dec \n",
       "1969  867  825  806  814  991  945 1004 1091  958  850 1109 1113\n",
       "1970  925  903 1006  892  990  866 1095 1204 1029 1147 1171 1299\n",
       "1971  944  874  840  893 1007  973 1097 1194  988 1077 1045 1115\n",
       "1972 1005  857  879  887 1075 1121 1190 1058  939 1074 1089 1208\n",
       "1973  903  916  787 1114 1014 1022 1114 1132 1111 1008  916  992\n",
       "1974  731  665  724  744  910  883  900 1057 1076  919  920  953\n",
       "1975  664  607  777  633  791  790  803  884  769  732  859  994\n",
       "1976  704  684  671  643  771  644  828  748  767  825  810  986\n",
       "1977  714  567  616  678  742  840  888  852  774  831  889 1046\n",
       "1978  889  626  808  746  754  865  980  959  856  798  942 1010\n",
       "1979  796  643  794  750  809  716  851  931  834  762  880 1077\n",
       "1980  748  593  720  646  765  820  807  885  803  860  825  911\n",
       "1981  704  691  688  714  814  736  876  829  818  942  782  823\n",
       "1982  595  673  660  676  755  815  867  933  798  950  825  911\n",
       "1983  619  426  475  556  559  483  587  615  618  662  519  585\n",
       "1984  483  434  513  548  586  522  601  644  643  641  711  721"
      ]
     },
     "metadata": {},
     "output_type": "display_data"
    },
    {
     "data": {
      "text/html": [
       "<table>\n",
       "<caption>A Time Series: 17 × 12</caption>\n",
       "<thead>\n",
       "\t<tr><th></th><th scope=col>Jan</th><th scope=col>Feb</th><th scope=col>Mar</th><th scope=col>Apr</th><th scope=col>May</th><th scope=col>Jun</th><th scope=col>Jul</th><th scope=col>Aug</th><th scope=col>Sep</th><th scope=col>Oct</th><th scope=col>Nov</th><th scope=col>Dec</th></tr>\n",
       "</thead>\n",
       "<tbody>\n",
       "\t<tr><th scope=row>1969</th><td>    </td><td> 867</td><td> 825</td><td> 806</td><td> 814</td><td> 991</td><td> 945</td><td>1004</td><td>1091</td><td> 958</td><td> 850</td><td>1109</td></tr>\n",
       "\t<tr><th scope=row>1970</th><td>1113</td><td> 925</td><td> 903</td><td>1006</td><td> 892</td><td> 990</td><td> 866</td><td>1095</td><td>1204</td><td>1029</td><td>1147</td><td>1171</td></tr>\n",
       "\t<tr><th scope=row>1971</th><td>1299</td><td> 944</td><td> 874</td><td> 840</td><td> 893</td><td>1007</td><td> 973</td><td>1097</td><td>1194</td><td> 988</td><td>1077</td><td>1045</td></tr>\n",
       "\t<tr><th scope=row>1972</th><td>1115</td><td>1005</td><td> 857</td><td> 879</td><td> 887</td><td>1075</td><td>1121</td><td>1190</td><td>1058</td><td> 939</td><td>1074</td><td>1089</td></tr>\n",
       "\t<tr><th scope=row>1973</th><td>1208</td><td> 903</td><td> 916</td><td> 787</td><td>1114</td><td>1014</td><td>1022</td><td>1114</td><td>1132</td><td>1111</td><td>1008</td><td> 916</td></tr>\n",
       "\t<tr><th scope=row>1974</th><td> 992</td><td> 731</td><td> 665</td><td> 724</td><td> 744</td><td> 910</td><td> 883</td><td> 900</td><td>1057</td><td>1076</td><td> 919</td><td> 920</td></tr>\n",
       "\t<tr><th scope=row>1975</th><td> 953</td><td> 664</td><td> 607</td><td> 777</td><td> 633</td><td> 791</td><td> 790</td><td> 803</td><td> 884</td><td> 769</td><td> 732</td><td> 859</td></tr>\n",
       "\t<tr><th scope=row>1976</th><td> 994</td><td> 704</td><td> 684</td><td> 671</td><td> 643</td><td> 771</td><td> 644</td><td> 828</td><td> 748</td><td> 767</td><td> 825</td><td> 810</td></tr>\n",
       "\t<tr><th scope=row>1977</th><td> 986</td><td> 714</td><td> 567</td><td> 616</td><td> 678</td><td> 742</td><td> 840</td><td> 888</td><td> 852</td><td> 774</td><td> 831</td><td> 889</td></tr>\n",
       "\t<tr><th scope=row>1978</th><td>1046</td><td> 889</td><td> 626</td><td> 808</td><td> 746</td><td> 754</td><td> 865</td><td> 980</td><td> 959</td><td> 856</td><td> 798</td><td> 942</td></tr>\n",
       "\t<tr><th scope=row>1979</th><td>1010</td><td> 796</td><td> 643</td><td> 794</td><td> 750</td><td> 809</td><td> 716</td><td> 851</td><td> 931</td><td> 834</td><td> 762</td><td> 880</td></tr>\n",
       "\t<tr><th scope=row>1980</th><td>1077</td><td> 748</td><td> 593</td><td> 720</td><td> 646</td><td> 765</td><td> 820</td><td> 807</td><td> 885</td><td> 803</td><td> 860</td><td> 825</td></tr>\n",
       "\t<tr><th scope=row>1981</th><td> 911</td><td> 704</td><td> 691</td><td> 688</td><td> 714</td><td> 814</td><td> 736</td><td> 876</td><td> 829</td><td> 818</td><td> 942</td><td> 782</td></tr>\n",
       "\t<tr><th scope=row>1982</th><td> 823</td><td> 595</td><td> 673</td><td> 660</td><td> 676</td><td> 755</td><td> 815</td><td> 867</td><td> 933</td><td> 798</td><td> 950</td><td> 825</td></tr>\n",
       "\t<tr><th scope=row>1983</th><td> 911</td><td> 619</td><td> 426</td><td> 475</td><td> 556</td><td> 559</td><td> 483</td><td> 587</td><td> 615</td><td> 618</td><td> 662</td><td> 519</td></tr>\n",
       "\t<tr><th scope=row>1984</th><td> 585</td><td> 483</td><td> 434</td><td> 513</td><td> 548</td><td> 586</td><td> 522</td><td> 601</td><td> 644</td><td> 643</td><td> 641</td><td> 711</td></tr>\n",
       "\t<tr><th scope=row>1985</th><td> 721</td><td>    </td><td>    </td><td>    </td><td>    </td><td>    </td><td>    </td><td>    </td><td>    </td><td>    </td><td>    </td><td>    </td></tr>\n",
       "</tbody>\n",
       "</table>\n"
      ],
      "text/latex": [
       "A Time Series: 17 × 12\n",
       "\\begin{tabular}{r|llllllllllll}\n",
       "  & Jan & Feb & Mar & Apr & May & Jun & Jul & Aug & Sep & Oct & Nov & Dec\\\\\n",
       "\\hline\n",
       "\t1969 &      &  867 &  825 &  806 &  814 &  991 &  945 & 1004 & 1091 &  958 &  850 & 1109\\\\\n",
       "\t1970 & 1113 &  925 &  903 & 1006 &  892 &  990 &  866 & 1095 & 1204 & 1029 & 1147 & 1171\\\\\n",
       "\t1971 & 1299 &  944 &  874 &  840 &  893 & 1007 &  973 & 1097 & 1194 &  988 & 1077 & 1045\\\\\n",
       "\t1972 & 1115 & 1005 &  857 &  879 &  887 & 1075 & 1121 & 1190 & 1058 &  939 & 1074 & 1089\\\\\n",
       "\t1973 & 1208 &  903 &  916 &  787 & 1114 & 1014 & 1022 & 1114 & 1132 & 1111 & 1008 &  916\\\\\n",
       "\t1974 &  992 &  731 &  665 &  724 &  744 &  910 &  883 &  900 & 1057 & 1076 &  919 &  920\\\\\n",
       "\t1975 &  953 &  664 &  607 &  777 &  633 &  791 &  790 &  803 &  884 &  769 &  732 &  859\\\\\n",
       "\t1976 &  994 &  704 &  684 &  671 &  643 &  771 &  644 &  828 &  748 &  767 &  825 &  810\\\\\n",
       "\t1977 &  986 &  714 &  567 &  616 &  678 &  742 &  840 &  888 &  852 &  774 &  831 &  889\\\\\n",
       "\t1978 & 1046 &  889 &  626 &  808 &  746 &  754 &  865 &  980 &  959 &  856 &  798 &  942\\\\\n",
       "\t1979 & 1010 &  796 &  643 &  794 &  750 &  809 &  716 &  851 &  931 &  834 &  762 &  880\\\\\n",
       "\t1980 & 1077 &  748 &  593 &  720 &  646 &  765 &  820 &  807 &  885 &  803 &  860 &  825\\\\\n",
       "\t1981 &  911 &  704 &  691 &  688 &  714 &  814 &  736 &  876 &  829 &  818 &  942 &  782\\\\\n",
       "\t1982 &  823 &  595 &  673 &  660 &  676 &  755 &  815 &  867 &  933 &  798 &  950 &  825\\\\\n",
       "\t1983 &  911 &  619 &  426 &  475 &  556 &  559 &  483 &  587 &  615 &  618 &  662 &  519\\\\\n",
       "\t1984 &  585 &  483 &  434 &  513 &  548 &  586 &  522 &  601 &  644 &  643 &  641 &  711\\\\\n",
       "\t1985 &  721 &      &      &      &      &      &      &      &      &      &      &     \\\\\n",
       "\\end{tabular}\n"
      ],
      "text/markdown": [
       "\n",
       "A Time Series: 17 × 12\n",
       "\n",
       "| <!--/--> | Jan | Feb | Mar | Apr | May | Jun | Jul | Aug | Sep | Oct | Nov | Dec |\n",
       "|---|---|---|---|---|---|---|---|---|---|---|---|---|\n",
       "| 1969 | <!----> |  867 |  825 |  806 |  814 |  991 |  945 | 1004 | 1091 |  958 |  850 | 1109 |\n",
       "| 1970 | 1113 |  925 |  903 | 1006 |  892 |  990 |  866 | 1095 | 1204 | 1029 | 1147 | 1171 |\n",
       "| 1971 | 1299 |  944 |  874 |  840 |  893 | 1007 |  973 | 1097 | 1194 |  988 | 1077 | 1045 |\n",
       "| 1972 | 1115 | 1005 |  857 |  879 |  887 | 1075 | 1121 | 1190 | 1058 |  939 | 1074 | 1089 |\n",
       "| 1973 | 1208 |  903 |  916 |  787 | 1114 | 1014 | 1022 | 1114 | 1132 | 1111 | 1008 |  916 |\n",
       "| 1974 |  992 |  731 |  665 |  724 |  744 |  910 |  883 |  900 | 1057 | 1076 |  919 |  920 |\n",
       "| 1975 |  953 |  664 |  607 |  777 |  633 |  791 |  790 |  803 |  884 |  769 |  732 |  859 |\n",
       "| 1976 |  994 |  704 |  684 |  671 |  643 |  771 |  644 |  828 |  748 |  767 |  825 |  810 |\n",
       "| 1977 |  986 |  714 |  567 |  616 |  678 |  742 |  840 |  888 |  852 |  774 |  831 |  889 |\n",
       "| 1978 | 1046 |  889 |  626 |  808 |  746 |  754 |  865 |  980 |  959 |  856 |  798 |  942 |\n",
       "| 1979 | 1010 |  796 |  643 |  794 |  750 |  809 |  716 |  851 |  931 |  834 |  762 |  880 |\n",
       "| 1980 | 1077 |  748 |  593 |  720 |  646 |  765 |  820 |  807 |  885 |  803 |  860 |  825 |\n",
       "| 1981 |  911 |  704 |  691 |  688 |  714 |  814 |  736 |  876 |  829 |  818 |  942 |  782 |\n",
       "| 1982 |  823 |  595 |  673 |  660 |  676 |  755 |  815 |  867 |  933 |  798 |  950 |  825 |\n",
       "| 1983 |  911 |  619 |  426 |  475 |  556 |  559 |  483 |  587 |  615 |  618 |  662 |  519 |\n",
       "| 1984 |  585 |  483 |  434 |  513 |  548 |  586 |  522 |  601 |  644 |  643 |  641 |  711 |\n",
       "| 1985 |  721 | <!----> | <!----> | <!----> | <!----> | <!----> | <!----> | <!----> | <!----> | <!----> | <!----> | <!----> |\n",
       "\n"
      ],
      "text/plain": [
       "     Jan  Feb  Mar  Apr  May  Jun  Jul  Aug  Sep  Oct  Nov  Dec \n",
       "1969       867  825  806  814  991  945 1004 1091  958  850 1109\n",
       "1970 1113  925  903 1006  892  990  866 1095 1204 1029 1147 1171\n",
       "1971 1299  944  874  840  893 1007  973 1097 1194  988 1077 1045\n",
       "1972 1115 1005  857  879  887 1075 1121 1190 1058  939 1074 1089\n",
       "1973 1208  903  916  787 1114 1014 1022 1114 1132 1111 1008  916\n",
       "1974  992  731  665  724  744  910  883  900 1057 1076  919  920\n",
       "1975  953  664  607  777  633  791  790  803  884  769  732  859\n",
       "1976  994  704  684  671  643  771  644  828  748  767  825  810\n",
       "1977  986  714  567  616  678  742  840  888  852  774  831  889\n",
       "1978 1046  889  626  808  746  754  865  980  959  856  798  942\n",
       "1979 1010  796  643  794  750  809  716  851  931  834  762  880\n",
       "1980 1077  748  593  720  646  765  820  807  885  803  860  825\n",
       "1981  911  704  691  688  714  814  736  876  829  818  942  782\n",
       "1982  823  595  673  660  676  755  815  867  933  798  950  825\n",
       "1983  911  619  426  475  556  559  483  587  615  618  662  519\n",
       "1984  585  483  434  513  548  586  522  601  644  643  641  711\n",
       "1985  721                                                       "
      ]
     },
     "metadata": {},
     "output_type": "display_data"
    }
   ],
   "source": [
    "# ラグを取ってずらす\n",
    "# 原系列\n",
    "front\n",
    "\n",
    "# ラグをとったもの\n",
    "# 時点を一つ未来にずらす\n",
    "lag(front, -1)"
   ]
  },
  {
   "cell_type": "code",
   "execution_count": 13,
   "metadata": {},
   "outputs": [
    {
     "data": {
      "text/html": [
       "<table>\n",
       "<caption>A Time Series: 16 × 12</caption>\n",
       "<thead>\n",
       "\t<tr><th></th><th scope=col>Jan</th><th scope=col>Feb</th><th scope=col>Mar</th><th scope=col>Apr</th><th scope=col>May</th><th scope=col>Jun</th><th scope=col>Jul</th><th scope=col>Aug</th><th scope=col>Sep</th><th scope=col>Oct</th><th scope=col>Nov</th><th scope=col>Dec</th></tr>\n",
       "</thead>\n",
       "<tbody>\n",
       "\t<tr><th scope=row>1969</th><td>    </td><td> -42</td><td> -19</td><td>   8</td><td> 177</td><td> -46</td><td>  59</td><td>  87</td><td>-133</td><td>-108</td><td> 259</td><td>   4</td></tr>\n",
       "\t<tr><th scope=row>1970</th><td>-188</td><td> -22</td><td> 103</td><td>-114</td><td>  98</td><td>-124</td><td> 229</td><td> 109</td><td>-175</td><td> 118</td><td>  24</td><td> 128</td></tr>\n",
       "\t<tr><th scope=row>1971</th><td>-355</td><td> -70</td><td> -34</td><td>  53</td><td> 114</td><td> -34</td><td> 124</td><td>  97</td><td>-206</td><td>  89</td><td> -32</td><td>  70</td></tr>\n",
       "\t<tr><th scope=row>1972</th><td>-110</td><td>-148</td><td>  22</td><td>   8</td><td> 188</td><td>  46</td><td>  69</td><td>-132</td><td>-119</td><td> 135</td><td>  15</td><td> 119</td></tr>\n",
       "\t<tr><th scope=row>1973</th><td>-305</td><td>  13</td><td>-129</td><td> 327</td><td>-100</td><td>   8</td><td>  92</td><td>  18</td><td> -21</td><td>-103</td><td> -92</td><td>  76</td></tr>\n",
       "\t<tr><th scope=row>1974</th><td>-261</td><td> -66</td><td>  59</td><td>  20</td><td> 166</td><td> -27</td><td>  17</td><td> 157</td><td>  19</td><td>-157</td><td>   1</td><td>  33</td></tr>\n",
       "\t<tr><th scope=row>1975</th><td>-289</td><td> -57</td><td> 170</td><td>-144</td><td> 158</td><td>  -1</td><td>  13</td><td>  81</td><td>-115</td><td> -37</td><td> 127</td><td> 135</td></tr>\n",
       "\t<tr><th scope=row>1976</th><td>-290</td><td> -20</td><td> -13</td><td> -28</td><td> 128</td><td>-127</td><td> 184</td><td> -80</td><td>  19</td><td>  58</td><td> -15</td><td> 176</td></tr>\n",
       "\t<tr><th scope=row>1977</th><td>-272</td><td>-147</td><td>  49</td><td>  62</td><td>  64</td><td>  98</td><td>  48</td><td> -36</td><td> -78</td><td>  57</td><td>  58</td><td> 157</td></tr>\n",
       "\t<tr><th scope=row>1978</th><td>-157</td><td>-263</td><td> 182</td><td> -62</td><td>   8</td><td> 111</td><td> 115</td><td> -21</td><td>-103</td><td> -58</td><td> 144</td><td>  68</td></tr>\n",
       "\t<tr><th scope=row>1979</th><td>-214</td><td>-153</td><td> 151</td><td> -44</td><td>  59</td><td> -93</td><td> 135</td><td>  80</td><td> -97</td><td> -72</td><td> 118</td><td> 197</td></tr>\n",
       "\t<tr><th scope=row>1980</th><td>-329</td><td>-155</td><td> 127</td><td> -74</td><td> 119</td><td>  55</td><td> -13</td><td>  78</td><td> -82</td><td>  57</td><td> -35</td><td>  86</td></tr>\n",
       "\t<tr><th scope=row>1981</th><td>-207</td><td> -13</td><td>  -3</td><td>  26</td><td> 100</td><td> -78</td><td> 140</td><td> -47</td><td> -11</td><td> 124</td><td>-160</td><td>  41</td></tr>\n",
       "\t<tr><th scope=row>1982</th><td>-228</td><td>  78</td><td> -13</td><td>  16</td><td>  79</td><td>  60</td><td>  52</td><td>  66</td><td>-135</td><td> 152</td><td>-125</td><td>  86</td></tr>\n",
       "\t<tr><th scope=row>1983</th><td>-292</td><td>-193</td><td>  49</td><td>  81</td><td>   3</td><td> -76</td><td> 104</td><td>  28</td><td>   3</td><td>  44</td><td>-143</td><td>  66</td></tr>\n",
       "\t<tr><th scope=row>1984</th><td>-102</td><td> -49</td><td>  79</td><td>  35</td><td>  38</td><td> -64</td><td>  79</td><td>  43</td><td>  -1</td><td>  -2</td><td>  70</td><td>  10</td></tr>\n",
       "</tbody>\n",
       "</table>\n"
      ],
      "text/latex": [
       "A Time Series: 16 × 12\n",
       "\\begin{tabular}{r|llllllllllll}\n",
       "  & Jan & Feb & Mar & Apr & May & Jun & Jul & Aug & Sep & Oct & Nov & Dec\\\\\n",
       "\\hline\n",
       "\t1969 &      &  -42 &  -19 &    8 &  177 &  -46 &   59 &   87 & -133 & -108 &  259 &    4\\\\\n",
       "\t1970 & -188 &  -22 &  103 & -114 &   98 & -124 &  229 &  109 & -175 &  118 &   24 &  128\\\\\n",
       "\t1971 & -355 &  -70 &  -34 &   53 &  114 &  -34 &  124 &   97 & -206 &   89 &  -32 &   70\\\\\n",
       "\t1972 & -110 & -148 &   22 &    8 &  188 &   46 &   69 & -132 & -119 &  135 &   15 &  119\\\\\n",
       "\t1973 & -305 &   13 & -129 &  327 & -100 &    8 &   92 &   18 &  -21 & -103 &  -92 &   76\\\\\n",
       "\t1974 & -261 &  -66 &   59 &   20 &  166 &  -27 &   17 &  157 &   19 & -157 &    1 &   33\\\\\n",
       "\t1975 & -289 &  -57 &  170 & -144 &  158 &   -1 &   13 &   81 & -115 &  -37 &  127 &  135\\\\\n",
       "\t1976 & -290 &  -20 &  -13 &  -28 &  128 & -127 &  184 &  -80 &   19 &   58 &  -15 &  176\\\\\n",
       "\t1977 & -272 & -147 &   49 &   62 &   64 &   98 &   48 &  -36 &  -78 &   57 &   58 &  157\\\\\n",
       "\t1978 & -157 & -263 &  182 &  -62 &    8 &  111 &  115 &  -21 & -103 &  -58 &  144 &   68\\\\\n",
       "\t1979 & -214 & -153 &  151 &  -44 &   59 &  -93 &  135 &   80 &  -97 &  -72 &  118 &  197\\\\\n",
       "\t1980 & -329 & -155 &  127 &  -74 &  119 &   55 &  -13 &   78 &  -82 &   57 &  -35 &   86\\\\\n",
       "\t1981 & -207 &  -13 &   -3 &   26 &  100 &  -78 &  140 &  -47 &  -11 &  124 & -160 &   41\\\\\n",
       "\t1982 & -228 &   78 &  -13 &   16 &   79 &   60 &   52 &   66 & -135 &  152 & -125 &   86\\\\\n",
       "\t1983 & -292 & -193 &   49 &   81 &    3 &  -76 &  104 &   28 &    3 &   44 & -143 &   66\\\\\n",
       "\t1984 & -102 &  -49 &   79 &   35 &   38 &  -64 &   79 &   43 &   -1 &   -2 &   70 &   10\\\\\n",
       "\\end{tabular}\n"
      ],
      "text/markdown": [
       "\n",
       "A Time Series: 16 × 12\n",
       "\n",
       "| <!--/--> | Jan | Feb | Mar | Apr | May | Jun | Jul | Aug | Sep | Oct | Nov | Dec |\n",
       "|---|---|---|---|---|---|---|---|---|---|---|---|---|\n",
       "| 1969 | <!----> |  -42 |  -19 |    8 |  177 |  -46 |   59 |   87 | -133 | -108 |  259 |    4 |\n",
       "| 1970 | -188 |  -22 |  103 | -114 |   98 | -124 |  229 |  109 | -175 |  118 |   24 |  128 |\n",
       "| 1971 | -355 |  -70 |  -34 |   53 |  114 |  -34 |  124 |   97 | -206 |   89 |  -32 |   70 |\n",
       "| 1972 | -110 | -148 |   22 |    8 |  188 |   46 |   69 | -132 | -119 |  135 |   15 |  119 |\n",
       "| 1973 | -305 |   13 | -129 |  327 | -100 |    8 |   92 |   18 |  -21 | -103 |  -92 |   76 |\n",
       "| 1974 | -261 |  -66 |   59 |   20 |  166 |  -27 |   17 |  157 |   19 | -157 |    1 |   33 |\n",
       "| 1975 | -289 |  -57 |  170 | -144 |  158 |   -1 |   13 |   81 | -115 |  -37 |  127 |  135 |\n",
       "| 1976 | -290 |  -20 |  -13 |  -28 |  128 | -127 |  184 |  -80 |   19 |   58 |  -15 |  176 |\n",
       "| 1977 | -272 | -147 |   49 |   62 |   64 |   98 |   48 |  -36 |  -78 |   57 |   58 |  157 |\n",
       "| 1978 | -157 | -263 |  182 |  -62 |    8 |  111 |  115 |  -21 | -103 |  -58 |  144 |   68 |\n",
       "| 1979 | -214 | -153 |  151 |  -44 |   59 |  -93 |  135 |   80 |  -97 |  -72 |  118 |  197 |\n",
       "| 1980 | -329 | -155 |  127 |  -74 |  119 |   55 |  -13 |   78 |  -82 |   57 |  -35 |   86 |\n",
       "| 1981 | -207 |  -13 |   -3 |   26 |  100 |  -78 |  140 |  -47 |  -11 |  124 | -160 |   41 |\n",
       "| 1982 | -228 |   78 |  -13 |   16 |   79 |   60 |   52 |   66 | -135 |  152 | -125 |   86 |\n",
       "| 1983 | -292 | -193 |   49 |   81 |    3 |  -76 |  104 |   28 |    3 |   44 | -143 |   66 |\n",
       "| 1984 | -102 |  -49 |   79 |   35 |   38 |  -64 |   79 |   43 |   -1 |   -2 |   70 |   10 |\n",
       "\n"
      ],
      "text/plain": [
       "     Jan  Feb  Mar  Apr  May  Jun  Jul  Aug  Sep  Oct  Nov  Dec \n",
       "1969       -42  -19    8  177  -46   59   87 -133 -108  259    4\n",
       "1970 -188  -22  103 -114   98 -124  229  109 -175  118   24  128\n",
       "1971 -355  -70  -34   53  114  -34  124   97 -206   89  -32   70\n",
       "1972 -110 -148   22    8  188   46   69 -132 -119  135   15  119\n",
       "1973 -305   13 -129  327 -100    8   92   18  -21 -103  -92   76\n",
       "1974 -261  -66   59   20  166  -27   17  157   19 -157    1   33\n",
       "1975 -289  -57  170 -144  158   -1   13   81 -115  -37  127  135\n",
       "1976 -290  -20  -13  -28  128 -127  184  -80   19   58  -15  176\n",
       "1977 -272 -147   49   62   64   98   48  -36  -78   57   58  157\n",
       "1978 -157 -263  182  -62    8  111  115  -21 -103  -58  144   68\n",
       "1979 -214 -153  151  -44   59  -93  135   80  -97  -72  118  197\n",
       "1980 -329 -155  127  -74  119   55  -13   78  -82   57  -35   86\n",
       "1981 -207  -13   -3   26  100  -78  140  -47  -11  124 -160   41\n",
       "1982 -228   78  -13   16   79   60   52   66 -135  152 -125   86\n",
       "1983 -292 -193   49   81    3  -76  104   28    3   44 -143   66\n",
       "1984 -102  -49   79   35   38  -64   79   43   -1   -2   70   10"
      ]
     },
     "metadata": {},
     "output_type": "display_data"
    }
   ],
   "source": [
    "# 原系列からラグをとったデータを引けば差分系列がとれる\n",
    "front - lag(front, -1)"
   ]
  },
  {
   "cell_type": "code",
   "execution_count": 14,
   "metadata": {},
   "outputs": [
    {
     "data": {
      "text/html": [
       "<table>\n",
       "<caption>A Time Series: 16 × 12</caption>\n",
       "<thead>\n",
       "\t<tr><th></th><th scope=col>Jan</th><th scope=col>Feb</th><th scope=col>Mar</th><th scope=col>Apr</th><th scope=col>May</th><th scope=col>Jun</th><th scope=col>Jul</th><th scope=col>Aug</th><th scope=col>Sep</th><th scope=col>Oct</th><th scope=col>Nov</th><th scope=col>Dec</th></tr>\n",
       "</thead>\n",
       "<tbody>\n",
       "\t<tr><th scope=row>1969</th><td>    </td><td> -42</td><td> -19</td><td>   8</td><td> 177</td><td> -46</td><td>  59</td><td>  87</td><td>-133</td><td>-108</td><td> 259</td><td>   4</td></tr>\n",
       "\t<tr><th scope=row>1970</th><td>-188</td><td> -22</td><td> 103</td><td>-114</td><td>  98</td><td>-124</td><td> 229</td><td> 109</td><td>-175</td><td> 118</td><td>  24</td><td> 128</td></tr>\n",
       "\t<tr><th scope=row>1971</th><td>-355</td><td> -70</td><td> -34</td><td>  53</td><td> 114</td><td> -34</td><td> 124</td><td>  97</td><td>-206</td><td>  89</td><td> -32</td><td>  70</td></tr>\n",
       "\t<tr><th scope=row>1972</th><td>-110</td><td>-148</td><td>  22</td><td>   8</td><td> 188</td><td>  46</td><td>  69</td><td>-132</td><td>-119</td><td> 135</td><td>  15</td><td> 119</td></tr>\n",
       "\t<tr><th scope=row>1973</th><td>-305</td><td>  13</td><td>-129</td><td> 327</td><td>-100</td><td>   8</td><td>  92</td><td>  18</td><td> -21</td><td>-103</td><td> -92</td><td>  76</td></tr>\n",
       "\t<tr><th scope=row>1974</th><td>-261</td><td> -66</td><td>  59</td><td>  20</td><td> 166</td><td> -27</td><td>  17</td><td> 157</td><td>  19</td><td>-157</td><td>   1</td><td>  33</td></tr>\n",
       "\t<tr><th scope=row>1975</th><td>-289</td><td> -57</td><td> 170</td><td>-144</td><td> 158</td><td>  -1</td><td>  13</td><td>  81</td><td>-115</td><td> -37</td><td> 127</td><td> 135</td></tr>\n",
       "\t<tr><th scope=row>1976</th><td>-290</td><td> -20</td><td> -13</td><td> -28</td><td> 128</td><td>-127</td><td> 184</td><td> -80</td><td>  19</td><td>  58</td><td> -15</td><td> 176</td></tr>\n",
       "\t<tr><th scope=row>1977</th><td>-272</td><td>-147</td><td>  49</td><td>  62</td><td>  64</td><td>  98</td><td>  48</td><td> -36</td><td> -78</td><td>  57</td><td>  58</td><td> 157</td></tr>\n",
       "\t<tr><th scope=row>1978</th><td>-157</td><td>-263</td><td> 182</td><td> -62</td><td>   8</td><td> 111</td><td> 115</td><td> -21</td><td>-103</td><td> -58</td><td> 144</td><td>  68</td></tr>\n",
       "\t<tr><th scope=row>1979</th><td>-214</td><td>-153</td><td> 151</td><td> -44</td><td>  59</td><td> -93</td><td> 135</td><td>  80</td><td> -97</td><td> -72</td><td> 118</td><td> 197</td></tr>\n",
       "\t<tr><th scope=row>1980</th><td>-329</td><td>-155</td><td> 127</td><td> -74</td><td> 119</td><td>  55</td><td> -13</td><td>  78</td><td> -82</td><td>  57</td><td> -35</td><td>  86</td></tr>\n",
       "\t<tr><th scope=row>1981</th><td>-207</td><td> -13</td><td>  -3</td><td>  26</td><td> 100</td><td> -78</td><td> 140</td><td> -47</td><td> -11</td><td> 124</td><td>-160</td><td>  41</td></tr>\n",
       "\t<tr><th scope=row>1982</th><td>-228</td><td>  78</td><td> -13</td><td>  16</td><td>  79</td><td>  60</td><td>  52</td><td>  66</td><td>-135</td><td> 152</td><td>-125</td><td>  86</td></tr>\n",
       "\t<tr><th scope=row>1983</th><td>-292</td><td>-193</td><td>  49</td><td>  81</td><td>   3</td><td> -76</td><td> 104</td><td>  28</td><td>   3</td><td>  44</td><td>-143</td><td>  66</td></tr>\n",
       "\t<tr><th scope=row>1984</th><td>-102</td><td> -49</td><td>  79</td><td>  35</td><td>  38</td><td> -64</td><td>  79</td><td>  43</td><td>  -1</td><td>  -2</td><td>  70</td><td>  10</td></tr>\n",
       "</tbody>\n",
       "</table>\n"
      ],
      "text/latex": [
       "A Time Series: 16 × 12\n",
       "\\begin{tabular}{r|llllllllllll}\n",
       "  & Jan & Feb & Mar & Apr & May & Jun & Jul & Aug & Sep & Oct & Nov & Dec\\\\\n",
       "\\hline\n",
       "\t1969 &      &  -42 &  -19 &    8 &  177 &  -46 &   59 &   87 & -133 & -108 &  259 &    4\\\\\n",
       "\t1970 & -188 &  -22 &  103 & -114 &   98 & -124 &  229 &  109 & -175 &  118 &   24 &  128\\\\\n",
       "\t1971 & -355 &  -70 &  -34 &   53 &  114 &  -34 &  124 &   97 & -206 &   89 &  -32 &   70\\\\\n",
       "\t1972 & -110 & -148 &   22 &    8 &  188 &   46 &   69 & -132 & -119 &  135 &   15 &  119\\\\\n",
       "\t1973 & -305 &   13 & -129 &  327 & -100 &    8 &   92 &   18 &  -21 & -103 &  -92 &   76\\\\\n",
       "\t1974 & -261 &  -66 &   59 &   20 &  166 &  -27 &   17 &  157 &   19 & -157 &    1 &   33\\\\\n",
       "\t1975 & -289 &  -57 &  170 & -144 &  158 &   -1 &   13 &   81 & -115 &  -37 &  127 &  135\\\\\n",
       "\t1976 & -290 &  -20 &  -13 &  -28 &  128 & -127 &  184 &  -80 &   19 &   58 &  -15 &  176\\\\\n",
       "\t1977 & -272 & -147 &   49 &   62 &   64 &   98 &   48 &  -36 &  -78 &   57 &   58 &  157\\\\\n",
       "\t1978 & -157 & -263 &  182 &  -62 &    8 &  111 &  115 &  -21 & -103 &  -58 &  144 &   68\\\\\n",
       "\t1979 & -214 & -153 &  151 &  -44 &   59 &  -93 &  135 &   80 &  -97 &  -72 &  118 &  197\\\\\n",
       "\t1980 & -329 & -155 &  127 &  -74 &  119 &   55 &  -13 &   78 &  -82 &   57 &  -35 &   86\\\\\n",
       "\t1981 & -207 &  -13 &   -3 &   26 &  100 &  -78 &  140 &  -47 &  -11 &  124 & -160 &   41\\\\\n",
       "\t1982 & -228 &   78 &  -13 &   16 &   79 &   60 &   52 &   66 & -135 &  152 & -125 &   86\\\\\n",
       "\t1983 & -292 & -193 &   49 &   81 &    3 &  -76 &  104 &   28 &    3 &   44 & -143 &   66\\\\\n",
       "\t1984 & -102 &  -49 &   79 &   35 &   38 &  -64 &   79 &   43 &   -1 &   -2 &   70 &   10\\\\\n",
       "\\end{tabular}\n"
      ],
      "text/markdown": [
       "\n",
       "A Time Series: 16 × 12\n",
       "\n",
       "| <!--/--> | Jan | Feb | Mar | Apr | May | Jun | Jul | Aug | Sep | Oct | Nov | Dec |\n",
       "|---|---|---|---|---|---|---|---|---|---|---|---|---|\n",
       "| 1969 | <!----> |  -42 |  -19 |    8 |  177 |  -46 |   59 |   87 | -133 | -108 |  259 |    4 |\n",
       "| 1970 | -188 |  -22 |  103 | -114 |   98 | -124 |  229 |  109 | -175 |  118 |   24 |  128 |\n",
       "| 1971 | -355 |  -70 |  -34 |   53 |  114 |  -34 |  124 |   97 | -206 |   89 |  -32 |   70 |\n",
       "| 1972 | -110 | -148 |   22 |    8 |  188 |   46 |   69 | -132 | -119 |  135 |   15 |  119 |\n",
       "| 1973 | -305 |   13 | -129 |  327 | -100 |    8 |   92 |   18 |  -21 | -103 |  -92 |   76 |\n",
       "| 1974 | -261 |  -66 |   59 |   20 |  166 |  -27 |   17 |  157 |   19 | -157 |    1 |   33 |\n",
       "| 1975 | -289 |  -57 |  170 | -144 |  158 |   -1 |   13 |   81 | -115 |  -37 |  127 |  135 |\n",
       "| 1976 | -290 |  -20 |  -13 |  -28 |  128 | -127 |  184 |  -80 |   19 |   58 |  -15 |  176 |\n",
       "| 1977 | -272 | -147 |   49 |   62 |   64 |   98 |   48 |  -36 |  -78 |   57 |   58 |  157 |\n",
       "| 1978 | -157 | -263 |  182 |  -62 |    8 |  111 |  115 |  -21 | -103 |  -58 |  144 |   68 |\n",
       "| 1979 | -214 | -153 |  151 |  -44 |   59 |  -93 |  135 |   80 |  -97 |  -72 |  118 |  197 |\n",
       "| 1980 | -329 | -155 |  127 |  -74 |  119 |   55 |  -13 |   78 |  -82 |   57 |  -35 |   86 |\n",
       "| 1981 | -207 |  -13 |   -3 |   26 |  100 |  -78 |  140 |  -47 |  -11 |  124 | -160 |   41 |\n",
       "| 1982 | -228 |   78 |  -13 |   16 |   79 |   60 |   52 |   66 | -135 |  152 | -125 |   86 |\n",
       "| 1983 | -292 | -193 |   49 |   81 |    3 |  -76 |  104 |   28 |    3 |   44 | -143 |   66 |\n",
       "| 1984 | -102 |  -49 |   79 |   35 |   38 |  -64 |   79 |   43 |   -1 |   -2 |   70 |   10 |\n",
       "\n"
      ],
      "text/plain": [
       "     Jan  Feb  Mar  Apr  May  Jun  Jul  Aug  Sep  Oct  Nov  Dec \n",
       "1969       -42  -19    8  177  -46   59   87 -133 -108  259    4\n",
       "1970 -188  -22  103 -114   98 -124  229  109 -175  118   24  128\n",
       "1971 -355  -70  -34   53  114  -34  124   97 -206   89  -32   70\n",
       "1972 -110 -148   22    8  188   46   69 -132 -119  135   15  119\n",
       "1973 -305   13 -129  327 -100    8   92   18  -21 -103  -92   76\n",
       "1974 -261  -66   59   20  166  -27   17  157   19 -157    1   33\n",
       "1975 -289  -57  170 -144  158   -1   13   81 -115  -37  127  135\n",
       "1976 -290  -20  -13  -28  128 -127  184  -80   19   58  -15  176\n",
       "1977 -272 -147   49   62   64   98   48  -36  -78   57   58  157\n",
       "1978 -157 -263  182  -62    8  111  115  -21 -103  -58  144   68\n",
       "1979 -214 -153  151  -44   59  -93  135   80  -97  -72  118  197\n",
       "1980 -329 -155  127  -74  119   55  -13   78  -82   57  -35   86\n",
       "1981 -207  -13   -3   26  100  -78  140  -47  -11  124 -160   41\n",
       "1982 -228   78  -13   16   79   60   52   66 -135  152 -125   86\n",
       "1983 -292 -193   49   81    3  -76  104   28    3   44 -143   66\n",
       "1984 -102  -49   79   35   38  -64   79   43   -1   -2   70   10"
      ]
     },
     "metadata": {},
     "output_type": "display_data"
    }
   ],
   "source": [
    "# もっと簡単にdiff関数を使う\n",
    "diff(front, lag=1) # default=1"
   ]
  },
  {
   "cell_type": "code",
   "execution_count": 15,
   "metadata": {},
   "outputs": [
    {
     "data": {
      "image/png": "[encoded data removed]",
      "text/plain": [
       "plot without title"
      ]
     },
     "metadata": {
      "image/png": {
       "height": 360,
       "width": 840
      }
     },
     "output_type": "display_data"
    }
   ],
   "source": [
    "# 対数差分系列が欲しい\n",
    "log_diff <- diff(log_front, lag=1)\n",
    "\n",
    "# 図示\n",
    "ggtsdisplay(log_diff, main=\"対数差分系列\")"
   ]
  },
  {
   "cell_type": "markdown",
   "metadata": {},
   "source": [
    "- 平均値が変化せず、定常過程っぽい波形になっているので単位根がなくなっていると見なせる\n",
    "- 短期の自己相関は減ったが、不規則に絶対値の大きな自己相関がみられる\n",
    "- 1年単位での自己相関も目立つ"
   ]
  },
  {
   "cell_type": "markdown",
   "metadata": {},
   "source": [
    "## 季節成分の取り扱い  \n",
    "\n",
    "1年単位での自己相関がある⇒季節成分があるとみなせる   \n",
    "月ごとに分けたグラフを書いてみる。"
   ]
  },
  {
   "cell_type": "code",
   "execution_count": 16,
   "metadata": {},
   "outputs": [
    {
     "data": {
      "image/png": "[encoded data removed]",
      "text/plain": [
       "plot without title"
      ]
     },
     "metadata": {
      "image/png": {
       "height": 360,
       "width": 840
      }
     },
     "output_type": "display_data"
    }
   ],
   "source": [
    "ggsubseriesplot(front)"
   ]
  },
  {
   "cell_type": "code",
   "execution_count": 18,
   "metadata": {},
   "outputs": [
    {
     "data": {
      "text/html": [
       "12"
      ],
      "text/latex": [
       "12"
      ],
      "text/markdown": [
       "12"
      ],
      "text/plain": [
       "[1] 12"
      ]
     },
     "metadata": {},
     "output_type": "display_data"
    },
    {
     "data": {
      "text/html": [
       "<table>\n",
       "<caption>A Time Series: 15 × 12</caption>\n",
       "<thead>\n",
       "\t<tr><th></th><th scope=col>Jan</th><th scope=col>Feb</th><th scope=col>Mar</th><th scope=col>Apr</th><th scope=col>May</th><th scope=col>Jun</th><th scope=col>Jul</th><th scope=col>Aug</th><th scope=col>Sep</th><th scope=col>Oct</th><th scope=col>Nov</th><th scope=col>Dec</th></tr>\n",
       "</thead>\n",
       "<tbody>\n",
       "\t<tr><th scope=row>1970</th><td>  58</td><td>  78</td><td> 200</td><td>  78</td><td>  -1</td><td> -79</td><td>  91</td><td> 113</td><td>  71</td><td> 297</td><td>  62</td><td> 186</td></tr>\n",
       "\t<tr><th scope=row>1971</th><td>  19</td><td> -29</td><td>-166</td><td>   1</td><td>  17</td><td> 107</td><td>   2</td><td> -10</td><td> -41</td><td> -70</td><td>-126</td><td>-184</td></tr>\n",
       "\t<tr><th scope=row>1972</th><td>  61</td><td> -17</td><td>  39</td><td>  -6</td><td>  68</td><td> 148</td><td>  93</td><td>-136</td><td> -49</td><td>  -3</td><td>  44</td><td>  93</td></tr>\n",
       "\t<tr><th scope=row>1973</th><td>-102</td><td>  59</td><td> -92</td><td> 227</td><td> -61</td><td> -99</td><td> -76</td><td>  74</td><td> 172</td><td> -66</td><td>-173</td><td>-216</td></tr>\n",
       "\t<tr><th scope=row>1974</th><td>-172</td><td>-251</td><td> -63</td><td>-370</td><td>-104</td><td>-139</td><td>-214</td><td> -75</td><td> -35</td><td> -89</td><td>   4</td><td> -39</td></tr>\n",
       "\t<tr><th scope=row>1975</th><td> -67</td><td> -58</td><td>  53</td><td>-111</td><td>-119</td><td> -93</td><td> -97</td><td>-173</td><td>-307</td><td>-187</td><td> -61</td><td>  41</td></tr>\n",
       "\t<tr><th scope=row>1976</th><td>  40</td><td>  77</td><td>-106</td><td>  10</td><td> -20</td><td>-146</td><td>  25</td><td>-136</td><td>  -2</td><td>  93</td><td> -49</td><td>  -8</td></tr>\n",
       "\t<tr><th scope=row>1977</th><td>  10</td><td>-117</td><td> -55</td><td>  35</td><td> -29</td><td> 196</td><td>  60</td><td> 104</td><td>   7</td><td>   6</td><td>  79</td><td>  60</td></tr>\n",
       "\t<tr><th scope=row>1978</th><td> 175</td><td>  59</td><td> 192</td><td>  68</td><td>  12</td><td>  25</td><td>  92</td><td> 107</td><td>  82</td><td> -33</td><td>  53</td><td> -36</td></tr>\n",
       "\t<tr><th scope=row>1979</th><td> -93</td><td>  17</td><td> -14</td><td>   4</td><td>  55</td><td>-149</td><td>-129</td><td> -28</td><td> -22</td><td> -36</td><td> -62</td><td>  67</td></tr>\n",
       "\t<tr><th scope=row>1980</th><td> -48</td><td> -50</td><td> -74</td><td>-104</td><td> -44</td><td> 104</td><td> -44</td><td> -46</td><td> -31</td><td>  98</td><td> -55</td><td>-166</td></tr>\n",
       "\t<tr><th scope=row>1981</th><td> -44</td><td>  98</td><td> -32</td><td>  68</td><td>  49</td><td> -84</td><td>  69</td><td> -56</td><td>  15</td><td>  82</td><td> -43</td><td> -88</td></tr>\n",
       "\t<tr><th scope=row>1982</th><td>-109</td><td> -18</td><td> -28</td><td> -38</td><td> -59</td><td>  79</td><td>  -9</td><td> 104</td><td> -20</td><td>   8</td><td>  43</td><td>  88</td></tr>\n",
       "\t<tr><th scope=row>1983</th><td>  24</td><td>-247</td><td>-185</td><td>-120</td><td>-196</td><td>-332</td><td>-280</td><td>-318</td><td>-180</td><td>-288</td><td>-306</td><td>-326</td></tr>\n",
       "\t<tr><th scope=row>1984</th><td>-136</td><td>   8</td><td>  38</td><td>  -8</td><td>  27</td><td>  39</td><td>  14</td><td>  29</td><td>  25</td><td> -21</td><td> 192</td><td> 136</td></tr>\n",
       "</tbody>\n",
       "</table>\n"
      ],
      "text/latex": [
       "A Time Series: 15 × 12\n",
       "\\begin{tabular}{r|llllllllllll}\n",
       "  & Jan & Feb & Mar & Apr & May & Jun & Jul & Aug & Sep & Oct & Nov & Dec\\\\\n",
       "\\hline\n",
       "\t1970 &   58 &   78 &  200 &   78 &   -1 &  -79 &   91 &  113 &   71 &  297 &   62 &  186\\\\\n",
       "\t1971 &   19 &  -29 & -166 &    1 &   17 &  107 &    2 &  -10 &  -41 &  -70 & -126 & -184\\\\\n",
       "\t1972 &   61 &  -17 &   39 &   -6 &   68 &  148 &   93 & -136 &  -49 &   -3 &   44 &   93\\\\\n",
       "\t1973 & -102 &   59 &  -92 &  227 &  -61 &  -99 &  -76 &   74 &  172 &  -66 & -173 & -216\\\\\n",
       "\t1974 & -172 & -251 &  -63 & -370 & -104 & -139 & -214 &  -75 &  -35 &  -89 &    4 &  -39\\\\\n",
       "\t1975 &  -67 &  -58 &   53 & -111 & -119 &  -93 &  -97 & -173 & -307 & -187 &  -61 &   41\\\\\n",
       "\t1976 &   40 &   77 & -106 &   10 &  -20 & -146 &   25 & -136 &   -2 &   93 &  -49 &   -8\\\\\n",
       "\t1977 &   10 & -117 &  -55 &   35 &  -29 &  196 &   60 &  104 &    7 &    6 &   79 &   60\\\\\n",
       "\t1978 &  175 &   59 &  192 &   68 &   12 &   25 &   92 &  107 &   82 &  -33 &   53 &  -36\\\\\n",
       "\t1979 &  -93 &   17 &  -14 &    4 &   55 & -149 & -129 &  -28 &  -22 &  -36 &  -62 &   67\\\\\n",
       "\t1980 &  -48 &  -50 &  -74 & -104 &  -44 &  104 &  -44 &  -46 &  -31 &   98 &  -55 & -166\\\\\n",
       "\t1981 &  -44 &   98 &  -32 &   68 &   49 &  -84 &   69 &  -56 &   15 &   82 &  -43 &  -88\\\\\n",
       "\t1982 & -109 &  -18 &  -28 &  -38 &  -59 &   79 &   -9 &  104 &  -20 &    8 &   43 &   88\\\\\n",
       "\t1983 &   24 & -247 & -185 & -120 & -196 & -332 & -280 & -318 & -180 & -288 & -306 & -326\\\\\n",
       "\t1984 & -136 &    8 &   38 &   -8 &   27 &   39 &   14 &   29 &   25 &  -21 &  192 &  136\\\\\n",
       "\\end{tabular}\n"
      ],
      "text/markdown": [
       "\n",
       "A Time Series: 15 × 12\n",
       "\n",
       "| <!--/--> | Jan | Feb | Mar | Apr | May | Jun | Jul | Aug | Sep | Oct | Nov | Dec |\n",
       "|---|---|---|---|---|---|---|---|---|---|---|---|---|\n",
       "| 1970 |   58 |   78 |  200 |   78 |   -1 |  -79 |   91 |  113 |   71 |  297 |   62 |  186 |\n",
       "| 1971 |   19 |  -29 | -166 |    1 |   17 |  107 |    2 |  -10 |  -41 |  -70 | -126 | -184 |\n",
       "| 1972 |   61 |  -17 |   39 |   -6 |   68 |  148 |   93 | -136 |  -49 |   -3 |   44 |   93 |\n",
       "| 1973 | -102 |   59 |  -92 |  227 |  -61 |  -99 |  -76 |   74 |  172 |  -66 | -173 | -216 |\n",
       "| 1974 | -172 | -251 |  -63 | -370 | -104 | -139 | -214 |  -75 |  -35 |  -89 |    4 |  -39 |\n",
       "| 1975 |  -67 |  -58 |   53 | -111 | -119 |  -93 |  -97 | -173 | -307 | -187 |  -61 |   41 |\n",
       "| 1976 |   40 |   77 | -106 |   10 |  -20 | -146 |   25 | -136 |   -2 |   93 |  -49 |   -8 |\n",
       "| 1977 |   10 | -117 |  -55 |   35 |  -29 |  196 |   60 |  104 |    7 |    6 |   79 |   60 |\n",
       "| 1978 |  175 |   59 |  192 |   68 |   12 |   25 |   92 |  107 |   82 |  -33 |   53 |  -36 |\n",
       "| 1979 |  -93 |   17 |  -14 |    4 |   55 | -149 | -129 |  -28 |  -22 |  -36 |  -62 |   67 |\n",
       "| 1980 |  -48 |  -50 |  -74 | -104 |  -44 |  104 |  -44 |  -46 |  -31 |   98 |  -55 | -166 |\n",
       "| 1981 |  -44 |   98 |  -32 |   68 |   49 |  -84 |   69 |  -56 |   15 |   82 |  -43 |  -88 |\n",
       "| 1982 | -109 |  -18 |  -28 |  -38 |  -59 |   79 |   -9 |  104 |  -20 |    8 |   43 |   88 |\n",
       "| 1983 |   24 | -247 | -185 | -120 | -196 | -332 | -280 | -318 | -180 | -288 | -306 | -326 |\n",
       "| 1984 | -136 |    8 |   38 |   -8 |   27 |   39 |   14 |   29 |   25 |  -21 |  192 |  136 |\n",
       "\n"
      ],
      "text/plain": [
       "     Jan  Feb  Mar  Apr  May  Jun  Jul  Aug  Sep  Oct  Nov  Dec \n",
       "1970   58   78  200   78   -1  -79   91  113   71  297   62  186\n",
       "1971   19  -29 -166    1   17  107    2  -10  -41  -70 -126 -184\n",
       "1972   61  -17   39   -6   68  148   93 -136  -49   -3   44   93\n",
       "1973 -102   59  -92  227  -61  -99  -76   74  172  -66 -173 -216\n",
       "1974 -172 -251  -63 -370 -104 -139 -214  -75  -35  -89    4  -39\n",
       "1975  -67  -58   53 -111 -119  -93  -97 -173 -307 -187  -61   41\n",
       "1976   40   77 -106   10  -20 -146   25 -136   -2   93  -49   -8\n",
       "1977   10 -117  -55   35  -29  196   60  104    7    6   79   60\n",
       "1978  175   59  192   68   12   25   92  107   82  -33   53  -36\n",
       "1979  -93   17  -14    4   55 -149 -129  -28  -22  -36  -62   67\n",
       "1980  -48  -50  -74 -104  -44  104  -44  -46  -31   98  -55 -166\n",
       "1981  -44   98  -32   68   49  -84   69  -56   15   82  -43  -88\n",
       "1982 -109  -18  -28  -38  -59   79   -9  104  -20    8   43   88\n",
       "1983   24 -247 -185 -120 -196 -332 -280 -318 -180 -288 -306 -326\n",
       "1984 -136    8   38   -8   27   39   14   29   25  -21  192  136"
      ]
     },
     "metadata": {},
     "output_type": "display_data"
    }
   ],
   "source": [
    "# 季節差分を取ってみる\n",
    "frequency(front)\n",
    "\n",
    "diff(front, lag=frequency(front))"
   ]
  },
  {
   "cell_type": "code",
   "execution_count": 20,
   "metadata": {},
   "outputs": [
    {
     "data": {
      "image/png": "[encoded data removed]",
      "text/plain": [
       "plot without title"
      ]
     },
     "metadata": {
      "image/png": {
       "height": 360,
       "width": 840
      }
     },
     "output_type": "display_data"
    }
   ],
   "source": [
    "# 対数差分系列にさらに季節差分をとる\n",
    "seas_log_diff <- diff(log_diff, lag=frequency(log_diff))\n",
    "\n",
    "# 図示\n",
    "ggtsdisplay(seas_log_diff, main=\"季節差分系列\")"
   ]
  },
  {
   "cell_type": "markdown",
   "metadata": {},
   "source": [
    "- 12か月単位の自己相関が大きく残ったままとなった。\n",
    "- 季節階差をとったからといって、季節の影響をすべて取り除けるわけではないようだ。"
   ]
  },
  {
   "cell_type": "markdown",
   "metadata": {},
   "source": [
    "## 自己相関とコレログラム\n",
    "\n",
    "自己相関の値で得たいときはacf関数を使う。acf関数は標準だと勝手にグラフ表示されるので、plot=Fとする。"
   ]
  },
  {
   "cell_type": "code",
   "execution_count": 22,
   "metadata": {},
   "outputs": [
    {
     "data": {
      "text/plain": [
       "\n",
       "Autocorrelations of series 'seas_log_diff', by lag\n",
       "\n",
       "0.0000 0.0833 0.1667 0.2500 0.3333 0.4167 0.5000 0.5833 0.6667 0.7500 0.8333 \n",
       " 1.000 -0.396  0.004 -0.045 -0.055  0.101  0.002 -0.129  0.020  0.156 -0.056 \n",
       "0.9167 1.0000 \n",
       " 0.097 -0.359 "
      ]
     },
     "metadata": {},
     "output_type": "display_data"
    }
   ],
   "source": [
    "acf(seas_log_diff, plot=F, lag.max=12)"
   ]
  },
  {
   "cell_type": "code",
   "execution_count": 23,
   "metadata": {},
   "outputs": [
    {
     "data": {
      "text/plain": [
       "\n",
       "Partial autocorrelations of series 'seas_log_diff', by lag\n",
       "\n",
       "0.0833 0.1667 0.2500 0.3333 0.4167 0.5000 0.5833 0.6667 0.7500 0.8333 0.9167 \n",
       "-0.396 -0.181 -0.141 -0.165 -0.006  0.034 -0.135 -0.114  0.134  0.062  0.142 \n",
       "1.0000 \n",
       "-0.293 "
      ]
     },
     "metadata": {},
     "output_type": "display_data"
    }
   ],
   "source": [
    "pacf(seas_log_diff, plot=F, lag.max=12)"
   ]
  },
  {
   "cell_type": "code",
   "execution_count": 24,
   "metadata": {},
   "outputs": [
    {
     "name": "stderr",
     "output_type": "stream",
     "text": [
      "Warning message:\n",
      "\"`mutate_()` is deprecated as of dplyr 0.7.0.\n",
      "Please use `mutate()` instead.\n",
      "See vignette('programming') for more help\n",
      "\u001b[90mThis warning is displayed once every 8 hours.\u001b[39m\n",
      "\u001b[90mCall `lifecycle::last_warnings()` to see where this warning was generated.\u001b[39m\"\n"
     ]
    },
    {
     "data": {
      "image/png": "[encoded data removed]",
      "text/plain": [
       "plot without title"
      ]
     },
     "metadata": {
      "image/png": {
       "height": 360,
       "width": 840
      }
     },
     "output_type": "display_data"
    }
   ],
   "source": [
    "autoplot(\n",
    "    acf(seas_log_diff, plot=F),\n",
    "    main=\"対数系列のコレログラム\"\n",
    ")"
   ]
  },
  {
   "cell_type": "markdown",
   "metadata": {},
   "source": [
    "## 訓練データとテストデータに分ける\n",
    "\n",
    "対数変換したデータをつくる。法律の施行は0or1のフラグなので変換しない。"
   ]
  },
  {
   "cell_type": "code",
   "execution_count": 26,
   "metadata": {},
   "outputs": [],
   "source": [
    "Seatbelts_log <- Seatbelts[, c(\"front\", \"PetrolPrice\", \"law\")]\n",
    "Seatbelts_log[, \"front\"] <- log(Seatbelts[, \"front\"])\n",
    "Seatbelts_log[, \"PetrolPrice\"] <- log(Seatbelts[, \"PetrolPrice\"])"
   ]
  },
  {
   "cell_type": "code",
   "execution_count": 28,
   "metadata": {},
   "outputs": [],
   "source": [
    "# 最後の1年(1984年)をテストデータ、それより前を訓練データとする\n",
    "train <- window(Seatbelts_log, end=c(1983, 12))\n",
    "test <- window(Seatbelts_log, start=c(1984, 1))"
   ]
  },
  {
   "cell_type": "code",
   "execution_count": 31,
   "metadata": {},
   "outputs": [
    {
     "data": {
      "text/html": [
       "<table>\n",
       "<caption>A Time Series: 6 × 3</caption>\n",
       "<thead>\n",
       "\t<tr><th></th><th scope=col>front</th><th scope=col>PetrolPrice</th><th scope=col>law</th></tr>\n",
       "</thead>\n",
       "<tbody>\n",
       "\t<tr><th scope=row>Jan 1969</th><td>6.765039</td><td>-2.27330</td><td>0</td></tr>\n",
       "\t<tr><th scope=row>Feb 1969</th><td>6.715383</td><td>-2.27923</td><td>0</td></tr>\n",
       "\t<tr><th scope=row>Mar 1969</th><td>6.692084</td><td>-2.28217</td><td>0</td></tr>\n",
       "\t<tr><th scope=row>Apr 1969</th><td>6.701960</td><td>-2.29389</td><td>0</td></tr>\n",
       "\t<tr><th scope=row>May 1969</th><td>6.898715</td><td>-2.29244</td><td>0</td></tr>\n",
       "\t<tr><th scope=row>Jun 1969</th><td>6.851185</td><td>-2.29679</td><td>0</td></tr>\n",
       "</tbody>\n",
       "</table>\n"
      ],
      "text/latex": [
       "A Time Series: 6 × 3\n",
       "\\begin{tabular}{r|lll}\n",
       "  & front & PetrolPrice & law\\\\\n",
       "\\hline\n",
       "\tJan 1969 & 6.765039 & -2.27330 & 0\\\\\n",
       "\tFeb 1969 & 6.715383 & -2.27923 & 0\\\\\n",
       "\tMar 1969 & 6.692084 & -2.28217 & 0\\\\\n",
       "\tApr 1969 & 6.701960 & -2.29389 & 0\\\\\n",
       "\tMay 1969 & 6.898715 & -2.29244 & 0\\\\\n",
       "\tJun 1969 & 6.851185 & -2.29679 & 0\\\\\n",
       "\\end{tabular}\n"
      ],
      "text/markdown": [
       "\n",
       "A Time Series: 6 × 3\n",
       "\n",
       "| <!--/--> | front | PetrolPrice | law |\n",
       "|---|---|---|---|\n",
       "| Jan 1969 | 6.765039 | -2.27330 | 0 |\n",
       "| Feb 1969 | 6.715383 | -2.27923 | 0 |\n",
       "| Mar 1969 | 6.692084 | -2.28217 | 0 |\n",
       "| Apr 1969 | 6.701960 | -2.29389 | 0 |\n",
       "| May 1969 | 6.898715 | -2.29244 | 0 |\n",
       "| Jun 1969 | 6.851185 | -2.29679 | 0 |\n",
       "\n"
      ],
      "text/plain": [
       "         front    PetrolPrice law\n",
       "Jan 1969 6.765039 -2.27330    0  \n",
       "Feb 1969 6.715383 -2.27923    0  \n",
       "Mar 1969 6.692084 -2.28217    0  \n",
       "Apr 1969 6.701960 -2.29389    0  \n",
       "May 1969 6.898715 -2.29244    0  \n",
       "Jun 1969 6.851185 -2.29679    0  "
      ]
     },
     "metadata": {},
     "output_type": "display_data"
    }
   ],
   "source": [
    "head(train)"
   ]
  },
  {
   "cell_type": "code",
   "execution_count": 32,
   "metadata": {},
   "outputs": [],
   "source": [
    "# 目的変数はfrontであり、それ以外は説明変数\n",
    "# 説明変数だけ切り分けておく\n",
    "petro_law <- train[, c(\"PetrolPrice\", \"law\")]"
   ]
  },
  {
   "cell_type": "markdown",
   "metadata": {},
   "source": [
    "## ARIMAモデルの推定\n",
    "forecastパッケージのarima関数を使う。"
   ]
  },
  {
   "cell_type": "markdown",
   "metadata": {},
   "source": [
    "- y: 応答変数  \n",
    "- order: SARIMA(p,d,q)(P,D,Q)の(p,d,q)の次数(暫定)\n",
    "- seasonal: 季節成分(P,D,Q)\n",
    "- xreg: 説明変数の指定"
   ]
  },
  {
   "cell_type": "code",
   "execution_count": 33,
   "metadata": {},
   "outputs": [],
   "source": [
    "model_sarimax <- Arima(\n",
    "    y = train[, \"front\"],\n",
    "    order = c(1, 1, 1),\n",
    "    seasonal = list(order = c(1, 0, 0)),\n",
    "    xreg = petro_law\n",
    ")"
   ]
  },
  {
   "cell_type": "code",
   "execution_count": 34,
   "metadata": {},
   "outputs": [
    {
     "data": {
      "text/plain": [
       "Series: train[, \"front\"] \n",
       "Regression with ARIMA(1,1,1)(1,0,0)[12] errors \n",
       "\n",
       "Coefficients:\n",
       "         ar1      ma1    sar1  PetrolPrice      law\n",
       "      0.2589  -0.9503  0.6877      -0.3464  -0.3719\n",
       "s.e.  0.0826   0.0303  0.0548       0.0955   0.0467\n",
       "\n",
       "sigma^2 estimated as 0.009052:  log likelihood=165.33\n",
       "AIC=-318.66   AICc=-318.18   BIC=-299.54"
      ]
     },
     "metadata": {},
     "output_type": "display_data"
    }
   ],
   "source": [
    "model_sarimax"
   ]
  },
  {
   "cell_type": "markdown",
   "metadata": {},
   "source": [
    "coefficientsを確認する。"
   ]
  },
  {
   "cell_type": "markdown",
   "metadata": {},
   "source": [
    "## 補足: 差分系列とARIMAの時数の関係\n",
    "\n",
    "最適なモデルの時数を選ぶ作業を行う。  \n",
    "include.mean = Fは定数項を入れない指定。"
   ]
  },
  {
   "cell_type": "code",
   "execution_count": 36,
   "metadata": {},
   "outputs": [
    {
     "data": {
      "text/plain": [
       "Series: log_diff \n",
       "ARIMA(1,0,0) with zero mean \n",
       "\n",
       "Coefficients:\n",
       "          ar1\n",
       "      -0.2058\n",
       "s.e.   0.0706\n",
       "\n",
       "sigma^2 estimated as 0.0202:  log likelihood=102.1\n",
       "AIC=-200.21   AICc=-200.15   BIC=-193.7"
      ]
     },
     "metadata": {},
     "output_type": "display_data"
    }
   ],
   "source": [
    "# Arima(1,1,0)と同じこと\n",
    "\n",
    "Arima(\n",
    "    y = log_diff,\n",
    "    order = c(1, 0, 0),\n",
    "    include.mean = F\n",
    ")"
   ]
  },
  {
   "cell_type": "code",
   "execution_count": 38,
   "metadata": {},
   "outputs": [
    {
     "data": {
      "text/plain": [
       "Series: log_front \n",
       "ARIMA(1,1,0) \n",
       "\n",
       "Coefficients:\n",
       "          ar1\n",
       "      -0.2058\n",
       "s.e.   0.0706\n",
       "\n",
       "sigma^2 estimated as 0.0202:  log likelihood=102.1\n",
       "AIC=-200.21   AICc=-200.15   BIC=-193.7"
      ]
     },
     "metadata": {},
     "output_type": "display_data"
    }
   ],
   "source": [
    "# Arima(1,1,0)\n",
    "\n",
    "Arima(\n",
    "    y = log_front,\n",
    "    order = c(1, 1, 0),\n",
    ")"
   ]
  },
  {
   "cell_type": "markdown",
   "metadata": {},
   "source": [
    "確かに同じ結果になった。"
   ]
  },
  {
   "cell_type": "code",
   "execution_count": 43,
   "metadata": {},
   "outputs": [
    {
     "data": {
      "text/plain": [
       "Series: seas_log_diff \n",
       "ARIMA(1,0,0) with zero mean \n",
       "\n",
       "Coefficients:\n",
       "          ar1\n",
       "      -0.3951\n",
       "s.e.   0.0685\n",
       "\n",
       "sigma^2 estimated as 0.01569:  log likelihood=118.26\n",
       "AIC=-232.52   AICc=-232.45   BIC=-226.15"
      ]
     },
     "metadata": {},
     "output_type": "display_data"
    },
    {
     "name": "stdout",
     "output_type": "stream",
     "text": [
      "[1] \"-------------------------------------------------\"\n"
     ]
    },
    {
     "data": {
      "text/plain": [
       "Series: log_front \n",
       "ARIMA(1,1,0)(0,1,0)[12] \n",
       "\n",
       "Coefficients:\n",
       "          ar1\n",
       "      -0.3951\n",
       "s.e.   0.0685\n",
       "\n",
       "sigma^2 estimated as 0.0157:  log likelihood=118.26\n",
       "AIC=-232.52   AICc=-232.45   BIC=-226.15"
      ]
     },
     "metadata": {},
     "output_type": "display_data"
    }
   ],
   "source": [
    "# SARIMAと季節差分の関係を見る\n",
    "\n",
    "# ARIMA(1,1,0)(0,1,0)\n",
    "Arima(\n",
    "    y = seas_log_diff,\n",
    "    order = c(1, 0, 0),\n",
    "    include.mean = F\n",
    ")\n",
    "\n",
    "print(\"-------------------------------------------------\")\n",
    "\n",
    "Arima(\n",
    "    y = log_front,\n",
    "    order = c(1, 1, 0),\n",
    "    seasonal = list(order = c(0, 1, 0))\n",
    ")"
   ]
  },
  {
   "cell_type": "markdown",
   "metadata": {},
   "source": [
    "差分を事前にとらなくてもArima()に指定する引数で自動的に差分をとってくれている。  \n",
    "SARIMAお∂は季節差分の拡張となっている。"
   ]
  },
  {
   "cell_type": "markdown",
   "metadata": {},
   "source": [
    "## 自動モデル選択 auto.arima関数\n",
    "\n",
    "モデルの時数はモデルの時数をひたすら変えてAICを計算して決める。  \n",
    "forecastパッケージのauto.arima関数を使う。  "
   ]
  },
  {
   "cell_type": "code",
   "execution_count": 44,
   "metadata": {},
   "outputs": [],
   "source": [
    "sarimax_petro_law <- auto.arima(\n",
    "    y = train[, \"front\"],\n",
    "    xreg = petro_law,\n",
    "    ic = \"aic\",\n",
    "    max.order = 7,\n",
    "    stepwise = F,\n",
    "    approximation = F,\n",
    "    parallel = T,\n",
    "    num.cores = 4\n",
    ")"
   ]
  },
  {
   "cell_type": "code",
   "execution_count": 45,
   "metadata": {},
   "outputs": [
    {
     "data": {
      "text/plain": [
       "Series: train[, \"front\"] \n",
       "Regression with ARIMA(2,0,1)(0,1,1)[12] errors \n",
       "\n",
       "Coefficients:\n",
       "         ar1      ar2      ma1     sma1  PetrolPrice      law\n",
       "      1.1225  -0.1322  -0.8690  -0.8183      -0.3748  -0.3431\n",
       "s.e.  0.0906   0.0876   0.0443   0.1129       0.1000   0.0473\n",
       "\n",
       "sigma^2 estimated as 0.007624:  log likelihood=168.12\n",
       "AIC=-322.23   AICc=-321.53   BIC=-300.36"
      ]
     },
     "metadata": {},
     "output_type": "display_data"
    }
   ],
   "source": [
    "sarimax_petro_law"
   ]
  },
  {
   "cell_type": "markdown",
   "metadata": {},
   "source": [
    "- ic: AICを使ってモデル選択をする。aicc, bicもある。\n",
    "- max.order: p+q+P+Qの最大値。これを大きくするとより複雑なモデルを候補にいれてモデル選択される。\n",
    "- stepwize: Tにすると候補となる次数の組み合わせが減る。Fにして計算をケチらない。\n",
    "- approximation: Tにすると計算において近似的な手法を使うことで計算速度が上がるが信用できない。Fにして計算をケチらない。\n",
    "- parallel:並列化計算\n",
    "- num.cores: コア数。set NUMBER_OR_PROCESSORSで確認可能。"
   ]
  },
  {
   "cell_type": "markdown",
   "metadata": {},
   "source": [
    "## モデルの評価: 定常性・反転可能性のチェック\n",
    "\n",
    "auto.arimaの中で行われているので本当はやる必要なし。  \n",
    "あえて確認してみる。"
   ]
  },
  {
   "cell_type": "code",
   "execution_count": 48,
   "metadata": {},
   "outputs": [
    {
     "data": {
      "text/html": [
       "<style>\n",
       ".list-inline {list-style: none; margin:0; padding: 0}\n",
       ".list-inline>li {display: inline-block}\n",
       ".list-inline>li:not(:last-child)::after {content: \"\\00b7\"; padding: 0 .5ex}\n",
       "</style>\n",
       "<ol class=list-inline><li>1.01139724459916</li><li>7.47782654553</li></ol>\n"
      ],
      "text/latex": [
       "\\begin{enumerate*}\n",
       "\\item 1.01139724459916\n",
       "\\item 7.47782654553\n",
       "\\end{enumerate*}\n"
      ],
      "text/markdown": [
       "1. 1.01139724459916\n",
       "2. 7.47782654553\n",
       "\n",
       "\n"
      ],
      "text/plain": [
       "[1] 1.011397 7.477827"
      ]
     },
     "metadata": {},
     "output_type": "display_data"
    }
   ],
   "source": [
    "# AR項\n",
    "abs(polyroot(c(1, -coef(sarimax_petro_law)[c(\"ar1\", \"ar2\")])))\n",
    "\n",
    "# MR項\n",
    "# abs(polyroot(c(1, -coef(sarimax_petro_law)[c(\"ma1\", \"ma2\", \"ma3\")])))\n",
    "\n",
    "# Seasonal AR項\n",
    "#abs(polyroot(c(1, -coef(sarimax_petro_law)[c(\"sar1\", \"sar2\")])))"
   ]
  },
  {
   "cell_type": "markdown",
   "metadata": {},
   "source": [
    "- polyroot: 多項式の根を求める関数。\n",
    "- abs: 絶対値を求める。\n",
    "\n",
    "全て１よりも大きな値となっていると嬉しい。"
   ]
  },
  {
   "cell_type": "markdown",
   "metadata": {},
   "source": [
    "## モデルの評価: 残差のチェック\n",
    "\n",
    "残差の自己相関が見られれば予測モデルがあまい。"
   ]
  },
  {
   "cell_type": "code",
   "execution_count": 49,
   "metadata": {},
   "outputs": [
    {
     "name": "stdout",
     "output_type": "stream",
     "text": [
      "\n",
      "\tLjung-Box test\n",
      "\n",
      "data:  Residuals from Regression with ARIMA(2,0,1)(0,1,1)[12] errors\n",
      "Q* = 20.99, df = 18, p-value = 0.2799\n",
      "\n",
      "Model df: 6.   Total lags used: 24\n",
      "\n"
     ]
    },
    {
     "data": {
      "image/png": "[encoded data removed]",
      "text/plain": [
       "plot without title"
      ]
     },
     "metadata": {
      "image/png": {
       "height": 360,
       "width": 840
      }
     },
     "output_type": "display_data"
    }
   ],
   "source": [
    "checkresiduals(sarimax_petro_law)"
   ]
  },
  {
   "cell_type": "markdown",
   "metadata": {},
   "source": [
    "p > 0.05なので有意な自己相関はみられなかった。"
   ]
  },
  {
   "cell_type": "markdown",
   "metadata": {},
   "source": [
    "## モデルの評価: 残差の正規性"
   ]
  },
  {
   "cell_type": "code",
   "execution_count": 50,
   "metadata": {},
   "outputs": [
    {
     "data": {
      "text/plain": [
       "\n",
       "\tJarque Bera Test\n",
       "\n",
       "data:  resid(sarimax_petro_law)\n",
       "X-squared = 0.39938, df = 2, p-value = 0.819\n"
      ]
     },
     "metadata": {},
     "output_type": "display_data"
    }
   ],
   "source": [
    "jarque.bera.test(resid(sarimax_petro_law))"
   ]
  },
  {
   "cell_type": "markdown",
   "metadata": {},
   "source": [
    "正規分布と有意に異なっているは言えない、という結果になった。"
   ]
  },
  {
   "cell_type": "markdown",
   "metadata": {},
   "source": [
    "## ARIMAモデルによる予測\n",
    "\n",
    "同定されたモデルを使って予測を行う。  \n",
    "予測にはテストデータを使用する。  \n",
    "forecastパッケージのforecast関数で予測を行うことができる。"
   ]
  },
  {
   "cell_type": "code",
   "execution_count": 51,
   "metadata": {},
   "outputs": [],
   "source": [
    "# 説明変数の用意\n",
    "petro_law_test <- test[, c(\"PetrolPrice\", \"law\")]\n",
    "\n",
    "# 予測\n",
    "sarimax_f <- forecast(\n",
    "    sarimax_petro_law,\n",
    "    xreg = petro_law_test,\n",
    "    h = 12,  # 12点先まで予測する\n",
    "    level = c(95, 70)  # 95%, 70%予測区間も併せて出力する\n",
    ")"
   ]
  },
  {
   "cell_type": "code",
   "execution_count": 52,
   "metadata": {},
   "outputs": [
    {
     "data": {
      "text/plain": [
       "         Point Forecast    Lo 70    Hi 70    Lo 95    Hi 95\n",
       "Jan 1984       6.140922 6.050389 6.231454 5.969719 6.312124\n",
       "Feb 1984       6.079469 5.986077 6.172861 5.902858 6.256080\n",
       "Mar 1984       6.167368 6.072965 6.261771 5.988846 6.345890\n",
       "Apr 1984       6.196306 6.101088 6.291523 6.016243 6.376368\n",
       "May 1984       6.293745 6.197758 6.389732 6.112227 6.475262\n",
       "Jun 1984       6.274492 6.177762 6.371222 6.091568 6.457416\n",
       "Jul 1984       6.394263 6.296812 6.491714 6.209976 6.578550\n",
       "Aug 1984       6.427685 6.329534 6.525836 6.242075 6.613294\n",
       "Sep 1984       6.354929 6.256100 6.453759 6.168036 6.541823\n",
       "Oct 1984       6.396352 6.296863 6.495840 6.208212 6.584491\n",
       "Nov 1984       6.340966 6.240838 6.441095 6.151616 6.530317\n",
       "Dec 1984       6.448938 6.348188 6.549689 6.258413 6.639464"
      ]
     },
     "metadata": {},
     "output_type": "display_data"
    }
   ],
   "source": [
    "sarimax_f"
   ]
  },
  {
   "cell_type": "code",
   "execution_count": 53,
   "metadata": {},
   "outputs": [
    {
     "name": "stderr",
     "output_type": "stream",
     "text": [
      "Warning message:\n",
      "\"`filter_()` is deprecated as of dplyr 0.7.0.\n",
      "Please use `filter()` instead.\n",
      "See vignette('programming') for more help\n",
      "\u001b[90mThis warning is displayed once every 8 hours.\u001b[39m\n",
      "\u001b[90mCall `lifecycle::last_warnings()` to see where this warning was generated.\u001b[39m\"\n"
     ]
    },
    {
     "data": {
      "image/png": "[encoded data removed]",
      "text/plain": [
       "plot without title"
      ]
     },
     "metadata": {
      "image/png": {
       "height": 360,
       "width": 840
      }
     },
     "output_type": "display_data"
    }
   ],
   "source": [
    "# 予測結果の図示\n",
    "autoplot(sarimax_f, predict.color=1, main=\"ARIMAによる予測\")"
   ]
  },
  {
   "cell_type": "markdown",
   "metadata": {},
   "source": [
    "引数に実際の石油価格を使用していると、**「将来の石油価格がわかっている前提で予測を出している」** という状態になっています。  \n",
    "これはあり得ないので **過去の石油価格の平均値を予測に使って** 予測する。"
   ]
  },
  {
   "cell_type": "code",
   "execution_count": 55,
   "metadata": {},
   "outputs": [],
   "source": [
    "petro_law_mean <- data.frame(\n",
    "    PetrolPrice = rep(mean(train[, \"PetrolPrice\"]), 12),\n",
    "    law = rep(1, 12)\n",
    ")"
   ]
  },
  {
   "cell_type": "code",
   "execution_count": 58,
   "metadata": {},
   "outputs": [],
   "source": [
    "petro_law_mean_mat <- as.matrix(petro_law_mean)"
   ]
  },
  {
   "cell_type": "code",
   "execution_count": 61,
   "metadata": {},
   "outputs": [
    {
     "data": {
      "text/plain": [
       "         Point Forecast    Lo 80    Hi 80    Lo 95    Hi 95\n",
       "Jan 1984       6.194413 6.082470 6.306357 6.023211 6.365616\n",
       "Feb 1984       6.123359 6.007879 6.238839 5.946748 6.299970\n",
       "Mar 1984       6.214309 6.097580 6.331038 6.035787 6.392831\n",
       "Apr 1984       6.242017 6.124280 6.359754 6.061955 6.422080\n",
       "May 1984       6.337695 6.219007 6.456383 6.156177 6.519212\n",
       "Jun 1984       6.318318 6.198711 6.437926 6.135395 6.501242\n",
       "Jul 1984       6.438607 6.318108 6.559105 6.254320 6.622894\n",
       "Aug 1984       6.471575 6.350211 6.592939 6.285965 6.657184\n",
       "Sep 1984       6.396515 6.274312 6.518718 6.209621 6.583408\n",
       "Oct 1984       6.445650 6.322632 6.568668 6.257510 6.633789\n",
       "Nov 1984       6.388848 6.265039 6.512657 6.199498 6.578198\n",
       "Dec 1984       6.496951 6.372373 6.621529 6.306425 6.687477"
      ]
     },
     "metadata": {},
     "output_type": "display_data"
    }
   ],
   "source": [
    "sarimax_f_mean <- forecast(sarimax_petro_law, xreg=petro_law_mean_mat)\n",
    "sarimax_f_mean"
   ]
  },
  {
   "cell_type": "markdown",
   "metadata": {},
   "source": [
    "直近の石油価格を使った予測値も出してみる"
   ]
  },
  {
   "cell_type": "code",
   "execution_count": 63,
   "metadata": {},
   "outputs": [
    {
     "data": {
      "text/plain": [
       "         Point Forecast    Lo 80    Hi 80    Lo 95    Hi 95\n",
       "Jan 1984       6.141143 6.029200 6.253086 5.969940 6.312345\n",
       "Feb 1984       6.070088 5.954609 6.185568 5.893477 6.246699\n",
       "Mar 1984       6.161038 6.044309 6.277768 5.982516 6.339560\n",
       "Apr 1984       6.188746 6.071010 6.306483 6.008684 6.368809\n",
       "May 1984       6.284424 6.165736 6.403112 6.102906 6.465942\n",
       "Jun 1984       6.265048 6.145440 6.384655 6.082124 6.447971\n",
       "Jul 1984       6.385336 6.264837 6.505835 6.201049 6.569623\n",
       "Aug 1984       6.418304 6.296941 6.539668 6.232695 6.603914\n",
       "Sep 1984       6.343244 6.221041 6.465447 6.156350 6.530137\n",
       "Oct 1984       6.392379 6.269361 6.515397 6.204239 6.580519\n",
       "Nov 1984       6.335577 6.211768 6.459387 6.146227 6.524927\n",
       "Dec 1984       6.443680 6.319102 6.568258 6.253154 6.634206"
      ]
     },
     "metadata": {},
     "output_type": "display_data"
    }
   ],
   "source": [
    "petro_law_tail <- data.frame(\n",
    "    PetrolPrice = rep(tail(train[, \"PetrolPrice\"], n=1), 12),\n",
    "    law = rep(1, 12)\n",
    ")\n",
    "\n",
    "petro_law_tail_mat <- as.matrix(petro_law_tail)\n",
    "\n",
    "sarimax_f_tail <- forecast(sarimax_petro_law, xreg=petro_law_tail_mat)\n",
    "sarimax_f_tail"
   ]
  },
  {
   "cell_type": "markdown",
   "metadata": {},
   "source": [
    "## ナイーブ予測\n",
    "1. 過去の平均値を予測値として出す\n",
    "2. 前時点の値を予測として出す"
   ]
  },
  {
   "cell_type": "code",
   "execution_count": 65,
   "metadata": {},
   "outputs": [
    {
     "data": {
      "text/plain": [
       "         Point Forecast    Lo 80    Hi 80    Lo 95    Hi 95\n",
       "Jan 1984       6.729989 6.468432 6.991546 6.328736 7.131243\n",
       "Feb 1984       6.729989 6.468432 6.991546 6.328736 7.131243\n",
       "Mar 1984       6.729989 6.468432 6.991546 6.328736 7.131243\n",
       "Apr 1984       6.729989 6.468432 6.991546 6.328736 7.131243\n",
       "May 1984       6.729989 6.468432 6.991546 6.328736 7.131243\n",
       "Jun 1984       6.729989 6.468432 6.991546 6.328736 7.131243\n",
       "Jul 1984       6.729989 6.468432 6.991546 6.328736 7.131243\n",
       "Aug 1984       6.729989 6.468432 6.991546 6.328736 7.131243\n",
       "Sep 1984       6.729989 6.468432 6.991546 6.328736 7.131243\n",
       "Oct 1984       6.729989 6.468432 6.991546 6.328736 7.131243\n",
       "Nov 1984       6.729989 6.468432 6.991546 6.328736 7.131243\n",
       "Dec 1984       6.729989 6.468432 6.991546 6.328736 7.131243"
      ]
     },
     "metadata": {},
     "output_type": "display_data"
    }
   ],
   "source": [
    "# 過去の平均値を予測値として出す\n",
    "naive_f_mean <- meanf(train[, \"front\"], h=12)\n",
    "naive_f_mean"
   ]
  },
  {
   "cell_type": "code",
   "execution_count": 66,
   "metadata": {},
   "outputs": [
    {
     "data": {
      "text/plain": [
       "         Point Forecast    Lo 80    Hi 80    Lo 95    Hi 95\n",
       "Jan 1984       6.371612 6.183035 6.560189 6.083208 6.660015\n",
       "Feb 1984       6.371612 6.104924 6.638300 5.963748 6.779476\n",
       "Mar 1984       6.371612 6.044987 6.698237 5.872082 6.871141\n",
       "Apr 1984       6.371612 5.994458 6.748766 5.794805 6.948419\n",
       "May 1984       6.371612 5.949941 6.793283 5.726722 7.016502\n",
       "Jun 1984       6.371612 5.909695 6.833529 5.665170 7.078053\n",
       "Jul 1984       6.371612 5.872684 6.870539 5.608568 7.134656\n",
       "Aug 1984       6.371612 5.838236 6.904988 5.555884 7.187340\n",
       "Sep 1984       6.371612 5.805881 6.937343 5.506401 7.236822\n",
       "Oct 1984       6.371612 5.775279 6.967944 5.459600 7.283624\n",
       "Nov 1984       6.371612 5.746173 6.997051 5.415086 7.328138\n",
       "Dec 1984       6.371612 5.718362 7.024861 5.372553 7.370671"
      ]
     },
     "metadata": {},
     "output_type": "display_data"
    }
   ],
   "source": [
    "# 前時点の値を予測値として出す\n",
    "naive_f_latest <- rwf(train[, \"front\"], h=12)\n",
    "naive_f_latest"
   ]
  },
  {
   "cell_type": "markdown",
   "metadata": {},
   "source": [
    "## 予測の評価　RMSE"
   ]
  },
  {
   "cell_type": "code",
   "execution_count": 67,
   "metadata": {},
   "outputs": [
    {
     "data": {
      "text/html": [
       "0.0967457221649957"
      ],
      "text/latex": [
       "0.0967457221649957"
      ],
      "text/markdown": [
       "0.0967457221649957"
      ],
      "text/plain": [
       "[1] 0.09674572"
      ]
     },
     "metadata": {},
     "output_type": "display_data"
    }
   ],
   "source": [
    "sarimax_rmse <- sqrt(\n",
    "     sum((sarimax_f$mean - test[, \"front\"])^2) / length(sarimax_f$mean)\n",
    ")\n",
    "\n",
    "sarimax_rmse"
   ]
  },
  {
   "cell_type": "code",
   "execution_count": 69,
   "metadata": {},
   "outputs": [
    {
     "name": "stdout",
     "output_type": "stream",
     "text": [
      "         Point Forecast    Lo 70    Hi 70    Lo 95    Hi 95\n",
      "Jan 1984       6.140922 6.050389 6.231454 5.969719 6.312124\n",
      "Feb 1984       6.079469 5.986077 6.172861 5.902858 6.256080\n",
      "Mar 1984       6.167368 6.072965 6.261771 5.988846 6.345890\n",
      "Apr 1984       6.196306 6.101088 6.291523 6.016243 6.376368\n",
      "May 1984       6.293745 6.197758 6.389732 6.112227 6.475262\n",
      "Jun 1984       6.274492 6.177762 6.371222 6.091568 6.457416\n",
      "Jul 1984       6.394263 6.296812 6.491714 6.209976 6.578550\n",
      "Aug 1984       6.427685 6.329534 6.525836 6.242075 6.613294\n",
      "Sep 1984       6.354929 6.256100 6.453759 6.168036 6.541823\n",
      "Oct 1984       6.396352 6.296863 6.495840 6.208212 6.584491\n",
      "Nov 1984       6.340966 6.240838 6.441095 6.151616 6.530317\n",
      "Dec 1984       6.448938 6.348188 6.549689 6.258413 6.639464\n",
      "          Jan      Feb      Mar      Apr      May      Jun      Jul      Aug\n",
      "1984 6.140922 6.079469 6.167368 6.196306 6.293745 6.274492 6.394263 6.427685\n",
      "          Sep      Oct      Nov      Dec\n",
      "1984 6.354929 6.396352 6.340966 6.448938\n"
     ]
    }
   ],
   "source": [
    "print(sarimax_f)\n",
    "print(sarimax_f$mean)"
   ]
  },
  {
   "cell_type": "code",
   "execution_count": 70,
   "metadata": {},
   "outputs": [
    {
     "data": {
      "text/html": [
       "<table>\n",
       "<caption>A matrix: 2 × 8 of type dbl</caption>\n",
       "<thead>\n",
       "\t<tr><th></th><th scope=col>ME</th><th scope=col>RMSE</th><th scope=col>MAE</th><th scope=col>MPE</th><th scope=col>MAPE</th><th scope=col>MASE</th><th scope=col>ACF1</th><th scope=col>Theil's U</th></tr>\n",
       "</thead>\n",
       "<tbody>\n",
       "\t<tr><th scope=row>Training set</th><td>-0.004353509</td><td>0.08283297</td><td>0.06430968</td><td>-0.07784816</td><td>0.9593004</td><td>0.5848660</td><td>-0.004032101</td><td>     NA</td></tr>\n",
       "\t<tr><th scope=row>Test set</th><td> 0.071495376</td><td>0.09674572</td><td>0.07537019</td><td> 1.10793155</td><td>1.1703728</td><td>0.6854562</td><td> 0.337639488</td><td>1.03686</td></tr>\n",
       "</tbody>\n",
       "</table>\n"
      ],
      "text/latex": [
       "A matrix: 2 × 8 of type dbl\n",
       "\\begin{tabular}{r|llllllll}\n",
       "  & ME & RMSE & MAE & MPE & MAPE & MASE & ACF1 & Theil's U\\\\\n",
       "\\hline\n",
       "\tTraining set & -0.004353509 & 0.08283297 & 0.06430968 & -0.07784816 & 0.9593004 & 0.5848660 & -0.004032101 &      NA\\\\\n",
       "\tTest set &  0.071495376 & 0.09674572 & 0.07537019 &  1.10793155 & 1.1703728 & 0.6854562 &  0.337639488 & 1.03686\\\\\n",
       "\\end{tabular}\n"
      ],
      "text/markdown": [
       "\n",
       "A matrix: 2 × 8 of type dbl\n",
       "\n",
       "| <!--/--> | ME | RMSE | MAE | MPE | MAPE | MASE | ACF1 | Theil's U |\n",
       "|---|---|---|---|---|---|---|---|---|\n",
       "| Training set | -0.004353509 | 0.08283297 | 0.06430968 | -0.07784816 | 0.9593004 | 0.5848660 | -0.004032101 |      NA |\n",
       "| Test set |  0.071495376 | 0.09674572 | 0.07537019 |  1.10793155 | 1.1703728 | 0.6854562 |  0.337639488 | 1.03686 |\n",
       "\n"
      ],
      "text/plain": [
       "             ME           RMSE       MAE        MPE         MAPE      MASE     \n",
       "Training set -0.004353509 0.08283297 0.06430968 -0.07784816 0.9593004 0.5848660\n",
       "Test set      0.071495376 0.09674572 0.07537019  1.10793155 1.1703728 0.6854562\n",
       "             ACF1         Theil's U\n",
       "Training set -0.004032101      NA  \n",
       "Test set      0.337639488 1.03686  "
      ]
     },
     "metadata": {},
     "output_type": "display_data"
    }
   ],
   "source": [
    "# forecastパッケージのaccuracy関数でも確認できる\n",
    "accuracy(sarimax_f, x=test[, \"front\"])"
   ]
  },
  {
   "cell_type": "markdown",
   "metadata": {},
   "source": [
    "訓練データのあてはめ精度、テストデータへの予測精度が表示されている。  \n",
    "RMSEがあてはめ精度よりも予測精度が悪くなっていることに注意する。  \n",
    "RMSEの差が大きすぎるようだと問題。"
   ]
  },
  {
   "cell_type": "code",
   "execution_count": 71,
   "metadata": {},
   "outputs": [
    {
     "data": {
      "text/html": [
       "0.0967457221649957"
      ],
      "text/latex": [
       "0.0967457221649957"
      ],
      "text/markdown": [
       "0.0967457221649957"
      ],
      "text/plain": [
       "[1] 0.09674572"
      ]
     },
     "metadata": {},
     "output_type": "display_data"
    }
   ],
   "source": [
    "# テストデータのRMSEのみを抽出する\n",
    "accuracy(sarimax_f, x=test[, \"front\"])[\"Test set\", \"RMSE\"]"
   ]
  },
  {
   "cell_type": "code",
   "execution_count": 73,
   "metadata": {},
   "outputs": [
    {
     "data": {
      "text/html": [
       "0.0694511387767106"
      ],
      "text/latex": [
       "0.0694511387767106"
      ],
      "text/markdown": [
       "0.0694511387767106"
      ],
      "text/plain": [
       "[1] 0.06945114"
      ]
     },
     "metadata": {},
     "output_type": "display_data"
    },
    {
     "data": {
      "text/html": [
       "0.101834436532493"
      ],
      "text/latex": [
       "0.101834436532493"
      ],
      "text/markdown": [
       "0.101834436532493"
      ],
      "text/plain": [
       "[1] 0.1018344"
      ]
     },
     "metadata": {},
     "output_type": "display_data"
    }
   ],
   "source": [
    "# 石油価格がわかってないバージョンの予測精度を求める\n",
    "accuracy(sarimax_f_mean, x=test[, \"front\"])[\"Test set\", \"RMSE\"]\n",
    "\n",
    "# 直近の石油価格での予測精度を求める\n",
    "accuracy(sarimax_f_tail, x=test[, \"front\"])[\"Test set\", \"RMSE\"]"
   ]
  },
  {
   "cell_type": "code",
   "execution_count": 74,
   "metadata": {},
   "outputs": [
    {
     "data": {
      "text/html": [
       "0.394987176014188"
      ],
      "text/latex": [
       "0.394987176014188"
      ],
      "text/markdown": [
       "0.394987176014188"
      ],
      "text/plain": [
       "[1] 0.3949872"
      ]
     },
     "metadata": {},
     "output_type": "display_data"
    },
    {
     "data": {
      "text/html": [
       "0.149819569225267"
      ],
      "text/latex": [
       "0.149819569225267"
      ],
      "text/markdown": [
       "0.149819569225267"
      ],
      "text/plain": [
       "[1] 0.1498196"
      ]
     },
     "metadata": {},
     "output_type": "display_data"
    }
   ],
   "source": [
    "# ナイーブ予測のRMSEを求める\n",
    "\n",
    "# 過去の平均\n",
    "accuracy(naive_f_mean, x=test[, \"front\"])[\"Test set\", \"RMSE\"]\n",
    "\n",
    "# 直近の値\n",
    "accuracy(naive_f_latest, x=test[, \"front\"])[\"Test set\", \"RMSE\"]"
   ]
  },
  {
   "cell_type": "markdown",
   "metadata": {},
   "source": [
    "平均を参考にしたもの、直近の値を参考にしたものについてナイーブ予測よりもRMSEが小さくなった。  \n",
    "うまく時系列モデルができたことがわかる。"
   ]
  },
  {
   "cell_type": "code",
   "execution_count": null,
   "metadata": {},
   "outputs": [],
   "source": []
  }
 ],
 "metadata": {
  "kernelspec": {
   "display_name": "R",
   "language": "R",
   "name": "ir"
  },
  "language_info": {
   "codemirror_mode": "r",
   "file_extension": ".r",
   "mimetype": "text/x-r-source",
   "name": "R",
   "pygments_lexer": "r",
   "version": "4.0.2"
  }
 },
 "nbformat": 4,
 "nbformat_minor": 4
}
