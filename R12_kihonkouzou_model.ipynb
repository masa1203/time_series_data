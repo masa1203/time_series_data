{
 "cells": [
  {
   "cell_type": "markdown",
   "metadata": {},
   "source": [
    "# 応用: 周期性のある日単位データの分析\n",
    "\n",
    "トレンド成分・周期成分がともに入った、**基本構造時系列モデル** 推定していく。  \n",
    "xtsによる日付データの取り扱いと、KFASによる実装方法を学ぶ。"
   ]
  },
  {
   "cell_type": "code",
   "execution_count": 2,
   "metadata": {},
   "outputs": [],
   "source": [
    "# インストール\n",
    "# install.packages(\"Nippon\")\n",
    "\n",
    "# Nipponパッケージは使えなくなった\n",
    "source(\"https://raw.githubusercontent.com/logics-of-blue/website/master/010_forecast/20190714_R%E8%A8%80%E8%AA%9E%E3%81%AB%E3%81%8A%E3%81%91%E3%82%8B%E6%97%A5%E6%9C%AC%E3%81%AE%E7%A5%9D%E6%97%A5%E5%88%A4%E5%AE%9A/jholiday.R\", encoding=\"utf-8\")"
   ]
  },
  {
   "cell_type": "code",
   "execution_count": 4,
   "metadata": {},
   "outputs": [],
   "source": [
    "# パッケージの読み込み\n",
    "library(KFAS)\n",
    "library(xts)\n",
    "# library(Nippon)\n",
    "library(ggplot2)\n",
    "library(ggfortify)\n",
    "library(gridExtra)\n",
    "\n",
    "# 図示設定\n",
    "library(repr)\n",
    "# グラフのオプション\n",
    "options(repr.plot.width=14, repr.plot.height=6)"
   ]
  },
  {
   "cell_type": "code",
   "execution_count": 8,
   "metadata": {},
   "outputs": [
    {
     "data": {
      "text/html": [
       "<table>\n",
       "<caption>A data.frame: 3 × 2</caption>\n",
       "<thead>\n",
       "\t<tr><th></th><th scope=col>date</th><th scope=col>sales</th></tr>\n",
       "\t<tr><th></th><th scope=col>&lt;chr&gt;</th><th scope=col>&lt;int&gt;</th></tr>\n",
       "</thead>\n",
       "<tbody>\n",
       "\t<tr><th scope=row>1</th><td>2010-03-01</td><td>10</td></tr>\n",
       "\t<tr><th scope=row>2</th><td>2010-03-02</td><td>34</td></tr>\n",
       "\t<tr><th scope=row>3</th><td>2010-03-03</td><td>18</td></tr>\n",
       "</tbody>\n",
       "</table>\n"
      ],
      "text/latex": [
       "A data.frame: 3 × 2\n",
       "\\begin{tabular}{r|ll}\n",
       "  & date & sales\\\\\n",
       "  & <chr> & <int>\\\\\n",
       "\\hline\n",
       "\t1 & 2010-03-01 & 10\\\\\n",
       "\t2 & 2010-03-02 & 34\\\\\n",
       "\t3 & 2010-03-03 & 18\\\\\n",
       "\\end{tabular}\n"
      ],
      "text/markdown": [
       "\n",
       "A data.frame: 3 × 2\n",
       "\n",
       "| <!--/--> | date &lt;chr&gt; | sales &lt;int&gt; |\n",
       "|---|---|---|\n",
       "| 1 | 2010-03-01 | 10 |\n",
       "| 2 | 2010-03-02 | 34 |\n",
       "| 3 | 2010-03-03 | 18 |\n",
       "\n"
      ],
      "text/plain": [
       "  date       sales\n",
       "1 2010-03-01 10   \n",
       "2 2010-03-02 34   \n",
       "3 2010-03-03 18   "
      ]
     },
     "metadata": {},
     "output_type": "display_data"
    }
   ],
   "source": [
    "# データの読み込み\n",
    "file_data <- read.csv(\"book-tsa-ssm-foundation/book-data/5-11-sales_data.csv\")\n",
    "head(file_data, n=3)"
   ]
  },
  {
   "cell_type": "code",
   "execution_count": 10,
   "metadata": {},
   "outputs": [
    {
     "data": {
      "text/plain": [
       "           [,1]\n",
       "2010-03-01   10\n",
       "2010-03-02   34\n",
       "2010-03-03   18"
      ]
     },
     "metadata": {},
     "output_type": "display_data"
    }
   ],
   "source": [
    "# xts型に変換する\n",
    "sales <- as.xts(read.zoo(file_data))\n",
    "head(sales, n = 3)"
   ]
  },
  {
   "cell_type": "code",
   "execution_count": 12,
   "metadata": {},
   "outputs": [
    {
     "data": {
      "image/png": "[encoded data removed]",
      "text/plain": [
       "plot without title"
      ]
     },
     "metadata": {
      "image/png": {
       "height": 360,
       "width": 840
      }
     },
     "output_type": "display_data"
    }
   ],
   "source": [
    "# 図示する\n",
    "autoplot(sales, main=\"架空の売り上げデータ\")"
   ]
  },
  {
   "cell_type": "markdown",
   "metadata": {},
   "source": [
    "7日周期で変動していて、トレンドも変化していることがわかる。"
   ]
  },
  {
   "cell_type": "markdown",
   "metadata": {},
   "source": [
    "## 祝日の取り扱い\n",
    "\n",
    "日付データを取り扱う場合は、日本固有の暦の影響を神する必要があります。  \n",
    "xtsとNipponパッケージを組み合わせて使うと処理が簡単。  "
   ]
  },
  {
   "cell_type": "code",
   "execution_count": 15,
   "metadata": {},
   "outputs": [
    {
     "data": {
      "text/html": [
       "<style>\n",
       ".list-inline {list-style: none; margin:0; padding: 0}\n",
       ".list-inline>li {display: inline-block}\n",
       ".list-inline>li:not(:last-child)::after {content: \"\\00b7\"; padding: 0 .5ex}\n",
       "</style>\n",
       "<ol class=list-inline><li><time datetime=\"2010-03-01\">2010-03-01</time></li><li><time datetime=\"2010-03-02\">2010-03-02</time></li><li><time datetime=\"2010-03-03\">2010-03-03</time></li><li><time datetime=\"2010-03-04\">2010-03-04</time></li><li><time datetime=\"2010-03-05\">2010-03-05</time></li></ol>\n"
      ],
      "text/latex": [
       "\\begin{enumerate*}\n",
       "\\item 2010-03-01\n",
       "\\item 2010-03-02\n",
       "\\item 2010-03-03\n",
       "\\item 2010-03-04\n",
       "\\item 2010-03-05\n",
       "\\end{enumerate*}\n"
      ],
      "text/markdown": [
       "1. 2010-03-01\n",
       "2. 2010-03-02\n",
       "3. 2010-03-03\n",
       "4. 2010-03-04\n",
       "5. 2010-03-05\n",
       "\n",
       "\n"
      ],
      "text/plain": [
       "[1] \"2010-03-01\" \"2010-03-02\" \"2010-03-03\" \"2010-03-04\" \"2010-03-05\""
      ]
     },
     "metadata": {},
     "output_type": "display_data"
    }
   ],
   "source": [
    "# データの日付を取得する\n",
    "dates <- index(sales)\n",
    "head(dates, n=5)"
   ]
  },
  {
   "cell_type": "code",
   "execution_count": 16,
   "metadata": {},
   "outputs": [
    {
     "data": {
      "text/html": [
       "<style>\n",
       ".list-inline {list-style: none; margin:0; padding: 0}\n",
       ".list-inline>li {display: inline-block}\n",
       ".list-inline>li:not(:last-child)::after {content: \"\\00b7\"; padding: 0 .5ex}\n",
       "</style>\n",
       "<ol class=list-inline><li>FALSE</li><li>FALSE</li><li>FALSE</li><li>FALSE</li><li>FALSE</li><li>FALSE</li></ol>\n"
      ],
      "text/latex": [
       "\\begin{enumerate*}\n",
       "\\item FALSE\n",
       "\\item FALSE\n",
       "\\item FALSE\n",
       "\\item FALSE\n",
       "\\item FALSE\n",
       "\\item FALSE\n",
       "\\end{enumerate*}\n"
      ],
      "text/markdown": [
       "1. FALSE\n",
       "2. FALSE\n",
       "3. FALSE\n",
       "4. FALSE\n",
       "5. FALSE\n",
       "6. FALSE\n",
       "\n",
       "\n"
      ],
      "text/plain": [
       "[1] FALSE FALSE FALSE FALSE FALSE FALSE"
      ]
     },
     "metadata": {},
     "output_type": "display_data"
    }
   ],
   "source": [
    "# 祝日か否かを判別することができる\n",
    "head(is.jholiday(dates))"
   ]
  },
  {
   "cell_type": "code",
   "execution_count": 17,
   "metadata": {},
   "outputs": [
    {
     "data": {
      "text/html": [
       "<style>\n",
       ".list-inline {list-style: none; margin:0; padding: 0}\n",
       ".list-inline>li {display: inline-block}\n",
       ".list-inline>li:not(:last-child)::after {content: \"\\00b7\"; padding: 0 .5ex}\n",
       "</style>\n",
       "<ol class=list-inline><li><time datetime=\"2010-03-21\">2010-03-21</time></li><li><time datetime=\"2010-03-22\">2010-03-22</time></li><li><time datetime=\"2010-04-29\">2010-04-29</time></li><li><time datetime=\"2010-05-03\">2010-05-03</time></li><li><time datetime=\"2010-05-04\">2010-05-04</time></li><li><time datetime=\"2010-05-05\">2010-05-05</time></li></ol>\n"
      ],
      "text/latex": [
       "\\begin{enumerate*}\n",
       "\\item 2010-03-21\n",
       "\\item 2010-03-22\n",
       "\\item 2010-04-29\n",
       "\\item 2010-05-03\n",
       "\\item 2010-05-04\n",
       "\\item 2010-05-05\n",
       "\\end{enumerate*}\n"
      ],
      "text/markdown": [
       "1. 2010-03-21\n",
       "2. 2010-03-22\n",
       "3. 2010-04-29\n",
       "4. 2010-05-03\n",
       "5. 2010-05-04\n",
       "6. 2010-05-05\n",
       "\n",
       "\n"
      ],
      "text/plain": [
       "[1] \"2010-03-21\" \"2010-03-22\" \"2010-04-29\" \"2010-05-03\" \"2010-05-04\"\n",
       "[6] \"2010-05-05\""
      ]
     },
     "metadata": {},
     "output_type": "display_data"
    }
   ],
   "source": [
    "# 祝日だけを抽出する\n",
    "dates[is.jholiday(dates)]"
   ]
  },
  {
   "cell_type": "markdown",
   "metadata": {},
   "source": [
    "2010-03-21 2010-03-22に祝日になっている。これはおかしい？確認してみる"
   ]
  },
  {
   "cell_type": "code",
   "execution_count": 19,
   "metadata": {},
   "outputs": [
    {
     "data": {
      "text/html": [
       "<style>\n",
       ".list-inline {list-style: none; margin:0; padding: 0}\n",
       ".list-inline>li {display: inline-block}\n",
       ".list-inline>li:not(:last-child)::after {content: \"\\00b7\"; padding: 0 .5ex}\n",
       "</style>\n",
       "<ol class=list-inline><li>'日'</li><li>'月'</li><li>'木'</li><li>'月'</li><li>'火'</li><li>'水'</li></ol>\n"
      ],
      "text/latex": [
       "\\begin{enumerate*}\n",
       "\\item '日'\n",
       "\\item '月'\n",
       "\\item '木'\n",
       "\\item '月'\n",
       "\\item '火'\n",
       "\\item '水'\n",
       "\\end{enumerate*}\n"
      ],
      "text/markdown": [
       "1. '日'\n",
       "2. '月'\n",
       "3. '木'\n",
       "4. '月'\n",
       "5. '火'\n",
       "6. '水'\n",
       "\n",
       "\n"
      ],
      "text/plain": [
       "[1] \"日\" \"月\" \"木\" \"月\" \"火\" \"水\""
      ]
     },
     "metadata": {},
     "output_type": "display_data"
    }
   ],
   "source": [
    "# 曜日をチェックする\n",
    "weekdays(dates[is.jholiday(dates)], T)"
   ]
  },
  {
   "cell_type": "markdown",
   "metadata": {},
   "source": [
    "2010-03-21(日) 2010-03-22(月)だということで、2010-03-22（月）は振替休日だったことがわかる。  \n",
    "**日曜日が祝日になったところで、売り上げに影響は無いように思えるので日曜日以外の祝日だけを対象にする**"
   ]
  },
  {
   "cell_type": "code",
   "execution_count": 20,
   "metadata": {},
   "outputs": [
    {
     "name": "stdout",
     "output_type": "stream",
     "text": [
      "[1] \"2010-03-22\" \"2010-04-29\" \"2010-05-03\" \"2010-05-04\" \"2010-05-05\"\n"
     ]
    }
   ],
   "source": [
    "holiday_date <-\n",
    "    dates[is.jholiday(dates) & (weekdays(dates, T) != \"日\")]\n",
    "print(holiday_date)"
   ]
  },
  {
   "cell_type": "markdown",
   "metadata": {},
   "source": [
    "**土曜日の祝日は影響があるとみなすかどうか、機械的には決めにくいので注意すること。**"
   ]
  },
  {
   "cell_type": "code",
   "execution_count": 22,
   "metadata": {},
   "outputs": [
    {
     "name": "stdout",
     "output_type": "stream",
     "text": [
      " [1] 0 0 0 0 0 0 0 0 0 0 0 0 0 0 0 0 0 0 0 0 0 1 0 0 0 0 0 0 0 0 0 0 0 0 0 0 0 0\n",
      "[39] 0 0 0 0 0 0 0 0 0 0 0 0 0 0 0 0 0 0 0 0 0 1 0 0 0 1 1 1 0 0 0 0 0 0 0 0 0 0\n",
      "[77] 0\n"
     ]
    }
   ],
   "source": [
    "# 祝日だった場合は 1, それ以外の日は 0 とするフラグを作成する\n",
    "holiday_flg <- as.numeric(dates %in% holiday_date)\n",
    "print(holiday_flg)"
   ]
  },
  {
   "cell_type": "markdown",
   "metadata": {},
   "source": [
    "## KFASによる基本構造時系列モデル"
   ]
  },
  {
   "cell_type": "code",
   "execution_count": 25,
   "metadata": {},
   "outputs": [],
   "source": [
    "# Step1: モデルの構造を決める\n",
    "build_cycle <- SSModel(\n",
    "    H = NA,\n",
    "    as.numeric(sales) ~\n",
    "        SSMtrend(degree = 2, c(list(NA), list(NA))) +\n",
    "        SSMseasonal(period = 7, sea.type = \"dummy\", Q = NA) +\n",
    "        holiday_flg\n",
    ")"
   ]
  },
  {
   "cell_type": "code",
   "execution_count": 27,
   "metadata": {},
   "outputs": [],
   "source": [
    "# Step2: パラメタ推定\n",
    "fit_cycle <- fitSSM(build_cycle, inits=c(1,1,1,1))\n",
    "\n",
    "# Step3,4: フィルタリング・スムージング\n",
    "result_cycle <- KFS(\n",
    "    fit_cycle$model,\n",
    "    filtering = c(\"state\", \"mean\"),\n",
    "    smoothing = c(\"state\", \"mean\")\n",
    ")"
   ]
  },
  {
   "cell_type": "markdown",
   "metadata": {},
   "source": [
    "## 推定結果の確認\n",
    "\n",
    "元データを「トレンド＋水準」の要素と「周期成分」の要素に分けて図示＾する"
   ]
  },
  {
   "cell_type": "code",
   "execution_count": 30,
   "metadata": {},
   "outputs": [
    {
     "data": {
      "image/png": "[encoded data removed]",
      "text/plain": [
       "plot without title"
      ]
     },
     "metadata": {
      "image/png": {
       "height": 360,
       "width": 840
      }
     },
     "output_type": "display_data"
    }
   ],
   "source": [
    "p_data <- autoplot(sales, main = \"元データ\")\n",
    "p_trend <- autoplot(result_cycle$alphahat[, \"level\"], main=\"トレンド+水準\")\n",
    "p_cycle <- autoplot(result_cycle$alphahat[, \"sea_dummy1\"], main=\"周期成分\")\n",
    "grid.arrange(p_data, p_trend, p_cycle)"
   ]
  },
  {
   "cell_type": "markdown",
   "metadata": {},
   "source": [
    "## 推定結果の図示"
   ]
  },
  {
   "cell_type": "code",
   "execution_count": 31,
   "metadata": {},
   "outputs": [],
   "source": [
    "# 予測区間\n",
    "interval_cycle <- predict(\n",
    "    fit_cycle$model, interval=\"prediction\", level=0.95\n",
    ")\n",
    "\n",
    "# データを整形\n",
    "df <- cbind(\n",
    "    data.frame(sales = as.numeric(sales),time = as.POSIXct(index(sales))),\n",
    "    as.data.frame(interval_cycle)\n",
    ")"
   ]
  },
  {
   "cell_type": "code",
   "execution_count": 33,
   "metadata": {},
   "outputs": [
    {
     "data": {
      "image/png": "[encoded data removed]",
      "text/plain": [
       "plot without title"
      ]
     },
     "metadata": {
      "image/png": {
       "height": 360,
       "width": 840
      }
     },
     "output_type": "display_data"
    }
   ],
   "source": [
    "# 図示\n",
    "ggplot(data = df, aes(x = time, y = sales)) +\n",
    "labs(title = \"周期成分のある状態空間モデル\") +\n",
    "geom_point(alpha = 0.5) +\n",
    "geom_line(aes(y = fit), size = 1.2) +\n",
    "geom_ribbon(aes(ymin = lwr, ymax = upr), alpha = 0.3) + \n",
    "scale_x_datetime(date_labels = \"%y 年%m 月\")"
   ]
  },
  {
   "cell_type": "markdown",
   "metadata": {},
   "source": [
    "## 周期成分を取り除く\n",
    "\n",
    "周期成分を取り除いた「水準＋トレンド」のみを図示することも可能。  "
   ]
  },
  {
   "cell_type": "code",
   "execution_count": 36,
   "metadata": {},
   "outputs": [],
   "source": [
    "# 予測区間と平滑化状態\n",
    "interval_level <- predict(\n",
    "    fit_cycle$model, interval=\"confidence\", level=0.95, states = \"level\"\n",
    ")\n",
    "\n",
    "# データを整形\n",
    "df_level <- cbind(\n",
    "    data.frame(sales = as.numeric(sales),time = as.POSIXct(index(sales))),\n",
    "    as.data.frame(interval_level))\n"
   ]
  },
  {
   "cell_type": "code",
   "execution_count": 37,
   "metadata": {},
   "outputs": [
    {
     "data": {
      "image/png": "[encoded data removed]",
      "text/plain": [
       "plot without title"
      ]
     },
     "metadata": {
      "image/png": {
       "height": 360,
       "width": 840
      }
     },
     "output_type": "display_data"
    }
   ],
   "source": [
    "# 図示\n",
    "ggplot(data = df_level, aes(x = time, y = sales)) +\n",
    "labs(title = \"周期成分を取り除いた水準値のグラフ\") +\n",
    "geom_point(alpha = 0.5) +\n",
    "geom_line(aes(y = fit), size = 1.2) +\n",
    "geom_ribbon(aes(ymin = lwr, ymax = upr), alpha = 0.3) + \n",
    "scale_x_datetime(date_labels = \"%y 年%m 月\")"
   ]
  },
  {
   "cell_type": "code",
   "execution_count": null,
   "metadata": {},
   "outputs": [],
   "source": []
  }
 ],
 "metadata": {
  "kernelspec": {
   "display_name": "R",
   "language": "R",
   "name": "ir"
  },
  "language_info": {
   "codemirror_mode": "r",
   "file_extension": ".r",
   "mimetype": "text/x-r-source",
   "name": "R",
   "pygments_lexer": "r",
   "version": "4.0.2"
  }
 },
 "nbformat": 4,
 "nbformat_minor": 4
}
