{
 "cells": [
  {
   "cell_type": "markdown",
   "metadata": {},
   "source": [
    "# Rの練習"
   ]
  },
  {
   "cell_type": "code",
   "execution_count": 2,
   "metadata": {},
   "outputs": [],
   "source": [
    "# コメント--------"
   ]
  },
  {
   "cell_type": "code",
   "execution_count": 3,
   "metadata": {},
   "outputs": [
    {
     "data": {
      "text/html": [
       "2"
      ],
      "text/latex": [
       "2"
      ],
      "text/markdown": [
       "2"
      ],
      "text/plain": [
       "[1] 2"
      ]
     },
     "metadata": {},
     "output_type": "display_data"
    },
    {
     "data": {
      "text/html": [
       "2"
      ],
      "text/latex": [
       "2"
      ],
      "text/markdown": [
       "2"
      ],
      "text/plain": [
       "[1] 2"
      ]
     },
     "metadata": {},
     "output_type": "display_data"
    },
    {
     "data": {
      "text/html": [
       "6"
      ],
      "text/latex": [
       "6"
      ],
      "text/markdown": [
       "6"
      ],
      "text/plain": [
       "[1] 6"
      ]
     },
     "metadata": {},
     "output_type": "display_data"
    },
    {
     "data": {
      "text/html": [
       "1.5"
      ],
      "text/latex": [
       "1.5"
      ],
      "text/markdown": [
       "1.5"
      ],
      "text/plain": [
       "[1] 1.5"
      ]
     },
     "metadata": {},
     "output_type": "display_data"
    }
   ],
   "source": [
    "1 + 1\n",
    "4 - 2\n",
    "2 * 3\n",
    "6 / 4"
   ]
  },
  {
   "cell_type": "code",
   "execution_count": 8,
   "metadata": {},
   "outputs": [
    {
     "name": "stdout",
     "output_type": "stream",
     "text": [
      "[1] 3\n",
      "[1] 4\n"
     ]
    }
   ],
   "source": [
    "# 変数\n",
    "a <- 3\n",
    "print(a)\n",
    "\n",
    "b <- a + 1\n",
    "print(b)"
   ]
  },
  {
   "cell_type": "code",
   "execution_count": 10,
   "metadata": {},
   "outputs": [
    {
     "data": {
      "text/html": [
       "1.4142135623731"
      ],
      "text/latex": [
       "1.4142135623731"
      ],
      "text/markdown": [
       "1.4142135623731"
      ],
      "text/plain": [
       "[1] 1.414214"
      ]
     },
     "metadata": {},
     "output_type": "display_data"
    },
    {
     "name": "stdout",
     "output_type": "stream",
     "text": [
      "[1] 1.414214\n"
     ]
    }
   ],
   "source": [
    "# 関数とヘルプ\n",
    "\n",
    "# 平方根\n",
    "sqrt(2)\n",
    "\n",
    "hensu <- 2\n",
    "print(sqrt(hensu))"
   ]
  },
  {
   "cell_type": "code",
   "execution_count": 11,
   "metadata": {},
   "outputs": [
    {
     "data": {
      "text/html": [
       "3"
      ],
      "text/latex": [
       "3"
      ],
      "text/markdown": [
       "3"
      ],
      "text/plain": [
       "[1] 3"
      ]
     },
     "metadata": {},
     "output_type": "display_data"
    }
   ],
   "source": [
    "plusOne <- function(x){\n",
    "    return(x + 1)\n",
    "}\n",
    "\n",
    "plusOne(2)"
   ]
  },
  {
   "cell_type": "code",
   "execution_count": 14,
   "metadata": {},
   "outputs": [],
   "source": [
    "# ヘルプ\n",
    "# ?sqrt"
   ]
  },
  {
   "cell_type": "code",
   "execution_count": 15,
   "metadata": {},
   "outputs": [
    {
     "data": {
      "text/html": [
       "<style>\n",
       ".list-inline {list-style: none; margin:0; padding: 0}\n",
       ".list-inline>li {display: inline-block}\n",
       ".list-inline>li:not(:last-child)::after {content: \"\\00b7\"; padding: 0 .5ex}\n",
       "</style>\n",
       "<ol class=list-inline><li>1</li><li>3</li><li>5</li><li>7</li></ol>\n"
      ],
      "text/latex": [
       "\\begin{enumerate*}\n",
       "\\item 1\n",
       "\\item 3\n",
       "\\item 5\n",
       "\\item 7\n",
       "\\end{enumerate*}\n"
      ],
      "text/markdown": [
       "1. 1\n",
       "2. 3\n",
       "3. 5\n",
       "4. 7\n",
       "\n",
       "\n"
      ],
      "text/plain": [
       "[1] 1 3 5 7"
      ]
     },
     "metadata": {},
     "output_type": "display_data"
    }
   ],
   "source": [
    "# ベクトル\n",
    "vec <- c(1,3,5,7)\n",
    "vec"
   ]
  },
  {
   "cell_type": "code",
   "execution_count": 16,
   "metadata": {},
   "outputs": [
    {
     "data": {
      "text/html": [
       "<style>\n",
       ".list-inline {list-style: none; margin:0; padding: 0}\n",
       ".list-inline>li {display: inline-block}\n",
       ".list-inline>li:not(:last-child)::after {content: \"\\00b7\"; padding: 0 .5ex}\n",
       "</style>\n",
       "<ol class=list-inline><li>2</li><li>3</li><li>4</li><li>5</li><li>6</li><li>7</li></ol>\n"
      ],
      "text/latex": [
       "\\begin{enumerate*}\n",
       "\\item 2\n",
       "\\item 3\n",
       "\\item 4\n",
       "\\item 5\n",
       "\\item 6\n",
       "\\item 7\n",
       "\\end{enumerate*}\n"
      ],
      "text/markdown": [
       "1. 2\n",
       "2. 3\n",
       "3. 4\n",
       "4. 5\n",
       "5. 6\n",
       "6. 7\n",
       "\n",
       "\n"
      ],
      "text/plain": [
       "[1] 2 3 4 5 6 7"
      ]
     },
     "metadata": {},
     "output_type": "display_data"
    }
   ],
   "source": [
    "# 等差数列\n",
    "2:7"
   ]
  },
  {
   "cell_type": "code",
   "execution_count": 25,
   "metadata": {},
   "outputs": [
    {
     "name": "stdout",
     "output_type": "stream",
     "text": [
      "[1] 1\n",
      "[1] 3 5 7\n"
     ]
    }
   ],
   "source": [
    "# 要素の取り出し\n",
    "# 1はじまり\n",
    "print(vec[1])\n",
    "print(vec[2:4])"
   ]
  },
  {
   "cell_type": "code",
   "execution_count": 26,
   "metadata": {},
   "outputs": [
    {
     "data": {
      "text/html": [
       "<style>\n",
       ".list-inline {list-style: none; margin:0; padding: 0}\n",
       ".list-inline>li {display: inline-block}\n",
       ".list-inline>li:not(:last-child)::after {content: \"\\00b7\"; padding: 0 .5ex}\n",
       "</style>\n",
       "<ol class=list-inline><li>3</li><li>5</li><li>7</li><li>9</li></ol>\n"
      ],
      "text/latex": [
       "\\begin{enumerate*}\n",
       "\\item 3\n",
       "\\item 5\n",
       "\\item 7\n",
       "\\item 9\n",
       "\\end{enumerate*}\n"
      ],
      "text/markdown": [
       "1. 3\n",
       "2. 5\n",
       "3. 7\n",
       "4. 9\n",
       "\n",
       "\n"
      ],
      "text/plain": [
       "[1] 3 5 7 9"
      ]
     },
     "metadata": {},
     "output_type": "display_data"
    }
   ],
   "source": [
    "# ベクトルの足し算\n",
    "vec + 2"
   ]
  },
  {
   "cell_type": "code",
   "execution_count": 30,
   "metadata": {},
   "outputs": [
    {
     "name": "stdout",
     "output_type": "stream",
     "text": [
      "     [,1] [,2]\n",
      "[1,]    1    5\n",
      "[2,]    2    6\n",
      "[3,]    3    7\n",
      "[4,]    4    8\n",
      "[1] \"matrix\" \"array\" \n"
     ]
    }
   ],
   "source": [
    "# 行列\n",
    "mat <- matrix(\n",
    "    c(1,2,3,4,5,6,7,8),\n",
    "    nrow = 4 # 4行\n",
    ")\n",
    "print(mat)\n",
    "# 変数の型を確認\n",
    "print(class(mat))"
   ]
  },
  {
   "cell_type": "code",
   "execution_count": 31,
   "metadata": {},
   "outputs": [
    {
     "data": {
      "text/html": [
       "<table>\n",
       "<caption>A matrix: 2 × 4 of type dbl</caption>\n",
       "<tbody>\n",
       "\t<tr><td>1</td><td>3</td><td>5</td><td>7</td></tr>\n",
       "\t<tr><td>2</td><td>4</td><td>6</td><td>8</td></tr>\n",
       "</tbody>\n",
       "</table>\n"
      ],
      "text/latex": [
       "A matrix: 2 × 4 of type dbl\n",
       "\\begin{tabular}{llll}\n",
       "\t 1 & 3 & 5 & 7\\\\\n",
       "\t 2 & 4 & 6 & 8\\\\\n",
       "\\end{tabular}\n"
      ],
      "text/markdown": [
       "\n",
       "A matrix: 2 × 4 of type dbl\n",
       "\n",
       "| 1 | 3 | 5 | 7 |\n",
       "| 2 | 4 | 6 | 8 |\n",
       "\n"
      ],
      "text/plain": [
       "     [,1] [,2] [,3] [,4]\n",
       "[1,] 1    3    5    7   \n",
       "[2,] 2    4    6    8   "
      ]
     },
     "metadata": {},
     "output_type": "display_data"
    }
   ],
   "source": [
    "# 列数を指定することも可能\n",
    "matrix(\n",
    "    c(1,2,3,4,5,6,7,8),\n",
    "    ncol = 4\n",
    ")\n"
   ]
  },
  {
   "cell_type": "code",
   "execution_count": 33,
   "metadata": {},
   "outputs": [
    {
     "name": "stdout",
     "output_type": "stream",
     "text": [
      "     [,1] [,2] [,3] [,4]\n",
      "[1,]    1    2    3    4\n",
      "[2,]    5    6    7    8\n"
     ]
    }
   ],
   "source": [
    "# 行列の数値を横方向に入れていくには\n",
    "mat_byrow <- matrix(\n",
    "    c(1,2,3,4,5,6,7,8),\n",
    "    nrow=2,\n",
    "    byrow=T\n",
    ")\n",
    "print(mat_byrow)"
   ]
  },
  {
   "cell_type": "code",
   "execution_count": 36,
   "metadata": {},
   "outputs": [
    {
     "data": {
      "text/html": [
       "7"
      ],
      "text/latex": [
       "7"
      ],
      "text/markdown": [
       "7"
      ],
      "text/plain": [
       "[1] 7"
      ]
     },
     "metadata": {},
     "output_type": "display_data"
    }
   ],
   "source": [
    "# 行列のデータの抽出\n",
    "mat_byrow[2 ,3]"
   ]
  },
  {
   "cell_type": "code",
   "execution_count": 41,
   "metadata": {},
   "outputs": [
    {
     "data": {
      "text/html": [
       "<table>\n",
       "<caption>A matrix: 2 × 4 of type dbl</caption>\n",
       "<thead>\n",
       "\t<tr><th></th><th scope=col>c1</th><th scope=col>c2</th><th scope=col>c3</th><th scope=col>c4</th></tr>\n",
       "</thead>\n",
       "<tbody>\n",
       "\t<tr><th scope=row>r1</th><td>1</td><td>2</td><td>3</td><td>4</td></tr>\n",
       "\t<tr><th scope=row>r2</th><td>5</td><td>6</td><td>7</td><td>8</td></tr>\n",
       "</tbody>\n",
       "</table>\n"
      ],
      "text/latex": [
       "A matrix: 2 × 4 of type dbl\n",
       "\\begin{tabular}{r|llll}\n",
       "  & c1 & c2 & c3 & c4\\\\\n",
       "\\hline\n",
       "\tr1 & 1 & 2 & 3 & 4\\\\\n",
       "\tr2 & 5 & 6 & 7 & 8\\\\\n",
       "\\end{tabular}\n"
      ],
      "text/markdown": [
       "\n",
       "A matrix: 2 × 4 of type dbl\n",
       "\n",
       "| <!--/--> | c1 | c2 | c3 | c4 |\n",
       "|---|---|---|---|---|\n",
       "| r1 | 1 | 2 | 3 | 4 |\n",
       "| r2 | 5 | 6 | 7 | 8 |\n",
       "\n"
      ],
      "text/plain": [
       "   c1 c2 c3 c4\n",
       "r1 1  2  3  4 \n",
       "r2 5  6  7  8 "
      ]
     },
     "metadata": {},
     "output_type": "display_data"
    },
    {
     "name": "stdout",
     "output_type": "stream",
     "text": [
      "[1] \"matrix\" \"array\" \n"
     ]
    }
   ],
   "source": [
    "# 行と列に名前を付ける\n",
    "mat_with_name <- matrix(\n",
    "     c(1,2,3,4,5,6,7,8),\n",
    "    ncol = 4,\n",
    "    byrow = T,\n",
    "    dimnames = list(c(\"r1\", \"r2\"), c(\"c1\", \"c2\", \"c3\", \"c4\"))\n",
    ")\n",
    "mat_with_name\n",
    "\n",
    "print(class(mat_with_name))"
   ]
  },
  {
   "cell_type": "code",
   "execution_count": 44,
   "metadata": {},
   "outputs": [
    {
     "name": "stdout",
     "output_type": "stream",
     "text": [
      "  X Y\n",
      "1 1 A\n",
      "2 2 B\n",
      "3 3 C\n",
      "4 4 D\n",
      "[1] \"data.frame\"\n"
     ]
    }
   ],
   "source": [
    "# データフレーム\n",
    "dataf <- data.frame(\n",
    "    X = c(1,2,3,4),\n",
    "    Y = c(\"A\", \"B\", \"C\", \"D\")\n",
    ")\n",
    "print(dataf)\n",
    "print(class(dataf))"
   ]
  },
  {
   "cell_type": "code",
   "execution_count": 45,
   "metadata": {},
   "outputs": [
    {
     "name": "stdout",
     "output_type": "stream",
     "text": [
      "[1] 2\n",
      "[1] 4\n"
     ]
    }
   ],
   "source": [
    "# データフレームの列数\n",
    "print(ncol(dataf))\n",
    "\n",
    "# データフレームの行数\n",
    "print(nrow(dataf))"
   ]
  },
  {
   "cell_type": "code",
   "execution_count": 50,
   "metadata": {},
   "outputs": [
    {
     "name": "stdout",
     "output_type": "stream",
     "text": [
      "[1] 1 2 3 4\n",
      "[1] \"numeric\"\n",
      "[1] 1\n"
     ]
    },
    {
     "data": {
      "text/html": [
       "1"
      ],
      "text/latex": [
       "1"
      ],
      "text/markdown": [
       "1"
      ],
      "text/plain": [
       "[1] 1"
      ]
     },
     "metadata": {},
     "output_type": "display_data"
    }
   ],
   "source": [
    "# 列名を指定して取り出す\n",
    "print(dataf$X)\n",
    "print(class(dataf$X))\n",
    "print(dataf$X[1])\n",
    "\n",
    "# 行列形式でもとりだせる\n",
    "dataf[1, 1]"
   ]
  },
  {
   "cell_type": "code",
   "execution_count": 51,
   "metadata": {},
   "outputs": [
    {
     "data": {
      "text/html": [
       "<table>\n",
       "<caption>A data.frame: 4 × 2</caption>\n",
       "<thead>\n",
       "\t<tr><th scope=col>V1</th><th scope=col>V2</th></tr>\n",
       "\t<tr><th scope=col>&lt;dbl&gt;</th><th scope=col>&lt;dbl&gt;</th></tr>\n",
       "</thead>\n",
       "<tbody>\n",
       "\t<tr><td>1</td><td>5</td></tr>\n",
       "\t<tr><td>2</td><td>6</td></tr>\n",
       "\t<tr><td>3</td><td>7</td></tr>\n",
       "\t<tr><td>4</td><td>8</td></tr>\n",
       "</tbody>\n",
       "</table>\n"
      ],
      "text/latex": [
       "A data.frame: 4 × 2\n",
       "\\begin{tabular}{ll}\n",
       " V1 & V2\\\\\n",
       " <dbl> & <dbl>\\\\\n",
       "\\hline\n",
       "\t 1 & 5\\\\\n",
       "\t 2 & 6\\\\\n",
       "\t 3 & 7\\\\\n",
       "\t 4 & 8\\\\\n",
       "\\end{tabular}\n"
      ],
      "text/markdown": [
       "\n",
       "A data.frame: 4 × 2\n",
       "\n",
       "| V1 &lt;dbl&gt; | V2 &lt;dbl&gt; |\n",
       "|---|---|\n",
       "| 1 | 5 |\n",
       "| 2 | 6 |\n",
       "| 3 | 7 |\n",
       "| 4 | 8 |\n",
       "\n"
      ],
      "text/plain": [
       "  V1 V2\n",
       "1 1  5 \n",
       "2 2  6 \n",
       "3 3  7 \n",
       "4 4  8 "
      ]
     },
     "metadata": {},
     "output_type": "display_data"
    }
   ],
   "source": [
    "# 行列方をデータフレームに変換\n",
    "dataf_by_mat <- as.data.frame(mat)\n",
    "dataf_by_mat"
   ]
  },
  {
   "cell_type": "code",
   "execution_count": 53,
   "metadata": {},
   "outputs": [
    {
     "data": {
      "text/html": [
       "<table>\n",
       "<caption>A matrix: 4 × 2 of type chr</caption>\n",
       "<thead>\n",
       "\t<tr><th scope=col>X</th><th scope=col>Y</th></tr>\n",
       "</thead>\n",
       "<tbody>\n",
       "\t<tr><td>1</td><td>A</td></tr>\n",
       "\t<tr><td>2</td><td>B</td></tr>\n",
       "\t<tr><td>3</td><td>C</td></tr>\n",
       "\t<tr><td>4</td><td>D</td></tr>\n",
       "</tbody>\n",
       "</table>\n"
      ],
      "text/latex": [
       "A matrix: 4 × 2 of type chr\n",
       "\\begin{tabular}{ll}\n",
       " X & Y\\\\\n",
       "\\hline\n",
       "\t 1 & A\\\\\n",
       "\t 2 & B\\\\\n",
       "\t 3 & C\\\\\n",
       "\t 4 & D\\\\\n",
       "\\end{tabular}\n"
      ],
      "text/markdown": [
       "\n",
       "A matrix: 4 × 2 of type chr\n",
       "\n",
       "| X | Y |\n",
       "|---|---|\n",
       "| 1 | A |\n",
       "| 2 | B |\n",
       "| 3 | C |\n",
       "| 4 | D |\n",
       "\n"
      ],
      "text/plain": [
       "     X Y\n",
       "[1,] 1 A\n",
       "[2,] 2 B\n",
       "[3,] 3 C\n",
       "[4,] 4 D"
      ]
     },
     "metadata": {},
     "output_type": "display_data"
    }
   ],
   "source": [
    "# dataframeからmatrix\n",
    "as.matrix(dataf)"
   ]
  },
  {
   "cell_type": "code",
   "execution_count": 57,
   "metadata": {},
   "outputs": [
    {
     "data": {
      "text/html": [
       "<dl>\n",
       "\t<dt>$dataf</dt>\n",
       "\t\t<dd><table>\n",
       "<caption>A data.frame: 4 × 2</caption>\n",
       "<thead>\n",
       "\t<tr><th scope=col>X</th><th scope=col>Y</th></tr>\n",
       "\t<tr><th scope=col>&lt;dbl&gt;</th><th scope=col>&lt;chr&gt;</th></tr>\n",
       "</thead>\n",
       "<tbody>\n",
       "\t<tr><td>1</td><td>A</td></tr>\n",
       "\t<tr><td>2</td><td>B</td></tr>\n",
       "\t<tr><td>3</td><td>C</td></tr>\n",
       "\t<tr><td>4</td><td>D</td></tr>\n",
       "</tbody>\n",
       "</table>\n",
       "</dd>\n",
       "\t<dt>$mat</dt>\n",
       "\t\t<dd><table>\n",
       "<caption>A matrix: 4 × 2 of type dbl</caption>\n",
       "<tbody>\n",
       "\t<tr><td>1</td><td>5</td></tr>\n",
       "\t<tr><td>2</td><td>6</td></tr>\n",
       "\t<tr><td>3</td><td>7</td></tr>\n",
       "\t<tr><td>4</td><td>8</td></tr>\n",
       "</tbody>\n",
       "</table>\n",
       "</dd>\n",
       "</dl>\n"
      ],
      "text/latex": [
       "\\begin{description}\n",
       "\\item[\\$dataf] A data.frame: 4 × 2\n",
       "\\begin{tabular}{ll}\n",
       " X & Y\\\\\n",
       " <dbl> & <chr>\\\\\n",
       "\\hline\n",
       "\t 1 & A\\\\\n",
       "\t 2 & B\\\\\n",
       "\t 3 & C\\\\\n",
       "\t 4 & D\\\\\n",
       "\\end{tabular}\n",
       "\n",
       "\\item[\\$mat] A matrix: 4 × 2 of type dbl\n",
       "\\begin{tabular}{ll}\n",
       "\t 1 & 5\\\\\n",
       "\t 2 & 6\\\\\n",
       "\t 3 & 7\\\\\n",
       "\t 4 & 8\\\\\n",
       "\\end{tabular}\n",
       "\n",
       "\\end{description}\n"
      ],
      "text/markdown": [
       "$dataf\n",
       ":   \n",
       "A data.frame: 4 × 2\n",
       "\n",
       "| X &lt;dbl&gt; | Y &lt;chr&gt; |\n",
       "|---|---|\n",
       "| 1 | A |\n",
       "| 2 | B |\n",
       "| 3 | C |\n",
       "| 4 | D |\n",
       "\n",
       "\n",
       "$mat\n",
       ":   \n",
       "A matrix: 4 × 2 of type dbl\n",
       "\n",
       "| 1 | 5 |\n",
       "| 2 | 6 |\n",
       "| 3 | 7 |\n",
       "| 4 | 8 |\n",
       "\n",
       "\n",
       "\n",
       "\n"
      ],
      "text/plain": [
       "$dataf\n",
       "  X Y\n",
       "1 1 A\n",
       "2 2 B\n",
       "3 3 C\n",
       "4 4 D\n",
       "\n",
       "$mat\n",
       "     [,1] [,2]\n",
       "[1,]    1    5\n",
       "[2,]    2    6\n",
       "[3,]    3    7\n",
       "[4,]    4    8\n"
      ]
     },
     "metadata": {},
     "output_type": "display_data"
    },
    {
     "data": {
      "text/html": [
       "'list'"
      ],
      "text/latex": [
       "'list'"
      ],
      "text/markdown": [
       "'list'"
      ],
      "text/plain": [
       "[1] \"list\""
      ]
     },
     "metadata": {},
     "output_type": "display_data"
    }
   ],
   "source": [
    "# リスト\n",
    "li <- list(\n",
    "    dataf = dataf,\n",
    "    mat = mat\n",
    ")\n",
    "li\n",
    "class(li)"
   ]
  },
  {
   "cell_type": "code",
   "execution_count": 56,
   "metadata": {},
   "outputs": [
    {
     "data": {
      "text/html": [
       "<table>\n",
       "<caption>A data.frame: 4 × 2</caption>\n",
       "<thead>\n",
       "\t<tr><th scope=col>X</th><th scope=col>Y</th></tr>\n",
       "\t<tr><th scope=col>&lt;dbl&gt;</th><th scope=col>&lt;chr&gt;</th></tr>\n",
       "</thead>\n",
       "<tbody>\n",
       "\t<tr><td>1</td><td>A</td></tr>\n",
       "\t<tr><td>2</td><td>B</td></tr>\n",
       "\t<tr><td>3</td><td>C</td></tr>\n",
       "\t<tr><td>4</td><td>D</td></tr>\n",
       "</tbody>\n",
       "</table>\n"
      ],
      "text/latex": [
       "A data.frame: 4 × 2\n",
       "\\begin{tabular}{ll}\n",
       " X & Y\\\\\n",
       " <dbl> & <chr>\\\\\n",
       "\\hline\n",
       "\t 1 & A\\\\\n",
       "\t 2 & B\\\\\n",
       "\t 3 & C\\\\\n",
       "\t 4 & D\\\\\n",
       "\\end{tabular}\n"
      ],
      "text/markdown": [
       "\n",
       "A data.frame: 4 × 2\n",
       "\n",
       "| X &lt;dbl&gt; | Y &lt;chr&gt; |\n",
       "|---|---|\n",
       "| 1 | A |\n",
       "| 2 | B |\n",
       "| 3 | C |\n",
       "| 4 | D |\n",
       "\n"
      ],
      "text/plain": [
       "  X Y\n",
       "1 1 A\n",
       "2 2 B\n",
       "3 3 C\n",
       "4 4 D"
      ]
     },
     "metadata": {},
     "output_type": "display_data"
    },
    {
     "data": {
      "text/html": [
       "'data.frame'"
      ],
      "text/latex": [
       "'data.frame'"
      ],
      "text/markdown": [
       "'data.frame'"
      ],
      "text/plain": [
       "[1] \"data.frame\""
      ]
     },
     "metadata": {},
     "output_type": "display_data"
    }
   ],
   "source": [
    "# listの中にdataframeもmatrixも入っている\n",
    "# 取り出す\n",
    "li$dataf\n",
    "class(li$dataf)"
   ]
  },
  {
   "cell_type": "code",
   "execution_count": 59,
   "metadata": {},
   "outputs": [
    {
     "name": "stdout",
     "output_type": "stream",
     "text": [
      "$dataf\n",
      "  X Y\n",
      "1 1 A\n",
      "2 2 B\n",
      "3 3 C\n",
      "4 4 D\n",
      "\n",
      "  X Y\n",
      "1 1 A\n",
      "2 2 B\n",
      "3 3 C\n",
      "4 4 D\n"
     ]
    }
   ],
   "source": [
    "# 添え字でデータ抽出\n",
    "print(li[1])\n",
    "print(li[[1]]) # 2つ鍵括弧"
   ]
  },
  {
   "cell_type": "code",
   "execution_count": 1,
   "metadata": {},
   "outputs": [
    {
     "name": "stderr",
     "output_type": "stream",
     "text": [
      "also installing the dependency 'zoo'\n",
      "\n",
      "\n"
     ]
    },
    {
     "name": "stdout",
     "output_type": "stream",
     "text": [
      "package 'zoo' successfully unpacked and MD5 sums checked\n",
      "package 'xts' successfully unpacked and MD5 sums checked\n",
      "\n",
      "The downloaded binary packages are in\n",
      "\tC:\\Users\\masayoshi\\AppData\\Local\\Temp\\RtmpcV6obu\\downloaded_packages\n"
     ]
    },
    {
     "name": "stderr",
     "output_type": "stream",
     "text": [
      "also installing the dependencies 'farver', 'labeling', 'munsell', 'RColorBrewer', 'viridisLite', 'TTR', 'gtable', 'isoband', 'scales', 'quadprog', 'quantmod', 'colorspace', 'fracdiff', 'ggplot2', 'lmtest', 'timeDate', 'tseries', 'urca', 'RcppArmadillo'\n",
      "\n",
      "\n"
     ]
    },
    {
     "name": "stdout",
     "output_type": "stream",
     "text": [
      "package 'farver' successfully unpacked and MD5 sums checked\n",
      "package 'labeling' successfully unpacked and MD5 sums checked\n",
      "package 'munsell' successfully unpacked and MD5 sums checked\n",
      "package 'RColorBrewer' successfully unpacked and MD5 sums checked\n",
      "package 'viridisLite' successfully unpacked and MD5 sums checked\n",
      "package 'TTR' successfully unpacked and MD5 sums checked\n",
      "package 'gtable' successfully unpacked and MD5 sums checked\n",
      "package 'isoband' successfully unpacked and MD5 sums checked\n",
      "package 'scales' successfully unpacked and MD5 sums checked\n",
      "package 'quadprog' successfully unpacked and MD5 sums checked\n",
      "package 'quantmod' successfully unpacked and MD5 sums checked\n",
      "package 'colorspace' successfully unpacked and MD5 sums checked\n",
      "package 'fracdiff' successfully unpacked and MD5 sums checked\n",
      "package 'ggplot2' successfully unpacked and MD5 sums checked\n",
      "package 'lmtest' successfully unpacked and MD5 sums checked\n",
      "package 'timeDate' successfully unpacked and MD5 sums checked\n",
      "package 'tseries' successfully unpacked and MD5 sums checked\n",
      "package 'urca' successfully unpacked and MD5 sums checked\n",
      "package 'RcppArmadillo' successfully unpacked and MD5 sums checked\n",
      "package 'forecast' successfully unpacked and MD5 sums checked\n",
      "\n",
      "The downloaded binary packages are in\n",
      "\tC:\\Users\\masayoshi\\AppData\\Local\\Temp\\RtmpcV6obu\\downloaded_packages\n",
      "package 'urca' successfully unpacked and MD5 sums checked\n",
      "\n",
      "The downloaded binary packages are in\n",
      "\tC:\\Users\\masayoshi\\AppData\\Local\\Temp\\RtmpcV6obu\\downloaded_packages\n",
      "package 'ggplot2' successfully unpacked and MD5 sums checked\n",
      "\n",
      "The downloaded binary packages are in\n",
      "\tC:\\Users\\masayoshi\\AppData\\Local\\Temp\\RtmpcV6obu\\downloaded_packages\n"
     ]
    },
    {
     "name": "stderr",
     "output_type": "stream",
     "text": [
      "also installing the dependencies 'generics', 'tidyselect', 'dplyr', 'tidyr', 'gridExtra'\n",
      "\n",
      "\n"
     ]
    },
    {
     "name": "stdout",
     "output_type": "stream",
     "text": [
      "package 'generics' successfully unpacked and MD5 sums checked\n",
      "package 'tidyselect' successfully unpacked and MD5 sums checked\n",
      "package 'dplyr' successfully unpacked and MD5 sums checked\n",
      "package 'tidyr' successfully unpacked and MD5 sums checked\n",
      "package 'gridExtra' successfully unpacked and MD5 sums checked\n",
      "package 'ggfortify' successfully unpacked and MD5 sums checked\n",
      "\n",
      "The downloaded binary packages are in\n",
      "\tC:\\Users\\masayoshi\\AppData\\Local\\Temp\\RtmpcV6obu\\downloaded_packages\n"
     ]
    }
   ],
   "source": [
    "# パッケージのインストール\n",
    "# install.packages(\"xts\") # 時系列データの型を提供する\n",
    "# install.packages(\"forecast\") # 時系列モデルの作成と予測\n",
    "# install.packages(\"urca\") # 単位根検定\n",
    "# install.packages(\"ggplot2\")  # グラフ描写\n",
    "# install.packages(\"ggfortify\")  # グラフ描写"
   ]
  },
  {
   "cell_type": "code",
   "execution_count": 119,
   "metadata": {},
   "outputs": [],
   "source": [
    "# パッケージの読み込み\n",
    "library(xts)\n",
    "library(forecast)\n",
    "library(urca)\n",
    "library(ggplot2)\n",
    "library(ggfortify)\n",
    "\n",
    "# plotのサイズ変更\n",
    "library(repr)"
   ]
  },
  {
   "cell_type": "code",
   "execution_count": 64,
   "metadata": {},
   "outputs": [
    {
     "data": {
      "text/html": [
       "<table>\n",
       "<caption>A Time Series: 3 × 12</caption>\n",
       "<thead>\n",
       "\t<tr><th></th><th scope=col>Jan</th><th scope=col>Feb</th><th scope=col>Mar</th><th scope=col>Apr</th><th scope=col>May</th><th scope=col>Jun</th><th scope=col>Jul</th><th scope=col>Aug</th><th scope=col>Sep</th><th scope=col>Oct</th><th scope=col>Nov</th><th scope=col>Dec</th></tr>\n",
       "</thead>\n",
       "<tbody>\n",
       "\t<tr><th scope=row>2000</th><td> 1</td><td> 2</td><td> 3</td><td> 4</td><td> 5</td><td> 6</td><td> 7</td><td> 8</td><td> 9</td><td>10</td><td>11</td><td>12</td></tr>\n",
       "\t<tr><th scope=row>2001</th><td>13</td><td>14</td><td>15</td><td>16</td><td>17</td><td>18</td><td>19</td><td>20</td><td>21</td><td>22</td><td>23</td><td>24</td></tr>\n",
       "\t<tr><th scope=row>2002</th><td>25</td><td>26</td><td>27</td><td>28</td><td>29</td><td>30</td><td>31</td><td>32</td><td>33</td><td>34</td><td>35</td><td>36</td></tr>\n",
       "</tbody>\n",
       "</table>\n"
      ],
      "text/latex": [
       "A Time Series: 3 × 12\n",
       "\\begin{tabular}{r|llllllllllll}\n",
       "  & Jan & Feb & Mar & Apr & May & Jun & Jul & Aug & Sep & Oct & Nov & Dec\\\\\n",
       "\\hline\n",
       "\t2000 &  1 &  2 &  3 &  4 &  5 &  6 &  7 &  8 &  9 & 10 & 11 & 12\\\\\n",
       "\t2001 & 13 & 14 & 15 & 16 & 17 & 18 & 19 & 20 & 21 & 22 & 23 & 24\\\\\n",
       "\t2002 & 25 & 26 & 27 & 28 & 29 & 30 & 31 & 32 & 33 & 34 & 35 & 36\\\\\n",
       "\\end{tabular}\n"
      ],
      "text/markdown": [
       "\n",
       "A Time Series: 3 × 12\n",
       "\n",
       "| <!--/--> | Jan | Feb | Mar | Apr | May | Jun | Jul | Aug | Sep | Oct | Nov | Dec |\n",
       "|---|---|---|---|---|---|---|---|---|---|---|---|---|\n",
       "| 2000 |  1 |  2 |  3 |  4 |  5 |  6 |  7 |  8 |  9 | 10 | 11 | 12 |\n",
       "| 2001 | 13 | 14 | 15 | 16 | 17 | 18 | 19 | 20 | 21 | 22 | 23 | 24 |\n",
       "| 2002 | 25 | 26 | 27 | 28 | 29 | 30 | 31 | 32 | 33 | 34 | 35 | 36 |\n",
       "\n"
      ],
      "text/plain": [
       "     Jan Feb Mar Apr May Jun Jul Aug Sep Oct Nov Dec\n",
       "2000  1   2   3   4   5   6   7   8   9  10  11  12 \n",
       "2001 13  14  15  16  17  18  19  20  21  22  23  24 \n",
       "2002 25  26  27  28  29  30  31  32  33  34  35  36 "
      ]
     },
     "metadata": {},
     "output_type": "display_data"
    }
   ],
   "source": [
    "# 時系列データts型\n",
    "\n",
    "# ts型はRの標準パッケージに含まれる時系列データの型\n",
    "# 1年に何回データがとられるか　という頻度を指定する\n",
    "\n",
    "# 2000年1月から月単位のデータを36コ(3年間分)格納してみる\n",
    "# freq=12で月単位のデータとして扱われる\n",
    "\n",
    "ts_sample <- ts(1:36, start=c(2000, 1), freq=12)\n",
    "ts_sample"
   ]
  },
  {
   "cell_type": "code",
   "execution_count": 69,
   "metadata": {},
   "outputs": [
    {
     "data": {
      "text/html": [
       "<table>\n",
       "<caption>A Time Series: 2 × 4</caption>\n",
       "<thead>\n",
       "\t<tr><th></th><th scope=col>Qtr1</th><th scope=col>Qtr2</th><th scope=col>Qtr3</th><th scope=col>Qtr4</th></tr>\n",
       "</thead>\n",
       "<tbody>\n",
       "\t<tr><th scope=row>2000</th><td>1</td><td>2</td><td>3</td><td>4</td></tr>\n",
       "\t<tr><th scope=row>2001</th><td>5</td><td>6</td><td>7</td><td>8</td></tr>\n",
       "</tbody>\n",
       "</table>\n"
      ],
      "text/latex": [
       "A Time Series: 2 × 4\n",
       "\\begin{tabular}{r|llll}\n",
       "  & Qtr1 & Qtr2 & Qtr3 & Qtr4\\\\\n",
       "\\hline\n",
       "\t2000 & 1 & 2 & 3 & 4\\\\\n",
       "\t2001 & 5 & 6 & 7 & 8\\\\\n",
       "\\end{tabular}\n"
      ],
      "text/markdown": [
       "\n",
       "A Time Series: 2 × 4\n",
       "\n",
       "| <!--/--> | Qtr1 | Qtr2 | Qtr3 | Qtr4 |\n",
       "|---|---|---|---|---|\n",
       "| 2000 | 1 | 2 | 3 | 4 |\n",
       "| 2001 | 5 | 6 | 7 | 8 |\n",
       "\n"
      ],
      "text/plain": [
       "     Qtr1 Qtr2 Qtr3 Qtr4\n",
       "2000 1    2    3    4   \n",
       "2001 5    6    7    8   "
      ]
     },
     "metadata": {},
     "output_type": "display_data"
    },
    {
     "name": "stdout",
     "output_type": "stream",
     "text": [
      "[1] \"ts\"\n"
     ]
    }
   ],
   "source": [
    "# 4半期データはfreq=4\n",
    "ts_freq4 <- ts(c(1,2,3,4,5,6,7,8), start=c(2000, 1), freq=4)\n",
    "ts_freq4\n",
    "print(class(ts_freq4))"
   ]
  },
  {
   "cell_type": "code",
   "execution_count": 72,
   "metadata": {},
   "outputs": [
    {
     "name": "stdout",
     "output_type": "stream",
     "text": [
      "   c1 c2 c3 c4\n",
      "r1  1  2  3  4\n",
      "r2  5  6  7  8\n"
     ]
    },
    {
     "data": {
      "text/html": [
       "<table>\n",
       "<caption>A Time Series: 2 × 4</caption>\n",
       "<thead>\n",
       "\t<tr><th></th><th scope=col>c1</th><th scope=col>c2</th><th scope=col>c3</th><th scope=col>c4</th></tr>\n",
       "</thead>\n",
       "<tbody>\n",
       "\t<tr><th scope=row>Jan 2000</th><td>1</td><td>2</td><td>3</td><td>4</td></tr>\n",
       "\t<tr><th scope=row>Feb 2000</th><td>5</td><td>6</td><td>7</td><td>8</td></tr>\n",
       "</tbody>\n",
       "</table>\n"
      ],
      "text/latex": [
       "A Time Series: 2 × 4\n",
       "\\begin{tabular}{r|llll}\n",
       "  & c1 & c2 & c3 & c4\\\\\n",
       "\\hline\n",
       "\tJan 2000 & 1 & 2 & 3 & 4\\\\\n",
       "\tFeb 2000 & 5 & 6 & 7 & 8\\\\\n",
       "\\end{tabular}\n"
      ],
      "text/markdown": [
       "\n",
       "A Time Series: 2 × 4\n",
       "\n",
       "| <!--/--> | c1 | c2 | c3 | c4 |\n",
       "|---|---|---|---|---|\n",
       "| Jan 2000 | 1 | 2 | 3 | 4 |\n",
       "| Feb 2000 | 5 | 6 | 7 | 8 |\n",
       "\n"
      ],
      "text/plain": [
       "         c1 c2 c3 c4\n",
       "Jan 2000 1  2  3  4 \n",
       "Feb 2000 5  6  7  8 "
      ]
     },
     "metadata": {},
     "output_type": "display_data"
    }
   ],
   "source": [
    "# 多変量時系列データの場合はmatrixやdataframeを引数に入れる\n",
    "print(mat_with_name)\n",
    "\n",
    "ts_multi <- ts(mat_with_name, start=c(2000, 1), freq=12)\n",
    "ts_multi"
   ]
  },
  {
   "cell_type": "code",
   "execution_count": 77,
   "metadata": {},
   "outputs": [
    {
     "data": {
      "text/html": [
       "<table>\n",
       "<caption>A Time Series: 2 × 4</caption>\n",
       "<thead>\n",
       "\t<tr><th></th><th scope=col>Qtr1</th><th scope=col>Qtr2</th><th scope=col>Qtr3</th><th scope=col>Qtr4</th></tr>\n",
       "</thead>\n",
       "<tbody>\n",
       "\t<tr><th scope=row>2000</th><td>1</td><td>2</td><td>3</td><td>4</td></tr>\n",
       "\t<tr><th scope=row>2001</th><td>5</td><td>6</td><td> </td><td> </td></tr>\n",
       "</tbody>\n",
       "</table>\n"
      ],
      "text/latex": [
       "A Time Series: 2 × 4\n",
       "\\begin{tabular}{r|llll}\n",
       "  & Qtr1 & Qtr2 & Qtr3 & Qtr4\\\\\n",
       "\\hline\n",
       "\t2000 & 1 & 2 & 3 & 4\\\\\n",
       "\t2001 & 5 & 6 &   &  \\\\\n",
       "\\end{tabular}\n"
      ],
      "text/markdown": [
       "\n",
       "A Time Series: 2 × 4\n",
       "\n",
       "| <!--/--> | Qtr1 | Qtr2 | Qtr3 | Qtr4 |\n",
       "|---|---|---|---|---|\n",
       "| 2000 | 1 | 2 | 3 | 4 |\n",
       "| 2001 | 5 | 6 | <!----> | <!----> |\n",
       "\n"
      ],
      "text/plain": [
       "     Qtr1 Qtr2 Qtr3 Qtr4\n",
       "2000 1    2    3    4   \n",
       "2001 5    6             "
      ]
     },
     "metadata": {},
     "output_type": "display_data"
    }
   ],
   "source": [
    "# 特定の期間だけを抽出したい\n",
    "window(ts_freq4, start=c(2000, 1), end=c(2001, 2))"
   ]
  },
  {
   "cell_type": "code",
   "execution_count": 90,
   "metadata": {},
   "outputs": [
    {
     "data": {
      "text/html": [
       "<table>\n",
       "<caption>A Time Series: 3 × 8</caption>\n",
       "<thead>\n",
       "\t<tr><th></th><th scope=col>DriversKilled</th><th scope=col>drivers</th><th scope=col>front</th><th scope=col>rear</th><th scope=col>kms</th><th scope=col>PetrolPrice</th><th scope=col>VanKilled</th><th scope=col>law</th></tr>\n",
       "</thead>\n",
       "<tbody>\n",
       "\t<tr><th scope=row>Jan 1969</th><td>107</td><td>1687</td><td>867</td><td>269</td><td>9059</td><td>0.1029718</td><td>12</td><td>0</td></tr>\n",
       "\t<tr><th scope=row>Feb 1969</th><td> 97</td><td>1508</td><td>825</td><td>265</td><td>7685</td><td>0.1023630</td><td> 6</td><td>0</td></tr>\n",
       "\t<tr><th scope=row>Mar 1969</th><td>102</td><td>1507</td><td>806</td><td>319</td><td>9963</td><td>0.1020625</td><td>12</td><td>0</td></tr>\n",
       "</tbody>\n",
       "</table>\n"
      ],
      "text/latex": [
       "A Time Series: 3 × 8\n",
       "\\begin{tabular}{r|llllllll}\n",
       "  & DriversKilled & drivers & front & rear & kms & PetrolPrice & VanKilled & law\\\\\n",
       "\\hline\n",
       "\tJan 1969 & 107 & 1687 & 867 & 269 & 9059 & 0.1029718 & 12 & 0\\\\\n",
       "\tFeb 1969 &  97 & 1508 & 825 & 265 & 7685 & 0.1023630 &  6 & 0\\\\\n",
       "\tMar 1969 & 102 & 1507 & 806 & 319 & 9963 & 0.1020625 & 12 & 0\\\\\n",
       "\\end{tabular}\n"
      ],
      "text/markdown": [
       "\n",
       "A Time Series: 3 × 8\n",
       "\n",
       "| <!--/--> | DriversKilled | drivers | front | rear | kms | PetrolPrice | VanKilled | law |\n",
       "|---|---|---|---|---|---|---|---|---|\n",
       "| Jan 1969 | 107 | 1687 | 867 | 269 | 9059 | 0.1029718 | 12 | 0 |\n",
       "| Feb 1969 |  97 | 1508 | 825 | 265 | 7685 | 0.1023630 |  6 | 0 |\n",
       "| Mar 1969 | 102 | 1507 | 806 | 319 | 9963 | 0.1020625 | 12 | 0 |\n",
       "\n"
      ],
      "text/plain": [
       "         DriversKilled drivers front rear kms  PetrolPrice VanKilled law\n",
       "Jan 1969 107           1687    867   269  9059 0.1029718   12        0  \n",
       "Feb 1969  97           1508    825   265  7685 0.1023630    6        0  \n",
       "Mar 1969 102           1507    806   319  9963 0.1020625   12        0  "
      ]
     },
     "metadata": {},
     "output_type": "display_data"
    }
   ],
   "source": [
    "# シートベルト法案の有無と交通事故死傷者数の時系列推移を表したデータ\n",
    "head(Seatbelts[,], n=3)"
   ]
  },
  {
   "cell_type": "code",
   "execution_count": 91,
   "metadata": {},
   "outputs": [
    {
     "data": {
      "text/html": [
       "&lt;NA&gt;"
      ],
      "text/latex": [
       "<NA>"
      ],
      "text/markdown": [
       "&lt;NA&gt;"
      ],
      "text/plain": [
       "[1] NA"
      ]
     },
     "metadata": {},
     "output_type": "display_data"
    },
    {
     "data": {
      "text/html": [
       "<table>\n",
       "<caption>A Time Series: 16 × 12</caption>\n",
       "<thead>\n",
       "\t<tr><th></th><th scope=col>Jan</th><th scope=col>Feb</th><th scope=col>Mar</th><th scope=col>Apr</th><th scope=col>May</th><th scope=col>Jun</th><th scope=col>Jul</th><th scope=col>Aug</th><th scope=col>Sep</th><th scope=col>Oct</th><th scope=col>Nov</th><th scope=col>Dec</th></tr>\n",
       "</thead>\n",
       "<tbody>\n",
       "\t<tr><th scope=row>1969</th><td> 867</td><td> 825</td><td> 806</td><td> 814</td><td> 991</td><td> 945</td><td>1004</td><td>1091</td><td> 958</td><td> 850</td><td>1109</td><td>1113</td></tr>\n",
       "\t<tr><th scope=row>1970</th><td> 925</td><td> 903</td><td>1006</td><td> 892</td><td> 990</td><td> 866</td><td>1095</td><td>1204</td><td>1029</td><td>1147</td><td>1171</td><td>1299</td></tr>\n",
       "\t<tr><th scope=row>1971</th><td> 944</td><td> 874</td><td> 840</td><td> 893</td><td>1007</td><td> 973</td><td>1097</td><td>1194</td><td> 988</td><td>1077</td><td>1045</td><td>1115</td></tr>\n",
       "\t<tr><th scope=row>1972</th><td>1005</td><td> 857</td><td> 879</td><td> 887</td><td>1075</td><td>1121</td><td>1190</td><td>1058</td><td> 939</td><td>1074</td><td>1089</td><td>1208</td></tr>\n",
       "\t<tr><th scope=row>1973</th><td> 903</td><td> 916</td><td> 787</td><td>1114</td><td>1014</td><td>1022</td><td>1114</td><td>1132</td><td>1111</td><td>1008</td><td> 916</td><td> 992</td></tr>\n",
       "\t<tr><th scope=row>1974</th><td> 731</td><td> 665</td><td> 724</td><td> 744</td><td> 910</td><td> 883</td><td> 900</td><td>1057</td><td>1076</td><td> 919</td><td> 920</td><td> 953</td></tr>\n",
       "\t<tr><th scope=row>1975</th><td> 664</td><td> 607</td><td> 777</td><td> 633</td><td> 791</td><td> 790</td><td> 803</td><td> 884</td><td> 769</td><td> 732</td><td> 859</td><td> 994</td></tr>\n",
       "\t<tr><th scope=row>1976</th><td> 704</td><td> 684</td><td> 671</td><td> 643</td><td> 771</td><td> 644</td><td> 828</td><td> 748</td><td> 767</td><td> 825</td><td> 810</td><td> 986</td></tr>\n",
       "\t<tr><th scope=row>1977</th><td> 714</td><td> 567</td><td> 616</td><td> 678</td><td> 742</td><td> 840</td><td> 888</td><td> 852</td><td> 774</td><td> 831</td><td> 889</td><td>1046</td></tr>\n",
       "\t<tr><th scope=row>1978</th><td> 889</td><td> 626</td><td> 808</td><td> 746</td><td> 754</td><td> 865</td><td> 980</td><td> 959</td><td> 856</td><td> 798</td><td> 942</td><td>1010</td></tr>\n",
       "\t<tr><th scope=row>1979</th><td> 796</td><td> 643</td><td> 794</td><td> 750</td><td> 809</td><td> 716</td><td> 851</td><td> 931</td><td> 834</td><td> 762</td><td> 880</td><td>1077</td></tr>\n",
       "\t<tr><th scope=row>1980</th><td> 748</td><td> 593</td><td> 720</td><td> 646</td><td> 765</td><td> 820</td><td> 807</td><td> 885</td><td> 803</td><td> 860</td><td> 825</td><td> 911</td></tr>\n",
       "\t<tr><th scope=row>1981</th><td> 704</td><td> 691</td><td> 688</td><td> 714</td><td> 814</td><td> 736</td><td> 876</td><td> 829</td><td> 818</td><td> 942</td><td> 782</td><td> 823</td></tr>\n",
       "\t<tr><th scope=row>1982</th><td> 595</td><td> 673</td><td> 660</td><td> 676</td><td> 755</td><td> 815</td><td> 867</td><td> 933</td><td> 798</td><td> 950</td><td> 825</td><td> 911</td></tr>\n",
       "\t<tr><th scope=row>1983</th><td> 619</td><td> 426</td><td> 475</td><td> 556</td><td> 559</td><td> 483</td><td> 587</td><td> 615</td><td> 618</td><td> 662</td><td> 519</td><td> 585</td></tr>\n",
       "\t<tr><th scope=row>1984</th><td> 483</td><td> 434</td><td> 513</td><td> 548</td><td> 586</td><td> 522</td><td> 601</td><td> 644</td><td> 643</td><td> 641</td><td> 711</td><td> 721</td></tr>\n",
       "</tbody>\n",
       "</table>\n"
      ],
      "text/latex": [
       "A Time Series: 16 × 12\n",
       "\\begin{tabular}{r|llllllllllll}\n",
       "  & Jan & Feb & Mar & Apr & May & Jun & Jul & Aug & Sep & Oct & Nov & Dec\\\\\n",
       "\\hline\n",
       "\t1969 &  867 &  825 &  806 &  814 &  991 &  945 & 1004 & 1091 &  958 &  850 & 1109 & 1113\\\\\n",
       "\t1970 &  925 &  903 & 1006 &  892 &  990 &  866 & 1095 & 1204 & 1029 & 1147 & 1171 & 1299\\\\\n",
       "\t1971 &  944 &  874 &  840 &  893 & 1007 &  973 & 1097 & 1194 &  988 & 1077 & 1045 & 1115\\\\\n",
       "\t1972 & 1005 &  857 &  879 &  887 & 1075 & 1121 & 1190 & 1058 &  939 & 1074 & 1089 & 1208\\\\\n",
       "\t1973 &  903 &  916 &  787 & 1114 & 1014 & 1022 & 1114 & 1132 & 1111 & 1008 &  916 &  992\\\\\n",
       "\t1974 &  731 &  665 &  724 &  744 &  910 &  883 &  900 & 1057 & 1076 &  919 &  920 &  953\\\\\n",
       "\t1975 &  664 &  607 &  777 &  633 &  791 &  790 &  803 &  884 &  769 &  732 &  859 &  994\\\\\n",
       "\t1976 &  704 &  684 &  671 &  643 &  771 &  644 &  828 &  748 &  767 &  825 &  810 &  986\\\\\n",
       "\t1977 &  714 &  567 &  616 &  678 &  742 &  840 &  888 &  852 &  774 &  831 &  889 & 1046\\\\\n",
       "\t1978 &  889 &  626 &  808 &  746 &  754 &  865 &  980 &  959 &  856 &  798 &  942 & 1010\\\\\n",
       "\t1979 &  796 &  643 &  794 &  750 &  809 &  716 &  851 &  931 &  834 &  762 &  880 & 1077\\\\\n",
       "\t1980 &  748 &  593 &  720 &  646 &  765 &  820 &  807 &  885 &  803 &  860 &  825 &  911\\\\\n",
       "\t1981 &  704 &  691 &  688 &  714 &  814 &  736 &  876 &  829 &  818 &  942 &  782 &  823\\\\\n",
       "\t1982 &  595 &  673 &  660 &  676 &  755 &  815 &  867 &  933 &  798 &  950 &  825 &  911\\\\\n",
       "\t1983 &  619 &  426 &  475 &  556 &  559 &  483 &  587 &  615 &  618 &  662 &  519 &  585\\\\\n",
       "\t1984 &  483 &  434 &  513 &  548 &  586 &  522 &  601 &  644 &  643 &  641 &  711 &  721\\\\\n",
       "\\end{tabular}\n"
      ],
      "text/markdown": [
       "\n",
       "A Time Series: 16 × 12\n",
       "\n",
       "| <!--/--> | Jan | Feb | Mar | Apr | May | Jun | Jul | Aug | Sep | Oct | Nov | Dec |\n",
       "|---|---|---|---|---|---|---|---|---|---|---|---|---|\n",
       "| 1969 |  867 |  825 |  806 |  814 |  991 |  945 | 1004 | 1091 |  958 |  850 | 1109 | 1113 |\n",
       "| 1970 |  925 |  903 | 1006 |  892 |  990 |  866 | 1095 | 1204 | 1029 | 1147 | 1171 | 1299 |\n",
       "| 1971 |  944 |  874 |  840 |  893 | 1007 |  973 | 1097 | 1194 |  988 | 1077 | 1045 | 1115 |\n",
       "| 1972 | 1005 |  857 |  879 |  887 | 1075 | 1121 | 1190 | 1058 |  939 | 1074 | 1089 | 1208 |\n",
       "| 1973 |  903 |  916 |  787 | 1114 | 1014 | 1022 | 1114 | 1132 | 1111 | 1008 |  916 |  992 |\n",
       "| 1974 |  731 |  665 |  724 |  744 |  910 |  883 |  900 | 1057 | 1076 |  919 |  920 |  953 |\n",
       "| 1975 |  664 |  607 |  777 |  633 |  791 |  790 |  803 |  884 |  769 |  732 |  859 |  994 |\n",
       "| 1976 |  704 |  684 |  671 |  643 |  771 |  644 |  828 |  748 |  767 |  825 |  810 |  986 |\n",
       "| 1977 |  714 |  567 |  616 |  678 |  742 |  840 |  888 |  852 |  774 |  831 |  889 | 1046 |\n",
       "| 1978 |  889 |  626 |  808 |  746 |  754 |  865 |  980 |  959 |  856 |  798 |  942 | 1010 |\n",
       "| 1979 |  796 |  643 |  794 |  750 |  809 |  716 |  851 |  931 |  834 |  762 |  880 | 1077 |\n",
       "| 1980 |  748 |  593 |  720 |  646 |  765 |  820 |  807 |  885 |  803 |  860 |  825 |  911 |\n",
       "| 1981 |  704 |  691 |  688 |  714 |  814 |  736 |  876 |  829 |  818 |  942 |  782 |  823 |\n",
       "| 1982 |  595 |  673 |  660 |  676 |  755 |  815 |  867 |  933 |  798 |  950 |  825 |  911 |\n",
       "| 1983 |  619 |  426 |  475 |  556 |  559 |  483 |  587 |  615 |  618 |  662 |  519 |  585 |\n",
       "| 1984 |  483 |  434 |  513 |  548 |  586 |  522 |  601 |  644 |  643 |  641 |  711 |  721 |\n",
       "\n"
      ],
      "text/plain": [
       "     Jan  Feb  Mar  Apr  May  Jun  Jul  Aug  Sep  Oct  Nov  Dec \n",
       "1969  867  825  806  814  991  945 1004 1091  958  850 1109 1113\n",
       "1970  925  903 1006  892  990  866 1095 1204 1029 1147 1171 1299\n",
       "1971  944  874  840  893 1007  973 1097 1194  988 1077 1045 1115\n",
       "1972 1005  857  879  887 1075 1121 1190 1058  939 1074 1089 1208\n",
       "1973  903  916  787 1114 1014 1022 1114 1132 1111 1008  916  992\n",
       "1974  731  665  724  744  910  883  900 1057 1076  919  920  953\n",
       "1975  664  607  777  633  791  790  803  884  769  732  859  994\n",
       "1976  704  684  671  643  771  644  828  748  767  825  810  986\n",
       "1977  714  567  616  678  742  840  888  852  774  831  889 1046\n",
       "1978  889  626  808  746  754  865  980  959  856  798  942 1010\n",
       "1979  796  643  794  750  809  716  851  931  834  762  880 1077\n",
       "1980  748  593  720  646  765  820  807  885  803  860  825  911\n",
       "1981  704  691  688  714  814  736  876  829  818  942  782  823\n",
       "1982  595  673  660  676  755  815  867  933  798  950  825  911\n",
       "1983  619  426  475  556  559  483  587  615  618  662  519  585\n",
       "1984  483  434  513  548  586  522  601  644  643  641  711  721"
      ]
     },
     "metadata": {},
     "output_type": "display_data"
    }
   ],
   "source": [
    "# 特定の列のみ抽出したい\n",
    "Seatbelts[\"front\"]  # NA\n",
    "Seatbelts[, \"front\"]"
   ]
  },
  {
   "cell_type": "code",
   "execution_count": 93,
   "metadata": {},
   "outputs": [
    {
     "data": {
      "text/html": [
       "<table>\n",
       "<caption>A Time Series: 10 × 2</caption>\n",
       "<thead>\n",
       "\t<tr><th></th><th scope=col>front</th><th scope=col>PetrolPrice</th></tr>\n",
       "</thead>\n",
       "<tbody>\n",
       "\t<tr><th scope=row>Jan 1969</th><td> 867</td><td>0.1029718</td></tr>\n",
       "\t<tr><th scope=row>Feb 1969</th><td> 825</td><td>0.1023630</td></tr>\n",
       "\t<tr><th scope=row>Mar 1969</th><td> 806</td><td>0.1020625</td></tr>\n",
       "\t<tr><th scope=row>Apr 1969</th><td> 814</td><td>0.1008733</td></tr>\n",
       "\t<tr><th scope=row>May 1969</th><td> 991</td><td>0.1010197</td></tr>\n",
       "\t<tr><th scope=row>Jun 1969</th><td> 945</td><td>0.1005812</td></tr>\n",
       "\t<tr><th scope=row>Jul 1969</th><td>1004</td><td>0.1037740</td></tr>\n",
       "\t<tr><th scope=row>Aug 1969</th><td>1091</td><td>0.1040764</td></tr>\n",
       "\t<tr><th scope=row>Sep 1969</th><td> 958</td><td>0.1037740</td></tr>\n",
       "\t<tr><th scope=row>Oct 1969</th><td> 850</td><td>0.1030264</td></tr>\n",
       "</tbody>\n",
       "</table>\n"
      ],
      "text/latex": [
       "A Time Series: 10 × 2\n",
       "\\begin{tabular}{r|ll}\n",
       "  & front & PetrolPrice\\\\\n",
       "\\hline\n",
       "\tJan 1969 &  867 & 0.1029718\\\\\n",
       "\tFeb 1969 &  825 & 0.1023630\\\\\n",
       "\tMar 1969 &  806 & 0.1020625\\\\\n",
       "\tApr 1969 &  814 & 0.1008733\\\\\n",
       "\tMay 1969 &  991 & 0.1010197\\\\\n",
       "\tJun 1969 &  945 & 0.1005812\\\\\n",
       "\tJul 1969 & 1004 & 0.1037740\\\\\n",
       "\tAug 1969 & 1091 & 0.1040764\\\\\n",
       "\tSep 1969 &  958 & 0.1037740\\\\\n",
       "\tOct 1969 &  850 & 0.1030264\\\\\n",
       "\\end{tabular}\n"
      ],
      "text/markdown": [
       "\n",
       "A Time Series: 10 × 2\n",
       "\n",
       "| <!--/--> | front | PetrolPrice |\n",
       "|---|---|---|\n",
       "| Jan 1969 |  867 | 0.1029718 |\n",
       "| Feb 1969 |  825 | 0.1023630 |\n",
       "| Mar 1969 |  806 | 0.1020625 |\n",
       "| Apr 1969 |  814 | 0.1008733 |\n",
       "| May 1969 |  991 | 0.1010197 |\n",
       "| Jun 1969 |  945 | 0.1005812 |\n",
       "| Jul 1969 | 1004 | 0.1037740 |\n",
       "| Aug 1969 | 1091 | 0.1040764 |\n",
       "| Sep 1969 |  958 | 0.1037740 |\n",
       "| Oct 1969 |  850 | 0.1030264 |\n",
       "\n"
      ],
      "text/plain": [
       "         front PetrolPrice\n",
       "Jan 1969  867  0.1029718  \n",
       "Feb 1969  825  0.1023630  \n",
       "Mar 1969  806  0.1020625  \n",
       "Apr 1969  814  0.1008733  \n",
       "May 1969  991  0.1010197  \n",
       "Jun 1969  945  0.1005812  \n",
       "Jul 1969 1004  0.1037740  \n",
       "Aug 1969 1091  0.1040764  \n",
       "Sep 1969  958  0.1037740  \n",
       "Oct 1969  850  0.1030264  "
      ]
     },
     "metadata": {},
     "output_type": "display_data"
    }
   ],
   "source": [
    "# ベクトルをｔ羽化って複数列を抽出\n",
    "head(Seatbelts[, c(\"front\", \"PetrolPrice\")], n=10)"
   ]
  },
  {
   "cell_type": "code",
   "execution_count": 95,
   "metadata": {},
   "outputs": [
    {
     "name": "stdout",
     "output_type": "stream",
     "text": [
      "Time Series:\n",
      "Start = 1969.167 \n",
      "End = 1984.167 \n",
      "Frequency = 1 \n",
      " [1]  806 1006  840  879  787  724  777  671  616  808  794  720  688  660  475\n",
      "[16]  513\n"
     ]
    }
   ],
   "source": [
    "# forecastパッケージのsubset()で\n",
    "# 特定の月のみ抽出することができる\n",
    "print(subset(Seatbelts[, \"front\"], month = 3))"
   ]
  },
  {
   "cell_type": "code",
   "execution_count": 102,
   "metadata": {},
   "outputs": [
    {
     "name": "stdout",
     "output_type": "stream",
     "text": [
      "           [,1]\n",
      "2000-01-01    1\n",
      "2000-01-02    2\n",
      "2000-01-03    3\n",
      "2000-01-04    4\n",
      "2000-01-05    5\n"
     ]
    }
   ],
   "source": [
    "# ts型は日単位のデータに弱い\n",
    "# xts型で進める\n",
    "\n",
    "xts_sample <- as.xts(matrix(\n",
    "    c(1,2,3,4,5),\n",
    "    dimnames = list(c(\"2000-01-01\",\"2000-01-02\",\"2000-01-03\",\"2000-01-04\",\"2000-01-05\")),\n",
    "    ncol = 1\n",
    "))\n",
    "print(xts_sample)"
   ]
  },
  {
   "cell_type": "code",
   "execution_count": 104,
   "metadata": {},
   "outputs": [
    {
     "name": "stdout",
     "output_type": "stream",
     "text": [
      "           [,1]\n",
      "2000-01-01    1\n",
      "           [,1]\n",
      "2000-01-01    1\n",
      "2000-01-02    2\n",
      "2000-01-03    3\n"
     ]
    }
   ],
   "source": [
    "# xts型の日付でデータ取得する\n",
    "print(xts_sample[\"2000-01-01\"])\n",
    "\n",
    "# 範囲指定\n",
    "print(xts_sample[\"2000-01-01::2000-01-03\"])"
   ]
  },
  {
   "cell_type": "code",
   "execution_count": 112,
   "metadata": {},
   "outputs": [
    {
     "name": "stdout",
     "output_type": "stream",
     "text": [
      "        time data\n",
      "1 2000-01-01    1\n",
      "2 2000-01-02    2\n",
      "3 2000-01-03    3\n",
      "4 2000-01-04    4\n",
      "5 2000-01-05    5\n",
      "[1] \"data.frame\"\n"
     ]
    }
   ],
   "source": [
    "# ファイルからのデータ読み込み\n",
    "# ファイルからデータを読み込むとdataframe形式になる\n",
    "\n",
    "file_data <- read.csv(\"book-tsa-ssm-foundation/book-data/5-2-1-timeSeries.csv\")\n",
    "# file_data <- read.csv(file.choose())\n",
    "print(file_data)\n",
    "print(class(file_data))"
   ]
  },
  {
   "cell_type": "code",
   "execution_count": 114,
   "metadata": {},
   "outputs": [
    {
     "name": "stdout",
     "output_type": "stream",
     "text": [
      "           [,1]\n",
      "2000-01-01    1\n",
      "2000-01-02    2\n",
      "2000-01-03    3\n",
      "2000-01-04    4\n",
      "2000-01-05    5\n",
      "[1] \"xts\" \"zoo\"\n"
     ]
    }
   ],
   "source": [
    "# xts型に変換する\n",
    "file_data_xts <- as.xts(\n",
    "    read.zoo(file_data)\n",
    ")\n",
    "print(file_data_xts)\n",
    "print(class(file_data_xts))"
   ]
  },
  {
   "cell_type": "code",
   "execution_count": 136,
   "metadata": {},
   "outputs": [],
   "source": [
    "# プロットのサイズ変更オプション\n",
    "options(repr.plot.width=14, repr.plot.height=6)\n",
    "# ?options"
   ]
  },
  {
   "cell_type": "code",
   "execution_count": 137,
   "metadata": {},
   "outputs": [
    {
     "data": {
      "image/png": "[encoded data removed]",
      "text/plain": [
       "Plot with title \"イギリスの交通事故死傷者数(前席)\""
      ]
     },
     "metadata": {
      "image/png": {
       "height": 360,
       "width": 840
      }
     },
     "output_type": "display_data"
    }
   ],
   "source": [
    "# グラフ描写\n",
    "plot(\n",
    "    Seatbelts[, \"front\"],\n",
    "    main=\"イギリスの交通事故死傷者数(前席)\",\n",
    "    xlab=\"年\",\n",
    "    ylab=\"死傷者数\"\n",
    ")"
   ]
  },
  {
   "cell_type": "code",
   "execution_count": 142,
   "metadata": {},
   "outputs": [
    {
     "data": {
      "image/png": "[encoded data removed]",
      "text/plain": [
       "plot without title"
      ]
     },
     "metadata": {
      "image/png": {
       "height": 360,
       "width": 840
      }
     },
     "output_type": "display_data"
    }
   ],
   "source": [
    "# ggplot2とggfortifyでもっときれいに書く\n",
    "autoplot(\n",
    "    Seatbelts[, \"front\"],\n",
    "    main=\"イギリスの交通事故死傷者数(前席)\",\n",
    "    xlab=\"年\",\n",
    "    ylab=\"死傷者数\"\n",
    ")"
   ]
  },
  {
   "cell_type": "code",
   "execution_count": 139,
   "metadata": {},
   "outputs": [
    {
     "data": {
      "text/plain": [
       "\n",
       "####################### \n",
       "# KPSS Unit Root Test # \n",
       "####################### \n",
       "\n",
       "Test is of type: mu with 4 lags. \n",
       "\n",
       "Value of test-statistic is: 2.3004 \n",
       "\n",
       "Critical value for a significance level of: \n",
       "                10pct  5pct 2.5pct  1pct\n",
       "critical values 0.347 0.463  0.574 0.739\n"
      ]
     },
     "metadata": {},
     "output_type": "display_data"
    }
   ],
   "source": [
    "# 単位根検定\n",
    "# ur.kpss関数を使って単位根検定を行う\n",
    "summary(ur.kpss(log(Seatbelts[, \"front\"])))"
   ]
  },
  {
   "cell_type": "code",
   "execution_count": 140,
   "metadata": {},
   "outputs": [
    {
     "data": {
      "text/html": [
       "1"
      ],
      "text/latex": [
       "1"
      ],
      "text/markdown": [
       "1"
      ],
      "text/plain": [
       "[1] 1"
      ]
     },
     "metadata": {},
     "output_type": "display_data"
    }
   ],
   "source": [
    "# forecastのndiffs関数を使うと、何回差分を取るべきかわかる\n",
    "ndiffs(log(Seatbelts[, \"front\"]))"
   ]
  },
  {
   "cell_type": "code",
   "execution_count": null,
   "metadata": {},
   "outputs": [],
   "source": []
  }
 ],
 "metadata": {
  "kernelspec": {
   "display_name": "R",
   "language": "R",
   "name": "ir"
  },
  "language_info": {
   "codemirror_mode": "r",
   "file_extension": ".r",
   "mimetype": "text/x-r-source",
   "name": "R",
   "pygments_lexer": "r",
   "version": "4.0.2"
  }
 },
 "nbformat": 4,
 "nbformat_minor": 4
}
