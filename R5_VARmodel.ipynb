{
 "cells": [
  {
   "cell_type": "markdown",
   "metadata": {},
   "source": [
    "# ベクトル自己回帰モデル(Vector AutoRegression model)\n",
    "\n",
    "VARモデルは予測を出すだけでなく、時系列データの相互作用を調べることもできる。"
   ]
  },
  {
   "cell_type": "markdown",
   "metadata": {},
   "source": [
    "## VARモデルの使い時\n",
    "\n",
    "個人消費と個人収入の時系列データがあったとする。  \n",
    "\n",
    "- 個人消費が増えると個人収入は増える？\n",
    "- 個人収入が増えると個人消費は増える？\n",
    "\n",
    "このような状況をモデル化することができるのがVARモデル。便利。  \n",
    "\n",
    "- 複数の時系列データを統合してモデル化することができる\n",
    "- 変数間の影響を調べるのに役立つ"
   ]
  },
  {
   "cell_type": "markdown",
   "metadata": {},
   "source": [
    "## VARモデルの構造\n",
    "\n",
    "消費と収入の関係を表してみると次のようになる。**同時点の相手のデータ** がモデルに含まれていないことに注意する。\n",
    "\n",
    "$$\n",
    "    y_t = c_1 + \\phi_{11}y_{t-1} + \\phi_{12}x_{t-1} +  \\varepsilon_{1t} \\\\\n",
    "    x_t = c_2 + \\phi_{21}y_{t-1} + \\phi_{22}x_{t-1} +  \\varepsilon_{2t} \\\\\n",
    "$$\n",
    "\n",
    "$$\n",
    "    2001年の消費 = c_1 + \\phi_{11}2000年の消費 + \\phi_{12}2000年の収入 +  ノイズ \\\\\n",
    "    2001年の収入 = c_2 + \\phi_{21}2000年の消費 + \\phi_{12}2000年の収入 +  ノイズ \\\\\n",
    "$$\n",
    "\n",
    "変数*n*個の*p*次の***VAR(p)*** は以下のように表される\n",
    "\n",
    "\n",
    "$$\n",
    "    \\boldsymbol{y}_t = \\boldsymbol{c} + \\boldsymbol{\\phi}_1\\boldsymbol{y}_{t-1} + \\cdots + \\boldsymbol{\\phi}_p\\boldsymbol{y}_{t-p} + \\boldsymbol{\\varepsilon}_t\n",
    "$$\n",
    "- $\\boldsymbol{y_t}$ : n x 1のベクトル\n",
    "- $\\boldsymbol{c}$ : n x 1のベクトル\n",
    "- $\\boldsymbol{\\phi_i}$ : n x nのベクトル"
   ]
  },
  {
   "cell_type": "markdown",
   "metadata": {},
   "source": [
    "## Granger因果性検定\n",
    "\n",
    "- 「相手がいることによって、予測精度が上がるかどうか」を検定する。  \n",
    "- 今、消費がいることによって、収入の予測が向上するかどうかを判断することができる。\n",
    "- 「相手のデータを使うことで、予測残差が有意に減少したか」を検定する。\n",
    "- Granger因果性検定は定常データを対処として分析した時にしか使うことができない。"
   ]
  },
  {
   "cell_type": "markdown",
   "metadata": {},
   "source": [
    "## インパルス応用関数\n",
    "\n",
    "- 消費が急に増えると収入はどういった影響があるのか、を定量的に評価する手法。\n",
    "- ある変数にショックを与えてみて、その影響がどれほど続くのかをシミュレートする。\n",
    "\n",
    "- 同時点のノイズは相関をもつことがあるので、これを相関をしている部分と独立な部分にわける(**直工かく乱項**)。\n",
    "\n",
    "- 残差を直行化してからインパルス応答関数を求める方法を**直行化インパルス応答関数** と呼ぶ。\n"
   ]
  },
  {
   "cell_type": "code",
   "execution_count": 1,
   "metadata": {},
   "outputs": [],
   "source": [
    "# パッケージのインストール\n",
    "# install.packages(\"fpp\")\n",
    "# install.packages(\"vars\")"
   ]
  },
  {
   "cell_type": "code",
   "execution_count": 2,
   "metadata": {},
   "outputs": [
    {
     "name": "stderr",
     "output_type": "stream",
     "text": [
      "Loading required package: forecast\n",
      "\n",
      "Registered S3 method overwritten by 'quantmod':\n",
      "  method            from\n",
      "  as.zoo.data.frame zoo \n",
      "\n",
      "Loading required package: fma\n",
      "\n",
      "Loading required package: expsmooth\n",
      "\n",
      "Loading required package: lmtest\n",
      "\n",
      "Loading required package: zoo\n",
      "\n",
      "\n",
      "Attaching package: 'zoo'\n",
      "\n",
      "\n",
      "The following objects are masked from 'package:base':\n",
      "\n",
      "    as.Date, as.Date.numeric\n",
      "\n",
      "\n",
      "Loading required package: tseries\n",
      "\n",
      "Loading required package: MASS\n",
      "\n",
      "\n",
      "Attaching package: 'MASS'\n",
      "\n",
      "\n",
      "The following objects are masked from 'package:fma':\n",
      "\n",
      "    cement, housing, petrol\n",
      "\n",
      "\n",
      "Loading required package: strucchange\n",
      "\n",
      "Loading required package: sandwich\n",
      "\n",
      "Registered S3 methods overwritten by 'ggfortify':\n",
      "  method                 from    \n",
      "  autoplot.Arima         forecast\n",
      "  autoplot.acf           forecast\n",
      "  autoplot.ar            forecast\n",
      "  autoplot.bats          forecast\n",
      "  autoplot.decomposed.ts forecast\n",
      "  autoplot.ets           forecast\n",
      "  autoplot.forecast      forecast\n",
      "  autoplot.stl           forecast\n",
      "  autoplot.ts            forecast\n",
      "  fitted.ar              forecast\n",
      "  fortify.ts             forecast\n",
      "  residuals.ar           forecast\n",
      "\n"
     ]
    }
   ],
   "source": [
    "# パッケージの読み込み\n",
    "library(urca)\n",
    "library(fpp)\n",
    "library(vars)\n",
    "library(ggplot2)\n",
    "library(ggfortify)\n",
    "\n",
    "library(repr)\n",
    "\n",
    "# グラフのオプション\n",
    "options(repr.plot.width=14, repr.plot.height=6)"
   ]
  },
  {
   "cell_type": "code",
   "execution_count": 3,
   "metadata": {},
   "outputs": [
    {
     "data": {
      "text/html": [
       "<table>\n",
       "<caption>A Time Series: 6 × 2</caption>\n",
       "<thead>\n",
       "\t<tr><th></th><th scope=col>consumption</th><th scope=col>income</th></tr>\n",
       "</thead>\n",
       "<tbody>\n",
       "\t<tr><th scope=row>1970 Q1</th><td> 0.6122769</td><td> 0.496540</td></tr>\n",
       "\t<tr><th scope=row>1970 Q2</th><td> 0.4549298</td><td> 1.736460</td></tr>\n",
       "\t<tr><th scope=row>1970 Q3</th><td> 0.8746730</td><td> 1.344881</td></tr>\n",
       "\t<tr><th scope=row>1970 Q4</th><td>-0.2725144</td><td>-0.328146</td></tr>\n",
       "\t<tr><th scope=row>1971 Q1</th><td> 1.8921870</td><td> 1.965432</td></tr>\n",
       "\t<tr><th scope=row>1971 Q2</th><td> 0.9133782</td><td> 1.490757</td></tr>\n",
       "</tbody>\n",
       "</table>\n"
      ],
      "text/latex": [
       "A Time Series: 6 × 2\n",
       "\\begin{tabular}{r|ll}\n",
       "  & consumption & income\\\\\n",
       "\\hline\n",
       "\t1970 Q1 &  0.6122769 &  0.496540\\\\\n",
       "\t1970 Q2 &  0.4549298 &  1.736460\\\\\n",
       "\t1970 Q3 &  0.8746730 &  1.344881\\\\\n",
       "\t1970 Q4 & -0.2725144 & -0.328146\\\\\n",
       "\t1971 Q1 &  1.8921870 &  1.965432\\\\\n",
       "\t1971 Q2 &  0.9133782 &  1.490757\\\\\n",
       "\\end{tabular}\n"
      ],
      "text/markdown": [
       "\n",
       "A Time Series: 6 × 2\n",
       "\n",
       "| <!--/--> | consumption | income |\n",
       "|---|---|---|\n",
       "| 1970 Q1 |  0.6122769 |  0.496540 |\n",
       "| 1970 Q2 |  0.4549298 |  1.736460 |\n",
       "| 1970 Q3 |  0.8746730 |  1.344881 |\n",
       "| 1970 Q4 | -0.2725144 | -0.328146 |\n",
       "| 1971 Q1 |  1.8921870 |  1.965432 |\n",
       "| 1971 Q2 |  0.9133782 |  1.490757 |\n",
       "\n"
      ],
      "text/plain": [
       "        consumption income   \n",
       "1970 Q1  0.6122769   0.496540\n",
       "1970 Q2  0.4549298   1.736460\n",
       "1970 Q3  0.8746730   1.344881\n",
       "1970 Q4 -0.2725144  -0.328146\n",
       "1971 Q1  1.8921870   1.965432\n",
       "1971 Q2  0.9133782   1.490757"
      ]
     },
     "metadata": {},
     "output_type": "display_data"
    }
   ],
   "source": [
    "# 分析の対象\n",
    "# fppパッケージのusconsumptionという多変量データを使用する。\n",
    "# 4半期ごとのアメリカの消費・収入の増加率データ\n",
    "head(usconsumption)"
   ]
  },
  {
   "cell_type": "code",
   "execution_count": 4,
   "metadata": {},
   "outputs": [
    {
     "data": {
      "image/png": "[encoded data removed]",
      "text/plain": [
       "plot without title"
      ]
     },
     "metadata": {
      "image/png": {
       "height": 360,
       "width": 840
      }
     },
     "output_type": "display_data"
    }
   ],
   "source": [
    "# 図示\n",
    "autoplot(usconsumption, facets = T)"
   ]
  },
  {
   "cell_type": "code",
   "execution_count": 5,
   "metadata": {},
   "outputs": [],
   "source": [
    "# ADF検定をして単位根が無い(定常性)を確かめる\n",
    "# summary(ur.df(usconsumption[, \"cunsumption\"]), type=\"drift\")"
   ]
  },
  {
   "cell_type": "code",
   "execution_count": 6,
   "metadata": {},
   "outputs": [],
   "source": [
    "# summary(ur.df(usconsumption[, \"income\"]), type=\"drift\")"
   ]
  },
  {
   "cell_type": "code",
   "execution_count": 7,
   "metadata": {},
   "outputs": [
    {
     "name": "stderr",
     "output_type": "stream",
     "text": [
      "Warning message:\n",
      "\"`mutate_()` is deprecated as of dplyr 0.7.0.\n",
      "Please use `mutate()` instead.\n",
      "See vignette('programming') for more help\n",
      "\u001b[90mThis warning is displayed once every 8 hours.\u001b[39m\n",
      "\u001b[90mCall `lifecycle::last_warnings()` to see where this warning was generated.\u001b[39m\"\n"
     ]
    },
    {
     "data": {
      "image/png": "[encoded data removed]",
      "text/plain": [
       "plot without title"
      ]
     },
     "metadata": {
      "image/png": {
       "height": 360,
       "width": 840
      }
     },
     "output_type": "display_data"
    }
   ],
   "source": [
    "autoplot(\n",
    "    ccf(\n",
    "        usconsumption[, \"consumption\"],\n",
    "        usconsumption[, \"income\"],\n",
    "        plot = F\n",
    "    )\n",
    ")"
   ]
  },
  {
   "cell_type": "markdown",
   "metadata": {},
   "source": [
    "## RによるVARモデル\n",
    "\n",
    "VARモデルの次数もARIMAと同様にAICが最小となる次数を選択する。  \n",
    "varsパッケージのVARSelect関数を使用して次数を選択していく。"
   ]
  },
  {
   "cell_type": "code",
   "execution_count": 9,
   "metadata": {},
   "outputs": [
    {
     "data": {
      "text/html": [
       "<dl>\n",
       "\t<dt>$selection</dt>\n",
       "\t\t<dd><style>\n",
       ".dl-inline {width: auto; margin:0; padding: 0}\n",
       ".dl-inline>dt, .dl-inline>dd {float: none; width: auto; display: inline-block}\n",
       ".dl-inline>dt::after {content: \":\\0020\"; padding-right: .5ex}\n",
       ".dl-inline>dt:not(:first-of-type) {padding-left: .5ex}\n",
       "</style><dl class=dl-inline><dt>AIC(n)</dt><dd>5</dd><dt>HQ(n)</dt><dd>1</dd><dt>SC(n)</dt><dd>1</dd><dt>FPE(n)</dt><dd>5</dd></dl>\n",
       "</dd>\n",
       "\t<dt>$criteria</dt>\n",
       "\t\t<dd><table>\n",
       "<caption>A matrix: 4 × 10 of type dbl</caption>\n",
       "<thead>\n",
       "\t<tr><th></th><th scope=col>1</th><th scope=col>2</th><th scope=col>3</th><th scope=col>4</th><th scope=col>5</th><th scope=col>6</th><th scope=col>7</th><th scope=col>8</th><th scope=col>9</th><th scope=col>10</th></tr>\n",
       "</thead>\n",
       "<tbody>\n",
       "\t<tr><th scope=row>AIC(n)</th><td>-1.2669809</td><td>-1.254039</td><td>-1.2991953</td><td>-1.3141205</td><td>-1.3295668</td><td>-1.2939806</td><td>-1.2634257</td><td>-1.2409677</td><td>-1.2158338</td><td>-1.1808584</td></tr>\n",
       "\t<tr><th scope=row>HQ(n)</th><td>-1.2189185</td><td>-1.173935</td><td>-1.1870496</td><td>-1.1699332</td><td>-1.1533379</td><td>-1.0857100</td><td>-1.0231135</td><td>-0.9686139</td><td>-0.9114384</td><td>-0.8444214</td></tr>\n",
       "\t<tr><th scope=row>SC(n)</th><td>-1.1486581</td><td>-1.056834</td><td>-1.0231087</td><td>-0.9591520</td><td>-0.8957165</td><td>-0.7812483</td><td>-0.6718115</td><td>-0.5704717</td><td>-0.4664559</td><td>-0.3525986</td></tr>\n",
       "\t<tr><th scope=row>FPE(n)</th><td> 0.2816835</td><td> 0.285363</td><td> 0.2727854</td><td> 0.2687822</td><td> 0.2647208</td><td> 0.2743982</td><td> 0.2830345</td><td> 0.2896272</td><td> 0.2972129</td><td> 0.3080666</td></tr>\n",
       "</tbody>\n",
       "</table>\n",
       "</dd>\n",
       "</dl>\n"
      ],
      "text/latex": [
       "\\begin{description}\n",
       "\\item[\\$selection] \\begin{description*}\n",
       "\\item[AIC(n)] 5\n",
       "\\item[HQ(n)] 1\n",
       "\\item[SC(n)] 1\n",
       "\\item[FPE(n)] 5\n",
       "\\end{description*}\n",
       "\n",
       "\\item[\\$criteria] A matrix: 4 × 10 of type dbl\n",
       "\\begin{tabular}{r|llllllllll}\n",
       "  & 1 & 2 & 3 & 4 & 5 & 6 & 7 & 8 & 9 & 10\\\\\n",
       "\\hline\n",
       "\tAIC(n) & -1.2669809 & -1.254039 & -1.2991953 & -1.3141205 & -1.3295668 & -1.2939806 & -1.2634257 & -1.2409677 & -1.2158338 & -1.1808584\\\\\n",
       "\tHQ(n) & -1.2189185 & -1.173935 & -1.1870496 & -1.1699332 & -1.1533379 & -1.0857100 & -1.0231135 & -0.9686139 & -0.9114384 & -0.8444214\\\\\n",
       "\tSC(n) & -1.1486581 & -1.056834 & -1.0231087 & -0.9591520 & -0.8957165 & -0.7812483 & -0.6718115 & -0.5704717 & -0.4664559 & -0.3525986\\\\\n",
       "\tFPE(n) &  0.2816835 &  0.285363 &  0.2727854 &  0.2687822 &  0.2647208 &  0.2743982 &  0.2830345 &  0.2896272 &  0.2972129 &  0.3080666\\\\\n",
       "\\end{tabular}\n",
       "\n",
       "\\end{description}\n"
      ],
      "text/markdown": [
       "$selection\n",
       ":   AIC(n)\n",
       ":   5HQ(n)\n",
       ":   1SC(n)\n",
       ":   1FPE(n)\n",
       ":   5\n",
       "\n",
       "\n",
       "$criteria\n",
       ":   \n",
       "A matrix: 4 × 10 of type dbl\n",
       "\n",
       "| <!--/--> | 1 | 2 | 3 | 4 | 5 | 6 | 7 | 8 | 9 | 10 |\n",
       "|---|---|---|---|---|---|---|---|---|---|---|\n",
       "| AIC(n) | -1.2669809 | -1.254039 | -1.2991953 | -1.3141205 | -1.3295668 | -1.2939806 | -1.2634257 | -1.2409677 | -1.2158338 | -1.1808584 |\n",
       "| HQ(n) | -1.2189185 | -1.173935 | -1.1870496 | -1.1699332 | -1.1533379 | -1.0857100 | -1.0231135 | -0.9686139 | -0.9114384 | -0.8444214 |\n",
       "| SC(n) | -1.1486581 | -1.056834 | -1.0231087 | -0.9591520 | -0.8957165 | -0.7812483 | -0.6718115 | -0.5704717 | -0.4664559 | -0.3525986 |\n",
       "| FPE(n) |  0.2816835 |  0.285363 |  0.2727854 |  0.2687822 |  0.2647208 |  0.2743982 |  0.2830345 |  0.2896272 |  0.2972129 |  0.3080666 |\n",
       "\n",
       "\n",
       "\n",
       "\n"
      ],
      "text/plain": [
       "$selection\n",
       "AIC(n)  HQ(n)  SC(n) FPE(n) \n",
       "     5      1      1      5 \n",
       "\n",
       "$criteria\n",
       "                1         2          3          4          5          6\n",
       "AIC(n) -1.2669809 -1.254039 -1.2991953 -1.3141205 -1.3295668 -1.2939806\n",
       "HQ(n)  -1.2189185 -1.173935 -1.1870496 -1.1699332 -1.1533379 -1.0857100\n",
       "SC(n)  -1.1486581 -1.056834 -1.0231087 -0.9591520 -0.8957165 -0.7812483\n",
       "FPE(n)  0.2816835  0.285363  0.2727854  0.2687822  0.2647208  0.2743982\n",
       "                7          8          9         10\n",
       "AIC(n) -1.2634257 -1.2409677 -1.2158338 -1.1808584\n",
       "HQ(n)  -1.0231135 -0.9686139 -0.9114384 -0.8444214\n",
       "SC(n)  -0.6718115 -0.5704717 -0.4664559 -0.3525986\n",
       "FPE(n)  0.2830345  0.2896272  0.2972129  0.3080666\n"
      ]
     },
     "metadata": {},
     "output_type": "display_data"
    }
   ],
   "source": [
    "select_result <- VARselect(usconsumption, lag.max=10, type=\"const\")\n",
    "select_result"
   ]
  },
  {
   "cell_type": "markdown",
   "metadata": {},
   "source": [
    "AICを見ると、5次が最も小さくなっているのがわかる"
   ]
  },
  {
   "cell_type": "code",
   "execution_count": 10,
   "metadata": {},
   "outputs": [
    {
     "data": {
      "text/html": [
       "<strong>AIC(n):</strong> 5"
      ],
      "text/latex": [
       "\\textbf{AIC(n):} 5"
      ],
      "text/markdown": [
       "**AIC(n):** 5"
      ],
      "text/plain": [
       "AIC(n) \n",
       "     5 "
      ]
     },
     "metadata": {},
     "output_type": "display_data"
    }
   ],
   "source": [
    "select_result$selection[1]"
   ]
  },
  {
   "cell_type": "code",
   "execution_count": 11,
   "metadata": {},
   "outputs": [],
   "source": [
    "var_bestorder <- VAR(\n",
    "    y = usconsumption,\n",
    "    type = \"const\",\n",
    "    p = select_result$selection[1]\n",
    ")"
   ]
  },
  {
   "cell_type": "code",
   "execution_count": 14,
   "metadata": {},
   "outputs": [
    {
     "data": {
      "text/plain": [
       "\n",
       "VAR Estimation Results:\n",
       "========================= \n",
       "Endogenous variables: consumption, income \n",
       "Deterministic variables: const \n",
       "Sample size: 159 \n",
       "Log Likelihood: -321.616 \n",
       "Roots of the characteristic polynomial:\n",
       "0.7403 0.7403 0.7208 0.6745 0.6745  0.58  0.58 0.5484 0.5484 0.01889\n",
       "Call:\n",
       "VAR(y = usconsumption, p = select_result$selection[1], type = \"const\")\n",
       "\n",
       "\n",
       "Estimation results for equation consumption: \n",
       "============================================ \n",
       "consumption = consumption.l1 + income.l1 + consumption.l2 + income.l2 + consumption.l3 + income.l3 + consumption.l4 + income.l4 + consumption.l5 + income.l5 + const \n",
       "\n",
       "                Estimate Std. Error t value Pr(>|t|)    \n",
       "consumption.l1  0.248764   0.085965   2.894 0.004382 ** \n",
       "income.l1       0.059566   0.063446   0.939 0.349337    \n",
       "consumption.l2  0.197200   0.089569   2.202 0.029238 *  \n",
       "income.l2      -0.102497   0.065299  -1.570 0.118631    \n",
       "consumption.l3  0.298879   0.090395   3.306 0.001186 ** \n",
       "income.l3      -0.054073   0.063907  -0.846 0.398851    \n",
       "consumption.l4 -0.030031   0.094230  -0.319 0.750404    \n",
       "income.l4      -0.099790   0.064216  -1.554 0.122325    \n",
       "consumption.l5 -0.002482   0.091586  -0.027 0.978417    \n",
       "income.l5      -0.041258   0.061356  -0.672 0.502347    \n",
       "const           0.389927   0.099396   3.923 0.000133 ***\n",
       "---\n",
       "Signif. codes:  0 '***' 0.001 '**' 0.01 '*' 0.05 '.' 0.1 ' ' 1\n",
       "\n",
       "\n",
       "Residual standard error: 0.6158 on 148 degrees of freedom\n",
       "Multiple R-Squared: 0.2611,\tAdjusted R-squared: 0.2111 \n",
       "F-statistic: 5.229 on 10 and 148 DF,  p-value: 1.466e-06 \n",
       "\n",
       "\n",
       "Estimation results for equation income: \n",
       "======================================= \n",
       "income = consumption.l1 + income.l1 + consumption.l2 + income.l2 + consumption.l3 + income.l3 + consumption.l4 + income.l4 + consumption.l5 + income.l5 + const \n",
       "\n",
       "               Estimate Std. Error t value Pr(>|t|)    \n",
       "consumption.l1  0.45311    0.11414   3.970 0.000112 ***\n",
       "income.l1      -0.27869    0.08424  -3.308 0.001178 ** \n",
       "consumption.l2  0.03256    0.11892   0.274 0.784642    \n",
       "income.l2      -0.11671    0.08670  -1.346 0.180295    \n",
       "consumption.l3  0.46720    0.12002   3.893 0.000149 ***\n",
       "income.l3      -0.18623    0.08485  -2.195 0.029739 *  \n",
       "consumption.l4  0.32807    0.12511   2.622 0.009648 ** \n",
       "income.l4      -0.21988    0.08526  -2.579 0.010886 *  \n",
       "consumption.l5 -0.02095    0.12160  -0.172 0.863463    \n",
       "income.l5      -0.20980    0.08146  -2.575 0.010991 *  \n",
       "const           0.51335    0.13197   3.890 0.000151 ***\n",
       "---\n",
       "Signif. codes:  0 '***' 0.001 '**' 0.01 '*' 0.05 '.' 0.1 ' ' 1\n",
       "\n",
       "\n",
       "Residual standard error: 0.8176 on 148 degrees of freedom\n",
       "Multiple R-Squared: 0.2938,\tAdjusted R-squared: 0.246 \n",
       "F-statistic: 6.156 on 10 and 148 DF,  p-value: 8.055e-08 \n",
       "\n",
       "\n",
       "\n",
       "Covariance matrix of residuals:\n",
       "            consumption income\n",
       "consumption      0.3792 0.1654\n",
       "income           0.1654 0.6684\n",
       "\n",
       "Correlation matrix of residuals:\n",
       "            consumption income\n",
       "consumption      1.0000 0.3286\n",
       "income           0.3286 1.0000\n",
       "\n"
      ]
     },
     "metadata": {},
     "output_type": "display_data"
    }
   ],
   "source": [
    "summary(var_bestorder)"
   ]
  },
  {
   "cell_type": "markdown",
   "metadata": {},
   "source": [
    "## VARモデルによる予測"
   ]
  },
  {
   "cell_type": "code",
   "execution_count": 15,
   "metadata": {},
   "outputs": [
    {
     "data": {
      "text/plain": [
       "$consumption\n",
       "          fcst      lower    upper       CI\n",
       "[1,] 0.7094253 -0.4974526 1.916303 1.206878\n",
       "[2,] 0.7081061 -0.5467373 1.962950 1.254843\n",
       "[3,] 0.7565104 -0.5411200 2.054141 1.297630\n",
       "[4,] 0.7946358 -0.5737016 2.162973 1.368337\n",
       "\n",
       "$income\n",
       "          fcst      lower    upper       CI\n",
       "[1,] 0.8326177 -0.7697598 2.434995 1.602378\n",
       "[2,] 0.4631307 -1.2414527 2.167714 1.704583\n",
       "[3,] 0.7626169 -0.9421448 2.467379 1.704762\n",
       "[4,] 0.8631555 -0.9545267 2.680838 1.817682\n"
      ]
     },
     "metadata": {},
     "output_type": "display_data"
    }
   ],
   "source": [
    "predict(var_bestorder, n.ahead=4)"
   ]
  },
  {
   "cell_type": "code",
   "execution_count": 16,
   "metadata": {},
   "outputs": [
    {
     "name": "stderr",
     "output_type": "stream",
     "text": [
      "Warning message:\n",
      "\"`filter_()` is deprecated as of dplyr 0.7.0.\n",
      "Please use `filter()` instead.\n",
      "See vignette('programming') for more help\n",
      "\u001b[90mThis warning is displayed once every 8 hours.\u001b[39m\n",
      "\u001b[90mCall `lifecycle::last_warnings()` to see where this warning was generated.\u001b[39m\"\n"
     ]
    },
    {
     "data": {
      "image/png": "[encoded data removed]",
      "text/plain": [
       "plot without title"
      ]
     },
     "metadata": {
      "image/png": {
       "height": 360,
       "width": 840
      }
     },
     "output_type": "display_data"
    }
   ],
   "source": [
    "# 8時点先までの予測結果を図示する\n",
    "autoplot(\n",
    "    predict(var_bestorder, n.ahead=8),\n",
    "    ts.colour = 1,\n",
    "    predict.colour = 1,\n",
    "    predict.linetype = 'dashed'\n",
    ")"
   ]
  },
  {
   "cell_type": "markdown",
   "metadata": {},
   "source": [
    "## RによるGranger因果性検定\n",
    "\n",
    "varsパッケージのcausality関数を使用する。"
   ]
  },
  {
   "cell_type": "code",
   "execution_count": 17,
   "metadata": {},
   "outputs": [
    {
     "data": {
      "text/plain": [
       "$Granger\n",
       "\n",
       "\tGranger causality H0: income do not Granger-cause consumption\n",
       "\n",
       "data:  VAR object var_bestorder\n",
       "F-Test = 1.4337, df1 = 5, df2 = 296, p-value = 0.212\n",
       "\n",
       "\n",
       "$Instant\n",
       "\n",
       "\tH0: No instantaneous causality between: income and consumption\n",
       "\n",
       "data:  VAR object var_bestorder\n",
       "Chi-squared = 15.492, df = 1, p-value = 8.285e-05\n",
       "\n"
      ]
     },
     "metadata": {},
     "output_type": "display_data"
    }
   ],
   "source": [
    "# 収入が消費に与える影響\n",
    "causality(var_bestorder, cause = \"income\")"
   ]
  },
  {
   "cell_type": "markdown",
   "metadata": {},
   "source": [
    "- GrangerがGrander因果性検定の結果を表している。p-value=0.212であり、p値が0.05よりも大きいので、Grangerの因果があるとは言えない。  \n",
    "- InstantはGranderの瞬時因果性と呼ばれる因果の検定結果。"
   ]
  },
  {
   "cell_type": "code",
   "execution_count": 18,
   "metadata": {},
   "outputs": [
    {
     "data": {
      "text/plain": [
       "$Granger\n",
       "\n",
       "\tGranger causality H0: consumption do not Granger-cause income\n",
       "\n",
       "data:  VAR object var_bestorder\n",
       "F-Test = 10.575, df1 = 5, df2 = 296, p-value = 2.334e-09\n",
       "\n",
       "\n",
       "$Instant\n",
       "\n",
       "\tH0: No instantaneous causality between: consumption and income\n",
       "\n",
       "data:  VAR object var_bestorder\n",
       "Chi-squared = 15.492, df = 1, p-value = 8.285e-05\n",
       "\n"
      ]
     },
     "metadata": {},
     "output_type": "display_data"
    }
   ],
   "source": [
    "# 収入が消費に与える影響\n",
    "causality(var_bestorder, cause = \"consumption\")"
   ]
  },
  {
   "cell_type": "markdown",
   "metadata": {},
   "source": [
    "Granderの因果性も瞬時因果性も、ともに有意となった。  \n",
    "\n",
    "Granderの因果は「消費⇒収入」方向に存在した。その逆は有意なGrangerの因果は見られなかった。  \n",
    "同時刻における消費と収入は、互いに影響を及ぼしあっていると示唆された。"
   ]
  },
  {
   "cell_type": "markdown",
   "metadata": {},
   "source": [
    "## Rによるインパルス応答関数\n",
    "\n",
    "Grangerの因果は「消費⇒収入」方向に存在した。  \n",
    "消費が急に増えると、収入はどれくらいのラグが開いた後に増減するのか、インパルス関数を求めることによって調べられる。  \n",
    "varsパッケージのirf関数を使用する。"
   ]
  },
  {
   "cell_type": "code",
   "execution_count": 19,
   "metadata": {},
   "outputs": [
    {
     "data": {
      "image/png": "[encoded data removed]",
      "text/plain": [
       "plot without title"
      ]
     },
     "metadata": {
      "image/png": {
       "height": 360,
       "width": 840
      }
     },
     "output_type": "display_data"
    }
   ],
   "source": [
    "# インパルス応答関数\n",
    "irf_consumption <- irf(\n",
    "    var_bestorder, \n",
    "    impulse = \"consumption\",\n",
    "    response = c(\"consumption\", \"income\"),\n",
    "    n.ahead = 12,\n",
    "    boot = T\n",
    ")\n",
    "\n",
    "plot(irf_consumption)"
   ]
  },
  {
   "cell_type": "markdown",
   "metadata": {},
   "source": [
    "- 3年後に消費が増えたとしても、収入は2年後くらいにはほぼその効果がなくなることがわかる。  "
   ]
  },
  {
   "cell_type": "markdown",
   "metadata": {},
   "source": [
    "相手のデータの影響をどれほど受けているかを調べる**(分散分解)** 。"
   ]
  },
  {
   "cell_type": "code",
   "execution_count": 20,
   "metadata": {},
   "outputs": [
    {
     "data": {
      "image/png": "[encoded data removed]",
      "text/plain": [
       "Plot with title \"FEVD for income\""
      ]
     },
     "metadata": {
      "image/png": {
       "height": 360,
       "width": 840
      }
     },
     "output_type": "display_data"
    }
   ],
   "source": [
    "plot(fevd(var_bestorder, n.ahead=12))"
   ]
  },
  {
   "cell_type": "markdown",
   "metadata": {},
   "source": [
    "消費に関してはほぼ収入の影響を受けていないが、収入に関しては1年後には25％も消費の影響を受けている。"
   ]
  },
  {
   "cell_type": "code",
   "execution_count": null,
   "metadata": {},
   "outputs": [],
   "source": []
  }
 ],
 "metadata": {
  "kernelspec": {
   "display_name": "R",
   "language": "R",
   "name": "ir"
  },
  "language_info": {
   "codemirror_mode": "r",
   "file_extension": ".r",
   "mimetype": "text/x-r-source",
   "name": "R",
   "pygments_lexer": "r",
   "version": "4.0.2"
  }
 },
 "nbformat": 4,
 "nbformat_minor": 4
}
